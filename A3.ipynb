{
 "cells": [
  {
   "cell_type": "markdown",
   "metadata": {},
   "source": [
    "# A3: A\\*, IDS, and Effective Branching Factor"
   ]
  },
  {
   "cell_type": "markdown",
   "metadata": {},
   "source": [
    "Anurag Kumar"
   ]
  },
  {
   "cell_type": "markdown",
   "metadata": {},
   "source": [
    "In this assignment, I have implemented the Recursive Best-First Search\n",
    "implementation of the A\\* algorithm given in class notes of Lecture 7. The name this function is `aStarSearch`.  Also in this notebook I have included my implementaion of `iterativeDeepeningSearch` functions from the previous assignment.  I have defined a new function named `ebf` that returns an estimate of the effective\n",
    "branching factor for a search algorithm applied to a search problem upto three decimal places with default precision of 0.01.\n",
    "\n",
    "So, the functions defined are\n",
    "\n",
    "   - `aStarSearch(startState, actionsF, takeActionF, goalTestF, hF)`\n",
    "   - `iterativeDeepeningSearch(startState, goalState, actionsF, takeActionF, maxDepth)`\n",
    "   - `ebf(nNodes, depth, precision=0.01)`, returns number of nodes expanded and depth reached during a search.\n",
    "\n",
    "I have applied `iterativeDeepeningSearch` and `aStarSearch` to several eight-tile sliding puzzle\n",
    "problems. For this I have also included my implementations of various functions, from Assignment 2:\n",
    "\n",
    "  * `actionsF_8p(state)`: returns a list of up to four valid actions that can be applied in `state`. With each action include a step cost of 1. For example, if all four actions are possible from this state, return [('left', 1), ('right', 1), ('up', 1), ('down', 1)].\n",
    "  * `takeActionF_8p(state, action)`: return the state that results from applying `action` in `state` and the cost of the one step and also increment the `nNodes` global variable to count the number of nodes explored while searching,\n",
    "  \n",
    "plus the following function for the eight-tile puzzle:\n",
    "\n",
    "  * `goalTestF_8p(state, goal)` is a boolean function which returns `True` if the current state is equal to the goal state or `False` otherwise. \n",
    "  \n",
    "I have also compared their results by displaying\n",
    "solution path depth, number of nodes \n",
    "generated, and the effective branching factor, and discussed the results by defining a function that prints the table as shown in the example below.\n",
    "\n",
    "   - runExperiment(goalState1, goalState2, goalState3, [h1, h2, h3])\n",
    "   \n",
    "This function is defined such that it takes any number of $h$ functions in the list that is the fourth argument. But the result table is printed for $IDS$ and first three $h$ functions provided as parameter to the function."
   ]
  },
  {
   "cell_type": "markdown",
   "metadata": {},
   "source": [
    "## Heuristic Functions\n",
    "\n",
    "For `aStarSearch` I have used the following two heuristic functions which were given in the assignment, plus I have defined the third heuristic function of my own, so for a total of three heuristic functions.\n",
    "\n",
    "  * `h1_8p(state, goal)`: $h(state, goal) = 0$, for all states $state$ and all goal states $goal$,\n",
    "  * `h2_8p(state, goal)`: $h(state, goal) = m$, where $m$ is the Manhattan distance that the blank is from its goal position,\n",
    "  * `h3_8p(state, goal)`: $h(state, goal) = d$, where $d$ is the Euclidian distance that the blank is from its goal position.  It is admissible, and not constant for all states.\n",
    "  \n",
    "  #### Is $h3\\_8p$ admissible or not?\n",
    "  An **admissible heuristic** is one that never overestimates the cost of the minimum cost path from a node to the goal node. So, in case of Euclidean distance, the heuristic value is calculated using the coordinates of blank space in current state from the position of blank space in the goal state using the formula `((x1-x2)**2+(y1-y2)**2)**0.5`. Since, this value is always less than or equal to the actual cost of the path(because the tile cannot move diagonaly and the stepcost is 1 for each step). Therefore we have say that the $h3\\_8p$ is admissible and it can also be verified from the results of camparing it with other heuristic functions."
   ]
  },
  {
   "cell_type": "markdown",
   "metadata": {},
   "source": [
    "## Comparison"
   ]
  },
  {
   "cell_type": "markdown",
   "metadata": {},
   "source": [
    "I have applied all four algorithms (`iterativeDeepeningSearch` plus `aStarSearch` with the three heuristic\n",
    "functions) to three eight-tile puzzle problems with start state\n",
    "\n",
    "$$\n",
    "\\begin{array}{ccc}\n",
    "1 & 2 & 3\\\\\n",
    "4 & 0 & 5\\\\\n",
    "6 & 7 & 8\n",
    "\\end{array}\n",
    "$$\n",
    "\n",
    "and these three goal states.\n",
    "\n",
    "$$\n",
    "\\begin{array}{ccccccccccc}\n",
    "1 & 2 & 3  & ~~~~ & 1 & 2 & 3  &  ~~~~ & 1 & 0 &  3\\\\\n",
    "4 & 0 & 5  & & 4 & 5 & 8  & & 4 & 5 & 8\\\\\n",
    "6 & 7 & 8 &  & 6 & 0 & 7  & & 2 & 6 & 7\n",
    "\\end{array}\n",
    "$$"
   ]
  },
  {
   "cell_type": "markdown",
   "metadata": {},
   "source": [
    "You can print a well-formatted table like the following using the $runExperiment()$.   \n",
    "\n",
    "           [1, 2, 3, 4, 0, 5, 6, 7, 8]    [1, 2, 3, 4, 5, 8, 6, 0, 7]    [1, 0, 3, 4, 5, 8, 2, 6, 7] \n",
    "    Algorithm    Depth  Nodes  EBF              Depth  Nodes  EBF              Depth  Nodes  EBF          \n",
    "         IDS       0      0  0.000                3     43  3.086               11 225850  2.954         \n",
    "        A*h1       0      0  0.000                3    116  4.488               11 643246  3.263         \n",
    "        A*h2       0      0  0.000                3     51  3.297               11 100046  2.733         \n",
    "\n",
    "Of course there will be one more line for `h3`."
   ]
  },
  {
   "cell_type": "markdown",
   "metadata": {},
   "source": [
    "Iterative Deepening Search and other related functions are as the one used in A2."
   ]
  },
  {
   "cell_type": "code",
   "execution_count": 1,
   "metadata": {
    "collapsed": true
   },
   "outputs": [],
   "source": [
    "import copy\n",
    "#Takes the parameters as defined in the problem definition above\n",
    "def depthLimitedSearch(state, goalState, actionsF, takeActionF, depthLimit):\n",
    "    if state == goalState:                  #to check goalState and the current state      \n",
    "        return [goalState]                  #Adds the goalstate to the result list, thus initializing the solution path\n",
    "    if depthLimit == 0:\n",
    "        return 'cutoff'                     #Return the string 'cutoff' to signal that the depth limit was reached\n",
    "    cutoffOccurred = False                  #'cutoff' flag\n",
    "                                            ##'actionF' returns a list of all possible actions\n",
    "    for action in actionsF(state):          #For each action in actionsF(state):\n",
    "        temp=copy.copy(state)               ## this to retain the unalterd copy of state node\n",
    "                                            ## A new copy of state list is passed in the takeActionF() because it performs\n",
    "                                            ## the given action on that list and then returns it. Therefore childState gets\n",
    "                                            ## new list not a refernce to the state list given. To remove inconsistency\n",
    "        childState, stepCost = takeActionF(copy.copy(state), action)  #takes the possible action on the given state\n",
    "        #in the above statement action contains [action,cost]\n",
    "        \n",
    "                                            # Recursive call\n",
    "        result = depthLimitedSearch(childState, goalState, actionsF, takeActionF, depthLimit-1)\n",
    "        if result == 'cutoff':              # to check 'cutoff' flag\n",
    "            cutoffOccurred = True\n",
    "        elif result is not 'failure':\n",
    "            #Add childState to front of partial solution path, in result, returned by depthLimitedSearch\n",
    "            result.insert(0,temp)           # Since the result list already contains the goalState, just add its predecessor\n",
    "            return result                   # Return the path\n",
    "    if cutoffOccurred:\n",
    "        return 'cutoff'                     # if depth limit exhausted\n",
    "    else:\n",
    "        return 'failure'                    # if all possible state exhausted i.e. goalState is not reachable from the the given\n",
    "                                            # startState"
   ]
  },
  {
   "cell_type": "code",
   "execution_count": 2,
   "metadata": {
    "collapsed": true
   },
   "outputs": [],
   "source": [
    "import copy\n",
    "\n",
    "def iterativeDeepeningSearch(startState, goalState, actionsF, takeActionF, maxDepth):\n",
    "    global nNodes                           #this is a global variable which is being used to \n",
    "                                            #count the total number of nodes explored\n",
    "    nNodes = 0                              #initialze nNodes to zero\n",
    "    temp=copy.copy(startState)              ## to retain the unaltered copy of startState\n",
    "    for depth in range(maxDepth):           # till maxDepth is reached, call recursively\n",
    "        result = depthLimitedSearch(startState, goalState, actionsF, takeActionF, depth)\n",
    "        if result is 'failure':\n",
    "            return 'failure'\n",
    "        if result is not 'cutoff':\n",
    "            #Add startState to front of solution path, in result, returned by depthLimitedSearch       \n",
    "            #result.insert(0,temp) \n",
    "            # Not required to do the above steps as I have already included the startState in the depthLimitedSearch()\n",
    "            return result\n",
    "    return 'cutoff'"
   ]
  },
  {
   "cell_type": "markdown",
   "metadata": {},
   "source": [
    "## Assumption\n",
    "\n",
    "All 8-Puzzle functions are defined for 3*3 matrix and `0` as blank space.\n",
    "\n",
    "`CAUTION` : The function takes large amount of time for computation if the maxDepth is more than 15. I have implemented this function on many examples to illustrate that it works fine if maxDepth is less than 15."
   ]
  },
  {
   "cell_type": "code",
   "execution_count": 3,
   "metadata": {
    "collapsed": true
   },
   "outputs": [],
   "source": [
    "# find the blank in the state given and returns a tuple of (row,column)\n",
    "def findBlank_8p(state):\n",
    "    index=state.index(0)\n",
    "    x=0\n",
    "    y=0\n",
    "    for i in range(index):\n",
    "        if y<2:\n",
    "            y+=1\n",
    "        else:\n",
    "            x+=1\n",
    "            y=0\n",
    "    return (x,y)"
   ]
  },
  {
   "cell_type": "code",
   "execution_count": 4,
   "metadata": {
    "collapsed": true
   },
   "outputs": [],
   "source": [
    "#to return a list of possible actions\n",
    "#The actions are returned in the order 'left','right','up','down' which ever are applicable.\n",
    "#The oreder is as given in the problem\n",
    "def actionsF_8p(state):\n",
    "    acts=[]\n",
    "    x,y = findBlank_8p(state)\n",
    "    if x==0:\n",
    "        if y==0:\n",
    "            return [('right',1),('down',1)]\n",
    "        elif y==1:\n",
    "            return [('left',1),('right',1),('down',1)]\n",
    "        else:\n",
    "            return [('left',1),('down',1)]\n",
    "    elif x==1:\n",
    "        if y==0:\n",
    "            return [('right',1),('up',1),('down',1)]\n",
    "        elif y==1:\n",
    "            return [('left',1),('right',1),('up',1),('down',1)]\n",
    "        else:\n",
    "            return [('left',1),('up',1),('down',1)]\n",
    "    else:\n",
    "        if y==0:\n",
    "            return [('right',1),('up',1)]\n",
    "        elif y==1:\n",
    "            return [('left',1),('right',1),('up',1)]\n",
    "        else:\n",
    "            return [('left',1),('up',1)]"
   ]
  },
  {
   "cell_type": "code",
   "execution_count": 5,
   "metadata": {
    "collapsed": true
   },
   "outputs": [],
   "source": [
    "#returns the next state after performing the action given\n",
    "# I have used this function to count the number of nodes explored by incrementing nNodes for every action\n",
    "def takeActionF_8p(state, action):\n",
    "    global nNodes\n",
    "    nNodes = nNodes+1\n",
    "    #print('nNodes : ',nNodes)\n",
    "    if action[0]=='up':\n",
    "        x=state.index(0)\n",
    "        y=state[x-3]\n",
    "        state[x-3]=0\n",
    "        state[x]=y\n",
    "        return (state,1)\n",
    "    elif action[0]=='down':\n",
    "        x=state.index(0)\n",
    "        y=state[x+3]\n",
    "        state[x+3]=0\n",
    "        state[x]=y\n",
    "        return (state,1)\n",
    "    elif action[0]=='left':\n",
    "        x=state.index(0)\n",
    "        state[x]=state[x-1]\n",
    "        state[x-1]=0\n",
    "        return (state,1)\n",
    "    elif action[0]=='right':\n",
    "        x=state.index(0)\n",
    "        state[x]=state[x+1]\n",
    "        state[x+1]=0\n",
    "        return (state,1)"
   ]
  },
  {
   "cell_type": "code",
   "execution_count": 6,
   "metadata": {
    "collapsed": true
   },
   "outputs": [],
   "source": [
    "# This is a boolean function for comparing current state to hte goal state\n",
    "def goalTestF_8p(state, goalState):\n",
    "    return state==goalState"
   ]
  },
  {
   "cell_type": "code",
   "execution_count": 7,
   "metadata": {
    "collapsed": true
   },
   "outputs": [],
   "source": [
    "#prints the state of the 8-puzzle\n",
    "def printState_8p(state):\n",
    "    j=0\n",
    "    for i in range(9):\n",
    "        if state[i]!=0:\n",
    "            print(state[i], end=' ')\n",
    "        else:\n",
    "            print(' ',end=' ')\n",
    "        j+=1\n",
    "        if j%3==0:\n",
    "            print('',end='\\n')"
   ]
  },
  {
   "cell_type": "code",
   "execution_count": 8,
   "metadata": {
    "collapsed": true
   },
   "outputs": [],
   "source": [
    "def printPath_8p(startState, goalState, path):\n",
    "    print('Path from')\n",
    "    printState_8p(startState)\n",
    "    print('  to')\n",
    "    printState_8p(goalState)\n",
    "    print('is %d node long:' %(len(path)))\n",
    "    for i in range(len(path)):\n",
    "        #for j in range(i):\n",
    "         #   print('',end=' ')\n",
    "        printState_8p(path[i])\n",
    "        print()"
   ]
  },
  {
   "cell_type": "markdown",
   "metadata": {
    "collapsed": true
   },
   "source": [
    "I have borrowed the A* function from the Lecture 7 notes"
   ]
  },
  {
   "cell_type": "code",
   "execution_count": 9,
   "metadata": {},
   "outputs": [
    {
     "name": "stdout",
     "output_type": "stream",
     "text": [
      "Path from a to h is ['a', 'b', 'd', 'h'] for a cost of 3\n"
     ]
    }
   ],
   "source": [
    "#%%writefile aStarSearch.py\n",
    "# Recursive Best First Search (Figure 3.26, Russell and Norvig)\n",
    "#  Recursive Iterative Deepening form of A*, where depth is replaced by f(n)\n",
    "global nNodes\n",
    "class Node:\n",
    "    def __init__(self, state, f=0, g=0 ,h=0):\n",
    "        self.state = state\n",
    "        self.f = f\n",
    "        self.g = g\n",
    "        self.h = h\n",
    "    def __repr__(self):\n",
    "        return \"Node(\" + repr(self.state) + \", f=\" + repr(self.f) + \\\n",
    "               \", g=\" + repr(self.g) + \", h=\" + repr(self.h) + \")\"\n",
    "\n",
    "def aStarSearch(startState, actionsF, takeActionF, goalTestF, hF):\n",
    "    global nNodes\n",
    "    nNodes = 0\n",
    "    h = hF(startState)\n",
    "    startNode = Node(state=startState, f=0+h, g=0, h=h)\n",
    "    return aStarSearchHelper(startNode, actionsF, takeActionF, goalTestF, hF, float('inf'))\n",
    "\n",
    "def aStarSearchHelper(parentNode, actionsF, takeActionF, goalTestF, hF, fmax):\n",
    "    global nNodes\n",
    "    if goalTestF(parentNode.state):\n",
    "        return ([parentNode.state], parentNode.g)\n",
    "    ## Construct list of children nodes with f, g, and h values\n",
    "    actions = actionsF(parentNode.state)\n",
    "    #print(actions)\n",
    "    if not actions:\n",
    "        return (\"failure\", float('inf'))\n",
    "    children = []\n",
    "    #print(children)\n",
    "    for action in actions:\n",
    "        #print(action)\n",
    "        # I have passed the copy of parentNode.state to the takeActionF becoz otherwise it alters the current state and\n",
    "        # the program gets stuck in [1,2,3,4,0,5,6,7,8] state as all four actions are possible and alfer performing all the \n",
    "        # four actions on the state as a list mentioned above it reaches to the same state. And thus gets stuck in an infinite\n",
    "        # loop\n",
    "        (childState,stepCost) = takeActionF(copy.copy(parentNode.state), action)\n",
    "        #print('childstate ',childState)\n",
    "        h = hF(childState)\n",
    "        g = parentNode.g + stepCost\n",
    "        f = max(h+g, parentNode.f)\n",
    "        childNode = Node(state=childState, f=f, g=g, h=h)\n",
    "        children.append(childNode)\n",
    "        #print(children)\n",
    "    while True:\n",
    "        # find best child\n",
    "        children.sort(key = lambda n: n.f) # sort by f value\n",
    "        bestChild = children[0]\n",
    "        if bestChild.f > fmax:\n",
    "            return (\"failure\",bestChild.f)\n",
    "        # next lowest f value\n",
    "        alternativef = children[1].f if len(children) > 1 else float('inf')\n",
    "        # expand best child, reassign its f value to be returned value\n",
    "        result,bestChild.f = aStarSearchHelper(bestChild, actionsF, takeActionF, goalTestF,\n",
    "                                            hF, min(fmax,alternativef))\n",
    "        if result is not \"failure\":               #        g\n",
    "            result.insert(0,parentNode.state)     #       / \n",
    "            return (result, bestChild.f)          #      d\n",
    "                                                  #     / \\ \n",
    "if __name__ == \"__main__\":                        #    b   h   \n",
    "                                                  #   / \\   \n",
    "    successors = {'a': ['b','c'],                 #  a   e  \n",
    "                  'b': ['d','e'],                 #   \\         \n",
    "                  'c': ['f'],                     #    c   i\n",
    "                  'd': ['g', 'h'],                #     \\ / \n",
    "                  'f': ['i','j']}                 #      f  \n",
    "    def actionsF(s):                              #       \\ \n",
    "        try:                                      #        j\n",
    "            ## step cost of each action is 1\n",
    "            return [(succ,1) for succ in successors[s]]\n",
    "        except KeyError:\n",
    "            return []\n",
    "    def takeActionF(s,a):\n",
    "        return a\n",
    "    def goalTestF(s):\n",
    "        return s == goal\n",
    "    def h1(s):\n",
    "        return 0\n",
    "    start = 'a'\n",
    "    goal = 'h'\n",
    "    result = aStarSearch(start,actionsF,takeActionF,goalTestF,h1)\n",
    "    print('Path from a to h is', result[0], 'for a cost of', result[1])\n"
   ]
  },
  {
   "cell_type": "code",
   "execution_count": null,
   "metadata": {
    "collapsed": true
   },
   "outputs": [],
   "source": []
  },
  {
   "cell_type": "code",
   "execution_count": 10,
   "metadata": {
    "collapsed": true
   },
   "outputs": [],
   "source": [
    "def actionsF_simple(state):\n",
    "    succs = {'a': ['b', 'c'], 'b':['e', 'f', 'g'], 'b':['a'], 'c':['h'], 'h':['i'], 'i':['j', 'k', 'l'], 'k':['z']}\n",
    "    return [(s, 1) for s in succs.get(state, [])]\n",
    "\n",
    "def takeActionF_simple(state, action):\n",
    "    return action\n",
    "\n",
    "def goalTestF_simple(state, goal):\n",
    "    return state == goal\n",
    "\n",
    "def h_simple(state, goal):\n",
    "    return 1"
   ]
  },
  {
   "cell_type": "code",
   "execution_count": 11,
   "metadata": {
    "collapsed": true
   },
   "outputs": [],
   "source": [
    "def h1_8p(state,goal):\n",
    "    return 0"
   ]
  },
  {
   "cell_type": "code",
   "execution_count": 12,
   "metadata": {
    "collapsed": true
   },
   "outputs": [],
   "source": [
    "def h2_8p(state,goal):\n",
    "    x,y = findBlank_8p(state)\n",
    "    p,q = findBlank_8p(goal)\n",
    "    return abs(x-p)+abs(y-q)"
   ]
  },
  {
   "cell_type": "code",
   "execution_count": 13,
   "metadata": {
    "collapsed": true
   },
   "outputs": [],
   "source": [
    "def h3_8p(state,goal):\n",
    "    x,y = findBlank_8p(state)\n",
    "    p,q = findBlank_8p(goal)\n",
    "    return ((x-p)**2+(y-q)**2)**.5"
   ]
  },
  {
   "cell_type": "code",
   "execution_count": 14,
   "metadata": {
    "scrolled": true
   },
   "outputs": [
    {
     "data": {
      "text/plain": [
       "([[1, 2, 3, 0, 4, 6, 7, 5, 8], [0, 2, 3, 1, 4, 6, 7, 5, 8]], 1)"
      ]
     },
     "execution_count": 14,
     "metadata": {},
     "output_type": "execute_result"
    }
   ],
   "source": [
    "aStarSearch([1, 2, 3, 0, 4,  6, 7, 5, 8],\n",
    "                     actionsF_8p, takeActionF_8p,\n",
    "                     lambda s: goalTestF_8p(s, [0, 2, 3, 1, 4,  6, 7, 5, 8]),\n",
    "                     lambda s: h1_8p(s, [0, 2, 3, 1, 4,  6, 7, 5, 8]))"
   ]
  },
  {
   "cell_type": "code",
   "execution_count": 15,
   "metadata": {},
   "outputs": [
    {
     "data": {
      "text/plain": [
       "7"
      ]
     },
     "execution_count": 15,
     "metadata": {},
     "output_type": "execute_result"
    }
   ],
   "source": [
    "nNodes"
   ]
  },
  {
   "cell_type": "markdown",
   "metadata": {},
   "source": [
    "This is the ebf() and ebf() uses cal() to do the computation"
   ]
  },
  {
   "cell_type": "code",
   "execution_count": 16,
   "metadata": {
    "collapsed": true
   },
   "outputs": [],
   "source": [
    "'''\n",
    "'b' is the branching factor and 'd' is the depth.\n",
    "We are passing a guess 'b' value for a particular 'd' and computing the number of nodes that may be explored\n",
    "'''\n",
    "def cal(b, d):\n",
    "    if b!=1 and d!=1:\n",
    "        return (1-b**(d+1))/(1-b)\n",
    "    if d==1:\n",
    "        return 1+b"
   ]
  },
  {
   "cell_type": "markdown",
   "metadata": {},
   "source": [
    "$CAUTION$ Make sure that the value of depth is never greater than the number of nodes"
   ]
  },
  {
   "cell_type": "code",
   "execution_count": 17,
   "metadata": {
    "collapsed": true
   },
   "outputs": [],
   "source": [
    "'''The edf() has parameter as defined below and the precision value is 0.01 by default\n",
    "    The calculation is done using bianry search and the value of ebf* is rounded upto 3 decimal places'''\n",
    "def ebf(numberNodes, depth, precision=0.01):\n",
    "    n = numberNodes\n",
    "    d = depth\n",
    "    a = n*precision\n",
    "    low = 0\n",
    "    high = n\n",
    "    while True:\n",
    "        if n==0:\n",
    "            return 0.000\n",
    "        if d==0:\n",
    "            return 1\n",
    "        b = (high+low)/2\n",
    "        y_b = cal(b,d)\n",
    "        if y_b<n:\n",
    "            low = b\n",
    "        elif y_b>n:\n",
    "            high = b\n",
    "        if abs(n-y_b)<a:\n",
    "            return round(b,3)"
   ]
  },
  {
   "cell_type": "markdown",
   "metadata": {},
   "source": [
    "#### Assumption: The hF parameter expexts a list of hueristic functions\n",
    "$CAUTION$: If you want to pass just 1 hueristic function, please make sure you are passing in form of a list. "
   ]
  },
  {
   "cell_type": "code",
   "execution_count": 18,
   "metadata": {
    "collapsed": true
   },
   "outputs": [],
   "source": [
    "'''This is the runExperiment function which compares all the four algorithms as asked in the assignment.\n",
    "    This function will return error if the number of hF are less than 3 because it prints table assuming \n",
    "    3 hueristic are provided'''\n",
    "def runExperiment(goalState1, goalState2, goalState3,hF):\n",
    "    startState = [1,2,3,4,0,5,6,7,8]              # As given in the assignment\n",
    "    ebf_data = []                                 # empty list to store data used for ebf calculation i.e nNodes and depth\n",
    "    op_IDS1 = iterativeDeepeningSearch(startState, goalState1,actionsF_8p,takeActionF_8p,15)\n",
    "    ebf_data.append((len(op_IDS1)-1,nNodes))\n",
    "    op_IDS2 = iterativeDeepeningSearch(startState, goalState2,actionsF_8p,takeActionF_8p,15)\n",
    "    ebf_data.append((len(op_IDS2)-1,nNodes))\n",
    "    op_IDS3 = iterativeDeepeningSearch(startState, goalState3,actionsF_8p,takeActionF_8p,15)\n",
    "    ebf_data.append((len(op_IDS3)-1,nNodes))\n",
    "    op_a = [[0 for i in range(3)] for j in range(len(hF))] #'op_a' is a list of list to store the output of A* search for ith hF\n",
    "    for i in range(len(hF)):\n",
    "        op_a[i][0] = aStarSearch(startState, actionsF_8p, takeActionF_8p,\n",
    "                     lambda s: goalTestF_8p(s, goalState1),\n",
    "                     lambda s: hF[i](s, goalState1))\n",
    "        ebf_data.append((op_a[i][0][1],nNodes))\n",
    "        op_a[i][1] = aStarSearch(startState, actionsF_8p, takeActionF_8p,\n",
    "                     lambda s: goalTestF_8p(s, goalState2),\n",
    "                     lambda s: hF[i](s, goalState2))\n",
    "        ebf_data.append((op_a[i][1][1],nNodes))\n",
    "        op_a[i][2] = aStarSearch(startState, actionsF_8p, takeActionF_8p,\n",
    "                     lambda s: goalTestF_8p(s, goalState3),\n",
    "                     lambda s: hF[i](s, goalState3))\n",
    "        ebf_data.append((op_a[i][2][1],nNodes))\n",
    "    ebf_values = []                                # This a list to store actual ebf values calculated using calling ebf()\n",
    "    for i in range(len(ebf_data)):\n",
    "        ebf_values.append(ebf(ebf_data[i][1],ebf_data[i][0]))\n",
    "    '''\n",
    "    print(op_IDS1)\n",
    "    print()\n",
    "    print(op_IDS2)\n",
    "    print()\n",
    "    print(op_IDS3)\n",
    "    print()\n",
    "    for i in range(len(op_a)):\n",
    "        for j in range(len(op_a[i])):\n",
    "            print(op_a[i][j])\n",
    "            print()\n",
    "    print()\n",
    "    print('ebf data')\n",
    "    print(ebf_data)\n",
    "    print('ebf values')\n",
    "    print(ebf_values)\n",
    "    print('Table : ')'''\n",
    "    print('          {}          {}            {}'.format(goalState1,goalState2,goalState3))\n",
    "    print('Algorithm   Depth     Nodes     EBF               Depth     Nodes     EBF               Depth     Nodes     EBF')\n",
    "    print('IDS          {}        {}         {}                {}        {}        {}             {}       {}    {}'.format(\n",
    "            ebf_data[0][0],ebf_data[0][1],ebf_values[0],\n",
    "            ebf_data[1][0],ebf_data[1][1],ebf_values[1],\n",
    "            ebf_data[2][0],ebf_data[2][1],ebf_values[2],))\n",
    "    print('A*h1         {}        {}         {}                {}        {}       {}             {}       {}    {}'.format(\n",
    "            ebf_data[3][0],ebf_data[3][1],ebf_values[3],\n",
    "            ebf_data[4][0],ebf_data[4][1],ebf_values[4],\n",
    "            ebf_data[5][0],ebf_data[5][1],ebf_values[5],))\n",
    "    print('A*h2         {}        {}         {}                {}        {}        {}             {}       {}    {}'.format(\n",
    "            ebf_data[6][0],ebf_data[6][1],ebf_values[6],\n",
    "            ebf_data[7][0],ebf_data[7][1],ebf_values[7],\n",
    "            ebf_data[8][0],ebf_data[8][1],ebf_values[8],))\n",
    "    print('A*h3         {}        {}         {}                {}        {}        {}             {}       {}    {}'.format(\n",
    "            ebf_data[9][0],ebf_data[9][1],ebf_values[9],\n",
    "            ebf_data[10][0],ebf_data[10][1],ebf_values[10],\n",
    "            ebf_data[11][0],ebf_data[11][1],ebf_values[11],))\n",
    "    "
   ]
  },
  {
   "cell_type": "code",
   "execution_count": 19,
   "metadata": {},
   "outputs": [
    {
     "name": "stdout",
     "output_type": "stream",
     "text": [
      "          [1, 2, 3, 4, 0, 5, 6, 7, 8]          [1, 2, 3, 4, 5, 8, 6, 0, 7]            [1, 0, 3, 4, 5, 8, 2, 6, 7]\n",
      "Algorithm   Depth     Nodes     EBF               Depth     Nodes     EBF               Depth     Nodes     EBF\n",
      "IDS          0        0         0.0                3        43        3.086             11       225850    2.955\n",
      "A*h1         0        0         0.0                3        116       4.475             11       643246    3.264\n",
      "A*h2         0        0         0.0                3        51        3.287             11       100046    2.731\n",
      "A*h3         0        0         0.0                3        22        2.363             11       367417    3.093\n"
     ]
    }
   ],
   "source": [
    "runExperiment([1, 2, 3, 4, 0, 5, 6, 7, 8],[1, 2, 3, 4, 5, 8, 6, 0, 7],[1, 0, 3, 4, 5, 8, 2, 6, 7],[h1_8p,h2_8p,h3_8p])"
   ]
  },
  {
   "cell_type": "markdown",
   "metadata": {},
   "source": [
    "First, some example output for the ebf function."
   ]
  },
  {
   "cell_type": "code",
   "execution_count": 20,
   "metadata": {},
   "outputs": [
    {
     "data": {
      "text/plain": [
       "1.66"
      ]
     },
     "execution_count": 20,
     "metadata": {},
     "output_type": "execute_result"
    }
   ],
   "source": [
    "ebf(10, 3)"
   ]
  },
  {
   "cell_type": "markdown",
   "metadata": {},
   "source": [
    "The smallest argument values should be a depth of 0, and 1 node."
   ]
  },
  {
   "cell_type": "code",
   "execution_count": 21,
   "metadata": {},
   "outputs": [
    {
     "data": {
      "text/plain": [
       "1"
      ]
     },
     "execution_count": 21,
     "metadata": {},
     "output_type": "execute_result"
    }
   ],
   "source": [
    "ebf(1, 0)"
   ]
  },
  {
   "cell_type": "code",
   "execution_count": 22,
   "metadata": {},
   "outputs": [
    {
     "data": {
      "text/plain": [
       "1.0"
      ]
     },
     "execution_count": 22,
     "metadata": {},
     "output_type": "execute_result"
    }
   ],
   "source": [
    "ebf(2, 1)"
   ]
  },
  {
   "cell_type": "code",
   "execution_count": 23,
   "metadata": {},
   "outputs": [
    {
     "data": {
      "text/plain": [
       "1.0"
      ]
     },
     "execution_count": 23,
     "metadata": {},
     "output_type": "execute_result"
    }
   ],
   "source": [
    "ebf(2, 1, precision=0.000001)"
   ]
  },
  {
   "cell_type": "code",
   "execution_count": 24,
   "metadata": {},
   "outputs": [
    {
     "data": {
      "text/plain": [
       "11.253"
      ]
     },
     "execution_count": 24,
     "metadata": {},
     "output_type": "execute_result"
    }
   ],
   "source": [
    "ebf(200000, 5)"
   ]
  },
  {
   "cell_type": "code",
   "execution_count": 25,
   "metadata": {},
   "outputs": [
    {
     "data": {
      "text/plain": [
       "1.235"
      ]
     },
     "execution_count": 25,
     "metadata": {},
     "output_type": "execute_result"
    }
   ],
   "source": [
    "ebf(200000, 50)"
   ]
  },
  {
   "cell_type": "markdown",
   "metadata": {},
   "source": [
    "Here is a simple example using our usual simple graph search."
   ]
  },
  {
   "cell_type": "code",
   "execution_count": null,
   "metadata": {
    "collapsed": true
   },
   "outputs": [],
   "source": []
  },
  {
   "cell_type": "code",
   "execution_count": 26,
   "metadata": {},
   "outputs": [
    {
     "data": {
      "text/plain": [
       "[('b', 1), ('c', 1)]"
      ]
     },
     "execution_count": 26,
     "metadata": {},
     "output_type": "execute_result"
    }
   ],
   "source": [
    "actions = actionsF_simple('a')\n",
    "actions"
   ]
  },
  {
   "cell_type": "code",
   "execution_count": 27,
   "metadata": {},
   "outputs": [
    {
     "data": {
      "text/plain": [
       "('b', 1)"
      ]
     },
     "execution_count": 27,
     "metadata": {},
     "output_type": "execute_result"
    }
   ],
   "source": [
    "takeActionF_simple('a', actions[0])"
   ]
  },
  {
   "cell_type": "code",
   "execution_count": 28,
   "metadata": {},
   "outputs": [
    {
     "data": {
      "text/plain": [
       "True"
      ]
     },
     "execution_count": 28,
     "metadata": {},
     "output_type": "execute_result"
    }
   ],
   "source": [
    "goalTestF_simple('a', 'a')"
   ]
  },
  {
   "cell_type": "code",
   "execution_count": 29,
   "metadata": {},
   "outputs": [
    {
     "data": {
      "text/plain": [
       "1"
      ]
     },
     "execution_count": 29,
     "metadata": {},
     "output_type": "execute_result"
    }
   ],
   "source": [
    "h_simple('a', 'z')"
   ]
  },
  {
   "cell_type": "code",
   "execution_count": 30,
   "metadata": {},
   "outputs": [
    {
     "data": {
      "text/plain": [
       "['a', 'c', 'h', 'i', 'k', 'z']"
      ]
     },
     "execution_count": 30,
     "metadata": {},
     "output_type": "execute_result"
    }
   ],
   "source": [
    "iterativeDeepeningSearch('a', 'z', actionsF_simple, takeActionF_simple, 10)"
   ]
  },
  {
   "cell_type": "code",
   "execution_count": 31,
   "metadata": {},
   "outputs": [
    {
     "data": {
      "text/plain": [
       "(['a', 'c', 'h', 'i', 'k', 'z'], 5)"
      ]
     },
     "execution_count": 31,
     "metadata": {},
     "output_type": "execute_result"
    }
   ],
   "source": [
    "aStarSearch('a',actionsF_simple, takeActionF_simple,\n",
    "            lambda s: goalTestF_simple(s, 'z'),\n",
    "            lambda s: h_simple(s, 'z'))"
   ]
  },
  {
   "cell_type": "code",
   "execution_count": 32,
   "metadata": {},
   "outputs": [
    {
     "data": {
      "text/plain": [
       "([[1, 2, 3, 4, 5, 6, 7, 0, 8],\n",
       "  [1, 2, 3, 4, 0, 6, 7, 5, 8],\n",
       "  [1, 2, 3, 0, 4, 6, 7, 5, 8],\n",
       "  [0, 2, 3, 1, 4, 6, 7, 5, 8]],\n",
       " 3)"
      ]
     },
     "execution_count": 32,
     "metadata": {},
     "output_type": "execute_result"
    }
   ],
   "source": [
    "aStarSearch([1, 2, 3, 4, 5, 6, 7, 0, 8],\n",
    "                     actionsF_8p, takeActionF_8p,\n",
    "                     lambda s: goalTestF_8p(s, [0, 2, 3, 1, 4,  6, 7, 5, 8]),\n",
    "                     lambda s: h2_8p(s, [0, 2, 3, 1, 4,  6, 7, 5, 8]))"
   ]
  },
  {
   "cell_type": "code",
   "execution_count": 33,
   "metadata": {},
   "outputs": [
    {
     "data": {
      "text/plain": [
       "([[1, 2, 3, 4, 5, 6, 7, 0, 8],\n",
       "  [1, 2, 3, 4, 0, 6, 7, 5, 8],\n",
       "  [1, 2, 3, 0, 4, 6, 7, 5, 8],\n",
       "  [0, 2, 3, 1, 4, 6, 7, 5, 8]],\n",
       " 3)"
      ]
     },
     "execution_count": 33,
     "metadata": {},
     "output_type": "execute_result"
    }
   ],
   "source": [
    "aStarSearch([1, 2, 3, 4, 5, 6, 7, 0, 8],\n",
    "                     actionsF_8p, takeActionF_8p,\n",
    "                     lambda s: goalTestF_8p(s, [0, 2, 3, 1, 4,  6, 7, 5, 8]),\n",
    "                     lambda s: h1_8p(s, [0, 2, 3, 1, 4,  6, 7, 5, 8]))"
   ]
  },
  {
   "cell_type": "code",
   "execution_count": 34,
   "metadata": {},
   "outputs": [
    {
     "data": {
      "text/plain": [
       "([[1, 2, 3, 4, 5, 6, 7, 0, 8],\n",
       "  [1, 2, 3, 4, 0, 6, 7, 5, 8],\n",
       "  [1, 2, 3, 0, 4, 6, 7, 5, 8],\n",
       "  [0, 2, 3, 1, 4, 6, 7, 5, 8]],\n",
       " 3)"
      ]
     },
     "execution_count": 34,
     "metadata": {},
     "output_type": "execute_result"
    }
   ],
   "source": [
    "aStarSearch([1, 2, 3, 4, 5, 6, 7, 0, 8],\n",
    "                     actionsF_8p, takeActionF_8p,\n",
    "                     lambda s: goalTestF_8p(s, [0, 2, 3, 1, 4,  6, 7, 5, 8]),\n",
    "                     lambda s: h3_8p(s, [0, 2, 3, 1, 4,  6, 7, 5, 8]))"
   ]
  },
  {
   "cell_type": "code",
   "execution_count": null,
   "metadata": {
    "collapsed": true,
    "scrolled": true
   },
   "outputs": [],
   "source": []
  },
  {
   "cell_type": "code",
   "execution_count": 35,
   "metadata": {},
   "outputs": [
    {
     "data": {
      "text/plain": [
       "'cutoff'"
      ]
     },
     "execution_count": 35,
     "metadata": {},
     "output_type": "execute_result"
    }
   ],
   "source": [
    "iterativeDeepeningSearch([5, 2, 8, 0, 1, 4, 3, 7, 6], \n",
    "                                 [0, 2, 3, 1, 4,  6, 7, 5, 8],\n",
    "                                 actionsF_8p, takeActionF_8p, 15)"
   ]
  },
  {
   "cell_type": "code",
   "execution_count": null,
   "metadata": {
    "collapsed": true
   },
   "outputs": [],
   "source": []
  },
  {
   "cell_type": "code",
   "execution_count": 36,
   "metadata": {},
   "outputs": [
    {
     "data": {
      "text/plain": [
       "([[1, 2, 3, 4, 0, 5, 6, 7, 8]], 0)"
      ]
     },
     "execution_count": 36,
     "metadata": {},
     "output_type": "execute_result"
    }
   ],
   "source": [
    "aStarSearch([1, 2, 3, 4, 0, 5, 6, 7, 8],\n",
    "                     actionsF_8p, takeActionF_8p,\n",
    "                     lambda s: goalTestF_8p(s, [1, 2, 3, 4, 0, 5, 6, 7, 8]),\n",
    "                     lambda s: h1_8p(s, [1, 2, 3, 4, 0, 5, 6, 7, 8]))"
   ]
  },
  {
   "cell_type": "code",
   "execution_count": 37,
   "metadata": {},
   "outputs": [
    {
     "data": {
      "text/plain": [
       "([[1, 2, 3, 4, 0, 5, 6, 7, 8]], 0)"
      ]
     },
     "execution_count": 37,
     "metadata": {},
     "output_type": "execute_result"
    }
   ],
   "source": [
    "aStarSearch([1, 2, 3, 4, 0, 5, 6, 7, 8],\n",
    "                     actionsF_8p, takeActionF_8p,\n",
    "                     lambda s: goalTestF_8p(s, [1, 2, 3, 4, 0, 5, 6, 7, 8]),\n",
    "                     lambda s: h2_8p(s, [1, 2, 3, 4, 0, 5, 6, 7, 8]))"
   ]
  },
  {
   "cell_type": "code",
   "execution_count": 38,
   "metadata": {},
   "outputs": [
    {
     "data": {
      "text/plain": [
       "([[1, 2, 3, 4, 0, 5, 6, 7, 8]], 0)"
      ]
     },
     "execution_count": 38,
     "metadata": {},
     "output_type": "execute_result"
    }
   ],
   "source": [
    "aStarSearch([1, 2, 3, 4, 0, 5, 6, 7, 8],\n",
    "                     actionsF_8p, takeActionF_8p,\n",
    "                     lambda s: goalTestF_8p(s, [1, 2, 3, 4, 0, 5, 6, 7, 8]),\n",
    "                     lambda s: h3_8p(s, [1, 2, 3, 4, 0, 5, 6, 7, 8]))"
   ]
  },
  {
   "cell_type": "code",
   "execution_count": 39,
   "metadata": {},
   "outputs": [
    {
     "data": {
      "text/plain": [
       "[[1, 2, 3, 4, 0, 5, 6, 7, 8]]"
      ]
     },
     "execution_count": 39,
     "metadata": {},
     "output_type": "execute_result"
    }
   ],
   "source": [
    "iterativeDeepeningSearch([1, 2, 3, 4, 0, 5, 6, 7, 8],[1, 2, 3, 4, 0, 5, 6, 7, 8],actionsF_8p,takeActionF_8p,10)"
   ]
  },
  {
   "cell_type": "code",
   "execution_count": null,
   "metadata": {
    "collapsed": true
   },
   "outputs": [],
   "source": []
  },
  {
   "cell_type": "code",
   "execution_count": 40,
   "metadata": {},
   "outputs": [
    {
     "data": {
      "text/plain": [
       "([[1, 2, 3, 4, 0, 5, 6, 7, 8],\n",
       "  [1, 2, 3, 4, 5, 0, 6, 7, 8],\n",
       "  [1, 2, 3, 4, 5, 8, 6, 7, 0],\n",
       "  [1, 2, 3, 4, 5, 8, 6, 0, 7]],\n",
       " 3)"
      ]
     },
     "execution_count": 40,
     "metadata": {},
     "output_type": "execute_result"
    }
   ],
   "source": [
    "aStarSearch([1, 2, 3, 4, 0, 5, 6, 7, 8],\n",
    "                     actionsF_8p, takeActionF_8p,\n",
    "                     lambda s: goalTestF_8p(s, [1, 2, 3, 4, 5, 8, 6, 0, 7]),\n",
    "                     lambda s: h1_8p(s, [1, 2, 3, 4, 5, 8, 6, 0, 7]))"
   ]
  },
  {
   "cell_type": "code",
   "execution_count": 41,
   "metadata": {},
   "outputs": [
    {
     "data": {
      "text/plain": [
       "([[1, 2, 3, 4, 0, 5, 6, 7, 8],\n",
       "  [1, 2, 3, 4, 5, 0, 6, 7, 8],\n",
       "  [1, 2, 3, 4, 5, 8, 6, 7, 0],\n",
       "  [1, 2, 3, 4, 5, 8, 6, 0, 7]],\n",
       " 3)"
      ]
     },
     "execution_count": 41,
     "metadata": {},
     "output_type": "execute_result"
    }
   ],
   "source": [
    "aStarSearch([1, 2, 3, 4, 0, 5, 6, 7, 8],\n",
    "                     actionsF_8p, takeActionF_8p,\n",
    "                     lambda s: goalTestF_8p(s, [1, 2, 3, 4, 5, 8, 6, 0, 7]),\n",
    "                     lambda s: h2_8p(s, [1, 2, 3, 4, 5, 8, 6, 0, 7]))"
   ]
  },
  {
   "cell_type": "code",
   "execution_count": 42,
   "metadata": {},
   "outputs": [
    {
     "data": {
      "text/plain": [
       "([[1, 2, 3, 4, 0, 5, 6, 7, 8],\n",
       "  [1, 2, 3, 4, 5, 0, 6, 7, 8],\n",
       "  [1, 2, 3, 4, 5, 8, 6, 7, 0],\n",
       "  [1, 2, 3, 4, 5, 8, 6, 0, 7]],\n",
       " 3)"
      ]
     },
     "execution_count": 42,
     "metadata": {},
     "output_type": "execute_result"
    }
   ],
   "source": [
    "aStarSearch([1, 2, 3, 4, 0, 5, 6, 7, 8],\n",
    "                     actionsF_8p, takeActionF_8p,\n",
    "                     lambda s: goalTestF_8p(s, [1, 2, 3, 4, 5, 8, 6, 0, 7]),\n",
    "                     lambda s: h3_8p(s, [1, 2, 3, 4, 5, 8, 6, 0, 7]))"
   ]
  },
  {
   "cell_type": "code",
   "execution_count": 43,
   "metadata": {},
   "outputs": [
    {
     "data": {
      "text/plain": [
       "[[1, 2, 3, 4, 0, 5, 6, 7, 8],\n",
       " [1, 2, 3, 4, 5, 0, 6, 7, 8],\n",
       " [1, 2, 3, 4, 5, 8, 6, 7, 0],\n",
       " [1, 2, 3, 4, 5, 8, 6, 0, 7]]"
      ]
     },
     "execution_count": 43,
     "metadata": {},
     "output_type": "execute_result"
    }
   ],
   "source": [
    "iterativeDeepeningSearch([1, 2, 3, 4, 0, 5, 6, 7, 8],[1, 2, 3, 4, 5, 8, 6, 0, 7],actionsF_8p,takeActionF_8p,10)"
   ]
  },
  {
   "cell_type": "code",
   "execution_count": null,
   "metadata": {
    "collapsed": true
   },
   "outputs": [],
   "source": []
  },
  {
   "cell_type": "code",
   "execution_count": 44,
   "metadata": {},
   "outputs": [
    {
     "data": {
      "text/plain": [
       "([[1, 2, 3, 4, 0, 5, 6, 7, 8],\n",
       "  [1, 0, 3, 4, 2, 5, 6, 7, 8],\n",
       "  [0, 1, 3, 4, 2, 5, 6, 7, 8],\n",
       "  [4, 1, 3, 0, 2, 5, 6, 7, 8],\n",
       "  [4, 1, 3, 2, 0, 5, 6, 7, 8],\n",
       "  [4, 1, 3, 2, 5, 0, 6, 7, 8],\n",
       "  [4, 1, 3, 2, 5, 8, 6, 7, 0],\n",
       "  [4, 1, 3, 2, 5, 8, 6, 0, 7],\n",
       "  [4, 1, 3, 2, 5, 8, 0, 6, 7],\n",
       "  [4, 1, 3, 0, 5, 8, 2, 6, 7],\n",
       "  [0, 1, 3, 4, 5, 8, 2, 6, 7],\n",
       "  [1, 0, 3, 4, 5, 8, 2, 6, 7]],\n",
       " 11)"
      ]
     },
     "execution_count": 44,
     "metadata": {},
     "output_type": "execute_result"
    }
   ],
   "source": [
    "aStarSearch([1, 2, 3, 4, 0, 5, 6, 7, 8],\n",
    "                     actionsF_8p, takeActionF_8p,\n",
    "                     lambda s: goalTestF_8p(s, [1, 0, 3, 4, 5, 8, 2, 6, 7]),\n",
    "                     lambda s: h1_8p(s, [1, 0, 3, 4, 5, 8, 2, 6, 7]))"
   ]
  },
  {
   "cell_type": "code",
   "execution_count": 45,
   "metadata": {},
   "outputs": [
    {
     "data": {
      "text/plain": [
       "([[1, 2, 3, 4, 0, 5, 6, 7, 8],\n",
       "  [1, 0, 3, 4, 2, 5, 6, 7, 8],\n",
       "  [0, 1, 3, 4, 2, 5, 6, 7, 8],\n",
       "  [4, 1, 3, 0, 2, 5, 6, 7, 8],\n",
       "  [4, 1, 3, 2, 0, 5, 6, 7, 8],\n",
       "  [4, 1, 3, 2, 5, 0, 6, 7, 8],\n",
       "  [4, 1, 3, 2, 5, 8, 6, 7, 0],\n",
       "  [4, 1, 3, 2, 5, 8, 6, 0, 7],\n",
       "  [4, 1, 3, 2, 5, 8, 0, 6, 7],\n",
       "  [4, 1, 3, 0, 5, 8, 2, 6, 7],\n",
       "  [0, 1, 3, 4, 5, 8, 2, 6, 7],\n",
       "  [1, 0, 3, 4, 5, 8, 2, 6, 7]],\n",
       " 11)"
      ]
     },
     "execution_count": 45,
     "metadata": {},
     "output_type": "execute_result"
    }
   ],
   "source": [
    "aStarSearch([1, 2, 3, 4, 0, 5, 6, 7, 8],\n",
    "                     actionsF_8p, takeActionF_8p,\n",
    "                     lambda s: goalTestF_8p(s, [1, 0, 3, 4, 5, 8, 2, 6, 7]),\n",
    "                     lambda s: h2_8p(s, [1, 0, 3, 4, 5, 8, 2, 6, 7]))"
   ]
  },
  {
   "cell_type": "code",
   "execution_count": 46,
   "metadata": {},
   "outputs": [
    {
     "data": {
      "text/plain": [
       "([[1, 2, 3, 4, 0, 5, 6, 7, 8],\n",
       "  [1, 0, 3, 4, 2, 5, 6, 7, 8],\n",
       "  [0, 1, 3, 4, 2, 5, 6, 7, 8],\n",
       "  [4, 1, 3, 0, 2, 5, 6, 7, 8],\n",
       "  [4, 1, 3, 2, 0, 5, 6, 7, 8],\n",
       "  [4, 1, 3, 2, 5, 0, 6, 7, 8],\n",
       "  [4, 1, 3, 2, 5, 8, 6, 7, 0],\n",
       "  [4, 1, 3, 2, 5, 8, 6, 0, 7],\n",
       "  [4, 1, 3, 2, 5, 8, 0, 6, 7],\n",
       "  [4, 1, 3, 0, 5, 8, 2, 6, 7],\n",
       "  [0, 1, 3, 4, 5, 8, 2, 6, 7],\n",
       "  [1, 0, 3, 4, 5, 8, 2, 6, 7]],\n",
       " 11)"
      ]
     },
     "execution_count": 46,
     "metadata": {},
     "output_type": "execute_result"
    }
   ],
   "source": [
    "aStarSearch([1, 2, 3, 4, 0, 5, 6, 7, 8],\n",
    "                     actionsF_8p, takeActionF_8p,\n",
    "                     lambda s: goalTestF_8p(s, [1, 0, 3, 4, 5, 8, 2, 6, 7]),\n",
    "                     lambda s: h3_8p(s, [1, 0, 3, 4, 5, 8, 2, 6, 7]))"
   ]
  },
  {
   "cell_type": "code",
   "execution_count": 47,
   "metadata": {},
   "outputs": [
    {
     "data": {
      "text/plain": [
       "'cutoff'"
      ]
     },
     "execution_count": 47,
     "metadata": {},
     "output_type": "execute_result"
    }
   ],
   "source": [
    "iterativeDeepeningSearch([1, 2, 3, 4, 0, 5, 6, 7, 8],[1, 0, 3, 4, 5, 8, 2, 6, 7],actionsF_8p,takeActionF_8p,10)"
   ]
  },
  {
   "cell_type": "code",
   "execution_count": 48,
   "metadata": {},
   "outputs": [
    {
     "data": {
      "text/plain": [
       "[[1, 2, 3, 4, 0, 5, 6, 7, 8],\n",
       " [1, 0, 3, 4, 2, 5, 6, 7, 8],\n",
       " [0, 1, 3, 4, 2, 5, 6, 7, 8],\n",
       " [4, 1, 3, 0, 2, 5, 6, 7, 8],\n",
       " [4, 1, 3, 2, 0, 5, 6, 7, 8],\n",
       " [4, 1, 3, 2, 5, 0, 6, 7, 8],\n",
       " [4, 1, 3, 2, 5, 8, 6, 7, 0],\n",
       " [4, 1, 3, 2, 5, 8, 6, 0, 7],\n",
       " [4, 1, 3, 2, 5, 8, 0, 6, 7],\n",
       " [4, 1, 3, 0, 5, 8, 2, 6, 7],\n",
       " [0, 1, 3, 4, 5, 8, 2, 6, 7],\n",
       " [1, 0, 3, 4, 5, 8, 2, 6, 7]]"
      ]
     },
     "execution_count": 48,
     "metadata": {},
     "output_type": "execute_result"
    }
   ],
   "source": [
    "iterativeDeepeningSearch([1, 2, 3, 4, 0, 5, 6, 7, 8],[1, 0, 3, 4, 5, 8, 2, 6, 7],actionsF_8p,takeActionF_8p,15)"
   ]
  },
  {
   "cell_type": "code",
   "execution_count": null,
   "metadata": {
    "collapsed": true
   },
   "outputs": [],
   "source": []
  },
  {
   "cell_type": "code",
   "execution_count": null,
   "metadata": {
    "collapsed": true
   },
   "outputs": [],
   "source": []
  },
  {
   "cell_type": "code",
   "execution_count": 49,
   "metadata": {
    "scrolled": true
   },
   "outputs": [
    {
     "name": "stdout",
     "output_type": "stream",
     "text": [
      "\n",
      "Testing actionsF_8p([1, 2, 3, 4, 5, 6, 7, 0, 8])\n",
      "\n",
      "--- 5/5 points. Your actionsF_8p correctly returned [('left', 1), ('right', 1), ('up', 1)]\n",
      "\n",
      "Testing takeActionF_8p([1, 2, 3, 4, 5, 6, 7, 0, 8], (up, 1))\n",
      "\n",
      "--- 5/5 points. Your takeActionsF_8p correctly returned ([1, 2, 3, 4, 0, 6, 7, 5, 8], 1)\n",
      "\n",
      "Testing goalTestF_8p([1, 2, 3, 4, 5, 6, 7, 0, 8], [1, 2, 3, 4, 5, 6, 7, 0, 8])\n",
      "\n",
      "--- 5/5 points. Your goalTestF_8p correctly True\n",
      "\n",
      "Testing aStarSearch([1, 2, 3, 4, 5, 6, 7, 0, 8],\n",
      "                     actionsF_8p, takeActionF_8p,\n",
      "                     lambda s: goalTestF_8p(s, [0, 2, 3, 1, 4,  6, 7, 5, 8]),\n",
      "                     lambda s: h1_8p(s, [0, 2, 3, 1, 4,  6, 7, 5, 8]))\n",
      "\n",
      "--- 20/20 points. Your search correctly returned ([[1, 2, 3, 4, 5, 6, 7, 0, 8], [1, 2, 3, 4, 0, 6, 7, 5, 8], [1, 2, 3, 0, 4, 6, 7, 5, 8], [0, 2, 3, 1, 4, 6, 7, 5, 8]], 3)\n",
      "\n",
      "Testing iterativeDeepeningSearch([5, 2, 8, 0, 1, 4, 3, 7, 6], \n",
      "                                 [0, 2, 3, 1, 4,  6, 7, 5, 8],\n",
      "                                 actionsF_8p, takeActionF_8p, 10)\n",
      "\n",
      "--- 15/15 points. Your search correctly returned cutoff\n",
      "\n",
      "C:\\Users\\Anurag Kumar\\Downloads Grade is 50/50\n"
     ]
    }
   ],
   "source": [
    "%run -i A3grader.py"
   ]
  },
  {
   "cell_type": "code",
   "execution_count": null,
   "metadata": {
    "collapsed": true
   },
   "outputs": [],
   "source": []
  },
  {
   "cell_type": "code",
   "execution_count": null,
   "metadata": {
    "collapsed": true
   },
   "outputs": [],
   "source": []
  }
 ],
 "metadata": {
  "anaconda-cloud": {},
  "kernelspec": {
   "display_name": "Python 3",
   "language": "python",
   "name": "python3"
  },
  "language_info": {
   "codemirror_mode": {
    "name": "ipython",
    "version": 3
   },
   "file_extension": ".py",
   "mimetype": "text/x-python",
   "name": "python",
   "nbconvert_exporter": "python",
   "pygments_lexer": "ipython3",
   "version": "3.6.1"
  }
 },
 "nbformat": 4,
 "nbformat_minor": 1
}
