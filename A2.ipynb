{
 "cells": [
  {
   "cell_type": "markdown",
   "metadata": {},
   "source": [
    "# Assignment 2: Iterative-Deepening Search"
   ]
  },
  {
   "cell_type": "markdown",
   "metadata": {},
   "source": [
    "Anurag Kumar"
   ]
  },
  {
   "cell_type": "markdown",
   "metadata": {},
   "source": [
    "## Overview"
   ]
  },
  {
   "cell_type": "markdown",
   "metadata": {},
   "source": [
    "Implemented the depth limited search and the iterative-deepening search algorithm as discussed in our Week 2 lecture notes. Also applied it to solve the 8-Puzzle Problem and the Water-Jug Problem(The solution consists of a path from start state to goal state inclunding all the states). "
   ]
  },
  {
   "cell_type": "markdown",
   "metadata": {},
   "source": [
    "## Funtion Definition"
   ]
  },
  {
   "cell_type": "markdown",
   "metadata": {},
   "source": [
    "In this jupyter notebook, I have implemented the following functions:\n",
    "\n",
    "  * `iterativeDeepeningSearch(startState, goalState, actionsF, takeActionF, maxDepth)`\n",
    "  * `depthLimitedSearch(startState, goalState, actionsF, takeActionF, depthLimit)`\n",
    "  \n",
    "`depthLimitedSearch` is called by `iterativeDeepeningSearch` with `depthLimit`s of $0, 1, \\ldots, $ `maxDepth`. Both functions returns either the solution path as a list of states, or the strings `cutoff` or `failure`.  `failure` signifies that all states were searched and the goal was not found. `cutoff` means that we have reached the max depth before getting to the goal state. \n",
    "\n",
    "Each receives the arguments\n",
    "\n",
    "  * the starting state, \n",
    "  * a function `actionsF` that is given a state and returns a list of valid actions from that state,\n",
    "  * a function `takeActionF` that is given a state and an action and returns the new state that results from applying the action to the state,\n",
    "  * the goal state,\n",
    "  * a function `goalTestF` that is given a state and the goal state and returns `True` if the state satisfies the goal, and\n",
    "  * either a `depthLimit` for `depthLimitedSearch`, or `maxDepth` for `iterativeDeepeningSearch`."
   ]
  },
  {
   "cell_type": "markdown",
   "metadata": {},
   "source": [
    "And then I have used these functions to solve the 8-Puzzle Problem.\n",
    "The state of the puzzle is represented as a list of integers where 0 represents the empty position. \n",
    "\n",
    "The functions used for solving the 8-puzzle are as follows:\n",
    "\n",
    "  * `findBlank_8p(state)`: return the row and column index for the location of the blank (the 0 value).\n",
    "  * `actionsF_8p(state)`: returns a list of up to four valid actions that can be applied in `state`. Return them in the order `left`, `right`, `up`, `down`, though only if each one is a valid action.\n",
    "  * `takeActionF_8p(state, action)`: return the state that results from applying `action` in `state`.\n",
    "  * `goalTestF_8p(state, goalState)`: return `True` if state is a goal state.\n",
    "  * `printPath_8p(startState, goalState, path)`: print a solution path in a readable form.  You choose the format."
   ]
  },
  {
   "cell_type": "code",
   "execution_count": 1,
   "metadata": {
    "collapsed": true
   },
   "outputs": [],
   "source": [
    "import copy\n",
    "#Takes the parameters as defined in the problem definition above\n",
    "def depthLimitedSearch(state, goalState, actionsF, takeActionF, depthLimit):\n",
    "    if state == goalState:                  #to check goalState and the current state      \n",
    "        return [goalState]                  #Adds the goalstate to the result list, thus initializing the solution path\n",
    "    if depthLimit == 0:\n",
    "        return 'cutoff'                     #Return the string 'cutoff' to signal that the depth limit was reached\n",
    "    cutoffOccurred = False                  #'cutoff' flag\n",
    "                                            ##'actionF' returns a list of all possible actions\n",
    "    for action in actionsF(state):          #For each action in actionsF(state):\n",
    "        temp=copy.copy(state)               ## this to retain the unalterd copy of state node\n",
    "                                            ## A new copy of state list is passed in the takeActionF() because it performs\n",
    "                                            ## the given action on that list and then returns it. Therefore childState gets\n",
    "                                            ## new list not a refernce to the state list given. To remove inconsistency\n",
    "        childState = takeActionF(copy.copy(state), action)  #takes the possible action on the given state\n",
    "                                            # Recursive call\n",
    "        result = depthLimitedSearch(childState, goalState, actionsF, takeActionF, depthLimit-1)\n",
    "        if result == 'cutoff':              # to check 'cutoff' flag\n",
    "            cutoffOccurred = True\n",
    "        elif result is not 'failure':\n",
    "            #Add childState to front of partial solution path, in result, returned by depthLimitedSearch\n",
    "            result.insert(0,temp)           # Since the result list already contains the goalState, just add its predecessor\n",
    "            return result                   # Return the path\n",
    "    if cutoffOccurred:\n",
    "        return 'cutoff'                     # if depth limit exhausted\n",
    "    else:\n",
    "        return 'failure'                    # if all possible state exhausted i.e. goalState is not reachable from the the given\n",
    "                                            # startState"
   ]
  },
  {
   "cell_type": "code",
   "execution_count": 2,
   "metadata": {
    "collapsed": true
   },
   "outputs": [],
   "source": [
    "import copy\n",
    "\n",
    "def iterativeDeepeningSearch(startState, goalState, actionsF, takeActionF, maxDepth):\n",
    "    temp=copy.copy(startState)              ## to retain the unaltered copy of startState\n",
    "    for depth in range(maxDepth):           # till maxDepth is reached, call recursively\n",
    "        result = depthLimitedSearch(startState, goalState, actionsF, takeActionF, depth)\n",
    "        if result is 'failure':\n",
    "            return 'failure'\n",
    "        if result is not 'cutoff':\n",
    "            #Add startState to front of solution path, in result, returned by depthLimitedSearch       \n",
    "            #result.insert(0,temp) \n",
    "            # Not required to do the above steps as I have already included the startState in the depthLimitedSearch()\n",
    "            return result\n",
    "    return 'cutoff'"
   ]
  },
  {
   "cell_type": "markdown",
   "metadata": {},
   "source": [
    "## Assumption\n",
    "\n",
    "All 8-Puzzle functions are defined for 3*3 matrix and `0` as blank space.\n",
    "\n",
    "`CAUTION` : The function takes large amount of time for computation if the maxDepth is more than 15. I have implemented this function on many examples to illustrate that it works fine if maxDepth is less than 15."
   ]
  },
  {
   "cell_type": "code",
   "execution_count": 3,
   "metadata": {
    "collapsed": true
   },
   "outputs": [],
   "source": [
    "# find the blank in the state given and returns a tuple of (row,column)\n",
    "def findBlank_8p(state):\n",
    "    index=state.index(0)\n",
    "    x=0\n",
    "    y=0\n",
    "    for i in range(index):\n",
    "        if y<2:\n",
    "            y+=1\n",
    "        else:\n",
    "            x+=1\n",
    "            y=0\n",
    "    return (x,y)"
   ]
  },
  {
   "cell_type": "code",
   "execution_count": 4,
   "metadata": {
    "collapsed": true
   },
   "outputs": [],
   "source": [
    "#to return a list of possible actions\n",
    "#The actions are returned in the order 'left','right','up','down' which ever are applicable.\n",
    "#The oreder is as given in the problem\n",
    "def actionsF_8p(state):\n",
    "    acts=[]\n",
    "    x,y = findBlank_8p(state)\n",
    "    if x==0:\n",
    "        if y==0:\n",
    "            return ['right','down']\n",
    "        elif y==1:\n",
    "            return ['left','right','down']\n",
    "        else:\n",
    "            return ['left','down']\n",
    "    elif x==1:\n",
    "        if y==0:\n",
    "            return ['right','up','down']\n",
    "        elif y==1:\n",
    "            return ['left','right','up','down']\n",
    "        else:\n",
    "            return ['left','up','down']\n",
    "    else:\n",
    "        if y==0:\n",
    "            return ['right','up']\n",
    "        elif y==1:\n",
    "            return ['left','right','up']\n",
    "        else:\n",
    "            return ['left','up']"
   ]
  },
  {
   "cell_type": "code",
   "execution_count": 5,
   "metadata": {
    "collapsed": true
   },
   "outputs": [],
   "source": [
    "#returns the next state after performing the action given\n",
    "def takeActionF_8p(state, action):\n",
    "    if action=='up':\n",
    "        x=state.index(0)\n",
    "        y=state[x-3]\n",
    "        state[x-3]=0\n",
    "        state[x]=y\n",
    "        return state\n",
    "    elif action=='down':\n",
    "        x=state.index(0)\n",
    "        y=state[x+3]\n",
    "        state[x+3]=0\n",
    "        state[x]=y\n",
    "        return state\n",
    "    elif action=='left':\n",
    "        x=state.index(0)\n",
    "        state[x]=state[x-1]\n",
    "        state[x-1]=0\n",
    "        return state\n",
    "    elif action=='right':\n",
    "        x=state.index(0)\n",
    "        state[x]=state[x+1]\n",
    "        state[x+1]=0\n",
    "        return state"
   ]
  },
  {
   "cell_type": "code",
   "execution_count": 6,
   "metadata": {
    "collapsed": true
   },
   "outputs": [],
   "source": [
    "def goalTest_8p(state, goalState):\n",
    "    return state==goalState"
   ]
  },
  {
   "cell_type": "code",
   "execution_count": 7,
   "metadata": {
    "collapsed": true
   },
   "outputs": [],
   "source": [
    "#prints the state of the 8-puzzle\n",
    "def printState_8p(state):\n",
    "    j=0\n",
    "    for i in range(9):\n",
    "        if state[i]!=0:\n",
    "            print(state[i], end=' ')\n",
    "        else:\n",
    "            print(' ',end=' ')\n",
    "        j+=1\n",
    "        if j%3==0:\n",
    "            print('',end='\\n')"
   ]
  },
  {
   "cell_type": "code",
   "execution_count": 8,
   "metadata": {
    "collapsed": true
   },
   "outputs": [],
   "source": [
    "def printPath_8p(startState, goalState, path):\n",
    "    print('Path from')\n",
    "    printState_8p(startState)\n",
    "    print('  to')\n",
    "    printState_8p(goalState)\n",
    "    print('is %d node long:' %(len(path)))\n",
    "    for i in range(len(path)):\n",
    "        #for j in range(i):\n",
    "         #   print('',end=' ')\n",
    "        printState_8p(path[i])\n",
    "        print()"
   ]
  },
  {
   "cell_type": "code",
   "execution_count": 9,
   "metadata": {},
   "outputs": [
    {
     "data": {
      "text/plain": [
       "{'a': ['b', 'z', 'd'], 'b': ['a'], 'd': ['y'], 'e': ['z'], 'y': ['z']}"
      ]
     },
     "execution_count": 9,
     "metadata": {},
     "output_type": "execute_result"
    }
   ],
   "source": [
    "successors = {'a': ['b', 'z', 'd'], 'b': ['a'], 'e': ['z'], 'd': ['y'], 'y': ['z']}\n",
    "\n",
    "successors"
   ]
  },
  {
   "cell_type": "code",
   "execution_count": 10,
   "metadata": {
    "collapsed": true
   },
   "outputs": [],
   "source": [
    "def actionsF(state):\n",
    "    return copy.copy(successors.get(state, []))"
   ]
  },
  {
   "cell_type": "code",
   "execution_count": 11,
   "metadata": {
    "collapsed": true
   },
   "outputs": [],
   "source": [
    "def takeActionF(state, action):\n",
    "    for action1 in actionsF(action):\n",
    "        if state==action1:                          # To expanding the loop back to parent state\n",
    "            continue\n",
    "        else:\n",
    "            return action\n",
    "    if not actionsF(action):                        # if the actions list is empty or no child node possible\n",
    "        return action"
   ]
  },
  {
   "cell_type": "markdown",
   "metadata": {},
   "source": [
    "Here are some example results."
   ]
  },
  {
   "cell_type": "code",
   "execution_count": 23,
   "metadata": {
    "collapsed": true
   },
   "outputs": [],
   "source": [
    "startState = [1, 0, 3, 4, 2, 5, 6, 7, 8]"
   ]
  },
  {
   "cell_type": "code",
   "execution_count": 13,
   "metadata": {},
   "outputs": [
    {
     "name": "stdout",
     "output_type": "stream",
     "text": [
      "1   3 \n",
      "4 2 5 \n",
      "6 7 8 \n"
     ]
    }
   ],
   "source": [
    "printState_8p(startState)  # not a required function for this assignment, but it helps when implementing printPath_8p"
   ]
  },
  {
   "cell_type": "code",
   "execution_count": 14,
   "metadata": {},
   "outputs": [
    {
     "data": {
      "text/plain": [
       "(0, 1)"
      ]
     },
     "execution_count": 14,
     "metadata": {},
     "output_type": "execute_result"
    }
   ],
   "source": [
    "findBlank_8p(startState)"
   ]
  },
  {
   "cell_type": "code",
   "execution_count": 15,
   "metadata": {},
   "outputs": [
    {
     "data": {
      "text/plain": [
       "['left', 'right', 'down']"
      ]
     },
     "execution_count": 15,
     "metadata": {},
     "output_type": "execute_result"
    }
   ],
   "source": [
    "actionsF_8p(startState)"
   ]
  },
  {
   "cell_type": "code",
   "execution_count": 16,
   "metadata": {},
   "outputs": [
    {
     "data": {
      "text/plain": [
       "[1, 2, 3, 4, 0, 5, 6, 7, 8]"
      ]
     },
     "execution_count": 16,
     "metadata": {},
     "output_type": "execute_result"
    }
   ],
   "source": [
    "takeActionF_8p(startState, 'down')"
   ]
  },
  {
   "cell_type": "code",
   "execution_count": 18,
   "metadata": {},
   "outputs": [
    {
     "name": "stdout",
     "output_type": "stream",
     "text": [
      "1 2 3 \n",
      "4   5 \n",
      "6 7 8 \n"
     ]
    }
   ],
   "source": [
    "printState_8p(takeActionF_8p(startState, 'down'))"
   ]
  },
  {
   "cell_type": "code",
   "execution_count": 20,
   "metadata": {
    "collapsed": true
   },
   "outputs": [],
   "source": [
    "goalState = takeActionF_8p(startState, 'down')"
   ]
  },
  {
   "cell_type": "code",
   "execution_count": 21,
   "metadata": {
    "collapsed": true
   },
   "outputs": [],
   "source": [
    "newState = takeActionF_8p(startState, 'down')"
   ]
  },
  {
   "cell_type": "code",
   "execution_count": 22,
   "metadata": {},
   "outputs": [
    {
     "data": {
      "text/plain": [
       "True"
      ]
     },
     "execution_count": 22,
     "metadata": {},
     "output_type": "execute_result"
    }
   ],
   "source": [
    "newState == goalState"
   ]
  },
  {
   "cell_type": "code",
   "execution_count": 26,
   "metadata": {},
   "outputs": [
    {
     "data": {
      "text/plain": [
       "[1, 0, 3, 4, 2, 5, 6, 7, 8]"
      ]
     },
     "execution_count": 26,
     "metadata": {},
     "output_type": "execute_result"
    }
   ],
   "source": [
    "startState"
   ]
  },
  {
   "cell_type": "code",
   "execution_count": 25,
   "metadata": {
    "scrolled": true
   },
   "outputs": [
    {
     "data": {
      "text/plain": [
       "[[1, 0, 3, 4, 2, 5, 6, 7, 8],\n",
       " [1, 2, 3, 4, 0, 5, 6, 7, 8],\n",
       " [1, 2, 3, 4, 7, 5, 6, 0, 8]]"
      ]
     },
     "execution_count": 25,
     "metadata": {},
     "output_type": "execute_result"
    }
   ],
   "source": [
    "path = depthLimitedSearch(startState, goalState, actionsF_8p, takeActionF_8p, 3)\n",
    "path"
   ]
  },
  {
   "cell_type": "markdown",
   "metadata": {},
   "source": [
    "Notice that `depthLimitedSearch` result is not missing the start state.  So the `iterativeDeepeningSearch` does not add any state to the result of `depthLimitedSearch`.\n",
    "\n",
    "And, when we try `iterativeDeepeningSearch` to do the same search, it finds exactly the same path which we found earlier."
   ]
  },
  {
   "cell_type": "code",
   "execution_count": 27,
   "metadata": {
    "scrolled": true
   },
   "outputs": [
    {
     "data": {
      "text/plain": [
       "[[1, 0, 3, 4, 2, 5, 6, 7, 8],\n",
       " [1, 2, 3, 4, 0, 5, 6, 7, 8],\n",
       " [1, 2, 3, 4, 7, 5, 6, 0, 8]]"
      ]
     },
     "execution_count": 27,
     "metadata": {},
     "output_type": "execute_result"
    }
   ],
   "source": [
    "path = iterativeDeepeningSearch(startState, goalState, actionsF_8p, takeActionF_8p, 3)\n",
    "path"
   ]
  },
  {
   "cell_type": "markdown",
   "metadata": {},
   "source": [
    "Also notice that the successor states are lists, not tuples.  This is okay, because the search functions for this assignment do not"
   ]
  },
  {
   "cell_type": "code",
   "execution_count": 28,
   "metadata": {},
   "outputs": [
    {
     "data": {
      "text/plain": [
       "'cutoff'"
      ]
     },
     "execution_count": 28,
     "metadata": {},
     "output_type": "execute_result"
    }
   ],
   "source": [
    "startState = [4, 7, 2, 1, 6, 5, 0, 3, 8]\n",
    "path = iterativeDeepeningSearch(startState, goalState, actionsF_8p, takeActionF_8p, 3)\n",
    "path"
   ]
  },
  {
   "cell_type": "code",
   "execution_count": 29,
   "metadata": {},
   "outputs": [
    {
     "data": {
      "text/plain": [
       "'cutoff'"
      ]
     },
     "execution_count": 29,
     "metadata": {},
     "output_type": "execute_result"
    }
   ],
   "source": [
    "startState = [4, 7, 2, 1, 6, 5, 0, 3, 8]\n",
    "path = iterativeDeepeningSearch(startState, goalState, actionsF_8p, takeActionF_8p, 5)\n",
    "path"
   ]
  },
  {
   "cell_type": "markdown",
   "metadata": {},
   "source": [
    "Humm...maybe we can't reach the goal state from this state.  We need a way to randomly generate a valid start state."
   ]
  },
  {
   "cell_type": "code",
   "execution_count": 30,
   "metadata": {
    "collapsed": true
   },
   "outputs": [],
   "source": [
    "import random"
   ]
  },
  {
   "cell_type": "code",
   "execution_count": 31,
   "metadata": {},
   "outputs": [
    {
     "data": {
      "text/plain": [
       "'right'"
      ]
     },
     "execution_count": 31,
     "metadata": {},
     "output_type": "execute_result"
    }
   ],
   "source": [
    "random.choice(['left', 'right'])"
   ]
  },
  {
   "cell_type": "code",
   "execution_count": 32,
   "metadata": {
    "collapsed": true
   },
   "outputs": [],
   "source": [
    "def randomStartState(goalState, actionsF, takeActionF, nSteps):\n",
    "    state = goalState\n",
    "    for i in range(nSteps):\n",
    "        state = takeActionF(state, random.choice(actionsF(state)))\n",
    "    return state"
   ]
  },
  {
   "cell_type": "code",
   "execution_count": 33,
   "metadata": {},
   "outputs": [
    {
     "data": {
      "text/plain": [
       "[1, 2, 3, 0, 7, 5, 4, 6, 8]"
      ]
     },
     "execution_count": 33,
     "metadata": {},
     "output_type": "execute_result"
    }
   ],
   "source": [
    "startState = randomStartState(goalState, actionsF_8p, takeActionF_8p, 10)\n",
    "startState"
   ]
  },
  {
   "cell_type": "markdown",
   "metadata": {},
   "source": [
    "### Extra Examples"
   ]
  },
  {
   "cell_type": "code",
   "execution_count": 34,
   "metadata": {},
   "outputs": [
    {
     "data": {
      "text/plain": [
       "[[1, 2, 3, 4, 5, 6, 7, 0, 8],\n",
       " [1, 2, 3, 4, 0, 6, 7, 5, 8],\n",
       " [1, 2, 3, 0, 4, 6, 7, 5, 8],\n",
       " [0, 2, 3, 1, 4, 6, 7, 5, 8]]"
      ]
     },
     "execution_count": 34,
     "metadata": {},
     "output_type": "execute_result"
    }
   ],
   "source": [
    "iterativeDeepeningSearch([1, 2, 3, 4, 5, 6, 7, 0, 8],[0, 2, 3, 1, 4,  6, 7, 5, 8], actionsF_8p, takeActionF_8p, 5)"
   ]
  },
  {
   "cell_type": "code",
   "execution_count": 35,
   "metadata": {},
   "outputs": [
    {
     "data": {
      "text/plain": [
       "'cutoff'"
      ]
     },
     "execution_count": 35,
     "metadata": {},
     "output_type": "execute_result"
    }
   ],
   "source": [
    "iterativeDeepeningSearch([1, 2, 3, 5, 6, 0, 7, 8, 4],[1, 2, 3, 5, 8,  6, 0, 7, 4], actionsF_8p, takeActionF_8p, 3)"
   ]
  },
  {
   "cell_type": "code",
   "execution_count": 36,
   "metadata": {},
   "outputs": [
    {
     "data": {
      "text/plain": [
       "[[1, 2, 3, 0, 7, 5, 4, 6, 8],\n",
       " [1, 2, 3, 4, 7, 5, 0, 6, 8],\n",
       " [1, 2, 3, 4, 7, 5, 6, 0, 8],\n",
       " [1, 2, 3, 4, 0, 5, 6, 7, 8]]"
      ]
     },
     "execution_count": 36,
     "metadata": {},
     "output_type": "execute_result"
    }
   ],
   "source": [
    "iterativeDeepeningSearch([1, 2, 3, 0, 7, 5, 4, 6, 8],[ 1, 2, 3, 4, 0, 5,  6, 7, 8], actionsF_8p, takeActionF_8p, 10)"
   ]
  },
  {
   "cell_type": "code",
   "execution_count": 37,
   "metadata": {},
   "outputs": [
    {
     "data": {
      "text/plain": [
       "'cutoff'"
      ]
     },
     "execution_count": 37,
     "metadata": {},
     "output_type": "execute_result"
    }
   ],
   "source": [
    "iterativeDeepeningSearch([5,4,0,6,1,8,7,3,2],[1,2,3,8,0,4,7,6,5],actionsF_8p,takeActionF_8p,15)"
   ]
  },
  {
   "cell_type": "code",
   "execution_count": 38,
   "metadata": {},
   "outputs": [
    {
     "data": {
      "text/plain": [
       "'cutoff'"
      ]
     },
     "execution_count": 38,
     "metadata": {},
     "output_type": "execute_result"
    }
   ],
   "source": [
    "iterativeDeepeningSearch([5, 4, 0, 6, 1, 8, 7, 3, 2],[1, 4, 7, 2, 5, 8, 3, 6, 0], actionsF_8p, takeActionF_8p, 14)"
   ]
  },
  {
   "cell_type": "code",
   "execution_count": 39,
   "metadata": {},
   "outputs": [
    {
     "data": {
      "text/plain": [
       "[[1, 2, 3, 0, 4, 7, 6, 8, 5],\n",
       " [1, 2, 3, 4, 0, 7, 6, 8, 5],\n",
       " [1, 2, 3, 4, 7, 0, 6, 8, 5],\n",
       " [1, 2, 3, 4, 7, 5, 6, 8, 0],\n",
       " [1, 2, 3, 4, 7, 5, 6, 0, 8],\n",
       " [1, 2, 3, 4, 0, 5, 6, 7, 8]]"
      ]
     },
     "execution_count": 39,
     "metadata": {},
     "output_type": "execute_result"
    }
   ],
   "source": [
    "path = iterativeDeepeningSearch([1, 2, 3, 0, 4, 7, 6, 8, 5],[1,2,3,4,0,5,6,7,8], actionsF_8p, takeActionF_8p, 10)\n",
    "path"
   ]
  },
  {
   "cell_type": "code",
   "execution_count": 41,
   "metadata": {
    "collapsed": true
   },
   "outputs": [],
   "source": [
    "startState=[1, 5, 0, 4, 7, 2, 6, 8, 3]"
   ]
  },
  {
   "cell_type": "code",
   "execution_count": 42,
   "metadata": {
    "collapsed": true
   },
   "outputs": [],
   "source": [
    "goalState=[1,2,3,4,0,5,6,7,8]"
   ]
  },
  {
   "cell_type": "code",
   "execution_count": 43,
   "metadata": {},
   "outputs": [
    {
     "data": {
      "text/plain": [
       "[[1, 5, 0, 4, 7, 2, 6, 8, 3],\n",
       " [1, 5, 2, 4, 7, 0, 6, 8, 3],\n",
       " [1, 5, 2, 4, 7, 3, 6, 8, 0],\n",
       " [1, 5, 2, 4, 7, 3, 6, 0, 8],\n",
       " [1, 5, 2, 4, 0, 3, 6, 7, 8],\n",
       " [1, 0, 2, 4, 5, 3, 6, 7, 8],\n",
       " [1, 2, 0, 4, 5, 3, 6, 7, 8],\n",
       " [1, 2, 3, 4, 5, 0, 6, 7, 8],\n",
       " [1, 2, 3, 4, 0, 5, 6, 7, 8]]"
      ]
     },
     "execution_count": 43,
     "metadata": {},
     "output_type": "execute_result"
    }
   ],
   "source": [
    "path = iterativeDeepeningSearch(startState, goalState, actionsF_8p, takeActionF_8p, 20)\n",
    "path"
   ]
  },
  {
   "cell_type": "markdown",
   "metadata": {},
   "source": [
    "Let's print out the state sequence in a readable form."
   ]
  },
  {
   "cell_type": "code",
   "execution_count": 44,
   "metadata": {},
   "outputs": [
    {
     "name": "stdout",
     "output_type": "stream",
     "text": [
      "1 5   \n",
      "4 7 2 \n",
      "6 8 3 \n",
      "\n",
      "1 5 2 \n",
      "4 7   \n",
      "6 8 3 \n",
      "\n",
      "1 5 2 \n",
      "4 7 3 \n",
      "6 8   \n",
      "\n",
      "1 5 2 \n",
      "4 7 3 \n",
      "6   8 \n",
      "\n",
      "1 5 2 \n",
      "4   3 \n",
      "6 7 8 \n",
      "\n",
      "1   2 \n",
      "4 5 3 \n",
      "6 7 8 \n",
      "\n",
      "1 2   \n",
      "4 5 3 \n",
      "6 7 8 \n",
      "\n",
      "1 2 3 \n",
      "4 5   \n",
      "6 7 8 \n",
      "\n",
      "1 2 3 \n",
      "4   5 \n",
      "6 7 8 \n",
      "\n"
     ]
    }
   ],
   "source": [
    "for p in path:\n",
    "    printState_8p(p)\n",
    "    print()"
   ]
  },
  {
   "cell_type": "markdown",
   "metadata": {},
   "source": [
    "Here is one way to format the search problem and solution in a readable form."
   ]
  },
  {
   "cell_type": "code",
   "execution_count": 45,
   "metadata": {},
   "outputs": [
    {
     "name": "stdout",
     "output_type": "stream",
     "text": [
      "Path from\n",
      "1 5   \n",
      "4 7 2 \n",
      "6 8 3 \n",
      "  to\n",
      "1 2 3 \n",
      "4   5 \n",
      "6 7 8 \n",
      "is 9 node long:\n",
      "1 5   \n",
      "4 7 2 \n",
      "6 8 3 \n",
      "\n",
      "1 5 2 \n",
      "4 7   \n",
      "6 8 3 \n",
      "\n",
      "1 5 2 \n",
      "4 7 3 \n",
      "6 8   \n",
      "\n",
      "1 5 2 \n",
      "4 7 3 \n",
      "6   8 \n",
      "\n",
      "1 5 2 \n",
      "4   3 \n",
      "6 7 8 \n",
      "\n",
      "1   2 \n",
      "4 5 3 \n",
      "6 7 8 \n",
      "\n",
      "1 2   \n",
      "4 5 3 \n",
      "6 7 8 \n",
      "\n",
      "1 2 3 \n",
      "4 5   \n",
      "6 7 8 \n",
      "\n",
      "1 2 3 \n",
      "4   5 \n",
      "6 7 8 \n",
      "\n"
     ]
    }
   ],
   "source": [
    "printPath_8p(startState, goalState, path)"
   ]
  },
  {
   "cell_type": "markdown",
   "metadata": {},
   "source": [
    "# Second Puzzle"
   ]
  },
  {
   "cell_type": "markdown",
   "metadata": {},
   "source": [
    "## Water Jug Problem\n",
    "\n",
    "### Problem Description:\n",
    "\n",
    "We have a jug A of 5 units of water and another jug B of 3 units of water and we have to measure 1 unit of water using them.\n",
    "In a single step, we can either `fill A` or `fill B` or `empty A` or `empty B` or `transfer from A to B` or `transfer from B to A`. Our startState can be any value from [0,0] to [5,3], but our goalState is fixed which is [1,0]. The solution path will contains steps from startState to goalState(it may or may not be an optimal path)."
   ]
  },
  {
   "cell_type": "markdown",
   "metadata": {},
   "source": [
    "And I have used the same functions to solve the Water Jug Problem.\n",
    "\n",
    "The functions used for solving the Water Jug Problem are as follows:\n",
    "\n",
    "  * `fillA(state)`: Jug A is filled to its max capacity.\n",
    "  * `fillB(state)`: Jug B is filled to its max capacity.\n",
    "  * `empA(state)`: Jug A is emptied to nil.\n",
    "  * `empB(state)`: Jug B is emptied to nil.\n",
    "  * `transA2B(state)`: Water is transfered from Jug A to Jug B till Jug B is filled to its max capacity or Jug A is emptied.\n",
    "  * `transB2A(state)`: Water is transfered from Jug B to Jug A till Jug A is filled to its max capacity or Jug B is emptied.\n",
    "  * `actionsF_wj(state)`: returns a list of up to four valid actions that can be applied in `state`. Return them in the order `fillA/fillB`, `transA2B`, `transB2A`, `empA/empB`, though only if each one is a valid action.\n",
    "  * `takeActionF_wj(state, action)`: return the state that results from applying `action` in `state`."
   ]
  },
  {
   "cell_type": "markdown",
   "metadata": {},
   "source": [
    "### Assumption\n",
    "\n",
    "Assumption Jug A has max capacity = 5 and Jub B has max capacity = 3\n",
    "and goalState is Jug A = 1 and Jub B =0"
   ]
  },
  {
   "cell_type": "code",
   "execution_count": 47,
   "metadata": {
    "collapsed": true
   },
   "outputs": [],
   "source": [
    "def fillA(state):\n",
    "    state[0]=5\n",
    "    return state"
   ]
  },
  {
   "cell_type": "code",
   "execution_count": 48,
   "metadata": {
    "collapsed": true
   },
   "outputs": [],
   "source": [
    "def fillB(state):\n",
    "    state[1]=3\n",
    "    return state"
   ]
  },
  {
   "cell_type": "code",
   "execution_count": 49,
   "metadata": {
    "collapsed": true
   },
   "outputs": [],
   "source": [
    "def empA(state):\n",
    "    state[0]=0\n",
    "    return state"
   ]
  },
  {
   "cell_type": "code",
   "execution_count": 50,
   "metadata": {
    "collapsed": true
   },
   "outputs": [],
   "source": [
    "def empB(state):\n",
    "    state[1]=0\n",
    "    return state"
   ]
  },
  {
   "cell_type": "code",
   "execution_count": 51,
   "metadata": {
    "collapsed": true
   },
   "outputs": [],
   "source": [
    "def transA2B(state):\n",
    "    while state[1]<3 and state[0]>0:\n",
    "        state[0]-=1\n",
    "        state[1]+=1\n",
    "    return state"
   ]
  },
  {
   "cell_type": "code",
   "execution_count": 52,
   "metadata": {
    "collapsed": true
   },
   "outputs": [],
   "source": [
    "def transB2A(state):\n",
    "    while state[0]<5 and state[1]>0:\n",
    "        state[0]+=1\n",
    "        state[1]-=1\n",
    "    return state"
   ]
  },
  {
   "cell_type": "code",
   "execution_count": 53,
   "metadata": {
    "collapsed": true
   },
   "outputs": [],
   "source": [
    "def actionsF_wj(state):                                #state will be list[A,B]\n",
    "    if state[0]==0 and state[1]==0:\n",
    "        return ['fillA', 'fillB']\n",
    "    elif state[0]==0:\n",
    "        if state[1]==1:\n",
    "            return ['transB2A']\n",
    "        else:\n",
    "            return ['fillA', 'transB2A', 'empB']\n",
    "    elif state[0]!=0:\n",
    "        if state[1]==0:\n",
    "            return ['fillB', 'transA2B' , 'empA']\n",
    "        else:\n",
    "            return ['transA2B', 'transB2A', 'empA', 'empB']"
   ]
  },
  {
   "cell_type": "code",
   "execution_count": 54,
   "metadata": {
    "collapsed": true
   },
   "outputs": [],
   "source": [
    "def takeActionF_wj(state, action):\n",
    "    if action=='fillA':\n",
    "        return fillA(state)\n",
    "    elif action=='fillB':\n",
    "        return fillB(state)\n",
    "    elif action=='empA':\n",
    "        return empA(state)\n",
    "    elif action=='empB':\n",
    "        return empB(state)\n",
    "    elif action=='transA2B':\n",
    "        return transA2B(state)\n",
    "    elif action=='transB2A':\n",
    "        return transB2A(state)"
   ]
  },
  {
   "cell_type": "code",
   "execution_count": 55,
   "metadata": {},
   "outputs": [
    {
     "data": {
      "text/plain": [
       "'cutoff'"
      ]
     },
     "execution_count": 55,
     "metadata": {},
     "output_type": "execute_result"
    }
   ],
   "source": [
    "iterativeDeepeningSearch([0,0], [1,0], actionsF_wj, takeActionF_wj, 5)"
   ]
  },
  {
   "cell_type": "code",
   "execution_count": 56,
   "metadata": {},
   "outputs": [
    {
     "data": {
      "text/plain": [
       "[[0, 0], [0, 3], [3, 0], [3, 3], [5, 1], [0, 1], [1, 0]]"
      ]
     },
     "execution_count": 56,
     "metadata": {},
     "output_type": "execute_result"
    }
   ],
   "source": [
    "iterativeDeepeningSearch([0,0], [1,0], actionsF_wj, takeActionF_wj, 10)"
   ]
  },
  {
   "cell_type": "code",
   "execution_count": 57,
   "metadata": {},
   "outputs": [
    {
     "data": {
      "text/plain": [
       "[[0, 0], [0, 3], [3, 0], [3, 3], [5, 1], [0, 1], [1, 0]]"
      ]
     },
     "execution_count": 57,
     "metadata": {},
     "output_type": "execute_result"
    }
   ],
   "source": [
    "iterativeDeepeningSearch([0,0], [1,0], actionsF_wj, takeActionF_wj, 15)"
   ]
  },
  {
   "cell_type": "code",
   "execution_count": 58,
   "metadata": {},
   "outputs": [
    {
     "data": {
      "text/plain": [
       "[[5, 0], [5, 3], [0, 3], [3, 0], [3, 3], [5, 1], [0, 1], [1, 0]]"
      ]
     },
     "execution_count": 58,
     "metadata": {},
     "output_type": "execute_result"
    }
   ],
   "source": [
    "iterativeDeepeningSearch([5,0], [1,0], actionsF_wj, takeActionF_wj, 20)"
   ]
  },
  {
   "cell_type": "code",
   "execution_count": 59,
   "metadata": {},
   "outputs": [
    {
     "data": {
      "text/plain": [
       "[[0, 3], [3, 0], [3, 3], [5, 1], [0, 1], [1, 0]]"
      ]
     },
     "execution_count": 59,
     "metadata": {},
     "output_type": "execute_result"
    }
   ],
   "source": [
    "iterativeDeepeningSearch([0,3], [1,0], actionsF_wj, takeActionF_wj, 20)"
   ]
  },
  {
   "cell_type": "code",
   "execution_count": 60,
   "metadata": {},
   "outputs": [
    {
     "data": {
      "text/plain": [
       "[[5, 3], [0, 3], [3, 0], [3, 3], [5, 1], [0, 1], [1, 0]]"
      ]
     },
     "execution_count": 60,
     "metadata": {},
     "output_type": "execute_result"
    }
   ],
   "source": [
    "iterativeDeepeningSearch([5,3], [1,0], actionsF_wj, takeActionF_wj, 20)"
   ]
  },
  {
   "cell_type": "code",
   "execution_count": 61,
   "metadata": {},
   "outputs": [
    {
     "data": {
      "text/plain": [
       "[[4, 0], [1, 3], [1, 0]]"
      ]
     },
     "execution_count": 61,
     "metadata": {},
     "output_type": "execute_result"
    }
   ],
   "source": [
    "iterativeDeepeningSearch([4,0], [1,0], actionsF_wj, takeActionF_wj, 20)"
   ]
  },
  {
   "cell_type": "code",
   "execution_count": 62,
   "metadata": {},
   "outputs": [
    {
     "data": {
      "text/plain": [
       "[[0, 2], [5, 2], [4, 3], [4, 0], [1, 3], [1, 0]]"
      ]
     },
     "execution_count": 62,
     "metadata": {},
     "output_type": "execute_result"
    }
   ],
   "source": [
    "iterativeDeepeningSearch([0,2], [1,0], actionsF_wj, takeActionF_wj, 20)"
   ]
  },
  {
   "cell_type": "code",
   "execution_count": null,
   "metadata": {
    "collapsed": true
   },
   "outputs": [],
   "source": []
  }
 ],
 "metadata": {
  "anaconda-cloud": {},
  "kernelspec": {
   "display_name": "Python 3",
   "language": "python",
   "name": "python3"
  },
  "language_info": {
   "codemirror_mode": {
    "name": "ipython",
    "version": 3
   },
   "file_extension": ".py",
   "mimetype": "text/x-python",
   "name": "python",
   "nbconvert_exporter": "python",
   "pygments_lexer": "ipython3",
   "version": "3.6.1"
  }
 },
 "nbformat": 4,
 "nbformat_minor": 1
}
