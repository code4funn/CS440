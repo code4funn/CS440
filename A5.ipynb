{
 "cells": [
  {
   "cell_type": "markdown",
   "metadata": {},
   "source": [
    "# Reinforcement Learning Solution to the Towers of Hanoi Puzzle"
   ]
  },
  {
   "cell_type": "markdown",
   "metadata": {},
   "source": [
    "Anurag Kumar"
   ]
  },
  {
   "cell_type": "markdown",
   "metadata": {},
   "source": [
    "In this assignment, I have used reinforcement learning to solve the [Towers of Hanoi](https://en.wikipedia.org/wiki/Tower_of_Hanoi) puzzle.  \n",
    "\n",
    "To accomplish this, I have borrowed and modified the code discussed in lecture for learning to play Tic-Tac-Toe so that it learns to solve the three-disk, three-peg\n",
    "Towers of Hanoi Puzzle.  pler than the\n",
    "Tic-Tac-Toe code.  \n",
    "\n",
    "The following steps were implemented as asked in the assignment:\n",
    "\n",
    "  - Represent the state, and use it as a tuple as a key to the Q dictionary.\n",
    "  - Make sure only valid moves are tried from each state.\n",
    "  - Assign reinforcement of $-1$ to each move unless it is a move to the goal state, for which the reinforcement is $0$.  This represents the goal of finding the shortest path to the goal.\n",
    "\n",
    "There is a plot of the number of steps required to reach the goal for each\n",
    "trial.  Each trial starts from the same initial state.  Decay epsilon\n",
    "is as in the Tic-Tac-Toe code."
   ]
  },
  {
   "cell_type": "markdown",
   "metadata": {},
   "source": [
    "## Requirements"
   ]
  },
  {
   "cell_type": "markdown",
   "metadata": {},
   "source": [
    "In order to keep track of which disks are on which pegs, we named the disks 1, 2, and 3, with 1 being the smallest disk and 3 being the largest. The set of disks on a peg is represented as a list of integers. And the state is a list of three lists.\n",
    "\n",
    "For example, the starting state is represented with all disks being on the left peg i.e. `[[1, 2, 3], [], []]`.  After moving disk 1 to peg 2, we have `[[2, 3], [1], []]`.\n",
    "\n",
    "To represent that move we just made, we can use a list of two peg numbers, like `[1, 2]`, representing a move of the top disk on peg 1 to peg 2.\n"
   ]
  },
  {
   "cell_type": "markdown",
   "metadata": {},
   "source": [
    "Here are some functions which are used in the implementation :\n",
    "\n",
    "   - `stateMoveTuple(state, move)`: returns tuple of state and move. This is useful for converting state and move to a key to be used for the Q dictionary.\n",
    "   - `printState(state)`: prints the state in the form shown below\n",
    "   - `validMoves(state)`: returns list of moves that are valid from `state`\n",
    "   - `makeMove(state, move)`: returns new (copy of) state after move has been applied.\n",
    "   - `trainQ(nRepetitions, learningRate, epsilonDecayFactor, validMovesF, makeMoveF)`: train the Q function for number of repetitions, decaying epsilon at start of each repetition. Returns Q and list or array of number of steps to reach goal for each repetition.\n",
    "   - `testQ(Q, maxSteps, validMovesF, makeMoveF)`: without updating Q, use Q to find greedy action each step until goal is found. Return path of states.\n",
    "\n",
    "     \n",
    "    \n"
   ]
  },
  {
   "cell_type": "code",
   "execution_count": 1,
   "metadata": {
    "collapsed": true
   },
   "outputs": [],
   "source": [
    "import numpy as np\n",
    "import matplotlib.pyplot as plt\n",
    "%matplotlib inline"
   ]
  },
  {
   "cell_type": "code",
   "execution_count": 2,
   "metadata": {
    "collapsed": true
   },
   "outputs": [],
   "source": [
    "import copy\n",
    "def makeMove(state, move):\n",
    "    newState = copy.deepcopy(state)\n",
    "    i = move[0]-1\n",
    "    j = move[1]-1\n",
    "    newState[i].reverse()\n",
    "    k = newState[i].pop()\n",
    "    newState[i].reverse()\n",
    "    newState[j].insert(0,k)\n",
    "    return newState"
   ]
  },
  {
   "cell_type": "code",
   "execution_count": 3,
   "metadata": {
    "collapsed": true
   },
   "outputs": [],
   "source": [
    "def printState(state):\n",
    "    p=len(state[0])\n",
    "    q=len(state[1])\n",
    "    r=len(state[2])\n",
    "    n=p+q+r\n",
    "    for j in range(n):\n",
    "        print('{} {} {}'.format(state[0][n-p-j] if n-p<=j else ' ',state[1][n-q-j] if n-q<=j else ' ',state[2][n-r-j] if n-r<=j else ' '))\n",
    "    print('-----')"
   ]
  },
  {
   "cell_type": "code",
   "execution_count": 4,
   "metadata": {
    "collapsed": true
   },
   "outputs": [],
   "source": [
    "def stateMoveTuple(state, move):\n",
    "    result=[0]*3\n",
    "    final =[0]*2\n",
    "    for i in range(3):\n",
    "        result[i]=(tuple(state[i]))\n",
    "    final[0] = tuple(result)\n",
    "    final[1] = (tuple(move))\n",
    "    return tuple(final)"
   ]
  },
  {
   "cell_type": "code",
   "execution_count": 5,
   "metadata": {
    "collapsed": true
   },
   "outputs": [],
   "source": [
    "def validMoves(state):\n",
    "    moves = []\n",
    "    if state[0] != []:\n",
    "        if  state[1] == [] or state[0][0] < state[1][0]:\n",
    "            moves.append([1,2])\n",
    "        if state[2] == [] or state[0][0] < state[2][0]:\n",
    "            moves.append([1,3])\n",
    "    if state[1] != []:\n",
    "        if state[0] == [] or state[1][0] < state[0][0]:\n",
    "            moves.append([2,1])\n",
    "        if state[2] == [] or state[1][0] < state[2][0]:\n",
    "            moves.append([2,3])\n",
    "    if state[2] != []:\n",
    "        if state[1] == [] or state[2][0] < state[1][0]:\n",
    "            moves.append([3,2])\n",
    "        if state[0] == [] or state[2][0] < state[0][0]:\n",
    "            moves.append([3,1])\n",
    "    if moves == []:\n",
    "        printState(state)\n",
    "    \n",
    "    return moves"
   ]
  },
  {
   "cell_type": "code",
   "execution_count": 6,
   "metadata": {
    "collapsed": true
   },
   "outputs": [],
   "source": [
    "def epsilonGreedy(epsilon, Q, state, validMovesF):\n",
    "    moves = validMovesF(state) # validMoves returns a list of possible valid moves\n",
    "    if np.random.uniform() < epsilon:\n",
    "        #Random move\n",
    "        return moves[np.random.choice(range(len(moves)))] # a move in this form [1,2]\n",
    "    else:\n",
    "        #greedy move\n",
    "        Qs = np.array([Q.get(stateMoveTuple(state,move),0) for move in moves])\n",
    "        return moves[np.argmin(Qs)]  #### changed from moves[np.argmax(Qs)] "
   ]
  },
  {
   "cell_type": "code",
   "execution_count": 7,
   "metadata": {
    "collapsed": true
   },
   "outputs": [],
   "source": [
    "def greedyMove(Q, state, validMovesF):\n",
    "    moves = validMovesF(state)\n",
    "    Qs = np.array([Q.get(stateMoveTuple(state,move),0) for move in moves])\n",
    "    print(Qs)\n",
    "    return moves[np.argmin(Qs)]  ######### changed from moves[np.argmax(Qs)]"
   ]
  },
  {
   "cell_type": "code",
   "execution_count": 8,
   "metadata": {
    "collapsed": true
   },
   "outputs": [],
   "source": [
    "import copy\n",
    "def trainQ(nRepetitions, learningRate, epsilonDecayFactor, validMovesF, makeMoveF):\n",
    "    Q = {}\n",
    "    stepsToGoal = [0]*nRepetitions                 # will hold the number of steps required to reach the goal for each iteration\n",
    "    rho = learningRate                             ################# Changed from 0.2\n",
    "    epsilon = 1.0                                  # initialized to 1 and decreases slowly according to the decayfactor \n",
    "    epsilons = np.zeros(nRepetitions)              # stores the epsilon value of each iteration\n",
    "    for nGames in range(nRepetitions):             # the training of Q begins\n",
    "        if nGames > 0:                             # epsilon is 1 for 1st run\n",
    "            epsilon *= epsilonDecayFactor          # decayFactor is a number between (0,1)\n",
    "        epsilons[nGames] = epsilon\n",
    "        step = 0                                   # this maintains the count of steps\n",
    "        state = [[1,2,3],[],[]]                    # initial state for 3 disks 3 pegs tower of hanoi problem\n",
    "                                                   # It starts from start state everytime...but one can use random state too\n",
    "        done = False                               # used to break out of the while loop as soon as we reach the goal state\n",
    "        \n",
    "        while not done:                            # searching for goal begins\n",
    "            step += 1                              # increment the step to keep the count\n",
    "            move = epsilonGreedy(epsilon, Q, state, validMovesF) # The epsilonGreedy() returns a move selected either randomly\n",
    "            # or from the existing values in Q depending upon the epsilon value. validMovesF is used to generate valid moves\n",
    "            newstate = makeMoveF(state, move)      # returns a new list after performing the given move on the given state \n",
    "            \n",
    "            if stateMoveTuple(state, move) not in Q: # Check if the state,move pair exists in the Q dictionary or not\n",
    "                '''with reinforcement of -10 for each move and 1 for the winning move, the trainQ always finds the optimal path'''\n",
    "                #Q[stateMoveTuple(state, move)] = -10\n",
    "                Q[stateMoveTuple(state, move)] = -1 # if not, then add it to the dictionary and assign a reinforcement of -1 \n",
    "                                                   # Here instead of -1 if we assign -10, then trainQ always find an optimal path\n",
    "                                                   # but in this case it finds optimal path only 99% of times\n",
    "            if newstate == [[],[],[1,2,3]]:        # Check for goalState\n",
    "                #Q[stateMoveTuple(state, move)] = 1\n",
    "                Q[stateMoveTuple(state, move)] = 0 # if true, then assign the state,move pair which \n",
    "                                                   # led to that state a reinforcement of 0\n",
    "                done = True                        # break the while loop\n",
    "                stepsToGoal[nGames] = step         # this is the final count of steps\n",
    "            \n",
    "            # all steps after the 1st, update the Q values to guide it towards goalState   \n",
    "            if step > 1:                           # Added 1 right below and used argmin in epsilongreedy and greedy\n",
    "                Q[stateMoveTuple(stateOld, moveOld)] += rho * (1+Q[stateMoveTuple(state, move)] - Q[stateMoveTuple(stateOld, moveOld)])\n",
    "            \n",
    "            stateOld, moveOld = copy.deepcopy(state) , copy.copy(move) # make a copy of current state,move and store it separately\n",
    "            state = newstate                       # update the current state to the new state\n",
    "        \n",
    "    return Q, stepsToGoal                          # returns Q as a dictionary and list of step counts"
   ]
  },
  {
   "cell_type": "code",
   "execution_count": 9,
   "metadata": {
    "collapsed": true
   },
   "outputs": [],
   "source": [
    "def testQ(Q, maxSteps, validMovesF, makeMoveF):   # maxSteps - Maximum number of steps allowed to find the goal\n",
    "    steps = 0                                     # step counter\n",
    "    state = [[1,2,3],[],[]]                       # initial position\n",
    "    path = [state]                                # list of all states from starting to goalState (the initial state is not counted as a step)\n",
    "    while steps < maxSteps:\n",
    "        steps += 1                                # increment counter\n",
    "        move = greedyMove(Q, state, validMovesF)  # greedyMove returns the best move for any given state according to the Q values\n",
    "        newstate = makeMoveF(state , move)        # makeMoveF returns a new state\n",
    "        path.append(newstate)                     # append that state to the path list\n",
    "        if newstate[2] == [1,2,3]:                # check for goal state\n",
    "            return path                           # return a list of path as soon as the goal is found \n",
    "        state = newstate                          # otherwise update state to newState\n",
    "    return 'Could not find a path in {} steps'.format(maxSteps) # return this if maxSteps is not sufficient to find a path"
   ]
  },
  {
   "cell_type": "code",
   "execution_count": 10,
   "metadata": {},
   "outputs": [
    {
     "name": "stdout",
     "output_type": "stream",
     "text": [
      "1    \n",
      "3    \n",
      "2    \n",
      "-----\n"
     ]
    }
   ],
   "source": [
    "state = [[1, 2, 3], [], []]\n",
    "printState(state)"
   ]
  },
  {
   "cell_type": "code",
   "execution_count": 11,
   "metadata": {},
   "outputs": [
    {
     "data": {
      "text/plain": [
       "(((1, 2, 3), (), ()), (1, 2))"
      ]
     },
     "execution_count": 11,
     "metadata": {},
     "output_type": "execute_result"
    }
   ],
   "source": [
    "move =[1, 2]\n",
    "\n",
    "stateMoveTuple(state, move)"
   ]
  },
  {
   "cell_type": "code",
   "execution_count": 12,
   "metadata": {},
   "outputs": [
    {
     "data": {
      "text/plain": [
       "[[2, 3], [1], []]"
      ]
     },
     "execution_count": 12,
     "metadata": {},
     "output_type": "execute_result"
    }
   ],
   "source": [
    "newstate = makeMove(state, move)\n",
    "newstate"
   ]
  },
  {
   "cell_type": "code",
   "execution_count": 13,
   "metadata": {},
   "outputs": [
    {
     "name": "stdout",
     "output_type": "stream",
     "text": [
      "     \n",
      "2    \n",
      "3 1  \n",
      "-----\n"
     ]
    }
   ],
   "source": [
    "printState(newstate)"
   ]
  },
  {
   "cell_type": "code",
   "execution_count": 14,
   "metadata": {
    "collapsed": true
   },
   "outputs": [],
   "source": [
    "Q, stepsToGoal = trainQ(50, 0.5, 0.7, validMoves, makeMove)"
   ]
  },
  {
   "cell_type": "code",
   "execution_count": 15,
   "metadata": {},
   "outputs": [
    {
     "data": {
      "text/plain": [
       "76"
      ]
     },
     "execution_count": 15,
     "metadata": {},
     "output_type": "execute_result"
    }
   ],
   "source": [
    "len(Q)"
   ]
  },
  {
   "cell_type": "code",
   "execution_count": 16,
   "metadata": {},
   "outputs": [
    {
     "data": {
      "text/plain": [
       "{(((), (1,), (2, 3)), (2, 1)): 0.625,\n",
       " (((), (1,), (2, 3)), (2, 3)): 0,\n",
       " (((), (1,), (2, 3)), (3, 1)): 0.0,\n",
       " (((), (1, 2), (3,)), (2, 1)): 1.9999999999301012,\n",
       " (((), (1, 2), (3,)), (2, 3)): 2.1629048585891724,\n",
       " (((), (1, 2), (3,)), (3, 1)): 3.3366904258728027,\n",
       " (((), (1, 2, 3), ()), (2, 1)): 4.018117070198059,\n",
       " (((), (1, 2, 3), ()), (2, 3)): 3.89581298828125,\n",
       " (((), (1, 3), (2,)), (2, 1)): 3.683319091796875,\n",
       " (((), (1, 3), (2,)), (2, 3)): 3.754547119140625,\n",
       " (((), (1, 3), (2,)), (3, 1)): 3.481109619140625,\n",
       " (((), (2,), (1, 3)), (2, 1)): 2.05419921875,\n",
       " (((), (2,), (1, 3)), (3, 1)): 1.7320656776428223,\n",
       " (((), (2,), (1, 3)), (3, 2)): 1.6951770782470703,\n",
       " (((), (2, 3), (1,)), (2, 1)): 3.7381176948547363,\n",
       " (((), (2, 3), (1,)), (3, 1)): 3.82904052734375,\n",
       " (((), (2, 3), (1,)), (3, 2)): 3.9537353515625,\n",
       " (((), (3,), (1, 2)), (2, 1)): 4.137738943099976,\n",
       " (((), (3,), (1, 2)), (3, 1)): 4.0068817138671875,\n",
       " (((), (3,), (1, 2)), (3, 2)): 3.9919281005859375,\n",
       " (((1,), (), (2, 3)), (1, 2)): 0.25,\n",
       " (((1,), (), (2, 3)), (1, 3)): 0,\n",
       " (((1,), (), (2, 3)), (3, 2)): 0.3446044921875,\n",
       " (((1,), (2,), (3,)), (1, 2)): 1.6952095031738281,\n",
       " (((1,), (2,), (3,)), (1, 3)): 1.5322265625,\n",
       " (((1,), (2,), (3,)), (2, 3)): 0.9999999999984084,\n",
       " (((1,), (2, 3), ()), (1, 2)): 3.892547607421875,\n",
       " (((1,), (2, 3), ()), (1, 3)): 3.995035409927368,\n",
       " (((1,), (2, 3), ()), (2, 3)): 3.816497802734375,\n",
       " (((1,), (3,), (2,)), (1, 2)): 3.560882568359375,\n",
       " (((1,), (3,), (2,)), (1, 3)): 3.9993438720703125,\n",
       " (((1,), (3,), (2,)), (3, 2)): 3.848602294921875,\n",
       " (((1, 2), (), (3,)), (1, 2)): 1.94189453125,\n",
       " (((1, 2), (), (3,)), (1, 3)): 2.1302051544189453,\n",
       " (((1, 2), (), (3,)), (3, 2)): 2.3914380073547363,\n",
       " (((1, 2), (3,), ()), (1, 2)): 2.93463134765625,\n",
       " (((1, 2), (3,), ()), (1, 3)): 2.9429931640625,\n",
       " (((1, 2), (3,), ()), (2, 3)): 2.7689191102981567,\n",
       " (((1, 2, 3), (), ()), (1, 2)): 6.068804752547294,\n",
       " (((1, 2, 3), (), ()), (1, 3)): 5.999998432177673,\n",
       " (((1, 3), (), (2,)), (1, 2)): 4.715237233787775,\n",
       " (((1, 3), (), (2,)), (1, 3)): 4.568469863384962,\n",
       " (((1, 3), (), (2,)), (3, 2)): 4.293547630310059,\n",
       " (((1, 3), (2,), ()), (1, 2)): 3.7722353583794757,\n",
       " (((1, 3), (2,), ()), (1, 3)): 4.1708433628082275,\n",
       " (((1, 3), (2,), ()), (2, 3)): 4.131390571594238,\n",
       " (((2,), (), (1, 3)), (1, 2)): 1.7220821380615234,\n",
       " (((2,), (), (1, 3)), (3, 1)): 2.0791015625,\n",
       " (((2,), (), (1, 3)), (3, 2)): 1.85009765625,\n",
       " (((2,), (1,), (3,)), (1, 3)): 1.0,\n",
       " (((2,), (1,), (3,)), (2, 1)): 1.5390625,\n",
       " (((2,), (1,), (3,)), (2, 3)): 1.638671875,\n",
       " (((2,), (1, 3), ()), (1, 3)): 3.337982177734375,\n",
       " (((2,), (1, 3), ()), (2, 1)): 3.14111328125,\n",
       " (((2,), (1, 3), ()), (2, 3)): 3.00482177734375,\n",
       " (((2,), (3,), (1,)), (1, 2)): 3.62921142578125,\n",
       " (((2,), (3,), (1,)), (3, 1)): 3.336179256439209,\n",
       " (((2,), (3,), (1,)), (3, 2)): 3.096923828125,\n",
       " (((2, 3), (), (1,)), (1, 2)): 4.999999796145,\n",
       " (((2, 3), (), (1,)), (3, 1)): 5.759288468863815,\n",
       " (((2, 3), (), (1,)), (3, 2)): 5.0958370780572295,\n",
       " (((2, 3), (1,), ()), (1, 3)): 5.360222588758916,\n",
       " (((2, 3), (1,), ()), (2, 1)): 6.08181082457304,\n",
       " (((2, 3), (1,), ()), (2, 3)): 5.338881456642412,\n",
       " (((3,), (), (1, 2)), (1, 2)): 4.460906624794006,\n",
       " (((3,), (), (1, 2)), (3, 1)): 4.588438257575035,\n",
       " (((3,), (), (1, 2)), (3, 2)): 4.198895156383514,\n",
       " (((3,), (1,), (2,)), (2, 1)): 4.924824506044388,\n",
       " (((3,), (1,), (2,)), (2, 3)): 4.718823403120041,\n",
       " (((3,), (1,), (2,)), (3, 1)): 4.873742891475558,\n",
       " (((3,), (1, 2), ()), (1, 3)): 2.9999999985535024,\n",
       " (((3,), (1, 2), ()), (2, 1)): 3.344371795654297,\n",
       " (((3,), (1, 2), ()), (2, 3)): 3.3113889694213867,\n",
       " (((3,), (2,), (1,)), (2, 1)): 4.869793324440252,\n",
       " (((3,), (2,), (1,)), (3, 1)): 4.265283942222595,\n",
       " (((3,), (2,), (1,)), (3, 2)): 3.999999979912575}"
      ]
     },
     "execution_count": 16,
     "metadata": {},
     "output_type": "execute_result"
    }
   ],
   "source": [
    "Q"
   ]
  },
  {
   "cell_type": "code",
   "execution_count": 17,
   "metadata": {
    "scrolled": true
   },
   "outputs": [
    {
     "data": {
      "text/plain": [
       "[188,\n",
       " 31,\n",
       " 47,\n",
       " 18,\n",
       " 138,\n",
       " 17,\n",
       " 47,\n",
       " 30,\n",
       " 56,\n",
       " 16,\n",
       " 38,\n",
       " 14,\n",
       " 7,\n",
       " 7,\n",
       " 11,\n",
       " 8,\n",
       " 7,\n",
       " 7,\n",
       " 37,\n",
       " 7,\n",
       " 7,\n",
       " 8,\n",
       " 7,\n",
       " 14,\n",
       " 7,\n",
       " 7,\n",
       " 7,\n",
       " 10,\n",
       " 7,\n",
       " 7,\n",
       " 7,\n",
       " 7,\n",
       " 7,\n",
       " 7,\n",
       " 7,\n",
       " 7,\n",
       " 7,\n",
       " 7,\n",
       " 7,\n",
       " 7,\n",
       " 7,\n",
       " 7,\n",
       " 7,\n",
       " 7,\n",
       " 7,\n",
       " 7,\n",
       " 7,\n",
       " 7,\n",
       " 7,\n",
       " 7]"
      ]
     },
     "execution_count": 17,
     "metadata": {},
     "output_type": "execute_result"
    }
   ],
   "source": [
    "stepsToGoal"
   ]
  },
  {
   "cell_type": "code",
   "execution_count": 18,
   "metadata": {},
   "outputs": [
    {
     "name": "stdout",
     "output_type": "stream",
     "text": [
      "[ 6.06880475  5.99999843]\n",
      "[ 4.9999998   5.09583708  5.75928847]\n",
      "[ 4.86979332  3.99999998  4.26528394]\n",
      "[ 3.          3.3443718   3.31138897]\n",
      "[ 2.          2.16290486  3.33669043]\n",
      "[ 1.6952095   1.53222656  1.        ]\n",
      "[ 0.25        0.          0.34460449]\n"
     ]
    }
   ],
   "source": [
    "path = testQ(Q, 20, validMoves, makeMove)"
   ]
  },
  {
   "cell_type": "code",
   "execution_count": 19,
   "metadata": {},
   "outputs": [
    {
     "data": {
      "text/plain": [
       "[[[1, 2, 3], [], []],\n",
       " [[2, 3], [], [1]],\n",
       " [[3], [2], [1]],\n",
       " [[3], [1, 2], []],\n",
       " [[], [1, 2], [3]],\n",
       " [[1], [2], [3]],\n",
       " [[1], [], [2, 3]],\n",
       " [[], [], [1, 2, 3]]]"
      ]
     },
     "execution_count": 19,
     "metadata": {},
     "output_type": "execute_result"
    }
   ],
   "source": [
    "path"
   ]
  },
  {
   "cell_type": "code",
   "execution_count": 20,
   "metadata": {},
   "outputs": [
    {
     "data": {
      "text/plain": [
       "8"
      ]
     },
     "execution_count": 20,
     "metadata": {},
     "output_type": "execute_result"
    }
   ],
   "source": [
    "len(path)"
   ]
  },
  {
   "cell_type": "code",
   "execution_count": 21,
   "metadata": {},
   "outputs": [
    {
     "name": "stdout",
     "output_type": "stream",
     "text": [
      "1    \n",
      "3    \n",
      "2    \n",
      "-----\n",
      "\n",
      "     \n",
      "2    \n",
      "3   1\n",
      "-----\n",
      "\n",
      "     \n",
      "     \n",
      "3 2 1\n",
      "-----\n",
      "\n",
      "     \n",
      "  1  \n",
      "3 2  \n",
      "-----\n",
      "\n",
      "     \n",
      "  1  \n",
      "  2 3\n",
      "-----\n",
      "\n",
      "     \n",
      "     \n",
      "1 2 3\n",
      "-----\n",
      "\n",
      "     \n",
      "    2\n",
      "1   3\n",
      "-----\n",
      "\n",
      "    1\n",
      "    3\n",
      "    2\n",
      "-----\n",
      "\n"
     ]
    }
   ],
   "source": [
    "for s in path:\n",
    "    printState(s)\n",
    "    print()"
   ]
  },
  {
   "cell_type": "code",
   "execution_count": 22,
   "metadata": {},
   "outputs": [
    {
     "data": {
      "text/plain": [
       "[<matplotlib.lines.Line2D at 0x21714cc8898>]"
      ]
     },
     "execution_count": 22,
     "metadata": {},
     "output_type": "execute_result"
    },
    {
     "data": {
      "image/png": "[encoded data removed]",
      "text/plain": [
       "<matplotlib.figure.Figure at 0x2171197a7f0>"
      ]
     },
     "metadata": {},
     "output_type": "display_data"
    }
   ],
   "source": [
    "plt.plot(stepsToGoal)"
   ]
  },
  {
   "cell_type": "markdown",
   "metadata": {},
   "source": [
    "# Examples"
   ]
  },
  {
   "cell_type": "code",
   "execution_count": 2,
   "metadata": {},
   "outputs": [
    {
     "name": "stdout",
     "output_type": "stream",
     "text": [
      "1     \n",
      "2     \n",
      "3     \n",
      "------\n",
      "\n"
     ]
    }
   ],
   "source": [
    "state = [[1, 2, 3], [], []]\n",
    "printState(state)"
   ]
  },
  {
   "cell_type": "code",
   "execution_count": 3,
   "metadata": {},
   "outputs": [
    {
     "data": {
      "text/plain": [
       "(((1, 2, 3), (), ()), (1, 2))"
      ]
     },
     "execution_count": 3,
     "metadata": {},
     "output_type": "execute_result"
    }
   ],
   "source": [
    "move =[1, 2]\n",
    "\n",
    "stateMoveTuple(state, move)"
   ]
  },
  {
   "cell_type": "code",
   "execution_count": 4,
   "metadata": {},
   "outputs": [
    {
     "data": {
      "text/plain": [
       "[[2, 3], [1], []]"
      ]
     },
     "execution_count": 4,
     "metadata": {},
     "output_type": "execute_result"
    }
   ],
   "source": [
    "newstate = makeMove(state, move)\n",
    "newstate"
   ]
  },
  {
   "cell_type": "code",
   "execution_count": 5,
   "metadata": {},
   "outputs": [
    {
     "name": "stdout",
     "output_type": "stream",
     "text": [
      "2     \n",
      "3 1   \n",
      "------\n",
      "\n"
     ]
    }
   ],
   "source": [
    "printState(newstate)"
   ]
  },
  {
   "cell_type": "code",
   "execution_count": 6,
   "metadata": {
    "collapsed": true
   },
   "outputs": [],
   "source": [
    "Q, stepsToGoal = trainQ(50, 0.5, 0.7, validMoves, makeMove)"
   ]
  },
  {
   "cell_type": "code",
   "execution_count": 7,
   "metadata": {},
   "outputs": [
    {
     "data": {
      "text/plain": [
       "array([ 178.,   23.,   77.,   60.,   14.,    7.,   36.,   28.,    9.,\n",
       "          7.,   10.,   17.,   44.,    8.,   16.,    7.,   22.,    7.,\n",
       "         11.,    7.,   10.,    7.,    7.,    7.,    7.,    7.,    7.,\n",
       "          7.,    7.,    7.,    7.,    7.,    7.,    7.,    7.,    7.,\n",
       "          7.,    7.,    7.,    7.,    7.,    7.,    7.,    7.,    7.,\n",
       "          7.,    7.,    7.,    7.,    7.])"
      ]
     },
     "execution_count": 7,
     "metadata": {},
     "output_type": "execute_result"
    }
   ],
   "source": [
    "stepsToGoal"
   ]
  },
  {
   "cell_type": "code",
   "execution_count": 8,
   "metadata": {
    "collapsed": true
   },
   "outputs": [],
   "source": [
    "path = testQ(Q, 20, validMoves, makeMove)"
   ]
  },
  {
   "cell_type": "code",
   "execution_count": 9,
   "metadata": {},
   "outputs": [
    {
     "data": {
      "text/plain": [
       "[[[1, 2, 3], [], []],\n",
       " [[2, 3], [], [1]],\n",
       " [[3], [2], [1]],\n",
       " [[3], [1, 2], []],\n",
       " [[], [1, 2], [3]],\n",
       " [[1], [2], [3]],\n",
       " [[1], [], [2, 3]],\n",
       " [[], [], [1, 2, 3]]]"
      ]
     },
     "execution_count": 9,
     "metadata": {},
     "output_type": "execute_result"
    }
   ],
   "source": [
    "path"
   ]
  },
  {
   "cell_type": "code",
   "execution_count": 10,
   "metadata": {},
   "outputs": [
    {
     "name": "stdout",
     "output_type": "stream",
     "text": [
      "1     \n",
      "2     \n",
      "3     \n",
      "------\n",
      "\n",
      "\n",
      "2     \n",
      "3   1 \n",
      "------\n",
      "\n",
      "\n",
      "3 2 1 \n",
      "------\n",
      "\n",
      "\n",
      "  1   \n",
      "3 2   \n",
      "------\n",
      "\n",
      "\n",
      "  1   \n",
      "  2 3 \n",
      "------\n",
      "\n",
      "\n",
      "1 2 3 \n",
      "------\n",
      "\n",
      "\n",
      "    2 \n",
      "1   3 \n",
      "------\n",
      "\n",
      "\n",
      "    1 \n",
      "    2 \n",
      "    3 \n",
      "------\n",
      "\n",
      "\n"
     ]
    }
   ],
   "source": [
    "for s in path:\n",
    "    printState(s)\n",
    "    print()"
   ]
  },
  {
   "cell_type": "markdown",
   "metadata": {},
   "source": [
    "## Extra Credit"
   ]
  },
  {
   "cell_type": "markdown",
   "metadata": {},
   "source": [
    "Modify your code to solve the Towers of Hanoi puzzle with 4 disks instead of 3.  Name your functions\n",
    "\n",
    "    - printState_4disk\n",
    "    - validMoves_4disk\n",
    "    - makeMove_4disk\n",
    "\n",
    "Find values for number of repetitions, learning rate, and epsilon decay factor for which trainQ learns a Q function that testQ can use to find the shortest solution path.  Include the output from the successful calls to trainQ and testQ."
   ]
  },
  {
   "cell_type": "markdown",
   "metadata": {},
   "source": [
    "## Attention:"
   ]
  },
  {
   "cell_type": "markdown",
   "metadata": {
    "collapsed": true
   },
   "source": [
    "### printState_4disk, validMoves_4disk, makeMove_4disk are not required as printState(), ValidMoves() and makeMove() works for any number of disks. So, I have just defined trainQ_4disk() and testQ_4disk() in order to implement tower of honoi with 4 disks.    \n",
    "\n",
    "The code and the working of the functions trainQ_4disk() and testQ_4disk() are same as trainQ() and testQ() with the following\n",
    "changes:\n",
    "    - Initial state is [[1,2,3,4],[],[]] instead of [[1,2,3],[],[]]\n",
    "    - Goal state is [[],[],[1,2,3,4]] instead of [[],[],[1,2,3]]"
   ]
  },
  {
   "cell_type": "code",
   "execution_count": 23,
   "metadata": {},
   "outputs": [
    {
     "name": "stdout",
     "output_type": "stream",
     "text": [
      "     \n",
      "     \n",
      "    3\n",
      "1 2 4\n",
      "-----\n"
     ]
    }
   ],
   "source": [
    "printState([[1],[2],[3,4]])"
   ]
  },
  {
   "cell_type": "code",
   "execution_count": 24,
   "metadata": {},
   "outputs": [
    {
     "data": {
      "text/plain": [
       "[[2, 1], [3, 2], [3, 1]]"
      ]
     },
     "execution_count": 24,
     "metadata": {},
     "output_type": "execute_result"
    }
   ],
   "source": [
    "validMoves([[],[3],[1,2,4]])"
   ]
  },
  {
   "cell_type": "code",
   "execution_count": 25,
   "metadata": {},
   "outputs": [
    {
     "data": {
      "text/plain": [
       "[[1], [3], [2, 4]]"
      ]
     },
     "execution_count": 25,
     "metadata": {},
     "output_type": "execute_result"
    }
   ],
   "source": [
    "makeMove([[],[3],[1,2,4]],[3,1])"
   ]
  },
  {
   "cell_type": "code",
   "execution_count": 26,
   "metadata": {},
   "outputs": [
    {
     "data": {
      "text/plain": [
       "(((), (3,), (1, 2, 4)), (3, 1))"
      ]
     },
     "execution_count": 26,
     "metadata": {},
     "output_type": "execute_result"
    }
   ],
   "source": [
    "stateMoveTuple([[],[3],[1,2,4]],[3,1])"
   ]
  },
  {
   "cell_type": "code",
   "execution_count": 27,
   "metadata": {
    "collapsed": true
   },
   "outputs": [],
   "source": [
    "import copy\n",
    "def trainQ_4disk(nRepetitions, learningRate, epsilonDecayFactor, validMovesF, makeMoveF):\n",
    "    Q = {}\n",
    "    stepsToGoal = [0]*nRepetitions\n",
    "    rho = learningRate \n",
    "    epsilon = 1.0  \n",
    "    outcomes = np.zeros(nRepetitions)\n",
    "    epsilons = np.zeros(nRepetitions)\n",
    "    for nGames in range(nRepetitions):\n",
    "        if nGames > 0:\n",
    "            epsilon *= epsilonDecayFactor\n",
    "        epsilons[nGames] = epsilon\n",
    "        step = 0\n",
    "        state = [[1,2,3,4],[],[]]\n",
    "        done = False\n",
    "        \n",
    "        while not done:\n",
    "            step += 1\n",
    "            move = epsilonGreedy(epsilon, Q, state, validMovesF)\n",
    "            newstate = makeMoveF(state, move)\n",
    "            if stateMoveTuple(state, move) not in Q:\n",
    "                Q[stateMoveTuple(state, move)] = -1\n",
    "            if newstate == [[],[],[1,2,3,4]]:\n",
    "                Q[stateMoveTuple(state, move)] = 0\n",
    "                done = True\n",
    "                outcomes[nGames] = 1\n",
    "                stepsToGoal[nGames] = step\n",
    "            if step > 1:                                    # Added 1 right below and used argmin in epsilongreedy and greedy\n",
    "                Q[stateMoveTuple(stateOld, moveOld)] += rho * (1+Q[stateMoveTuple(state, move)] - Q[stateMoveTuple(stateOld, moveOld)])\n",
    "            \n",
    "            stateOld, moveOld = copy.deepcopy(state) , copy.copy(move)\n",
    "            state = newstate\n",
    "\n",
    "    return Q, stepsToGoal"
   ]
  },
  {
   "cell_type": "code",
   "execution_count": 28,
   "metadata": {
    "collapsed": true
   },
   "outputs": [],
   "source": [
    "def testQ_4disk(Q, maxSteps, validMovesF, makeMoveF):\n",
    "    steps = 0\n",
    "    state = [[1,2,3,4],[],[]]\n",
    "    path = [state]\n",
    "    while steps < maxSteps:\n",
    "        steps += 1\n",
    "        move = greedyMove(Q, state, validMovesF)\n",
    "        newstate = makeMoveF(state , move)\n",
    "        path.append(newstate)\n",
    "        if newstate[2] == [1,2,3,4]:\n",
    "            return path\n",
    "        state = newstate\n",
    "    return 'Could not find a path in {} steps'.format(maxSteps)"
   ]
  },
  {
   "cell_type": "code",
   "execution_count": 29,
   "metadata": {
    "collapsed": true
   },
   "outputs": [],
   "source": [
    "Q, stepsToGoal = trainQ_4disk(100, 0.5, 0.7, validMoves, makeMove)"
   ]
  },
  {
   "cell_type": "code",
   "execution_count": 30,
   "metadata": {},
   "outputs": [
    {
     "name": "stdout",
     "output_type": "stream",
     "text": [
      "[ 13.99999999  14.04711511]\n",
      "[ 13.          13.88080518  13.21434608]\n",
      "[ 12.20931422  12.          12.29041851]\n",
      "[ 11.          11.32664766  11.49880182]\n",
      "[ 10.075841    10.05432581  10.        ]\n",
      "[ 9.2029394   9.54815113  9.        ]\n",
      "[ 8.          8.07929152  8.17214987]\n",
      "[ 7.          7.77838207  7.16473822]\n",
      "[ 6.19513246  6.          6.24183309]\n",
      "[ 5.          5.15658665  5.44032097]\n",
      "[ 4.53909206  4.15725708  4.        ]\n",
      "[ 3.54075623  3.17803955  3.        ]\n",
      "[ 2.          2.20898438  2.4074707 ]\n",
      "[ 1.          1.95385742  1.62890625]\n",
      "[ 0.25     0.       0.09375]\n"
     ]
    }
   ],
   "source": [
    "path = testQ_4disk(Q, 50, validMoves, makeMove)"
   ]
  },
  {
   "cell_type": "code",
   "execution_count": 31,
   "metadata": {},
   "outputs": [
    {
     "data": {
      "text/plain": [
       "[[[1, 2, 3, 4], [], []],\n",
       " [[2, 3, 4], [1], []],\n",
       " [[3, 4], [1], [2]],\n",
       " [[3, 4], [], [1, 2]],\n",
       " [[4], [3], [1, 2]],\n",
       " [[1, 4], [3], [2]],\n",
       " [[1, 4], [2, 3], []],\n",
       " [[4], [1, 2, 3], []],\n",
       " [[], [1, 2, 3], [4]],\n",
       " [[], [2, 3], [1, 4]],\n",
       " [[2], [3], [1, 4]],\n",
       " [[1, 2], [3], [4]],\n",
       " [[1, 2], [], [3, 4]],\n",
       " [[2], [1], [3, 4]],\n",
       " [[], [1], [2, 3, 4]],\n",
       " [[], [], [1, 2, 3, 4]]]"
      ]
     },
     "execution_count": 31,
     "metadata": {},
     "output_type": "execute_result"
    }
   ],
   "source": [
    "path"
   ]
  },
  {
   "cell_type": "code",
   "execution_count": 32,
   "metadata": {},
   "outputs": [
    {
     "name": "stdout",
     "output_type": "stream",
     "text": [
      "1    \n",
      "4    \n",
      "3    \n",
      "2    \n",
      "-----\n",
      "\n",
      "     \n",
      "2    \n",
      "4    \n",
      "3 1  \n",
      "-----\n",
      "\n",
      "     \n",
      "     \n",
      "3    \n",
      "4 1 2\n",
      "-----\n",
      "\n",
      "     \n",
      "     \n",
      "3   1\n",
      "4   2\n",
      "-----\n",
      "\n",
      "     \n",
      "     \n",
      "    1\n",
      "4 3 2\n",
      "-----\n",
      "\n",
      "     \n",
      "     \n",
      "1    \n",
      "4 3 2\n",
      "-----\n",
      "\n",
      "     \n",
      "     \n",
      "1 2  \n",
      "4 3  \n",
      "-----\n",
      "\n",
      "     \n",
      "  1  \n",
      "  3  \n",
      "4 2  \n",
      "-----\n",
      "\n",
      "     \n",
      "  1  \n",
      "  3  \n",
      "  2 4\n",
      "-----\n",
      "\n",
      "     \n",
      "     \n",
      "  2 1\n",
      "  3 4\n",
      "-----\n",
      "\n",
      "     \n",
      "     \n",
      "    1\n",
      "2 3 4\n",
      "-----\n",
      "\n",
      "     \n",
      "     \n",
      "1    \n",
      "2 3 4\n",
      "-----\n",
      "\n",
      "     \n",
      "     \n",
      "1   3\n",
      "2   4\n",
      "-----\n",
      "\n",
      "     \n",
      "     \n",
      "    3\n",
      "2 1 4\n",
      "-----\n",
      "\n",
      "     \n",
      "    2\n",
      "    4\n",
      "  1 3\n",
      "-----\n",
      "\n",
      "    1\n",
      "    4\n",
      "    3\n",
      "    2\n",
      "-----\n",
      "\n"
     ]
    }
   ],
   "source": [
    "for s in path:\n",
    "    printState(s)\n",
    "    print()"
   ]
  },
  {
   "cell_type": "code",
   "execution_count": 33,
   "metadata": {},
   "outputs": [
    {
     "data": {
      "text/plain": [
       "16"
      ]
     },
     "execution_count": 33,
     "metadata": {},
     "output_type": "execute_result"
    }
   ],
   "source": [
    "len(path)"
   ]
  },
  {
   "cell_type": "code",
   "execution_count": 34,
   "metadata": {},
   "outputs": [
    {
     "data": {
      "text/plain": [
       "{(((), (1,), (2, 3, 4)), (2, 1)): 0.25,\n",
       " (((), (1,), (2, 3, 4)), (2, 3)): 0,\n",
       " (((), (1,), (2, 3, 4)), (3, 1)): 0.09375,\n",
       " (((), (1, 2), (3, 4)), (2, 1)): 1.999931812286377,\n",
       " (((), (1, 2), (3, 4)), (2, 3)): 2.208984375,\n",
       " (((), (1, 2), (3, 4)), (3, 1)): 2.43670654296875,\n",
       " (((), (1, 2, 3), (4,)), (2, 1)): 6.195132464170456,\n",
       " (((), (1, 2, 3), (4,)), (2, 3)): 6.0,\n",
       " (((), (1, 2, 3), (4,)), (3, 1)): 6.241833087056875,\n",
       " (((), (1, 2, 3, 4), ()), (2, 1)): 8.288085420615971,\n",
       " (((), (1, 2, 3, 4), ()), (2, 3)): 8.479463149560615,\n",
       " (((), (1, 2, 4), (3,)), (2, 1)): 8.905134782580717,\n",
       " (((), (1, 2, 4), (3,)), (2, 3)): 8.853903296425415,\n",
       " (((), (1, 2, 4), (3,)), (3, 1)): 8.694639205990825,\n",
       " (((), (1, 3), (2, 4)), (2, 1)): 4.784328460693359,\n",
       " (((), (1, 3), (2, 4)), (2, 3)): 5.009601593017578,\n",
       " (((), (1, 3), (2, 4)), (3, 1)): 4.706969439983368,\n",
       " (((), (1, 3, 4), (2,)), (2, 1)): 8.139749833848327,\n",
       " (((), (1, 3, 4), (2,)), (2, 3)): 8.082094090525061,\n",
       " (((), (1, 3, 4), (2,)), (3, 1)): 8.365418584784493,\n",
       " (((), (1, 4), (2, 3)), (2, 1)): 9.110991314031708,\n",
       " (((), (1, 4), (2, 3)), (2, 3)): 9.574878268557768,\n",
       " (((), (1, 4), (2, 3)), (3, 1)): 8.88302450984338,\n",
       " (((), (2,), (1, 3, 4)), (2, 1)): 1.96875,\n",
       " (((), (2,), (1, 3, 4)), (3, 1)): 1.75927734375,\n",
       " (((), (2,), (1, 3, 4)), (3, 2)): 1.765625,\n",
       " (((), (2, 3), (1, 4)), (2, 1)): 5.0,\n",
       " (((), (2, 3), (1, 4)), (3, 1)): 5.44032096862793,\n",
       " (((), (2, 3), (1, 4)), (3, 2)): 5.156586647033691,\n",
       " (((), (2, 3, 4), (1,)), (2, 1)): 8.165435490198433,\n",
       " (((), (2, 3, 4), (1,)), (3, 1)): 8.50286664487794,\n",
       " (((), (2, 3, 4), (1,)), (3, 2)): 8.44692232273519,\n",
       " (((), (2, 4), (1, 3)), (2, 1)): 8.559711434078054,\n",
       " (((), (2, 4), (1, 3)), (3, 1)): 9.035000716085051,\n",
       " (((), (2, 4), (1, 3)), (3, 2)): 8.860126275139919,\n",
       " (((), (3,), (1, 2, 4)), (2, 1)): 5.020530700683594,\n",
       " (((), (3,), (1, 2, 4)), (3, 1)): 5.401002883911133,\n",
       " (((), (3,), (1, 2, 4)), (3, 2)): 5.205622673034668,\n",
       " (((), (3, 4), (1, 2)), (2, 1)): 8.275625142967328,\n",
       " (((), (3, 4), (1, 2)), (3, 1)): 8.319847770733759,\n",
       " (((), (3, 4), (1, 2)), (3, 2)): 8.048003004398197,\n",
       " (((), (4,), (1, 2, 3)), (2, 1)): 9.584603295842498,\n",
       " (((), (4,), (1, 2, 3)), (3, 1)): 9.716936266783705,\n",
       " (((), (4,), (1, 2, 3)), (3, 2)): 9.4802433068362,\n",
       " (((1,), (), (2, 3, 4)), (1, 2)): 0.25,\n",
       " (((1,), (), (2, 3, 4)), (1, 3)): 0,\n",
       " (((1,), (), (2, 3, 4)), (3, 2)): 0.5625,\n",
       " (((1,), (2,), (3, 4)), (1, 2)): 1.0078125,\n",
       " (((1,), (2,), (3, 4)), (1, 3)): 1.48828125,\n",
       " (((1,), (2,), (3, 4)), (2, 3)): 0.9999978542327881,\n",
       " (((1,), (2, 3), (4,)), (1, 2)): 5.523284047842026,\n",
       " (((1,), (2, 3), (4,)), (1, 3)): 5.700296917464584,\n",
       " (((1,), (2, 3), (4,)), (2, 3)): 5.5399274826049805,\n",
       " (((1,), (2, 3, 4), ()), (1, 2)): 8.4211644269526,\n",
       " (((1,), (2, 3, 4), ()), (1, 3)): 8.22147968178615,\n",
       " (((1,), (2, 3, 4), ()), (2, 3)): 8.33500096318312,\n",
       " (((1,), (2, 4), (3,)), (1, 2)): 8.950576927763905,\n",
       " (((1,), (2, 4), (3,)), (1, 3)): 9.031674550511525,\n",
       " (((1,), (2, 4), (3,)), (2, 3)): 8.841341493949585,\n",
       " (((1,), (3,), (2, 4)), (1, 2)): 5.104671478271484,\n",
       " (((1,), (3,), (2, 4)), (1, 3)): 5.47203254699707,\n",
       " (((1,), (3,), (2, 4)), (3, 2)): 5.203033924102783,\n",
       " (((1,), (3, 4), (2,)), (1, 2)): 8.146920308470726,\n",
       " (((1,), (3, 4), (2,)), (1, 3)): 8.472061718348414,\n",
       " (((1,), (3, 4), (2,)), (3, 2)): 8.162933214567602,\n",
       " (((1,), (4,), (2, 3)), (1, 2)): 9.077064934193913,\n",
       " (((1,), (4,), (2, 3)), (1, 3)): 9.50288875570186,\n",
       " (((1,), (4,), (2, 3)), (3, 2)): 9.152377368922316,\n",
       " (((1, 2), (), (3, 4)), (1, 2)): 2.0,\n",
       " (((1, 2), (), (3, 4)), (1, 3)): 2.208984375,\n",
       " (((1, 2), (), (3, 4)), (3, 2)): 2.407470703125,\n",
       " (((1, 2), (3,), (4,)), (1, 2)): 3.5407562255859375,\n",
       " (((1, 2), (3,), (4,)), (1, 3)): 3.17803955078125,\n",
       " (((1, 2), (3,), (4,)), (2, 3)): 3.0,\n",
       " (((1, 2), (3, 4), ()), (1, 2)): 8.372185070533305,\n",
       " (((1, 2), (3, 4), ()), (1, 3)): 8.703857526415959,\n",
       " (((1, 2), (3, 4), ()), (2, 3)): 8.374588623642921,\n",
       " (((1, 2), (4,), (3,)), (1, 2)): 8.48647304077167,\n",
       " (((1, 2), (4,), (3,)), (1, 3)): 8.270505545980996,\n",
       " (((1, 2), (4,), (3,)), (3, 2)): 8.375732269138098,\n",
       " (((1, 2, 3), (), (4,)), (1, 2)): 5.96983927488327,\n",
       " (((1, 2, 3), (), (4,)), (1, 3)): 5.764986544847488,\n",
       " (((1, 2, 3), (), (4,)), (3, 2)): 5.817167051136494,\n",
       " (((1, 2, 3), (4,), ()), (1, 2)): 6.952144704759121,\n",
       " (((1, 2, 3), (4,), ()), (1, 3)): 6.620424211025238,\n",
       " (((1, 2, 3), (4,), ()), (2, 3)): 6.613572895643301,\n",
       " (((1, 2, 3, 4), (), ()), (1, 2)): 13.999999989674432,\n",
       " (((1, 2, 3, 4), (), ()), (1, 3)): 14.04711511471194,\n",
       " (((1, 2, 4), (), (3,)), (1, 2)): 10.192101607039149,\n",
       " (((1, 2, 4), (), (3,)), (1, 3)): 10.09183200750249,\n",
       " (((1, 2, 4), (), (3,)), (3, 2)): 10.218674896640607,\n",
       " (((1, 2, 4), (3,), ()), (1, 2)): 9.673195677894,\n",
       " (((1, 2, 4), (3,), ()), (1, 3)): 9.717926387720322,\n",
       " (((1, 2, 4), (3,), ()), (2, 3)): 10.057681184244046,\n",
       " (((1, 3), (), (2, 4)), (1, 2)): 5.2609405517578125,\n",
       " (((1, 3), (), (2, 4)), (1, 3)): 5.001579284667969,\n",
       " (((1, 3), (), (2, 4)), (3, 2)): 4.704579830169678,\n",
       " (((1, 3), (2,), (4,)), (1, 2)): 3.9204866886138916,\n",
       " (((1, 3), (2,), (4,)), (1, 3)): 4.442970223724842,\n",
       " (((1, 3), (2,), (4,)), (2, 3)): 3.9936141967773438,\n",
       " (((1, 3), (2, 4), ()), (1, 2)): 8.33684455906041,\n",
       " (((1, 3), (2, 4), ()), (1, 3)): 8.2437159261317,\n",
       " (((1, 3), (2, 4), ()), (2, 3)): 7.937349616084248,\n",
       " (((1, 3), (4,), (2,)), (1, 2)): 7.875573643948883,\n",
       " (((1, 3), (4,), (2,)), (1, 3)): 7.764690172858536,\n",
       " (((1, 3), (4,), (2,)), (3, 2)): 8.201089001493528,\n",
       " (((1, 3, 4), (), (2,)), (1, 2)): 12.282414456130123,\n",
       " (((1, 3, 4), (), (2,)), (1, 3)): 11.77494182556536,\n",
       " (((1, 3, 4), (), (2,)), (3, 2)): 11.845643123095073,\n",
       " (((1, 3, 4), (2,), ()), (1, 2)): 12.286137715957574,\n",
       " (((1, 3, 4), (2,), ()), (1, 3)): 11.987172196995695,\n",
       " (((1, 3, 4), (2,), ()), (2, 3)): 12.344384332300315,\n",
       " (((1, 4), (), (2, 3)), (1, 2)): 10.438566277557129,\n",
       " (((1, 4), (), (2, 3)), (1, 3)): 10.5473177899554,\n",
       " (((1, 4), (), (2, 3)), (3, 2)): 10.907658019815507,\n",
       " (((1, 4), (2,), (3,)), (1, 2)): 11.190998154528216,\n",
       " (((1, 4), (2,), (3,)), (1, 3)): 10.830364376407772,\n",
       " (((1, 4), (2,), (3,)), (2, 3)): 11.035608459507706,\n",
       " (((1, 4), (2, 3), ()), (1, 2)): 7.999999999999984,\n",
       " (((1, 4), (2, 3), ()), (1, 3)): 8.079291519054095,\n",
       " (((1, 4), (2, 3), ()), (2, 3)): 8.17214986961335,\n",
       " (((1, 4), (3,), (2,)), (1, 2)): 9.20293940018746,\n",
       " (((1, 4), (3,), (2,)), (1, 3)): 9.548151134677255,\n",
       " (((1, 4), (3,), (2,)), (3, 2)): 8.999999999999805,\n",
       " (((2,), (), (1, 3, 4)), (1, 2)): 1.79296875,\n",
       " (((2,), (), (1, 3, 4)), (3, 1)): 2.24951171875,\n",
       " (((2,), (), (1, 3, 4)), (3, 2)): 1.69140625,\n",
       " (((2,), (1,), (3, 4)), (1, 3)): 1.0,\n",
       " (((2,), (1,), (3, 4)), (2, 1)): 1.953857421875,\n",
       " (((2,), (1,), (3, 4)), (2, 3)): 1.62890625,\n",
       " (((2,), (1, 3), (4,)), (1, 3)): 4.193267822265625,\n",
       " (((2,), (1, 3), (4,)), (2, 1)): 3.9408832788467407,\n",
       " (((2,), (1, 3), (4,)), (2, 3)): 4.143363952636719,\n",
       " (((2,), (1, 3, 4), ()), (1, 3)): 8.19352320721373,\n",
       " (((2,), (1, 3, 4), ()), (2, 1)): 8.725390776991844,\n",
       " (((2,), (1, 3, 4), ()), (2, 3)): 8.199086043518037,\n",
       " (((2,), (1, 4), (3,)), (1, 3)): 8.420423199044308,\n",
       " (((2,), (1, 4), (3,)), (2, 1)): 8.58077745931223,\n",
       " (((2,), (1, 4), (3,)), (2, 3)): 8.648165479840827,\n",
       " (((2,), (3,), (1, 4)), (1, 2)): 4.539092063903809,\n",
       " (((2,), (3,), (1, 4)), (3, 1)): 4.0,\n",
       " (((2,), (3,), (1, 4)), (3, 2)): 4.157257080078125,\n",
       " (((2,), (3, 4), (1,)), (1, 2)): 8.371663160156459,\n",
       " (((2,), (3, 4), (1,)), (3, 1)): 8.385761374142021,\n",
       " (((2,), (3, 4), (1,)), (3, 2)): 8.15487726032734,\n",
       " (((2,), (4,), (1, 3)), (1, 2)): 8.594609660780407,\n",
       " (((2,), (4,), (1, 3)), (3, 1)): 8.411471841449384,\n",
       " (((2,), (4,), (1, 3)), (3, 2)): 8.41851498602773,\n",
       " (((2, 3), (), (1, 4)), (1, 2)): 4.926361009478569,\n",
       " (((2, 3), (), (1, 4)), (3, 1)): 5.295268177986145,\n",
       " (((2, 3), (), (1, 4)), (3, 2)): 5.109233856201172,\n",
       " (((2, 3), (1,), (4,)), (1, 3)): 5.464405536651611,\n",
       " (((2, 3), (1,), (4,)), (2, 1)): 5.2666521072387695,\n",
       " (((2, 3), (1,), (4,)), (2, 3)): 5.461153268814087,\n",
       " (((2, 3), (1, 4), ()), (1, 3)): 7.8355141608044505,\n",
       " (((2, 3), (1, 4), ()), (2, 1)): 7.317323406925425,\n",
       " (((2, 3), (1, 4), ()), (2, 3)): 7.261767765972763,\n",
       " (((2, 3), (4,), (1,)), (1, 2)): 7.878579482901841,\n",
       " (((2, 3), (4,), (1,)), (3, 1)): 7.15226760902442,\n",
       " (((2, 3), (4,), (1,)), (3, 2)): 7.6104111360618845,\n",
       " (((2, 3, 4), (), (1,)), (1, 2)): 13.231106680649166,\n",
       " (((2, 3, 4), (), (1,)), (3, 1)): 13.396316869568656,\n",
       " (((2, 3, 4), (), (1,)), (3, 2)): 13.565565753970791,\n",
       " (((2, 3, 4), (1,), ()), (1, 3)): 12.999999998464705,\n",
       " (((2, 3, 4), (1,), ()), (2, 1)): 13.88080518108875,\n",
       " (((2, 3, 4), (1,), ()), (2, 3)): 13.214346076921347,\n",
       " (((2, 4), (), (1, 3)), (1, 2)): 10.593086577850869,\n",
       " (((2, 4), (), (1, 3)), (3, 1)): 10.675569652411568,\n",
       " (((2, 4), (), (1, 3)), (3, 2)): 10.290434872370952,\n",
       " (((2, 4), (1,), (3,)), (1, 3)): 9.927024363732926,\n",
       " (((2, 4), (1,), (3,)), (2, 1)): 10.311069121046273,\n",
       " (((2, 4), (1,), (3,)), (2, 3)): 10.346191606855882,\n",
       " (((2, 4), (1, 3), ()), (1, 3)): 9.834984861376524,\n",
       " (((2, 4), (1, 3), ()), (2, 1)): 9.948691330152975,\n",
       " (((2, 4), (1, 3), ()), (2, 3)): 9.301168264367327,\n",
       " (((2, 4), (3,), (1,)), (1, 2)): 8.901804317589818,\n",
       " (((2, 4), (3,), (1,)), (3, 1)): 8.915925095963757,\n",
       " (((2, 4), (3,), (1,)), (3, 2)): 9.560733778693248,\n",
       " (((3,), (), (1, 2, 4)), (1, 2)): 5.108039855957031,\n",
       " (((3,), (), (1, 2, 4)), (3, 1)): 4.973823547363281,\n",
       " (((3,), (), (1, 2, 4)), (3, 2)): 5.252086639404297,\n",
       " (((3,), (1,), (2, 4)), (2, 1)): 5.315225124359131,\n",
       " (((3,), (1,), (2, 4)), (2, 3)): 5.148918151855469,\n",
       " (((3,), (1,), (2, 4)), (3, 1)): 5.307897686958313,\n",
       " (((3,), (1, 2), (4,)), (1, 3)): 2.999288462102413,\n",
       " (((3,), (1, 2), (4,)), (2, 1)): 3.5379180908203125,\n",
       " (((3,), (1, 2), (4,)), (2, 3)): 3.27301025390625,\n",
       " (((3,), (1, 2, 4), ()), (1, 3)): 8.557583299523685,\n",
       " (((3,), (1, 2, 4), ()), (2, 1)): 8.308877606701571,\n",
       " (((3,), (1, 2, 4), ()), (2, 3)): 8.577973497682251,\n",
       " (((3,), (1, 4), (2,)), (2, 1)): 8.148721204721369,\n",
       " (((3,), (1, 4), (2,)), (2, 3)): 7.84198677027598,\n",
       " (((3,), (1, 4), (2,)), (3, 1)): 7.782665299717337,\n",
       " (((3,), (2,), (1, 4)), (2, 1)): 4.2791595458984375,\n",
       " (((3,), (2,), (1, 4)), (3, 1)): 4.355398058891296,\n",
       " (((3,), (2,), (1, 4)), (3, 2)): 3.990923970937729,\n",
       " (((3,), (2, 4), (1,)), (2, 1)): 7.986215875949711,\n",
       " (((3,), (2, 4), (1,)), (3, 1)): 8.187661312229466,\n",
       " (((3,), (2, 4), (1,)), (3, 2)): 8.503397634834982,\n",
       " (((3,), (4,), (1, 2)), (1, 2)): 8.035677547566593,\n",
       " (((3,), (4,), (1, 2)), (3, 1)): 7.941036458592862,\n",
       " (((3,), (4,), (1, 2)), (3, 2)): 8.073675947263837,\n",
       " (((3, 4), (), (1, 2)), (1, 2)): 10.999999999977451,\n",
       " (((3, 4), (), (1, 2)), (3, 1)): 11.498801816694055,\n",
       " (((3, 4), (), (1, 2)), (3, 2)): 11.326647658159096,\n",
       " (((3, 4), (1,), (2,)), (2, 1)): 12.209314222279534,\n",
       " (((3, 4), (1,), (2,)), (2, 3)): 11.999999999800536,\n",
       " (((3, 4), (1,), (2,)), (3, 1)): 12.290418505085281,\n",
       " (((3, 4), (1, 2), ()), (1, 3)): 12.054736576390098,\n",
       " (((3, 4), (1, 2), ()), (2, 1)): 12.214696118096876,\n",
       " (((3, 4), (1, 2), ()), (2, 3)): 12.101713019985976,\n",
       " (((3, 4), (2,), (1,)), (2, 1)): 12.74073671998173,\n",
       " (((3, 4), (2,), (1,)), (3, 1)): 12.599175156381088,\n",
       " (((3, 4), (2,), (1,)), (3, 2)): 12.627655189090767,\n",
       " (((4,), (), (1, 2, 3)), (1, 2)): 9.945463560046619,\n",
       " (((4,), (), (1, 2, 3)), (3, 1)): 9.851117442360646,\n",
       " (((4,), (), (1, 2, 3)), (3, 2)): 10.190932984559822,\n",
       " (((4,), (1,), (2, 3)), (2, 1)): 10.482229476312341,\n",
       " (((4,), (1,), (2, 3)), (2, 3)): 10.197141856281178,\n",
       " (((4,), (1,), (2, 3)), (3, 1)): 9.93029550195206,\n",
       " (((4,), (1, 2), (3,)), (2, 1)): 11.339367608307327,\n",
       " (((4,), (1, 2), (3,)), (2, 3)): 11.468727069017575,\n",
       " (((4,), (1, 2), (3,)), (3, 1)): 11.674820762907698,\n",
       " (((4,), (1, 2, 3), ()), (1, 3)): 6.999999999999999,\n",
       " (((4,), (1, 2, 3), ()), (2, 1)): 7.778382073423472,\n",
       " (((4,), (1, 2, 3), ()), (2, 3)): 7.164738217368722,\n",
       " (((4,), (1, 3), (2,)), (2, 1)): 9.744364298092474,\n",
       " (((4,), (1, 3), (2,)), (2, 3)): 9.7377498975643,\n",
       " (((4,), (1, 3), (2,)), (3, 1)): 9.53252926370078,\n",
       " (((4,), (2,), (1, 3)), (2, 1)): 11.008282823767232,\n",
       " (((4,), (2,), (1, 3)), (3, 1)): 10.941379522365992,\n",
       " (((4,), (2,), (1, 3)), (3, 2)): 10.995694244573821,\n",
       " (((4,), (2, 3), (1,)), (2, 1)): 8.591868449738172,\n",
       " (((4,), (2, 3), (1,)), (3, 1)): 8.09414572415244,\n",
       " (((4,), (2, 3), (1,)), (3, 2)): 7.982439501914168,\n",
       " (((4,), (3,), (1, 2)), (2, 1)): 10.075840997628006,\n",
       " (((4,), (3,), (1, 2)), (3, 1)): 9.999999999997769,\n",
       " (((4,), (3,), (1, 2)), (3, 2)): 10.054325811390981}"
      ]
     },
     "execution_count": 34,
     "metadata": {},
     "output_type": "execute_result"
    }
   ],
   "source": [
    "Q"
   ]
  },
  {
   "cell_type": "code",
   "execution_count": 35,
   "metadata": {
    "collapsed": true
   },
   "outputs": [],
   "source": [
    "Q, stepsToGoal = trainQ_4disk(50, 0.5, 0.7, validMoves, makeMove)"
   ]
  },
  {
   "cell_type": "code",
   "execution_count": 36,
   "metadata": {},
   "outputs": [
    {
     "name": "stdout",
     "output_type": "stream",
     "text": [
      "[ 13.1233567  13.1017834]\n",
      "[ 12.50366706  12.78549673  13.01268582]\n",
      "[ 12.56374449  12.02303062  11.94671012]\n",
      "[ 11.77581636  12.23057906  11.69153519]\n",
      "[ 11.77249336  11.4908276   11.88064393]\n",
      "[ 10.83078703  11.29401875  11.59339226]\n",
      "[ 10.17340663   9.93697112   9.94552045]\n",
      "[  9.46227324  10.06779108   9.69449901]\n",
      "[ 9.61285041  9.00000549  8.98541362]\n",
      "[ 7.99694137  8.13057744  8.96026718]\n",
      "[ 6.99975449  7.23822373  7.27758423]\n",
      "[ 6.16547898  5.99997031  6.29588292]\n",
      "[ 4.9999982   5.46885039  5.41706665]\n",
      "[ 4.0479126   4.10559082  4.00000006]\n",
      "[ 3.13012695  3.11572266  3.00000003]\n",
      "[ 2.          2.21533203  2.17089844]\n",
      "[ 1.         1.4921875  1.5234375]\n",
      "[ 0.70507812  0.          1.3515625 ]\n"
     ]
    }
   ],
   "source": [
    "path = testQ_4disk(Q, 50, validMoves, makeMove)"
   ]
  },
  {
   "cell_type": "code",
   "execution_count": 37,
   "metadata": {},
   "outputs": [
    {
     "data": {
      "text/plain": [
       "[[[1, 2, 3, 4], [], []],\n",
       " [[2, 3, 4], [], [1]],\n",
       " [[3, 4], [2], [1]],\n",
       " [[1, 3, 4], [2], []],\n",
       " [[1, 3, 4], [], [2]],\n",
       " [[3, 4], [], [1, 2]],\n",
       " [[4], [3], [1, 2]],\n",
       " [[4], [1, 3], [2]],\n",
       " [[1, 4], [3], [2]],\n",
       " [[1, 4], [2, 3], []],\n",
       " [[4], [1, 2, 3], []],\n",
       " [[], [1, 2, 3], [4]],\n",
       " [[], [2, 3], [1, 4]],\n",
       " [[2], [3], [1, 4]],\n",
       " [[1, 2], [3], [4]],\n",
       " [[1, 2], [], [3, 4]],\n",
       " [[2], [1], [3, 4]],\n",
       " [[], [1], [2, 3, 4]],\n",
       " [[], [], [1, 2, 3, 4]]]"
      ]
     },
     "execution_count": 37,
     "metadata": {},
     "output_type": "execute_result"
    }
   ],
   "source": [
    "path"
   ]
  },
  {
   "cell_type": "code",
   "execution_count": 38,
   "metadata": {},
   "outputs": [
    {
     "data": {
      "text/plain": [
       "19"
      ]
     },
     "execution_count": 38,
     "metadata": {},
     "output_type": "execute_result"
    }
   ],
   "source": [
    "len(path)"
   ]
  },
  {
   "cell_type": "code",
   "execution_count": 42,
   "metadata": {
    "collapsed": true
   },
   "outputs": [],
   "source": [
    "Q, stepsToGoal = trainQ_4disk(70, 0.5, 0.7, validMoves, makeMove)"
   ]
  },
  {
   "cell_type": "code",
   "execution_count": 43,
   "metadata": {},
   "outputs": [
    {
     "name": "stdout",
     "output_type": "stream",
     "text": [
      "[ 14.00330484  14.0549426 ]\n",
      "[ 13.00151998  13.27014752  13.18412807]\n",
      "[ 12.27192002  12.00055572  12.78962625]\n",
      "[ 11.00016713  11.2350865   11.3495722 ]\n",
      "[ 10.46323098  10.21954952  10.00004234]\n",
      "[ 9.67889226  9.78390886  9.00000931]\n",
      "[ 8.00000183  8.14311598  8.9460587 ]\n",
      "[ 7.00000032  7.51898922  7.5698605 ]\n",
      "[ 6.17505574  6.00000005  6.30738199]\n",
      "[ 5.00000001  5.74205029  5.22482681]\n",
      "[ 4.84802055  4.41491699  4.        ]\n",
      "[ 3.87585449  3.66162109  3.        ]\n",
      "[ 2.          2.78912354  3.35266113]\n",
      "[ 1.          1.75097656  2.16625977]\n",
      "[ 1.    0.    0.75]\n"
     ]
    }
   ],
   "source": [
    "path = testQ_4disk(Q, 50, validMoves, makeMove)"
   ]
  },
  {
   "cell_type": "code",
   "execution_count": 44,
   "metadata": {},
   "outputs": [
    {
     "data": {
      "text/plain": [
       "[[[1, 2, 3, 4], [], []],\n",
       " [[2, 3, 4], [1], []],\n",
       " [[3, 4], [1], [2]],\n",
       " [[3, 4], [], [1, 2]],\n",
       " [[4], [3], [1, 2]],\n",
       " [[1, 4], [3], [2]],\n",
       " [[1, 4], [2, 3], []],\n",
       " [[4], [1, 2, 3], []],\n",
       " [[], [1, 2, 3], [4]],\n",
       " [[], [2, 3], [1, 4]],\n",
       " [[2], [3], [1, 4]],\n",
       " [[1, 2], [3], [4]],\n",
       " [[1, 2], [], [3, 4]],\n",
       " [[2], [1], [3, 4]],\n",
       " [[], [1], [2, 3, 4]],\n",
       " [[], [], [1, 2, 3, 4]]]"
      ]
     },
     "execution_count": 44,
     "metadata": {},
     "output_type": "execute_result"
    }
   ],
   "source": [
    "path"
   ]
  },
  {
   "cell_type": "code",
   "execution_count": 45,
   "metadata": {},
   "outputs": [
    {
     "data": {
      "text/plain": [
       "16"
      ]
     },
     "execution_count": 45,
     "metadata": {},
     "output_type": "execute_result"
    }
   ],
   "source": [
    "len(path)"
   ]
  },
  {
   "cell_type": "code",
   "execution_count": 76,
   "metadata": {
    "collapsed": true
   },
   "outputs": [],
   "source": [
    "Q, stepsToGoal = trainQ_4disk(50, 0.5, 0.99, validMoves, makeMove)"
   ]
  },
  {
   "cell_type": "code",
   "execution_count": 77,
   "metadata": {},
   "outputs": [
    {
     "name": "stdout",
     "output_type": "stream",
     "text": [
      "[ 31.82800756  31.78221503]\n",
      "[ 30.94008183  31.51030572  31.48917005]\n",
      "[ 31.65840385  31.29343582  30.91654699]\n",
      "[ 31.08401107  31.28875055  30.63629797]\n",
      "[ 29.79181401  30.32786916  30.53236091]\n",
      "[ 29.86332934  29.14542206  31.05797117]\n",
      "[ 28.28957394  30.790016    29.69552346]\n",
      "[ 28.91284094  27.71739022  27.15795723]\n",
      "[ 27.15564147  27.23637112  26.1444365 ]\n",
      "[ 22.30678135  24.30373337  26.92337025]\n",
      "[ 21.27933147  24.82312204  25.4209344 ]\n",
      "[ 19.91216334  17.00944211  24.80796614]\n",
      "[ 15.89897297  21.35718692  18.79269747]\n",
      "[ 16.18523664  14.01526229  15.97882554]\n",
      "[ 17.78608191  11.21714871  15.95545374]\n",
      "[ 13.19035262  16.15679179   8.38006839]\n",
      "[  3.96972154   9.76537727  10.49909968]\n",
      "[ 1.06885192  9.72535991  9.61440131]\n",
      "[ 3.3363961   0.          8.80282867]\n"
     ]
    }
   ],
   "source": [
    "path = testQ_4disk(Q, 20, validMoves, makeMove)"
   ]
  },
  {
   "cell_type": "code",
   "execution_count": 78,
   "metadata": {},
   "outputs": [
    {
     "data": {
      "text/plain": [
       "[[[1, 2, 3, 4], [], []],\n",
       " [[2, 3, 4], [], [1]],\n",
       " [[3, 4], [2], [1]],\n",
       " [[1, 3, 4], [2], []],\n",
       " [[1, 3, 4], [], [2]],\n",
       " [[3, 4], [1], [2]],\n",
       " [[3, 4], [], [1, 2]],\n",
       " [[4], [3], [1, 2]],\n",
       " [[1, 4], [3], [2]],\n",
       " [[1, 4], [2, 3], []],\n",
       " [[4], [1, 2, 3], []],\n",
       " [[], [1, 2, 3], [4]],\n",
       " [[], [2, 3], [1, 4]],\n",
       " [[2], [3], [1, 4]],\n",
       " [[2], [1, 3], [4]],\n",
       " [[1, 2], [3], [4]],\n",
       " [[1, 2], [], [3, 4]],\n",
       " [[2], [1], [3, 4]],\n",
       " [[], [1], [2, 3, 4]],\n",
       " [[], [], [1, 2, 3, 4]]]"
      ]
     },
     "execution_count": 78,
     "metadata": {},
     "output_type": "execute_result"
    }
   ],
   "source": [
    "path"
   ]
  },
  {
   "cell_type": "code",
   "execution_count": 79,
   "metadata": {},
   "outputs": [
    {
     "data": {
      "text/plain": [
       "20"
      ]
     },
     "execution_count": 79,
     "metadata": {},
     "output_type": "execute_result"
    }
   ],
   "source": [
    "len(path)"
   ]
  }
 ],
 "metadata": {
  "kernelspec": {
   "display_name": "Python 3",
   "language": "python",
   "name": "python3"
  },
  "language_info": {
   "codemirror_mode": {
    "name": "ipython",
    "version": 3
   },
   "file_extension": ".py",
   "mimetype": "text/x-python",
   "name": "python",
   "nbconvert_exporter": "python",
   "pygments_lexer": "ipython3",
   "version": "3.6.1"
  }
 },
 "nbformat": 4,
 "nbformat_minor": 2
}
