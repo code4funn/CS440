{
 "cells": [
  {
   "cell_type": "markdown",
   "metadata": {},
   "source": [
    "$\\newcommand{\\xv}{\\mathbf{x}}\n",
    "\\newcommand{\\Xv}{\\mathbf{X}}\n",
    "\\newcommand{\\yv}{\\mathbf{y}}\n",
    "\\newcommand{\\zv}{\\mathbf{z}}\n",
    "\\newcommand{\\av}{\\mathbf{a}}\n",
    "\\newcommand{\\Wv}{\\mathbf{W}}\n",
    "\\newcommand{\\wv}{\\mathbf{w}}\n",
    "\\newcommand{\\tv}{\\mathbf{t}}\n",
    "\\newcommand{\\Tv}{\\mathbf{T}}\n",
    "\\newcommand{\\muv}{\\boldsymbol{\\mu}}\n",
    "\\newcommand{\\sigmav}{\\boldsymbol{\\sigma}}\n",
    "\\newcommand{\\phiv}{\\boldsymbol{\\phi}}\n",
    "\\newcommand{\\Phiv}{\\boldsymbol{\\Phi}}\n",
    "\\newcommand{\\Sigmav}{\\boldsymbol{\\Sigma}}\n",
    "\\newcommand{\\Lambdav}{\\boldsymbol{\\Lambda}}\n",
    "\\newcommand{\\half}{\\frac{1}{2}}\n",
    "\\newcommand{\\argmax}[1]{\\underset{#1}{\\operatorname{argmax}}}\n",
    "\\newcommand{\\argmin}[1]{\\underset{#1}{\\operatorname{argmin}}}$"
   ]
  },
  {
   "cell_type": "markdown",
   "metadata": {},
   "source": [
    "# Assignment 6: Neural Networks"
   ]
  },
  {
   "cell_type": "markdown",
   "metadata": {},
   "source": [
    "Anurag Kumar"
   ]
  },
  {
   "cell_type": "markdown",
   "metadata": {},
   "source": [
    "## Overview"
   ]
  },
  {
   "cell_type": "markdown",
   "metadata": {},
   "source": [
    "I have written and applied the code provided in the lecture notes to trains neural networks for various numbers of hidden layers and units in each hidden layer and it returns the results as specified below.  I have it once for a regression problem and once for a classification problem. "
   ]
  },
  {
   "cell_type": "markdown",
   "metadata": {},
   "source": [
    "## Required Code"
   ]
  },
  {
   "cell_type": "markdown",
   "metadata": {},
   "source": [
    "I have downloaded [nn2.tar](http://www.cs.colostate.edu/~anderson/cs440/notebooks/nn2.tar) that was used in lecture and extracted its contents, which are\n",
    "\n",
    "* `neuralnetworks.py`\n",
    "* `scaledconjugategradient.py`\n",
    "* `mlutils.py`"
   ]
  },
  {
   "cell_type": "markdown",
   "metadata": {},
   "source": [
    "The following functions that train and evaluate neural network models was written by using the classes and methods defined in the files downloaded above.\n",
    "\n",
    "* `results = trainNNs(X, T, trainFraction, hiddenLayerStructures, numberRepetitions, numberIterations, classify)`\n",
    "\n",
    "The arguments to `trainNNs` are\n",
    "\n",
    "* `X` is a matrix of input data of shape `nSamples x nFeatures`\n",
    "* `T` is a matrix of target data of shape `nSamples x nOutputs`\n",
    "* `trainFraction` is fraction of samples to use as training data. 1-`trainFraction` is number of samples for testing data\n",
    "* `hiddenLayerStructures` is list of network architectures. For example, to test two networks, one with one hidden layer of 20 units, and one with 3 hidden layers with 5, 10, and 20 units in each layer, this argument would be `[[20], [5, 10, 20]]`.\n",
    "* `numberRepetitions` is number of times to train a neural network.  Calculate training and testing average performance (two separate averages) of this many training runs.\n",
    "* `numberIterations` is the number of iterations to run the scaled conjugate gradient algorithm when a neural network is trained.\n",
    "* `classify` is set to `True` if you are doing a classification problem, in which case `T` must be a single column of target class integers.\n",
    "\n",
    "This function returns `results` which is list with one element for each network structure tested.  Each element is a list containing \n",
    "\n",
    "* the hidden layer structure (as a list),\n",
    "* a list of training data performance for each repetition, \n",
    "* a list of testing data performance for each repetition, and\n",
    "* the number of seconds it took to run this many repetitions for this network structure.\n",
    "\n",
    "This function follows these steps:\n",
    "\n",
    "  * For each network structure given in `hiddenLayerStructures`\n",
    "    * For numberRepetitions\n",
    "      * Use `ml.partition` to randomly partition X and T into training and testing sets.\n",
    "      * Create a neural network of the given structure\n",
    "      * Train it for numberIterations\n",
    "      * Use the trained network to produce outputs for the training and for the testing sets\n",
    "      * If classifying, calculate the fraction of samples incorrectly classified for training and testing sets.\n",
    "       Otherwise, calculate the RMSE of training and testing sets.\n",
    "      * Add the training and testing performance to a collection (such as a list) for this network structure\n",
    "    * Add to a collection of all results the hidden layer structure, lists of training performance and testing performance, and seconds taken to do these repetitions.\n",
    "  * return the collection of all results"
   ]
  },
  {
   "cell_type": "markdown",
   "metadata": {},
   "source": [
    "Also, I have defined the following two functions. `summarize(results)` returns a list of lists like `results` but with the list of training performances replaced by their mean and the list of testing performances replaced by their mean.   \n",
    "`bestNetwork(summary)` takes the output of `summarize(results)` and returns the best element of `results`, determined by the element that has the smallest test performance.\n",
    "\n",
    "* `summary = summarize(results)` where `results` is returned by `trainNNs` and `summary` is like `results` with the training and testing performance lists replaced by their means\n",
    "* `best = bestNetwork(summary)` where `summary` is returned by `summarize` and `best` is the best element of `summary`"
   ]
  },
  {
   "cell_type": "code",
   "execution_count": 5,
   "metadata": {
    "collapsed": true
   },
   "outputs": [],
   "source": [
    "import numpy as np"
   ]
  },
  {
   "cell_type": "code",
   "execution_count": 6,
   "metadata": {
    "collapsed": true
   },
   "outputs": [],
   "source": [
    "import neuralnetworks as nn"
   ]
  },
  {
   "cell_type": "code",
   "execution_count": 7,
   "metadata": {
    "collapsed": true
   },
   "outputs": [],
   "source": [
    "X = np.arange(10).reshape((-1,1))\n",
    "T = X + 1 + np.random.uniform(-1, 1, ((10,1)))"
   ]
  },
  {
   "cell_type": "code",
   "execution_count": 8,
   "metadata": {
    "collapsed": true
   },
   "outputs": [],
   "source": [
    "import matplotlib.pyplot as plt\n",
    "%matplotlib inline"
   ]
  },
  {
   "cell_type": "code",
   "execution_count": 9,
   "metadata": {},
   "outputs": [
    {
     "data": {
      "image/png": "[encoded data removed]",
      "text/plain": [
       "<matplotlib.figure.Figure at 0x2af29087278>"
      ]
     },
     "metadata": {},
     "output_type": "display_data"
    }
   ],
   "source": [
    "plt.plot(X, T, 'o-');"
   ]
  },
  {
   "cell_type": "code",
   "execution_count": 10,
   "metadata": {},
   "outputs": [
    {
     "data": {
      "text/plain": [
       "1"
      ]
     },
     "execution_count": 10,
     "metadata": {},
     "output_type": "execute_result"
    }
   ],
   "source": [
    "X.shape[1]"
   ]
  },
  {
   "cell_type": "code",
   "execution_count": 11,
   "metadata": {},
   "outputs": [
    {
     "data": {
      "text/plain": [
       "(1,)"
      ]
     },
     "execution_count": 11,
     "metadata": {},
     "output_type": "execute_result"
    }
   ],
   "source": [
    "T[0].shape"
   ]
  },
  {
   "cell_type": "markdown",
   "metadata": {
    "collapsed": true
   },
   "source": [
    "Using the NeuralNetwork class to train the neural network and tracing the error using the functions available in the package.\n",
    "* `nnet = nn.NeuralNetwork(X.shape[1], 2, T.shape[1])`\n",
    "\n",
    "The parameters passed in the contructor are as folows:\n",
    "* `X.shape[1]` is the number of features as inputs\n",
    "* `2` represents the single hidden layer of 2 units\n",
    "* `T.shape[1]` is the number of outputs (in case of classification problem it is the number of classes) "
   ]
  },
  {
   "cell_type": "code",
   "execution_count": 13,
   "metadata": {},
   "outputs": [
    {
     "data": {
      "text/plain": [
       "array([ 0.70710678,  0.63552065,  0.63552065,  0.55343977,  0.23792806,\n",
       "        0.21438081,  0.15866778,  0.15587736,  0.15261513,  0.15046892,\n",
       "        0.15046892,  0.14209005,  0.13895589,  0.1361368 ,  0.13539873,\n",
       "        0.13539873,  0.13512666,  0.13223078,  0.13195013,  0.13186276,\n",
       "        0.12940465,  0.12796676,  0.12754725,  0.12690244,  0.12489431,\n",
       "        0.12438113,  0.12436191,  0.12410075,  0.12408693,  0.12408218,\n",
       "        0.12408218,  0.12408218,  0.12408218,  0.12408218,  0.12408218,\n",
       "        0.12408218,  0.12355793,  0.12333515,  0.12329163,  0.12328128,\n",
       "        0.12287396,  0.12283516,  0.12209613,  0.12209613,  0.12209613,\n",
       "        0.12007446,  0.11944851,  0.11863421,  0.11859824,  0.11838271,\n",
       "        0.11829855,  0.11806679,  0.11741311,  0.11732257,  0.11567386,\n",
       "        0.11527366,  0.11443961,  0.1143644 ,  0.11420947,  0.11299458,\n",
       "        0.11264955,  0.11255104,  0.11250683,  0.11162279,  0.11162073,\n",
       "        0.11010988,  0.10979561,  0.10966456,  0.10960036,  0.10951917,\n",
       "        0.10937556,  0.10886064,  0.10804368,  0.10798512,  0.1079612 ,\n",
       "        0.10793845,  0.10790766,  0.10740379,  0.10719971,  0.10664876,\n",
       "        0.10663011,  0.10634039,  0.1062039 ,  0.10587172,  0.10564009,\n",
       "        0.10456233,  0.10403072,  0.10392089,  0.10387962,  0.10384536,\n",
       "        0.10377805,  0.10330668,  0.10177539,  0.10056227,  0.09995453,\n",
       "        0.09939891,  0.09899453,  0.09788688,  0.09750066,  0.09730103,\n",
       "        0.09523558])"
      ]
     },
     "execution_count": 13,
     "metadata": {},
     "output_type": "execute_result"
    }
   ],
   "source": [
    "nnet = nn.NeuralNetwork(X.shape[1], 2, T.shape[1])\n",
    "nnet.train(X, T, 100)\n",
    "nnet.getErrorTrace()"
   ]
  },
  {
   "cell_type": "code",
   "execution_count": 14,
   "metadata": {},
   "outputs": [
    {
     "data": {
      "text/plain": [
       "array([ 0.70710678,  0.26533589,  0.23249427,  0.22701458,  0.22024575,\n",
       "        0.14666151,  0.13910175,  0.13580596,  0.13547153,  0.13424744,\n",
       "        0.13385796,  0.13009435,  0.1294161 ,  0.12782886,  0.12768054,\n",
       "        0.12708917,  0.1267055 ,  0.12480137,  0.12379884,  0.12027225,\n",
       "        0.11996857,  0.11947967,  0.11942358,  0.11925422,  0.11843418,\n",
       "        0.11734214,  0.11705369,  0.11683933,  0.11681612,  0.1166156 ,\n",
       "        0.11648471,  0.11611931,  0.11607722,  0.11602376,  0.11566094,\n",
       "        0.11473513,  0.1137249 ,  0.11040913,  0.10667729,  0.10539117,\n",
       "        0.10505258,  0.10414477,  0.10382832,  0.10360869,  0.10354205,\n",
       "        0.10346199,  0.10336164,  0.10323808,  0.10317707,  0.10313201,\n",
       "        0.10308024,  0.10296979,  0.10282095,  0.1026951 ,  0.10259456,\n",
       "        0.10248434,  0.1020682 ,  0.1018886 ,  0.10174843,  0.10169565,\n",
       "        0.10145286,  0.10142115,  0.10122453,  0.10116831,  0.10104245,\n",
       "        0.10081932,  0.1007207 ,  0.10039248,  0.10032177,  0.09992283,\n",
       "        0.09950426,  0.0990456 ,  0.09879544,  0.09855362,  0.09592217,\n",
       "        0.09500576,  0.09450505,  0.09448003,  0.09346617,  0.09179026,\n",
       "        0.09121909,  0.08206614,  0.08108565,  0.07908537,  0.07831476,\n",
       "        0.07684007,  0.07572417,  0.07264241,  0.07129825,  0.07121348,\n",
       "        0.07093002,  0.07046878,  0.07022902,  0.070012  ,  0.0699272 ,\n",
       "        0.0696198 ,  0.06944001,  0.06941125,  0.06883402,  0.06850955,\n",
       "        0.06833046])"
      ]
     },
     "execution_count": 14,
     "metadata": {},
     "output_type": "execute_result"
    }
   ],
   "source": [
    "nnet = nn.NeuralNetwork(X.shape[1], [5, 5, 5], T.shape[1])\n",
    "nnet.train(X, T, 100)\n",
    "nnet.getErrorTrace()"
   ]
  },
  {
   "cell_type": "code",
   "execution_count": 24,
   "metadata": {
    "collapsed": true
   },
   "outputs": [],
   "source": [
    "a = nnet.train(X, T, 100)"
   ]
  },
  {
   "cell_type": "code",
   "execution_count": 25,
   "metadata": {},
   "outputs": [
    {
     "data": {
      "text/plain": [
       "NeuralNetwork(1, [5, 5, 5], 1)\n",
       "   Network was trained for 101 iterations. Final error is 0.10427194096097989."
      ]
     },
     "execution_count": 25,
     "metadata": {},
     "output_type": "execute_result"
    }
   ],
   "source": [
    "a"
   ]
  },
  {
   "cell_type": "code",
   "execution_count": 312,
   "metadata": {
    "collapsed": true
   },
   "outputs": [],
   "source": [
    "def trainNNs(X, T, trainFraction, hiddenLayerStructures, numberRepititions, numberIterations, classify = False):\n",
    "    '''This the function defined as per the requirement given in the problem above'''\n",
    "    import mlutils as ml                # partition() is used from this class \n",
    "    import neuralnetworks as nn         # this is used to define the neural network\n",
    "    import time                         # used to measure the computation time \n",
    "    def incorrectFaction(Y, T):         # I defined this function to calculate fraction of instances which are misclassified\n",
    "        c=0                             # in case of classification problem.\n",
    "        for i in range(len(Y)):\n",
    "            if Y[i]==T[i]:\n",
    "                c+=1\n",
    "        return (len(Y)-c)/len(Y)\n",
    "    results = []\n",
    "    for i in range(len(hiddenLayerStructures)):     # for all hidden layer structures are tested one by one\n",
    "        train_errs = []                 # list to store the training error for each repitition\n",
    "        test_errs = []                  # list to store the testing error for each repitition\n",
    "        startTime = time.time()         # start clock for each hidden layer structure\n",
    "        for j in range(numberRepititions):\n",
    "            Xtrain, Ttrain, Xtest, Ttest = ml.partition(X, T, (trainFraction,1-trainFraction), classification=classify)\n",
    "            ''' Xtrain is the input data for training\n",
    "                Train is the expected(actual) output for training data\n",
    "                Xtest is the input data for testing\n",
    "                Ttest is the expected(actual) output for testing data\n",
    "                If classification is true then the samples of each class are distributed in proportion\n",
    "            '''\n",
    "            if classify:               # this is used in classification problem\n",
    "                nnet = nn.NeuralNetworkClassifier(X.shape[1], hiddenLayerStructures[i], len(np.unique(T)))\n",
    "                nnet.train(Xtrain, Ttrain, numberIterations)\n",
    "                Ctrain = nnet.use(Xtrain) # Ctrain is the predicted class for training data\n",
    "                Ctest = nnet.use(Xtest)   # Ctest is the predicted class for testing data\n",
    "                train_err = incorrectFaction(Ctrain, Ttrain) # error in training\n",
    "                test_err = incorrectFaction(Ctest, Ttest)    # error in testing the data\n",
    "            else:                     # this is used in regression problem\n",
    "                nnet = nn.NeuralNetwork(X.shape[1], hiddenLayerStructures[i], T.shape[1])\n",
    "                nnet.train(Xtrain, Ttrain, numberIterations)\n",
    "                Ytrain = nnet.use(Xtrain) # Ytrain is the predicted output for training data\n",
    "                Ytest = nnet.use(Xtest)   # Ytest is the predicted output for testing data\n",
    "                train_err = np.sqrt(np.mean((Ytrain-Ttrain)**2)) # root mean square error for training data \n",
    "                test_err = np.sqrt(np.mean((Ytest-Ttest)**2))    # root mean square error for teating data\n",
    "            train_errs.append(train_err)  # add the error for each repitition\n",
    "            test_errs.append(test_err)\n",
    "        endTime = time.time()             # cal the end time\n",
    "        results.append([hiddenLayerStructures[i], train_errs, test_errs, endTime-startTime]) # add all data in the results list as described in the problem above    \n",
    "    return results"
   ]
  },
  {
   "cell_type": "code",
   "execution_count": 50,
   "metadata": {
    "collapsed": true
   },
   "outputs": [],
   "source": [
    "def summarize(results):\n",
    "    newResults = []\n",
    "    ''' This function takes the result of trainNNs and calculates the mean of training and testing error and returns it as new result'''\n",
    "    for i in range(len(results)):\n",
    "        newResults.append([results[i][0], np.mean(np.array(results[i][1])), np.mean(np.array(results[i][2])), results[i][3]])\n",
    "    return newResults"
   ]
  },
  {
   "cell_type": "code",
   "execution_count": 318,
   "metadata": {
    "collapsed": true
   },
   "outputs": [],
   "source": [
    "def bestNetwork(summary):\n",
    "    ''' takes the output of summarize as input and selects the best network structure on the basis of minimum testing error'''\n",
    "    temp = summary[0][2]\n",
    "    ind = 0\n",
    "    for i in range(len(summary)):\n",
    "        if temp > summary[i][2]:\n",
    "            temp = summary[i][2]\n",
    "            ind = i\n",
    "    return summary[ind]"
   ]
  },
  {
   "cell_type": "code",
   "execution_count": 16,
   "metadata": {},
   "outputs": [
    {
     "data": {
      "text/plain": [
       "array([[0],\n",
       "       [1],\n",
       "       [2],\n",
       "       [3],\n",
       "       [4],\n",
       "       [5],\n",
       "       [6],\n",
       "       [7],\n",
       "       [8],\n",
       "       [9]])"
      ]
     },
     "execution_count": 16,
     "metadata": {},
     "output_type": "execute_result"
    }
   ],
   "source": [
    "X"
   ]
  },
  {
   "cell_type": "code",
   "execution_count": 18,
   "metadata": {},
   "outputs": [
    {
     "data": {
      "text/plain": [
       "(10, 1)"
      ]
     },
     "execution_count": 18,
     "metadata": {},
     "output_type": "execute_result"
    }
   ],
   "source": [
    "X.shape"
   ]
  },
  {
   "cell_type": "code",
   "execution_count": 101,
   "metadata": {},
   "outputs": [
    {
     "data": {
      "text/plain": [
       "numpy.ndarray"
      ]
     },
     "execution_count": 101,
     "metadata": {},
     "output_type": "execute_result"
    }
   ],
   "source": [
    "type(X)"
   ]
  },
  {
   "cell_type": "code",
   "execution_count": 20,
   "metadata": {},
   "outputs": [
    {
     "data": {
      "text/plain": [
       "[[2,\n",
       "  [0.25036647194075451,\n",
       "   0.2136658291691301,\n",
       "   0.42267313977842919,\n",
       "   0.17836811369793154,\n",
       "   0.18487220386304701],\n",
       "  [0.36186239311923241,\n",
       "   0.61719482267730075,\n",
       "   0.84074335554800406,\n",
       "   1.2831832472353915,\n",
       "   0.76658863806733124],\n",
       "  0.08825969696044922],\n",
       " [10,\n",
       "  [0.17799100543879229,\n",
       "   0.17064822062044832,\n",
       "   0.13292043436588771,\n",
       "   0.15812921964784946,\n",
       "   0.12933693299935456],\n",
       "  [0.68957735438419165,\n",
       "   1.1745957213330609,\n",
       "   0.83518819068516215,\n",
       "   1.1551940688528874,\n",
       "   0.23433179411274177],\n",
       "  0.07920432090759277],\n",
       " [[10, 10],\n",
       "  [0.1403556764735569,\n",
       "   0.12707008081193813,\n",
       "   0.053805899816124519,\n",
       "   0.17043614966699727,\n",
       "   0.057527183880574359],\n",
       "  [0.23367393913219001,\n",
       "   0.17142383506227574,\n",
       "   0.50928826437736341,\n",
       "   1.2960651066733972,\n",
       "   0.69053994212077319],\n",
       "  0.1149282455444336]]"
      ]
     },
     "execution_count": 20,
     "metadata": {},
     "output_type": "execute_result"
    }
   ],
   "source": [
    "results = trainNNs(X, T, 0.8, [2, 10, [10, 10]], 5, 100, classify=False)\n",
    "results"
   ]
  },
  {
   "cell_type": "code",
   "execution_count": 43,
   "metadata": {
    "collapsed": true
   },
   "outputs": [],
   "source": [
    "results1 = trainNNs(X, T, 0.8, [0, 1, 2, 10, [10, 10], [5, 5, 5, 5], [2]*5], 50, 400, classify=False)"
   ]
  },
  {
   "cell_type": "code",
   "execution_count": 51,
   "metadata": {},
   "outputs": [
    {
     "data": {
      "text/plain": [
       "[[0, 0.48886054695595765, 0.55764040312924945, 0.022057294845581055],\n",
       " [1, 0.44840826492806912, 0.66438516252072133, 2.3803553581237793],\n",
       " [2, 0.18734775718793156, 0.89563490556222658, 2.9598727226257324],\n",
       " [10, 0.011198963989810653, 0.64934493675793714, 2.430464029312134],\n",
       " [[10, 10], 0.0093559274611241267, 0.63836119727663987, 3.8863375186920166],\n",
       " [[5, 5, 5, 5], 0.045294081558997744, 0.52156671610457539, 5.826470851898193],\n",
       " [[2, 2, 2, 2, 2],\n",
       "  0.24070133271762958,\n",
       "  0.59362709315337703,\n",
       "  6.246615648269653]]"
      ]
     },
     "execution_count": 51,
     "metadata": {},
     "output_type": "execute_result"
    }
   ],
   "source": [
    "summarize(results1)"
   ]
  },
  {
   "cell_type": "code",
   "execution_count": 319,
   "metadata": {},
   "outputs": [
    {
     "data": {
      "text/plain": [
       "[[5, 5, 5, 5], 0.045294081558997744, 0.52156671610457539, 5.826470851898193]"
      ]
     },
     "execution_count": 319,
     "metadata": {},
     "output_type": "execute_result"
    }
   ],
   "source": [
    "bestNetwork(summarize(results1))"
   ]
  },
  {
   "cell_type": "markdown",
   "metadata": {},
   "source": [
    "## Data for Regression Experiment\n",
    "\n",
    "The [Appliances energy prediction](http://archive.ics.uci.edu/ml/datasets/Appliances+energy+prediction) data was downloaded from the UCI Machine Learning Repository.  You can do this by visiting the Data Folder for this data set, or just do this:\n",
    "\n",
    "     !wget http://archive.ics.uci.edu/ml/machine-learning-databases/00374/energydata_complete.csv\n",
    "\n"
   ]
  },
  {
   "cell_type": "markdown",
   "metadata": {},
   "source": [
    "This data was used for solving regression problem using neural networks"
   ]
  },
  {
   "cell_type": "markdown",
   "metadata": {},
   "source": [
    "## Loading CSV files using pandas package"
   ]
  },
  {
   "cell_type": "code",
   "execution_count": 54,
   "metadata": {
    "collapsed": true
   },
   "outputs": [],
   "source": [
    "import pandas as pd"
   ]
  },
  {
   "cell_type": "code",
   "execution_count": 55,
   "metadata": {
    "collapsed": true
   },
   "outputs": [],
   "source": [
    "df = pd.read_csv('energydata_complete.csv')"
   ]
  },
  {
   "cell_type": "code",
   "execution_count": 56,
   "metadata": {},
   "outputs": [
    {
     "data": {
      "text/html": [
       "<div>\n",
       "<style>\n",
       "    .dataframe thead tr:only-child th {\n",
       "        text-align: right;\n",
       "    }\n",
       "\n",
       "    .dataframe thead th {\n",
       "        text-align: left;\n",
       "    }\n",
       "\n",
       "    .dataframe tbody tr th {\n",
       "        vertical-align: top;\n",
       "    }\n",
       "</style>\n",
       "<table border=\"1\" class=\"dataframe\">\n",
       "  <thead>\n",
       "    <tr style=\"text-align: right;\">\n",
       "      <th></th>\n",
       "      <th>date</th>\n",
       "      <th>Appliances</th>\n",
       "      <th>lights</th>\n",
       "      <th>T1</th>\n",
       "      <th>RH_1</th>\n",
       "      <th>T2</th>\n",
       "      <th>RH_2</th>\n",
       "      <th>T3</th>\n",
       "      <th>RH_3</th>\n",
       "      <th>T4</th>\n",
       "      <th>...</th>\n",
       "      <th>T9</th>\n",
       "      <th>RH_9</th>\n",
       "      <th>T_out</th>\n",
       "      <th>Press_mm_hg</th>\n",
       "      <th>RH_out</th>\n",
       "      <th>Windspeed</th>\n",
       "      <th>Visibility</th>\n",
       "      <th>Tdewpoint</th>\n",
       "      <th>rv1</th>\n",
       "      <th>rv2</th>\n",
       "    </tr>\n",
       "  </thead>\n",
       "  <tbody>\n",
       "    <tr>\n",
       "      <th>0</th>\n",
       "      <td>2016-01-11 17:00:00</td>\n",
       "      <td>60</td>\n",
       "      <td>30</td>\n",
       "      <td>19.890000</td>\n",
       "      <td>47.596667</td>\n",
       "      <td>19.200000</td>\n",
       "      <td>44.790000</td>\n",
       "      <td>19.790000</td>\n",
       "      <td>44.730000</td>\n",
       "      <td>19.000000</td>\n",
       "      <td>...</td>\n",
       "      <td>17.033333</td>\n",
       "      <td>45.530000</td>\n",
       "      <td>6.600000</td>\n",
       "      <td>733.500000</td>\n",
       "      <td>92.000000</td>\n",
       "      <td>7.000000</td>\n",
       "      <td>63.000000</td>\n",
       "      <td>5.300000</td>\n",
       "      <td>13.275433</td>\n",
       "      <td>13.275433</td>\n",
       "    </tr>\n",
       "    <tr>\n",
       "      <th>1</th>\n",
       "      <td>2016-01-11 17:10:00</td>\n",
       "      <td>60</td>\n",
       "      <td>30</td>\n",
       "      <td>19.890000</td>\n",
       "      <td>46.693333</td>\n",
       "      <td>19.200000</td>\n",
       "      <td>44.722500</td>\n",
       "      <td>19.790000</td>\n",
       "      <td>44.790000</td>\n",
       "      <td>19.000000</td>\n",
       "      <td>...</td>\n",
       "      <td>17.066667</td>\n",
       "      <td>45.560000</td>\n",
       "      <td>6.483333</td>\n",
       "      <td>733.600000</td>\n",
       "      <td>92.000000</td>\n",
       "      <td>6.666667</td>\n",
       "      <td>59.166667</td>\n",
       "      <td>5.200000</td>\n",
       "      <td>18.606195</td>\n",
       "      <td>18.606195</td>\n",
       "    </tr>\n",
       "    <tr>\n",
       "      <th>2</th>\n",
       "      <td>2016-01-11 17:20:00</td>\n",
       "      <td>50</td>\n",
       "      <td>30</td>\n",
       "      <td>19.890000</td>\n",
       "      <td>46.300000</td>\n",
       "      <td>19.200000</td>\n",
       "      <td>44.626667</td>\n",
       "      <td>19.790000</td>\n",
       "      <td>44.933333</td>\n",
       "      <td>18.926667</td>\n",
       "      <td>...</td>\n",
       "      <td>17.000000</td>\n",
       "      <td>45.500000</td>\n",
       "      <td>6.366667</td>\n",
       "      <td>733.700000</td>\n",
       "      <td>92.000000</td>\n",
       "      <td>6.333333</td>\n",
       "      <td>55.333333</td>\n",
       "      <td>5.100000</td>\n",
       "      <td>28.642668</td>\n",
       "      <td>28.642668</td>\n",
       "    </tr>\n",
       "    <tr>\n",
       "      <th>3</th>\n",
       "      <td>2016-01-11 17:30:00</td>\n",
       "      <td>50</td>\n",
       "      <td>40</td>\n",
       "      <td>19.890000</td>\n",
       "      <td>46.066667</td>\n",
       "      <td>19.200000</td>\n",
       "      <td>44.590000</td>\n",
       "      <td>19.790000</td>\n",
       "      <td>45.000000</td>\n",
       "      <td>18.890000</td>\n",
       "      <td>...</td>\n",
       "      <td>17.000000</td>\n",
       "      <td>45.400000</td>\n",
       "      <td>6.250000</td>\n",
       "      <td>733.800000</td>\n",
       "      <td>92.000000</td>\n",
       "      <td>6.000000</td>\n",
       "      <td>51.500000</td>\n",
       "      <td>5.000000</td>\n",
       "      <td>45.410389</td>\n",
       "      <td>45.410389</td>\n",
       "    </tr>\n",
       "    <tr>\n",
       "      <th>4</th>\n",
       "      <td>2016-01-11 17:40:00</td>\n",
       "      <td>60</td>\n",
       "      <td>40</td>\n",
       "      <td>19.890000</td>\n",
       "      <td>46.333333</td>\n",
       "      <td>19.200000</td>\n",
       "      <td>44.530000</td>\n",
       "      <td>19.790000</td>\n",
       "      <td>45.000000</td>\n",
       "      <td>18.890000</td>\n",
       "      <td>...</td>\n",
       "      <td>17.000000</td>\n",
       "      <td>45.400000</td>\n",
       "      <td>6.133333</td>\n",
       "      <td>733.900000</td>\n",
       "      <td>92.000000</td>\n",
       "      <td>5.666667</td>\n",
       "      <td>47.666667</td>\n",
       "      <td>4.900000</td>\n",
       "      <td>10.084097</td>\n",
       "      <td>10.084097</td>\n",
       "    </tr>\n",
       "    <tr>\n",
       "      <th>5</th>\n",
       "      <td>2016-01-11 17:50:00</td>\n",
       "      <td>50</td>\n",
       "      <td>40</td>\n",
       "      <td>19.890000</td>\n",
       "      <td>46.026667</td>\n",
       "      <td>19.200000</td>\n",
       "      <td>44.500000</td>\n",
       "      <td>19.790000</td>\n",
       "      <td>44.933333</td>\n",
       "      <td>18.890000</td>\n",
       "      <td>...</td>\n",
       "      <td>17.000000</td>\n",
       "      <td>45.290000</td>\n",
       "      <td>6.016667</td>\n",
       "      <td>734.000000</td>\n",
       "      <td>92.000000</td>\n",
       "      <td>5.333333</td>\n",
       "      <td>43.833333</td>\n",
       "      <td>4.800000</td>\n",
       "      <td>44.919484</td>\n",
       "      <td>44.919484</td>\n",
       "    </tr>\n",
       "    <tr>\n",
       "      <th>6</th>\n",
       "      <td>2016-01-11 18:00:00</td>\n",
       "      <td>60</td>\n",
       "      <td>50</td>\n",
       "      <td>19.890000</td>\n",
       "      <td>45.766667</td>\n",
       "      <td>19.200000</td>\n",
       "      <td>44.500000</td>\n",
       "      <td>19.790000</td>\n",
       "      <td>44.900000</td>\n",
       "      <td>18.890000</td>\n",
       "      <td>...</td>\n",
       "      <td>17.000000</td>\n",
       "      <td>45.290000</td>\n",
       "      <td>5.900000</td>\n",
       "      <td>734.100000</td>\n",
       "      <td>92.000000</td>\n",
       "      <td>5.000000</td>\n",
       "      <td>40.000000</td>\n",
       "      <td>4.700000</td>\n",
       "      <td>47.233763</td>\n",
       "      <td>47.233763</td>\n",
       "    </tr>\n",
       "    <tr>\n",
       "      <th>7</th>\n",
       "      <td>2016-01-11 18:10:00</td>\n",
       "      <td>60</td>\n",
       "      <td>50</td>\n",
       "      <td>19.856667</td>\n",
       "      <td>45.560000</td>\n",
       "      <td>19.200000</td>\n",
       "      <td>44.500000</td>\n",
       "      <td>19.730000</td>\n",
       "      <td>44.900000</td>\n",
       "      <td>18.890000</td>\n",
       "      <td>...</td>\n",
       "      <td>17.000000</td>\n",
       "      <td>45.290000</td>\n",
       "      <td>5.916667</td>\n",
       "      <td>734.166667</td>\n",
       "      <td>91.833333</td>\n",
       "      <td>5.166667</td>\n",
       "      <td>40.000000</td>\n",
       "      <td>4.683333</td>\n",
       "      <td>33.039890</td>\n",
       "      <td>33.039890</td>\n",
       "    </tr>\n",
       "    <tr>\n",
       "      <th>8</th>\n",
       "      <td>2016-01-11 18:20:00</td>\n",
       "      <td>60</td>\n",
       "      <td>40</td>\n",
       "      <td>19.790000</td>\n",
       "      <td>45.597500</td>\n",
       "      <td>19.200000</td>\n",
       "      <td>44.433333</td>\n",
       "      <td>19.730000</td>\n",
       "      <td>44.790000</td>\n",
       "      <td>18.890000</td>\n",
       "      <td>...</td>\n",
       "      <td>17.000000</td>\n",
       "      <td>45.290000</td>\n",
       "      <td>5.933333</td>\n",
       "      <td>734.233333</td>\n",
       "      <td>91.666667</td>\n",
       "      <td>5.333333</td>\n",
       "      <td>40.000000</td>\n",
       "      <td>4.666667</td>\n",
       "      <td>31.455702</td>\n",
       "      <td>31.455702</td>\n",
       "    </tr>\n",
       "    <tr>\n",
       "      <th>9</th>\n",
       "      <td>2016-01-11 18:30:00</td>\n",
       "      <td>70</td>\n",
       "      <td>40</td>\n",
       "      <td>19.856667</td>\n",
       "      <td>46.090000</td>\n",
       "      <td>19.230000</td>\n",
       "      <td>44.400000</td>\n",
       "      <td>19.790000</td>\n",
       "      <td>44.863333</td>\n",
       "      <td>18.890000</td>\n",
       "      <td>...</td>\n",
       "      <td>17.000000</td>\n",
       "      <td>45.290000</td>\n",
       "      <td>5.950000</td>\n",
       "      <td>734.300000</td>\n",
       "      <td>91.500000</td>\n",
       "      <td>5.500000</td>\n",
       "      <td>40.000000</td>\n",
       "      <td>4.650000</td>\n",
       "      <td>3.089314</td>\n",
       "      <td>3.089314</td>\n",
       "    </tr>\n",
       "    <tr>\n",
       "      <th>10</th>\n",
       "      <td>2016-01-11 18:40:00</td>\n",
       "      <td>230</td>\n",
       "      <td>70</td>\n",
       "      <td>19.926667</td>\n",
       "      <td>45.863333</td>\n",
       "      <td>19.356667</td>\n",
       "      <td>44.400000</td>\n",
       "      <td>19.790000</td>\n",
       "      <td>44.900000</td>\n",
       "      <td>18.890000</td>\n",
       "      <td>...</td>\n",
       "      <td>17.000000</td>\n",
       "      <td>45.290000</td>\n",
       "      <td>5.966667</td>\n",
       "      <td>734.366667</td>\n",
       "      <td>91.333333</td>\n",
       "      <td>5.666667</td>\n",
       "      <td>40.000000</td>\n",
       "      <td>4.633333</td>\n",
       "      <td>10.298729</td>\n",
       "      <td>10.298729</td>\n",
       "    </tr>\n",
       "    <tr>\n",
       "      <th>11</th>\n",
       "      <td>2016-01-11 18:50:00</td>\n",
       "      <td>580</td>\n",
       "      <td>60</td>\n",
       "      <td>20.066667</td>\n",
       "      <td>46.396667</td>\n",
       "      <td>19.426667</td>\n",
       "      <td>44.400000</td>\n",
       "      <td>19.790000</td>\n",
       "      <td>44.826667</td>\n",
       "      <td>19.000000</td>\n",
       "      <td>...</td>\n",
       "      <td>16.890000</td>\n",
       "      <td>45.290000</td>\n",
       "      <td>5.983333</td>\n",
       "      <td>734.433333</td>\n",
       "      <td>91.166667</td>\n",
       "      <td>5.833333</td>\n",
       "      <td>40.000000</td>\n",
       "      <td>4.616667</td>\n",
       "      <td>8.827838</td>\n",
       "      <td>8.827838</td>\n",
       "    </tr>\n",
       "    <tr>\n",
       "      <th>12</th>\n",
       "      <td>2016-01-11 19:00:00</td>\n",
       "      <td>430</td>\n",
       "      <td>50</td>\n",
       "      <td>20.133333</td>\n",
       "      <td>48.000000</td>\n",
       "      <td>19.566667</td>\n",
       "      <td>44.400000</td>\n",
       "      <td>19.890000</td>\n",
       "      <td>44.900000</td>\n",
       "      <td>19.000000</td>\n",
       "      <td>...</td>\n",
       "      <td>16.963333</td>\n",
       "      <td>45.290000</td>\n",
       "      <td>6.000000</td>\n",
       "      <td>734.500000</td>\n",
       "      <td>91.000000</td>\n",
       "      <td>6.000000</td>\n",
       "      <td>40.000000</td>\n",
       "      <td>4.600000</td>\n",
       "      <td>34.351142</td>\n",
       "      <td>34.351142</td>\n",
       "    </tr>\n",
       "    <tr>\n",
       "      <th>13</th>\n",
       "      <td>2016-01-11 19:10:00</td>\n",
       "      <td>250</td>\n",
       "      <td>40</td>\n",
       "      <td>20.260000</td>\n",
       "      <td>52.726667</td>\n",
       "      <td>19.730000</td>\n",
       "      <td>45.100000</td>\n",
       "      <td>19.890000</td>\n",
       "      <td>45.493333</td>\n",
       "      <td>19.000000</td>\n",
       "      <td>...</td>\n",
       "      <td>16.890000</td>\n",
       "      <td>45.326667</td>\n",
       "      <td>6.000000</td>\n",
       "      <td>734.616667</td>\n",
       "      <td>90.500000</td>\n",
       "      <td>6.000000</td>\n",
       "      <td>40.000000</td>\n",
       "      <td>4.516667</td>\n",
       "      <td>19.205186</td>\n",
       "      <td>19.205186</td>\n",
       "    </tr>\n",
       "    <tr>\n",
       "      <th>14</th>\n",
       "      <td>2016-01-11 19:20:00</td>\n",
       "      <td>100</td>\n",
       "      <td>10</td>\n",
       "      <td>20.426667</td>\n",
       "      <td>55.893333</td>\n",
       "      <td>19.856667</td>\n",
       "      <td>45.833333</td>\n",
       "      <td>20.033333</td>\n",
       "      <td>47.526667</td>\n",
       "      <td>19.000000</td>\n",
       "      <td>...</td>\n",
       "      <td>16.890000</td>\n",
       "      <td>45.345000</td>\n",
       "      <td>6.000000</td>\n",
       "      <td>734.733333</td>\n",
       "      <td>90.000000</td>\n",
       "      <td>6.000000</td>\n",
       "      <td>40.000000</td>\n",
       "      <td>4.433333</td>\n",
       "      <td>38.492071</td>\n",
       "      <td>38.492071</td>\n",
       "    </tr>\n",
       "    <tr>\n",
       "      <th>15</th>\n",
       "      <td>2016-01-11 19:30:00</td>\n",
       "      <td>100</td>\n",
       "      <td>10</td>\n",
       "      <td>20.566667</td>\n",
       "      <td>53.893333</td>\n",
       "      <td>20.033333</td>\n",
       "      <td>46.756667</td>\n",
       "      <td>20.100000</td>\n",
       "      <td>48.466667</td>\n",
       "      <td>19.000000</td>\n",
       "      <td>...</td>\n",
       "      <td>16.890000</td>\n",
       "      <td>45.326667</td>\n",
       "      <td>6.000000</td>\n",
       "      <td>734.850000</td>\n",
       "      <td>89.500000</td>\n",
       "      <td>6.000000</td>\n",
       "      <td>40.000000</td>\n",
       "      <td>4.350000</td>\n",
       "      <td>24.884962</td>\n",
       "      <td>24.884962</td>\n",
       "    </tr>\n",
       "    <tr>\n",
       "      <th>16</th>\n",
       "      <td>2016-01-11 19:40:00</td>\n",
       "      <td>90</td>\n",
       "      <td>10</td>\n",
       "      <td>20.730000</td>\n",
       "      <td>52.660000</td>\n",
       "      <td>20.166667</td>\n",
       "      <td>47.223333</td>\n",
       "      <td>20.200000</td>\n",
       "      <td>48.530000</td>\n",
       "      <td>18.926667</td>\n",
       "      <td>...</td>\n",
       "      <td>16.890000</td>\n",
       "      <td>45.290000</td>\n",
       "      <td>6.000000</td>\n",
       "      <td>734.966667</td>\n",
       "      <td>89.000000</td>\n",
       "      <td>6.000000</td>\n",
       "      <td>40.000000</td>\n",
       "      <td>4.266667</td>\n",
       "      <td>35.880925</td>\n",
       "      <td>35.880925</td>\n",
       "    </tr>\n",
       "    <tr>\n",
       "      <th>17</th>\n",
       "      <td>2016-01-11 19:50:00</td>\n",
       "      <td>70</td>\n",
       "      <td>30</td>\n",
       "      <td>20.856667</td>\n",
       "      <td>53.660000</td>\n",
       "      <td>20.200000</td>\n",
       "      <td>47.056667</td>\n",
       "      <td>20.200000</td>\n",
       "      <td>48.447500</td>\n",
       "      <td>18.890000</td>\n",
       "      <td>...</td>\n",
       "      <td>16.890000</td>\n",
       "      <td>45.290000</td>\n",
       "      <td>6.000000</td>\n",
       "      <td>735.083333</td>\n",
       "      <td>88.500000</td>\n",
       "      <td>6.000000</td>\n",
       "      <td>40.000000</td>\n",
       "      <td>4.183333</td>\n",
       "      <td>49.595305</td>\n",
       "      <td>49.595305</td>\n",
       "    </tr>\n",
       "    <tr>\n",
       "      <th>18</th>\n",
       "      <td>2016-01-11 20:00:00</td>\n",
       "      <td>80</td>\n",
       "      <td>30</td>\n",
       "      <td>20.890000</td>\n",
       "      <td>51.193333</td>\n",
       "      <td>20.200000</td>\n",
       "      <td>46.330000</td>\n",
       "      <td>20.200000</td>\n",
       "      <td>48.193333</td>\n",
       "      <td>18.963333</td>\n",
       "      <td>...</td>\n",
       "      <td>16.890000</td>\n",
       "      <td>45.200000</td>\n",
       "      <td>6.000000</td>\n",
       "      <td>735.200000</td>\n",
       "      <td>88.000000</td>\n",
       "      <td>6.000000</td>\n",
       "      <td>40.000000</td>\n",
       "      <td>4.100000</td>\n",
       "      <td>19.001759</td>\n",
       "      <td>19.001759</td>\n",
       "    </tr>\n",
       "    <tr>\n",
       "      <th>19</th>\n",
       "      <td>2016-01-11 20:10:00</td>\n",
       "      <td>140</td>\n",
       "      <td>40</td>\n",
       "      <td>20.890000</td>\n",
       "      <td>49.800000</td>\n",
       "      <td>20.200000</td>\n",
       "      <td>46.026667</td>\n",
       "      <td>20.166667</td>\n",
       "      <td>47.633333</td>\n",
       "      <td>19.033333</td>\n",
       "      <td>...</td>\n",
       "      <td>16.890000</td>\n",
       "      <td>45.200000</td>\n",
       "      <td>6.000000</td>\n",
       "      <td>735.233333</td>\n",
       "      <td>87.833333</td>\n",
       "      <td>6.000000</td>\n",
       "      <td>40.000000</td>\n",
       "      <td>4.066667</td>\n",
       "      <td>38.872261</td>\n",
       "      <td>38.872261</td>\n",
       "    </tr>\n",
       "    <tr>\n",
       "      <th>20</th>\n",
       "      <td>2016-01-11 20:20:00</td>\n",
       "      <td>120</td>\n",
       "      <td>20</td>\n",
       "      <td>20.890000</td>\n",
       "      <td>48.433333</td>\n",
       "      <td>20.200000</td>\n",
       "      <td>45.722500</td>\n",
       "      <td>20.166667</td>\n",
       "      <td>47.300000</td>\n",
       "      <td>19.175000</td>\n",
       "      <td>...</td>\n",
       "      <td>16.890000</td>\n",
       "      <td>45.126667</td>\n",
       "      <td>6.000000</td>\n",
       "      <td>735.266667</td>\n",
       "      <td>87.666667</td>\n",
       "      <td>6.000000</td>\n",
       "      <td>40.000000</td>\n",
       "      <td>4.033333</td>\n",
       "      <td>46.735262</td>\n",
       "      <td>46.735262</td>\n",
       "    </tr>\n",
       "    <tr>\n",
       "      <th>21</th>\n",
       "      <td>2016-01-11 20:30:00</td>\n",
       "      <td>190</td>\n",
       "      <td>40</td>\n",
       "      <td>20.963333</td>\n",
       "      <td>47.633333</td>\n",
       "      <td>20.260000</td>\n",
       "      <td>45.530000</td>\n",
       "      <td>20.200000</td>\n",
       "      <td>47.026667</td>\n",
       "      <td>19.260000</td>\n",
       "      <td>...</td>\n",
       "      <td>16.890000</td>\n",
       "      <td>45.126667</td>\n",
       "      <td>6.000000</td>\n",
       "      <td>735.300000</td>\n",
       "      <td>87.500000</td>\n",
       "      <td>6.000000</td>\n",
       "      <td>40.000000</td>\n",
       "      <td>4.000000</td>\n",
       "      <td>10.607126</td>\n",
       "      <td>10.607126</td>\n",
       "    </tr>\n",
       "    <tr>\n",
       "      <th>22</th>\n",
       "      <td>2016-01-11 20:40:00</td>\n",
       "      <td>110</td>\n",
       "      <td>40</td>\n",
       "      <td>21.033333</td>\n",
       "      <td>47.063333</td>\n",
       "      <td>20.290000</td>\n",
       "      <td>45.223333</td>\n",
       "      <td>20.260000</td>\n",
       "      <td>46.826667</td>\n",
       "      <td>19.323333</td>\n",
       "      <td>...</td>\n",
       "      <td>16.890000</td>\n",
       "      <td>45.060000</td>\n",
       "      <td>6.000000</td>\n",
       "      <td>735.333333</td>\n",
       "      <td>87.333333</td>\n",
       "      <td>6.000000</td>\n",
       "      <td>40.000000</td>\n",
       "      <td>3.966667</td>\n",
       "      <td>32.583688</td>\n",
       "      <td>32.583688</td>\n",
       "    </tr>\n",
       "    <tr>\n",
       "      <th>23</th>\n",
       "      <td>2016-01-11 20:50:00</td>\n",
       "      <td>110</td>\n",
       "      <td>40</td>\n",
       "      <td>21.100000</td>\n",
       "      <td>46.596667</td>\n",
       "      <td>20.356667</td>\n",
       "      <td>44.963333</td>\n",
       "      <td>20.290000</td>\n",
       "      <td>46.633333</td>\n",
       "      <td>19.390000</td>\n",
       "      <td>...</td>\n",
       "      <td>16.890000</td>\n",
       "      <td>45.000000</td>\n",
       "      <td>6.000000</td>\n",
       "      <td>735.366667</td>\n",
       "      <td>87.166667</td>\n",
       "      <td>6.000000</td>\n",
       "      <td>40.000000</td>\n",
       "      <td>3.933333</td>\n",
       "      <td>6.277755</td>\n",
       "      <td>6.277755</td>\n",
       "    </tr>\n",
       "    <tr>\n",
       "      <th>24</th>\n",
       "      <td>2016-01-11 21:00:00</td>\n",
       "      <td>110</td>\n",
       "      <td>30</td>\n",
       "      <td>21.133333</td>\n",
       "      <td>46.060000</td>\n",
       "      <td>20.426667</td>\n",
       "      <td>44.760000</td>\n",
       "      <td>20.290000</td>\n",
       "      <td>46.433333</td>\n",
       "      <td>19.390000</td>\n",
       "      <td>...</td>\n",
       "      <td>16.890000</td>\n",
       "      <td>44.966667</td>\n",
       "      <td>6.000000</td>\n",
       "      <td>735.400000</td>\n",
       "      <td>87.000000</td>\n",
       "      <td>6.000000</td>\n",
       "      <td>40.000000</td>\n",
       "      <td>3.900000</td>\n",
       "      <td>13.361033</td>\n",
       "      <td>13.361033</td>\n",
       "    </tr>\n",
       "    <tr>\n",
       "      <th>25</th>\n",
       "      <td>2016-01-11 21:10:00</td>\n",
       "      <td>110</td>\n",
       "      <td>20</td>\n",
       "      <td>21.200000</td>\n",
       "      <td>45.800000</td>\n",
       "      <td>20.500000</td>\n",
       "      <td>44.760000</td>\n",
       "      <td>20.390000</td>\n",
       "      <td>46.223333</td>\n",
       "      <td>19.390000</td>\n",
       "      <td>...</td>\n",
       "      <td>16.890000</td>\n",
       "      <td>44.900000</td>\n",
       "      <td>5.933333</td>\n",
       "      <td>735.466667</td>\n",
       "      <td>87.166667</td>\n",
       "      <td>6.000000</td>\n",
       "      <td>40.000000</td>\n",
       "      <td>3.866667</td>\n",
       "      <td>19.305705</td>\n",
       "      <td>19.305705</td>\n",
       "    </tr>\n",
       "    <tr>\n",
       "      <th>26</th>\n",
       "      <td>2016-01-11 21:20:00</td>\n",
       "      <td>100</td>\n",
       "      <td>30</td>\n",
       "      <td>21.290000</td>\n",
       "      <td>45.900000</td>\n",
       "      <td>20.533333</td>\n",
       "      <td>45.090000</td>\n",
       "      <td>20.390000</td>\n",
       "      <td>46.090000</td>\n",
       "      <td>19.390000</td>\n",
       "      <td>...</td>\n",
       "      <td>16.890000</td>\n",
       "      <td>44.790000</td>\n",
       "      <td>5.866667</td>\n",
       "      <td>735.533333</td>\n",
       "      <td>87.333333</td>\n",
       "      <td>6.000000</td>\n",
       "      <td>40.000000</td>\n",
       "      <td>3.833333</td>\n",
       "      <td>0.669517</td>\n",
       "      <td>0.669517</td>\n",
       "    </tr>\n",
       "    <tr>\n",
       "      <th>27</th>\n",
       "      <td>2016-01-11 21:30:00</td>\n",
       "      <td>100</td>\n",
       "      <td>20</td>\n",
       "      <td>21.356667</td>\n",
       "      <td>45.826667</td>\n",
       "      <td>20.666667</td>\n",
       "      <td>45.163333</td>\n",
       "      <td>20.390000</td>\n",
       "      <td>46.090000</td>\n",
       "      <td>19.390000</td>\n",
       "      <td>...</td>\n",
       "      <td>16.890000</td>\n",
       "      <td>44.790000</td>\n",
       "      <td>5.800000</td>\n",
       "      <td>735.600000</td>\n",
       "      <td>87.500000</td>\n",
       "      <td>6.000000</td>\n",
       "      <td>40.000000</td>\n",
       "      <td>3.800000</td>\n",
       "      <td>19.119398</td>\n",
       "      <td>19.119398</td>\n",
       "    </tr>\n",
       "    <tr>\n",
       "      <th>28</th>\n",
       "      <td>2016-01-11 21:40:00</td>\n",
       "      <td>100</td>\n",
       "      <td>20</td>\n",
       "      <td>21.390000</td>\n",
       "      <td>45.690000</td>\n",
       "      <td>20.700000</td>\n",
       "      <td>45.060000</td>\n",
       "      <td>20.390000</td>\n",
       "      <td>46.090000</td>\n",
       "      <td>19.426667</td>\n",
       "      <td>...</td>\n",
       "      <td>16.890000</td>\n",
       "      <td>44.700000</td>\n",
       "      <td>5.733333</td>\n",
       "      <td>735.666667</td>\n",
       "      <td>87.666667</td>\n",
       "      <td>6.000000</td>\n",
       "      <td>40.000000</td>\n",
       "      <td>3.766667</td>\n",
       "      <td>43.484542</td>\n",
       "      <td>43.484542</td>\n",
       "    </tr>\n",
       "    <tr>\n",
       "      <th>29</th>\n",
       "      <td>2016-01-11 21:50:00</td>\n",
       "      <td>100</td>\n",
       "      <td>20</td>\n",
       "      <td>21.500000</td>\n",
       "      <td>45.333333</td>\n",
       "      <td>20.700000</td>\n",
       "      <td>44.933333</td>\n",
       "      <td>20.390000</td>\n",
       "      <td>46.060000</td>\n",
       "      <td>19.566667</td>\n",
       "      <td>...</td>\n",
       "      <td>16.890000</td>\n",
       "      <td>44.700000</td>\n",
       "      <td>5.666667</td>\n",
       "      <td>735.733333</td>\n",
       "      <td>87.833333</td>\n",
       "      <td>6.000000</td>\n",
       "      <td>40.000000</td>\n",
       "      <td>3.733333</td>\n",
       "      <td>17.017450</td>\n",
       "      <td>17.017450</td>\n",
       "    </tr>\n",
       "    <tr>\n",
       "      <th>...</th>\n",
       "      <td>...</td>\n",
       "      <td>...</td>\n",
       "      <td>...</td>\n",
       "      <td>...</td>\n",
       "      <td>...</td>\n",
       "      <td>...</td>\n",
       "      <td>...</td>\n",
       "      <td>...</td>\n",
       "      <td>...</td>\n",
       "      <td>...</td>\n",
       "      <td>...</td>\n",
       "      <td>...</td>\n",
       "      <td>...</td>\n",
       "      <td>...</td>\n",
       "      <td>...</td>\n",
       "      <td>...</td>\n",
       "      <td>...</td>\n",
       "      <td>...</td>\n",
       "      <td>...</td>\n",
       "      <td>...</td>\n",
       "      <td>...</td>\n",
       "    </tr>\n",
       "    <tr>\n",
       "      <th>19705</th>\n",
       "      <td>2016-05-27 13:10:00</td>\n",
       "      <td>280</td>\n",
       "      <td>0</td>\n",
       "      <td>25.033333</td>\n",
       "      <td>48.363333</td>\n",
       "      <td>26.528571</td>\n",
       "      <td>40.595714</td>\n",
       "      <td>28.496667</td>\n",
       "      <td>41.900000</td>\n",
       "      <td>24.500000</td>\n",
       "      <td>...</td>\n",
       "      <td>23.100000</td>\n",
       "      <td>46.500000</td>\n",
       "      <td>21.250000</td>\n",
       "      <td>756.050000</td>\n",
       "      <td>59.833333</td>\n",
       "      <td>1.166667</td>\n",
       "      <td>23.666667</td>\n",
       "      <td>13.100000</td>\n",
       "      <td>32.420348</td>\n",
       "      <td>32.420348</td>\n",
       "    </tr>\n",
       "    <tr>\n",
       "      <th>19706</th>\n",
       "      <td>2016-05-27 13:20:00</td>\n",
       "      <td>240</td>\n",
       "      <td>0</td>\n",
       "      <td>25.166667</td>\n",
       "      <td>48.156667</td>\n",
       "      <td>26.600000</td>\n",
       "      <td>40.940000</td>\n",
       "      <td>28.290000</td>\n",
       "      <td>41.966667</td>\n",
       "      <td>24.500000</td>\n",
       "      <td>...</td>\n",
       "      <td>23.100000</td>\n",
       "      <td>46.500000</td>\n",
       "      <td>21.400000</td>\n",
       "      <td>756.000000</td>\n",
       "      <td>59.666667</td>\n",
       "      <td>1.333333</td>\n",
       "      <td>23.333333</td>\n",
       "      <td>13.200000</td>\n",
       "      <td>49.189027</td>\n",
       "      <td>49.189027</td>\n",
       "    </tr>\n",
       "    <tr>\n",
       "      <th>19707</th>\n",
       "      <td>2016-05-27 13:30:00</td>\n",
       "      <td>250</td>\n",
       "      <td>0</td>\n",
       "      <td>25.323333</td>\n",
       "      <td>47.930000</td>\n",
       "      <td>26.600000</td>\n",
       "      <td>41.012857</td>\n",
       "      <td>28.200000</td>\n",
       "      <td>42.090000</td>\n",
       "      <td>24.533333</td>\n",
       "      <td>...</td>\n",
       "      <td>23.100000</td>\n",
       "      <td>46.522500</td>\n",
       "      <td>21.550000</td>\n",
       "      <td>755.950000</td>\n",
       "      <td>59.500000</td>\n",
       "      <td>1.500000</td>\n",
       "      <td>23.000000</td>\n",
       "      <td>13.300000</td>\n",
       "      <td>15.081162</td>\n",
       "      <td>15.081162</td>\n",
       "    </tr>\n",
       "    <tr>\n",
       "      <th>19708</th>\n",
       "      <td>2016-05-27 13:40:00</td>\n",
       "      <td>220</td>\n",
       "      <td>0</td>\n",
       "      <td>25.390000</td>\n",
       "      <td>47.656667</td>\n",
       "      <td>26.600000</td>\n",
       "      <td>41.036000</td>\n",
       "      <td>28.200000</td>\n",
       "      <td>42.030000</td>\n",
       "      <td>24.600000</td>\n",
       "      <td>...</td>\n",
       "      <td>23.100000</td>\n",
       "      <td>46.530000</td>\n",
       "      <td>21.700000</td>\n",
       "      <td>755.900000</td>\n",
       "      <td>59.333333</td>\n",
       "      <td>1.666667</td>\n",
       "      <td>22.666667</td>\n",
       "      <td>13.400000</td>\n",
       "      <td>45.226866</td>\n",
       "      <td>45.226866</td>\n",
       "    </tr>\n",
       "    <tr>\n",
       "      <th>19709</th>\n",
       "      <td>2016-05-27 13:50:00</td>\n",
       "      <td>230</td>\n",
       "      <td>0</td>\n",
       "      <td>25.500000</td>\n",
       "      <td>47.133333</td>\n",
       "      <td>26.600000</td>\n",
       "      <td>41.000000</td>\n",
       "      <td>28.200000</td>\n",
       "      <td>41.796667</td>\n",
       "      <td>24.600000</td>\n",
       "      <td>...</td>\n",
       "      <td>23.100000</td>\n",
       "      <td>46.530000</td>\n",
       "      <td>21.850000</td>\n",
       "      <td>755.850000</td>\n",
       "      <td>59.166667</td>\n",
       "      <td>1.833333</td>\n",
       "      <td>22.333333</td>\n",
       "      <td>13.500000</td>\n",
       "      <td>5.773431</td>\n",
       "      <td>5.773431</td>\n",
       "    </tr>\n",
       "    <tr>\n",
       "      <th>19710</th>\n",
       "      <td>2016-05-27 14:00:00</td>\n",
       "      <td>190</td>\n",
       "      <td>10</td>\n",
       "      <td>25.500000</td>\n",
       "      <td>47.060000</td>\n",
       "      <td>26.540000</td>\n",
       "      <td>41.000000</td>\n",
       "      <td>28.200000</td>\n",
       "      <td>41.530000</td>\n",
       "      <td>24.600000</td>\n",
       "      <td>...</td>\n",
       "      <td>23.100000</td>\n",
       "      <td>46.530000</td>\n",
       "      <td>22.000000</td>\n",
       "      <td>755.800000</td>\n",
       "      <td>59.000000</td>\n",
       "      <td>2.000000</td>\n",
       "      <td>22.000000</td>\n",
       "      <td>13.600000</td>\n",
       "      <td>41.515044</td>\n",
       "      <td>41.515044</td>\n",
       "    </tr>\n",
       "    <tr>\n",
       "      <th>19711</th>\n",
       "      <td>2016-05-27 14:10:00</td>\n",
       "      <td>160</td>\n",
       "      <td>0</td>\n",
       "      <td>25.600000</td>\n",
       "      <td>46.990000</td>\n",
       "      <td>26.512500</td>\n",
       "      <td>41.203750</td>\n",
       "      <td>28.200000</td>\n",
       "      <td>41.590000</td>\n",
       "      <td>24.633333</td>\n",
       "      <td>...</td>\n",
       "      <td>23.100000</td>\n",
       "      <td>46.530000</td>\n",
       "      <td>21.966667</td>\n",
       "      <td>755.800000</td>\n",
       "      <td>59.000000</td>\n",
       "      <td>2.000000</td>\n",
       "      <td>21.833333</td>\n",
       "      <td>13.550000</td>\n",
       "      <td>19.540642</td>\n",
       "      <td>19.540642</td>\n",
       "    </tr>\n",
       "    <tr>\n",
       "      <th>19712</th>\n",
       "      <td>2016-05-27 14:20:00</td>\n",
       "      <td>80</td>\n",
       "      <td>0</td>\n",
       "      <td>25.600000</td>\n",
       "      <td>46.730000</td>\n",
       "      <td>26.437143</td>\n",
       "      <td>41.384286</td>\n",
       "      <td>28.426667</td>\n",
       "      <td>41.430000</td>\n",
       "      <td>24.700000</td>\n",
       "      <td>...</td>\n",
       "      <td>23.100000</td>\n",
       "      <td>46.590000</td>\n",
       "      <td>21.933333</td>\n",
       "      <td>755.800000</td>\n",
       "      <td>59.000000</td>\n",
       "      <td>2.000000</td>\n",
       "      <td>21.666667</td>\n",
       "      <td>13.500000</td>\n",
       "      <td>16.977597</td>\n",
       "      <td>16.977597</td>\n",
       "    </tr>\n",
       "    <tr>\n",
       "      <th>19713</th>\n",
       "      <td>2016-05-27 14:30:00</td>\n",
       "      <td>60</td>\n",
       "      <td>0</td>\n",
       "      <td>25.566667</td>\n",
       "      <td>46.633333</td>\n",
       "      <td>26.370000</td>\n",
       "      <td>41.378000</td>\n",
       "      <td>28.566667</td>\n",
       "      <td>41.156667</td>\n",
       "      <td>24.700000</td>\n",
       "      <td>...</td>\n",
       "      <td>23.100000</td>\n",
       "      <td>46.626667</td>\n",
       "      <td>21.900000</td>\n",
       "      <td>755.800000</td>\n",
       "      <td>59.000000</td>\n",
       "      <td>2.000000</td>\n",
       "      <td>21.500000</td>\n",
       "      <td>13.450000</td>\n",
       "      <td>8.991420</td>\n",
       "      <td>8.991420</td>\n",
       "    </tr>\n",
       "    <tr>\n",
       "      <th>19714</th>\n",
       "      <td>2016-05-27 14:40:00</td>\n",
       "      <td>60</td>\n",
       "      <td>0</td>\n",
       "      <td>25.500000</td>\n",
       "      <td>46.360000</td>\n",
       "      <td>26.318571</td>\n",
       "      <td>41.264286</td>\n",
       "      <td>28.566667</td>\n",
       "      <td>40.663333</td>\n",
       "      <td>24.700000</td>\n",
       "      <td>...</td>\n",
       "      <td>23.100000</td>\n",
       "      <td>46.700000</td>\n",
       "      <td>21.866667</td>\n",
       "      <td>755.800000</td>\n",
       "      <td>59.000000</td>\n",
       "      <td>2.000000</td>\n",
       "      <td>21.333333</td>\n",
       "      <td>13.400000</td>\n",
       "      <td>40.409885</td>\n",
       "      <td>40.409885</td>\n",
       "    </tr>\n",
       "    <tr>\n",
       "      <th>19715</th>\n",
       "      <td>2016-05-27 14:50:00</td>\n",
       "      <td>60</td>\n",
       "      <td>0</td>\n",
       "      <td>25.500000</td>\n",
       "      <td>46.060000</td>\n",
       "      <td>26.350000</td>\n",
       "      <td>41.000000</td>\n",
       "      <td>28.426667</td>\n",
       "      <td>40.590000</td>\n",
       "      <td>24.666667</td>\n",
       "      <td>...</td>\n",
       "      <td>23.100000</td>\n",
       "      <td>46.590000</td>\n",
       "      <td>21.833333</td>\n",
       "      <td>755.800000</td>\n",
       "      <td>59.000000</td>\n",
       "      <td>2.000000</td>\n",
       "      <td>21.166667</td>\n",
       "      <td>13.350000</td>\n",
       "      <td>37.889086</td>\n",
       "      <td>37.889086</td>\n",
       "    </tr>\n",
       "    <tr>\n",
       "      <th>19716</th>\n",
       "      <td>2016-05-27 15:00:00</td>\n",
       "      <td>60</td>\n",
       "      <td>0</td>\n",
       "      <td>25.500000</td>\n",
       "      <td>45.933333</td>\n",
       "      <td>26.277143</td>\n",
       "      <td>41.000000</td>\n",
       "      <td>28.356667</td>\n",
       "      <td>40.560000</td>\n",
       "      <td>24.666667</td>\n",
       "      <td>...</td>\n",
       "      <td>23.100000</td>\n",
       "      <td>46.590000</td>\n",
       "      <td>21.800000</td>\n",
       "      <td>755.800000</td>\n",
       "      <td>59.000000</td>\n",
       "      <td>2.000000</td>\n",
       "      <td>21.000000</td>\n",
       "      <td>13.300000</td>\n",
       "      <td>17.123315</td>\n",
       "      <td>17.123315</td>\n",
       "    </tr>\n",
       "    <tr>\n",
       "      <th>19717</th>\n",
       "      <td>2016-05-27 15:10:00</td>\n",
       "      <td>70</td>\n",
       "      <td>0</td>\n",
       "      <td>25.500000</td>\n",
       "      <td>45.760000</td>\n",
       "      <td>26.200000</td>\n",
       "      <td>41.000000</td>\n",
       "      <td>28.290000</td>\n",
       "      <td>40.433333</td>\n",
       "      <td>24.700000</td>\n",
       "      <td>...</td>\n",
       "      <td>23.133333</td>\n",
       "      <td>46.590000</td>\n",
       "      <td>21.966667</td>\n",
       "      <td>755.750000</td>\n",
       "      <td>58.333333</td>\n",
       "      <td>2.000000</td>\n",
       "      <td>21.333333</td>\n",
       "      <td>13.283333</td>\n",
       "      <td>24.058432</td>\n",
       "      <td>24.058432</td>\n",
       "    </tr>\n",
       "    <tr>\n",
       "      <th>19718</th>\n",
       "      <td>2016-05-27 15:20:00</td>\n",
       "      <td>80</td>\n",
       "      <td>0</td>\n",
       "      <td>25.500000</td>\n",
       "      <td>45.626667</td>\n",
       "      <td>26.171429</td>\n",
       "      <td>41.000000</td>\n",
       "      <td>28.260000</td>\n",
       "      <td>40.260000</td>\n",
       "      <td>24.700000</td>\n",
       "      <td>...</td>\n",
       "      <td>23.133333</td>\n",
       "      <td>46.590000</td>\n",
       "      <td>22.133333</td>\n",
       "      <td>755.700000</td>\n",
       "      <td>57.666667</td>\n",
       "      <td>2.000000</td>\n",
       "      <td>21.666667</td>\n",
       "      <td>13.266667</td>\n",
       "      <td>9.538671</td>\n",
       "      <td>9.538671</td>\n",
       "    </tr>\n",
       "    <tr>\n",
       "      <th>19719</th>\n",
       "      <td>2016-05-27 15:30:00</td>\n",
       "      <td>80</td>\n",
       "      <td>0</td>\n",
       "      <td>25.500000</td>\n",
       "      <td>45.590000</td>\n",
       "      <td>26.100000</td>\n",
       "      <td>41.000000</td>\n",
       "      <td>28.200000</td>\n",
       "      <td>40.126667</td>\n",
       "      <td>24.700000</td>\n",
       "      <td>...</td>\n",
       "      <td>23.166667</td>\n",
       "      <td>46.590000</td>\n",
       "      <td>22.300000</td>\n",
       "      <td>755.650000</td>\n",
       "      <td>57.000000</td>\n",
       "      <td>2.000000</td>\n",
       "      <td>22.000000</td>\n",
       "      <td>13.250000</td>\n",
       "      <td>30.020685</td>\n",
       "      <td>30.020685</td>\n",
       "    </tr>\n",
       "    <tr>\n",
       "      <th>19720</th>\n",
       "      <td>2016-05-27 15:40:00</td>\n",
       "      <td>70</td>\n",
       "      <td>0</td>\n",
       "      <td>25.500000</td>\n",
       "      <td>45.522500</td>\n",
       "      <td>26.100000</td>\n",
       "      <td>41.051429</td>\n",
       "      <td>28.200000</td>\n",
       "      <td>40.200000</td>\n",
       "      <td>24.700000</td>\n",
       "      <td>...</td>\n",
       "      <td>23.100000</td>\n",
       "      <td>46.590000</td>\n",
       "      <td>22.466667</td>\n",
       "      <td>755.600000</td>\n",
       "      <td>56.333333</td>\n",
       "      <td>2.000000</td>\n",
       "      <td>22.333333</td>\n",
       "      <td>13.233333</td>\n",
       "      <td>23.851737</td>\n",
       "      <td>23.851737</td>\n",
       "    </tr>\n",
       "    <tr>\n",
       "      <th>19721</th>\n",
       "      <td>2016-05-27 15:50:00</td>\n",
       "      <td>100</td>\n",
       "      <td>0</td>\n",
       "      <td>25.500000</td>\n",
       "      <td>45.633333</td>\n",
       "      <td>26.080000</td>\n",
       "      <td>41.196000</td>\n",
       "      <td>28.133333</td>\n",
       "      <td>40.260000</td>\n",
       "      <td>24.700000</td>\n",
       "      <td>...</td>\n",
       "      <td>23.200000</td>\n",
       "      <td>46.590000</td>\n",
       "      <td>22.633333</td>\n",
       "      <td>755.550000</td>\n",
       "      <td>55.666667</td>\n",
       "      <td>2.000000</td>\n",
       "      <td>22.666667</td>\n",
       "      <td>13.216667</td>\n",
       "      <td>47.981309</td>\n",
       "      <td>47.981309</td>\n",
       "    </tr>\n",
       "    <tr>\n",
       "      <th>19722</th>\n",
       "      <td>2016-05-27 16:00:00</td>\n",
       "      <td>100</td>\n",
       "      <td>0</td>\n",
       "      <td>25.500000</td>\n",
       "      <td>45.730000</td>\n",
       "      <td>26.000000</td>\n",
       "      <td>41.428571</td>\n",
       "      <td>28.100000</td>\n",
       "      <td>40.433333</td>\n",
       "      <td>24.700000</td>\n",
       "      <td>...</td>\n",
       "      <td>23.200000</td>\n",
       "      <td>46.590000</td>\n",
       "      <td>22.800000</td>\n",
       "      <td>755.500000</td>\n",
       "      <td>55.000000</td>\n",
       "      <td>2.000000</td>\n",
       "      <td>23.000000</td>\n",
       "      <td>13.200000</td>\n",
       "      <td>18.215602</td>\n",
       "      <td>18.215602</td>\n",
       "    </tr>\n",
       "    <tr>\n",
       "      <th>19723</th>\n",
       "      <td>2016-05-27 16:10:00</td>\n",
       "      <td>90</td>\n",
       "      <td>0</td>\n",
       "      <td>25.500000</td>\n",
       "      <td>45.790000</td>\n",
       "      <td>26.000000</td>\n",
       "      <td>41.590000</td>\n",
       "      <td>28.100000</td>\n",
       "      <td>40.560000</td>\n",
       "      <td>24.700000</td>\n",
       "      <td>...</td>\n",
       "      <td>23.160000</td>\n",
       "      <td>46.590000</td>\n",
       "      <td>22.833333</td>\n",
       "      <td>755.450000</td>\n",
       "      <td>55.000000</td>\n",
       "      <td>2.166667</td>\n",
       "      <td>22.833333</td>\n",
       "      <td>13.233333</td>\n",
       "      <td>38.751594</td>\n",
       "      <td>38.751594</td>\n",
       "    </tr>\n",
       "    <tr>\n",
       "      <th>19724</th>\n",
       "      <td>2016-05-27 16:20:00</td>\n",
       "      <td>100</td>\n",
       "      <td>0</td>\n",
       "      <td>25.500000</td>\n",
       "      <td>45.933333</td>\n",
       "      <td>26.000000</td>\n",
       "      <td>41.652857</td>\n",
       "      <td>28.000000</td>\n",
       "      <td>40.700000</td>\n",
       "      <td>24.700000</td>\n",
       "      <td>...</td>\n",
       "      <td>23.200000</td>\n",
       "      <td>46.621429</td>\n",
       "      <td>22.866667</td>\n",
       "      <td>755.400000</td>\n",
       "      <td>55.000000</td>\n",
       "      <td>2.333333</td>\n",
       "      <td>22.666667</td>\n",
       "      <td>13.266667</td>\n",
       "      <td>32.306224</td>\n",
       "      <td>32.306224</td>\n",
       "    </tr>\n",
       "    <tr>\n",
       "      <th>19725</th>\n",
       "      <td>2016-05-27 16:30:00</td>\n",
       "      <td>220</td>\n",
       "      <td>0</td>\n",
       "      <td>25.426667</td>\n",
       "      <td>46.060000</td>\n",
       "      <td>26.000000</td>\n",
       "      <td>41.700000</td>\n",
       "      <td>28.000000</td>\n",
       "      <td>40.760000</td>\n",
       "      <td>24.700000</td>\n",
       "      <td>...</td>\n",
       "      <td>23.200000</td>\n",
       "      <td>46.700000</td>\n",
       "      <td>22.900000</td>\n",
       "      <td>755.350000</td>\n",
       "      <td>55.000000</td>\n",
       "      <td>2.500000</td>\n",
       "      <td>22.500000</td>\n",
       "      <td>13.300000</td>\n",
       "      <td>23.009520</td>\n",
       "      <td>23.009520</td>\n",
       "    </tr>\n",
       "    <tr>\n",
       "      <th>19726</th>\n",
       "      <td>2016-05-27 16:40:00</td>\n",
       "      <td>180</td>\n",
       "      <td>0</td>\n",
       "      <td>25.500000</td>\n",
       "      <td>46.530000</td>\n",
       "      <td>26.000000</td>\n",
       "      <td>41.725714</td>\n",
       "      <td>27.856667</td>\n",
       "      <td>40.500000</td>\n",
       "      <td>24.700000</td>\n",
       "      <td>...</td>\n",
       "      <td>23.200000</td>\n",
       "      <td>46.652857</td>\n",
       "      <td>22.933333</td>\n",
       "      <td>755.300000</td>\n",
       "      <td>55.000000</td>\n",
       "      <td>2.666667</td>\n",
       "      <td>22.333333</td>\n",
       "      <td>13.333333</td>\n",
       "      <td>25.296732</td>\n",
       "      <td>25.296732</td>\n",
       "    </tr>\n",
       "    <tr>\n",
       "      <th>19727</th>\n",
       "      <td>2016-05-27 16:50:00</td>\n",
       "      <td>120</td>\n",
       "      <td>0</td>\n",
       "      <td>25.500000</td>\n",
       "      <td>47.456667</td>\n",
       "      <td>26.000000</td>\n",
       "      <td>42.320000</td>\n",
       "      <td>27.663333</td>\n",
       "      <td>40.693333</td>\n",
       "      <td>24.700000</td>\n",
       "      <td>...</td>\n",
       "      <td>23.200000</td>\n",
       "      <td>46.718000</td>\n",
       "      <td>22.966667</td>\n",
       "      <td>755.250000</td>\n",
       "      <td>55.000000</td>\n",
       "      <td>2.833333</td>\n",
       "      <td>22.166667</td>\n",
       "      <td>13.366667</td>\n",
       "      <td>1.796395</td>\n",
       "      <td>1.796395</td>\n",
       "    </tr>\n",
       "    <tr>\n",
       "      <th>19728</th>\n",
       "      <td>2016-05-27 17:00:00</td>\n",
       "      <td>110</td>\n",
       "      <td>0</td>\n",
       "      <td>25.600000</td>\n",
       "      <td>47.193333</td>\n",
       "      <td>25.968571</td>\n",
       "      <td>42.528571</td>\n",
       "      <td>27.390000</td>\n",
       "      <td>41.030000</td>\n",
       "      <td>24.700000</td>\n",
       "      <td>...</td>\n",
       "      <td>23.200000</td>\n",
       "      <td>46.751429</td>\n",
       "      <td>23.000000</td>\n",
       "      <td>755.200000</td>\n",
       "      <td>55.000000</td>\n",
       "      <td>3.000000</td>\n",
       "      <td>22.000000</td>\n",
       "      <td>13.400000</td>\n",
       "      <td>18.248201</td>\n",
       "      <td>18.248201</td>\n",
       "    </tr>\n",
       "    <tr>\n",
       "      <th>19729</th>\n",
       "      <td>2016-05-27 17:10:00</td>\n",
       "      <td>90</td>\n",
       "      <td>0</td>\n",
       "      <td>25.533333</td>\n",
       "      <td>46.860000</td>\n",
       "      <td>25.978000</td>\n",
       "      <td>42.534000</td>\n",
       "      <td>27.323333</td>\n",
       "      <td>41.090000</td>\n",
       "      <td>24.700000</td>\n",
       "      <td>...</td>\n",
       "      <td>23.200000</td>\n",
       "      <td>46.745000</td>\n",
       "      <td>22.866667</td>\n",
       "      <td>755.200000</td>\n",
       "      <td>55.333333</td>\n",
       "      <td>3.166667</td>\n",
       "      <td>22.833333</td>\n",
       "      <td>13.366667</td>\n",
       "      <td>16.966162</td>\n",
       "      <td>16.966162</td>\n",
       "    </tr>\n",
       "    <tr>\n",
       "      <th>19730</th>\n",
       "      <td>2016-05-27 17:20:00</td>\n",
       "      <td>100</td>\n",
       "      <td>0</td>\n",
       "      <td>25.566667</td>\n",
       "      <td>46.560000</td>\n",
       "      <td>25.890000</td>\n",
       "      <td>42.025714</td>\n",
       "      <td>27.200000</td>\n",
       "      <td>41.163333</td>\n",
       "      <td>24.700000</td>\n",
       "      <td>...</td>\n",
       "      <td>23.200000</td>\n",
       "      <td>46.790000</td>\n",
       "      <td>22.733333</td>\n",
       "      <td>755.200000</td>\n",
       "      <td>55.666667</td>\n",
       "      <td>3.333333</td>\n",
       "      <td>23.666667</td>\n",
       "      <td>13.333333</td>\n",
       "      <td>43.096812</td>\n",
       "      <td>43.096812</td>\n",
       "    </tr>\n",
       "    <tr>\n",
       "      <th>19731</th>\n",
       "      <td>2016-05-27 17:30:00</td>\n",
       "      <td>90</td>\n",
       "      <td>0</td>\n",
       "      <td>25.500000</td>\n",
       "      <td>46.500000</td>\n",
       "      <td>25.754000</td>\n",
       "      <td>42.080000</td>\n",
       "      <td>27.133333</td>\n",
       "      <td>41.223333</td>\n",
       "      <td>24.700000</td>\n",
       "      <td>...</td>\n",
       "      <td>23.200000</td>\n",
       "      <td>46.790000</td>\n",
       "      <td>22.600000</td>\n",
       "      <td>755.200000</td>\n",
       "      <td>56.000000</td>\n",
       "      <td>3.500000</td>\n",
       "      <td>24.500000</td>\n",
       "      <td>13.300000</td>\n",
       "      <td>49.282940</td>\n",
       "      <td>49.282940</td>\n",
       "    </tr>\n",
       "    <tr>\n",
       "      <th>19732</th>\n",
       "      <td>2016-05-27 17:40:00</td>\n",
       "      <td>270</td>\n",
       "      <td>10</td>\n",
       "      <td>25.500000</td>\n",
       "      <td>46.596667</td>\n",
       "      <td>25.628571</td>\n",
       "      <td>42.768571</td>\n",
       "      <td>27.050000</td>\n",
       "      <td>41.690000</td>\n",
       "      <td>24.700000</td>\n",
       "      <td>...</td>\n",
       "      <td>23.200000</td>\n",
       "      <td>46.790000</td>\n",
       "      <td>22.466667</td>\n",
       "      <td>755.200000</td>\n",
       "      <td>56.333333</td>\n",
       "      <td>3.666667</td>\n",
       "      <td>25.333333</td>\n",
       "      <td>13.266667</td>\n",
       "      <td>29.199117</td>\n",
       "      <td>29.199117</td>\n",
       "    </tr>\n",
       "    <tr>\n",
       "      <th>19733</th>\n",
       "      <td>2016-05-27 17:50:00</td>\n",
       "      <td>420</td>\n",
       "      <td>10</td>\n",
       "      <td>25.500000</td>\n",
       "      <td>46.990000</td>\n",
       "      <td>25.414000</td>\n",
       "      <td>43.036000</td>\n",
       "      <td>26.890000</td>\n",
       "      <td>41.290000</td>\n",
       "      <td>24.700000</td>\n",
       "      <td>...</td>\n",
       "      <td>23.200000</td>\n",
       "      <td>46.817500</td>\n",
       "      <td>22.333333</td>\n",
       "      <td>755.200000</td>\n",
       "      <td>56.666667</td>\n",
       "      <td>3.833333</td>\n",
       "      <td>26.166667</td>\n",
       "      <td>13.233333</td>\n",
       "      <td>6.322784</td>\n",
       "      <td>6.322784</td>\n",
       "    </tr>\n",
       "    <tr>\n",
       "      <th>19734</th>\n",
       "      <td>2016-05-27 18:00:00</td>\n",
       "      <td>430</td>\n",
       "      <td>10</td>\n",
       "      <td>25.500000</td>\n",
       "      <td>46.600000</td>\n",
       "      <td>25.264286</td>\n",
       "      <td>42.971429</td>\n",
       "      <td>26.823333</td>\n",
       "      <td>41.156667</td>\n",
       "      <td>24.700000</td>\n",
       "      <td>...</td>\n",
       "      <td>23.200000</td>\n",
       "      <td>46.845000</td>\n",
       "      <td>22.200000</td>\n",
       "      <td>755.200000</td>\n",
       "      <td>57.000000</td>\n",
       "      <td>4.000000</td>\n",
       "      <td>27.000000</td>\n",
       "      <td>13.200000</td>\n",
       "      <td>34.118851</td>\n",
       "      <td>34.118851</td>\n",
       "    </tr>\n",
       "  </tbody>\n",
       "</table>\n",
       "<p>19735 rows × 29 columns</p>\n",
       "</div>"
      ],
      "text/plain": [
       "                      date  Appliances  lights         T1       RH_1  \\\n",
       "0      2016-01-11 17:00:00          60      30  19.890000  47.596667   \n",
       "1      2016-01-11 17:10:00          60      30  19.890000  46.693333   \n",
       "2      2016-01-11 17:20:00          50      30  19.890000  46.300000   \n",
       "3      2016-01-11 17:30:00          50      40  19.890000  46.066667   \n",
       "4      2016-01-11 17:40:00          60      40  19.890000  46.333333   \n",
       "5      2016-01-11 17:50:00          50      40  19.890000  46.026667   \n",
       "6      2016-01-11 18:00:00          60      50  19.890000  45.766667   \n",
       "7      2016-01-11 18:10:00          60      50  19.856667  45.560000   \n",
       "8      2016-01-11 18:20:00          60      40  19.790000  45.597500   \n",
       "9      2016-01-11 18:30:00          70      40  19.856667  46.090000   \n",
       "10     2016-01-11 18:40:00         230      70  19.926667  45.863333   \n",
       "11     2016-01-11 18:50:00         580      60  20.066667  46.396667   \n",
       "12     2016-01-11 19:00:00         430      50  20.133333  48.000000   \n",
       "13     2016-01-11 19:10:00         250      40  20.260000  52.726667   \n",
       "14     2016-01-11 19:20:00         100      10  20.426667  55.893333   \n",
       "15     2016-01-11 19:30:00         100      10  20.566667  53.893333   \n",
       "16     2016-01-11 19:40:00          90      10  20.730000  52.660000   \n",
       "17     2016-01-11 19:50:00          70      30  20.856667  53.660000   \n",
       "18     2016-01-11 20:00:00          80      30  20.890000  51.193333   \n",
       "19     2016-01-11 20:10:00         140      40  20.890000  49.800000   \n",
       "20     2016-01-11 20:20:00         120      20  20.890000  48.433333   \n",
       "21     2016-01-11 20:30:00         190      40  20.963333  47.633333   \n",
       "22     2016-01-11 20:40:00         110      40  21.033333  47.063333   \n",
       "23     2016-01-11 20:50:00         110      40  21.100000  46.596667   \n",
       "24     2016-01-11 21:00:00         110      30  21.133333  46.060000   \n",
       "25     2016-01-11 21:10:00         110      20  21.200000  45.800000   \n",
       "26     2016-01-11 21:20:00         100      30  21.290000  45.900000   \n",
       "27     2016-01-11 21:30:00         100      20  21.356667  45.826667   \n",
       "28     2016-01-11 21:40:00         100      20  21.390000  45.690000   \n",
       "29     2016-01-11 21:50:00         100      20  21.500000  45.333333   \n",
       "...                    ...         ...     ...        ...        ...   \n",
       "19705  2016-05-27 13:10:00         280       0  25.033333  48.363333   \n",
       "19706  2016-05-27 13:20:00         240       0  25.166667  48.156667   \n",
       "19707  2016-05-27 13:30:00         250       0  25.323333  47.930000   \n",
       "19708  2016-05-27 13:40:00         220       0  25.390000  47.656667   \n",
       "19709  2016-05-27 13:50:00         230       0  25.500000  47.133333   \n",
       "19710  2016-05-27 14:00:00         190      10  25.500000  47.060000   \n",
       "19711  2016-05-27 14:10:00         160       0  25.600000  46.990000   \n",
       "19712  2016-05-27 14:20:00          80       0  25.600000  46.730000   \n",
       "19713  2016-05-27 14:30:00          60       0  25.566667  46.633333   \n",
       "19714  2016-05-27 14:40:00          60       0  25.500000  46.360000   \n",
       "19715  2016-05-27 14:50:00          60       0  25.500000  46.060000   \n",
       "19716  2016-05-27 15:00:00          60       0  25.500000  45.933333   \n",
       "19717  2016-05-27 15:10:00          70       0  25.500000  45.760000   \n",
       "19718  2016-05-27 15:20:00          80       0  25.500000  45.626667   \n",
       "19719  2016-05-27 15:30:00          80       0  25.500000  45.590000   \n",
       "19720  2016-05-27 15:40:00          70       0  25.500000  45.522500   \n",
       "19721  2016-05-27 15:50:00         100       0  25.500000  45.633333   \n",
       "19722  2016-05-27 16:00:00         100       0  25.500000  45.730000   \n",
       "19723  2016-05-27 16:10:00          90       0  25.500000  45.790000   \n",
       "19724  2016-05-27 16:20:00         100       0  25.500000  45.933333   \n",
       "19725  2016-05-27 16:30:00         220       0  25.426667  46.060000   \n",
       "19726  2016-05-27 16:40:00         180       0  25.500000  46.530000   \n",
       "19727  2016-05-27 16:50:00         120       0  25.500000  47.456667   \n",
       "19728  2016-05-27 17:00:00         110       0  25.600000  47.193333   \n",
       "19729  2016-05-27 17:10:00          90       0  25.533333  46.860000   \n",
       "19730  2016-05-27 17:20:00         100       0  25.566667  46.560000   \n",
       "19731  2016-05-27 17:30:00          90       0  25.500000  46.500000   \n",
       "19732  2016-05-27 17:40:00         270      10  25.500000  46.596667   \n",
       "19733  2016-05-27 17:50:00         420      10  25.500000  46.990000   \n",
       "19734  2016-05-27 18:00:00         430      10  25.500000  46.600000   \n",
       "\n",
       "              T2       RH_2         T3       RH_3         T4    ...      \\\n",
       "0      19.200000  44.790000  19.790000  44.730000  19.000000    ...       \n",
       "1      19.200000  44.722500  19.790000  44.790000  19.000000    ...       \n",
       "2      19.200000  44.626667  19.790000  44.933333  18.926667    ...       \n",
       "3      19.200000  44.590000  19.790000  45.000000  18.890000    ...       \n",
       "4      19.200000  44.530000  19.790000  45.000000  18.890000    ...       \n",
       "5      19.200000  44.500000  19.790000  44.933333  18.890000    ...       \n",
       "6      19.200000  44.500000  19.790000  44.900000  18.890000    ...       \n",
       "7      19.200000  44.500000  19.730000  44.900000  18.890000    ...       \n",
       "8      19.200000  44.433333  19.730000  44.790000  18.890000    ...       \n",
       "9      19.230000  44.400000  19.790000  44.863333  18.890000    ...       \n",
       "10     19.356667  44.400000  19.790000  44.900000  18.890000    ...       \n",
       "11     19.426667  44.400000  19.790000  44.826667  19.000000    ...       \n",
       "12     19.566667  44.400000  19.890000  44.900000  19.000000    ...       \n",
       "13     19.730000  45.100000  19.890000  45.493333  19.000000    ...       \n",
       "14     19.856667  45.833333  20.033333  47.526667  19.000000    ...       \n",
       "15     20.033333  46.756667  20.100000  48.466667  19.000000    ...       \n",
       "16     20.166667  47.223333  20.200000  48.530000  18.926667    ...       \n",
       "17     20.200000  47.056667  20.200000  48.447500  18.890000    ...       \n",
       "18     20.200000  46.330000  20.200000  48.193333  18.963333    ...       \n",
       "19     20.200000  46.026667  20.166667  47.633333  19.033333    ...       \n",
       "20     20.200000  45.722500  20.166667  47.300000  19.175000    ...       \n",
       "21     20.260000  45.530000  20.200000  47.026667  19.260000    ...       \n",
       "22     20.290000  45.223333  20.260000  46.826667  19.323333    ...       \n",
       "23     20.356667  44.963333  20.290000  46.633333  19.390000    ...       \n",
       "24     20.426667  44.760000  20.290000  46.433333  19.390000    ...       \n",
       "25     20.500000  44.760000  20.390000  46.223333  19.390000    ...       \n",
       "26     20.533333  45.090000  20.390000  46.090000  19.390000    ...       \n",
       "27     20.666667  45.163333  20.390000  46.090000  19.390000    ...       \n",
       "28     20.700000  45.060000  20.390000  46.090000  19.426667    ...       \n",
       "29     20.700000  44.933333  20.390000  46.060000  19.566667    ...       \n",
       "...          ...        ...        ...        ...        ...    ...       \n",
       "19705  26.528571  40.595714  28.496667  41.900000  24.500000    ...       \n",
       "19706  26.600000  40.940000  28.290000  41.966667  24.500000    ...       \n",
       "19707  26.600000  41.012857  28.200000  42.090000  24.533333    ...       \n",
       "19708  26.600000  41.036000  28.200000  42.030000  24.600000    ...       \n",
       "19709  26.600000  41.000000  28.200000  41.796667  24.600000    ...       \n",
       "19710  26.540000  41.000000  28.200000  41.530000  24.600000    ...       \n",
       "19711  26.512500  41.203750  28.200000  41.590000  24.633333    ...       \n",
       "19712  26.437143  41.384286  28.426667  41.430000  24.700000    ...       \n",
       "19713  26.370000  41.378000  28.566667  41.156667  24.700000    ...       \n",
       "19714  26.318571  41.264286  28.566667  40.663333  24.700000    ...       \n",
       "19715  26.350000  41.000000  28.426667  40.590000  24.666667    ...       \n",
       "19716  26.277143  41.000000  28.356667  40.560000  24.666667    ...       \n",
       "19717  26.200000  41.000000  28.290000  40.433333  24.700000    ...       \n",
       "19718  26.171429  41.000000  28.260000  40.260000  24.700000    ...       \n",
       "19719  26.100000  41.000000  28.200000  40.126667  24.700000    ...       \n",
       "19720  26.100000  41.051429  28.200000  40.200000  24.700000    ...       \n",
       "19721  26.080000  41.196000  28.133333  40.260000  24.700000    ...       \n",
       "19722  26.000000  41.428571  28.100000  40.433333  24.700000    ...       \n",
       "19723  26.000000  41.590000  28.100000  40.560000  24.700000    ...       \n",
       "19724  26.000000  41.652857  28.000000  40.700000  24.700000    ...       \n",
       "19725  26.000000  41.700000  28.000000  40.760000  24.700000    ...       \n",
       "19726  26.000000  41.725714  27.856667  40.500000  24.700000    ...       \n",
       "19727  26.000000  42.320000  27.663333  40.693333  24.700000    ...       \n",
       "19728  25.968571  42.528571  27.390000  41.030000  24.700000    ...       \n",
       "19729  25.978000  42.534000  27.323333  41.090000  24.700000    ...       \n",
       "19730  25.890000  42.025714  27.200000  41.163333  24.700000    ...       \n",
       "19731  25.754000  42.080000  27.133333  41.223333  24.700000    ...       \n",
       "19732  25.628571  42.768571  27.050000  41.690000  24.700000    ...       \n",
       "19733  25.414000  43.036000  26.890000  41.290000  24.700000    ...       \n",
       "19734  25.264286  42.971429  26.823333  41.156667  24.700000    ...       \n",
       "\n",
       "              T9       RH_9      T_out  Press_mm_hg     RH_out  Windspeed  \\\n",
       "0      17.033333  45.530000   6.600000   733.500000  92.000000   7.000000   \n",
       "1      17.066667  45.560000   6.483333   733.600000  92.000000   6.666667   \n",
       "2      17.000000  45.500000   6.366667   733.700000  92.000000   6.333333   \n",
       "3      17.000000  45.400000   6.250000   733.800000  92.000000   6.000000   \n",
       "4      17.000000  45.400000   6.133333   733.900000  92.000000   5.666667   \n",
       "5      17.000000  45.290000   6.016667   734.000000  92.000000   5.333333   \n",
       "6      17.000000  45.290000   5.900000   734.100000  92.000000   5.000000   \n",
       "7      17.000000  45.290000   5.916667   734.166667  91.833333   5.166667   \n",
       "8      17.000000  45.290000   5.933333   734.233333  91.666667   5.333333   \n",
       "9      17.000000  45.290000   5.950000   734.300000  91.500000   5.500000   \n",
       "10     17.000000  45.290000   5.966667   734.366667  91.333333   5.666667   \n",
       "11     16.890000  45.290000   5.983333   734.433333  91.166667   5.833333   \n",
       "12     16.963333  45.290000   6.000000   734.500000  91.000000   6.000000   \n",
       "13     16.890000  45.326667   6.000000   734.616667  90.500000   6.000000   \n",
       "14     16.890000  45.345000   6.000000   734.733333  90.000000   6.000000   \n",
       "15     16.890000  45.326667   6.000000   734.850000  89.500000   6.000000   \n",
       "16     16.890000  45.290000   6.000000   734.966667  89.000000   6.000000   \n",
       "17     16.890000  45.290000   6.000000   735.083333  88.500000   6.000000   \n",
       "18     16.890000  45.200000   6.000000   735.200000  88.000000   6.000000   \n",
       "19     16.890000  45.200000   6.000000   735.233333  87.833333   6.000000   \n",
       "20     16.890000  45.126667   6.000000   735.266667  87.666667   6.000000   \n",
       "21     16.890000  45.126667   6.000000   735.300000  87.500000   6.000000   \n",
       "22     16.890000  45.060000   6.000000   735.333333  87.333333   6.000000   \n",
       "23     16.890000  45.000000   6.000000   735.366667  87.166667   6.000000   \n",
       "24     16.890000  44.966667   6.000000   735.400000  87.000000   6.000000   \n",
       "25     16.890000  44.900000   5.933333   735.466667  87.166667   6.000000   \n",
       "26     16.890000  44.790000   5.866667   735.533333  87.333333   6.000000   \n",
       "27     16.890000  44.790000   5.800000   735.600000  87.500000   6.000000   \n",
       "28     16.890000  44.700000   5.733333   735.666667  87.666667   6.000000   \n",
       "29     16.890000  44.700000   5.666667   735.733333  87.833333   6.000000   \n",
       "...          ...        ...        ...          ...        ...        ...   \n",
       "19705  23.100000  46.500000  21.250000   756.050000  59.833333   1.166667   \n",
       "19706  23.100000  46.500000  21.400000   756.000000  59.666667   1.333333   \n",
       "19707  23.100000  46.522500  21.550000   755.950000  59.500000   1.500000   \n",
       "19708  23.100000  46.530000  21.700000   755.900000  59.333333   1.666667   \n",
       "19709  23.100000  46.530000  21.850000   755.850000  59.166667   1.833333   \n",
       "19710  23.100000  46.530000  22.000000   755.800000  59.000000   2.000000   \n",
       "19711  23.100000  46.530000  21.966667   755.800000  59.000000   2.000000   \n",
       "19712  23.100000  46.590000  21.933333   755.800000  59.000000   2.000000   \n",
       "19713  23.100000  46.626667  21.900000   755.800000  59.000000   2.000000   \n",
       "19714  23.100000  46.700000  21.866667   755.800000  59.000000   2.000000   \n",
       "19715  23.100000  46.590000  21.833333   755.800000  59.000000   2.000000   \n",
       "19716  23.100000  46.590000  21.800000   755.800000  59.000000   2.000000   \n",
       "19717  23.133333  46.590000  21.966667   755.750000  58.333333   2.000000   \n",
       "19718  23.133333  46.590000  22.133333   755.700000  57.666667   2.000000   \n",
       "19719  23.166667  46.590000  22.300000   755.650000  57.000000   2.000000   \n",
       "19720  23.100000  46.590000  22.466667   755.600000  56.333333   2.000000   \n",
       "19721  23.200000  46.590000  22.633333   755.550000  55.666667   2.000000   \n",
       "19722  23.200000  46.590000  22.800000   755.500000  55.000000   2.000000   \n",
       "19723  23.160000  46.590000  22.833333   755.450000  55.000000   2.166667   \n",
       "19724  23.200000  46.621429  22.866667   755.400000  55.000000   2.333333   \n",
       "19725  23.200000  46.700000  22.900000   755.350000  55.000000   2.500000   \n",
       "19726  23.200000  46.652857  22.933333   755.300000  55.000000   2.666667   \n",
       "19727  23.200000  46.718000  22.966667   755.250000  55.000000   2.833333   \n",
       "19728  23.200000  46.751429  23.000000   755.200000  55.000000   3.000000   \n",
       "19729  23.200000  46.745000  22.866667   755.200000  55.333333   3.166667   \n",
       "19730  23.200000  46.790000  22.733333   755.200000  55.666667   3.333333   \n",
       "19731  23.200000  46.790000  22.600000   755.200000  56.000000   3.500000   \n",
       "19732  23.200000  46.790000  22.466667   755.200000  56.333333   3.666667   \n",
       "19733  23.200000  46.817500  22.333333   755.200000  56.666667   3.833333   \n",
       "19734  23.200000  46.845000  22.200000   755.200000  57.000000   4.000000   \n",
       "\n",
       "       Visibility  Tdewpoint        rv1        rv2  \n",
       "0       63.000000   5.300000  13.275433  13.275433  \n",
       "1       59.166667   5.200000  18.606195  18.606195  \n",
       "2       55.333333   5.100000  28.642668  28.642668  \n",
       "3       51.500000   5.000000  45.410389  45.410389  \n",
       "4       47.666667   4.900000  10.084097  10.084097  \n",
       "5       43.833333   4.800000  44.919484  44.919484  \n",
       "6       40.000000   4.700000  47.233763  47.233763  \n",
       "7       40.000000   4.683333  33.039890  33.039890  \n",
       "8       40.000000   4.666667  31.455702  31.455702  \n",
       "9       40.000000   4.650000   3.089314   3.089314  \n",
       "10      40.000000   4.633333  10.298729  10.298729  \n",
       "11      40.000000   4.616667   8.827838   8.827838  \n",
       "12      40.000000   4.600000  34.351142  34.351142  \n",
       "13      40.000000   4.516667  19.205186  19.205186  \n",
       "14      40.000000   4.433333  38.492071  38.492071  \n",
       "15      40.000000   4.350000  24.884962  24.884962  \n",
       "16      40.000000   4.266667  35.880925  35.880925  \n",
       "17      40.000000   4.183333  49.595305  49.595305  \n",
       "18      40.000000   4.100000  19.001759  19.001759  \n",
       "19      40.000000   4.066667  38.872261  38.872261  \n",
       "20      40.000000   4.033333  46.735262  46.735262  \n",
       "21      40.000000   4.000000  10.607126  10.607126  \n",
       "22      40.000000   3.966667  32.583688  32.583688  \n",
       "23      40.000000   3.933333   6.277755   6.277755  \n",
       "24      40.000000   3.900000  13.361033  13.361033  \n",
       "25      40.000000   3.866667  19.305705  19.305705  \n",
       "26      40.000000   3.833333   0.669517   0.669517  \n",
       "27      40.000000   3.800000  19.119398  19.119398  \n",
       "28      40.000000   3.766667  43.484542  43.484542  \n",
       "29      40.000000   3.733333  17.017450  17.017450  \n",
       "...           ...        ...        ...        ...  \n",
       "19705   23.666667  13.100000  32.420348  32.420348  \n",
       "19706   23.333333  13.200000  49.189027  49.189027  \n",
       "19707   23.000000  13.300000  15.081162  15.081162  \n",
       "19708   22.666667  13.400000  45.226866  45.226866  \n",
       "19709   22.333333  13.500000   5.773431   5.773431  \n",
       "19710   22.000000  13.600000  41.515044  41.515044  \n",
       "19711   21.833333  13.550000  19.540642  19.540642  \n",
       "19712   21.666667  13.500000  16.977597  16.977597  \n",
       "19713   21.500000  13.450000   8.991420   8.991420  \n",
       "19714   21.333333  13.400000  40.409885  40.409885  \n",
       "19715   21.166667  13.350000  37.889086  37.889086  \n",
       "19716   21.000000  13.300000  17.123315  17.123315  \n",
       "19717   21.333333  13.283333  24.058432  24.058432  \n",
       "19718   21.666667  13.266667   9.538671   9.538671  \n",
       "19719   22.000000  13.250000  30.020685  30.020685  \n",
       "19720   22.333333  13.233333  23.851737  23.851737  \n",
       "19721   22.666667  13.216667  47.981309  47.981309  \n",
       "19722   23.000000  13.200000  18.215602  18.215602  \n",
       "19723   22.833333  13.233333  38.751594  38.751594  \n",
       "19724   22.666667  13.266667  32.306224  32.306224  \n",
       "19725   22.500000  13.300000  23.009520  23.009520  \n",
       "19726   22.333333  13.333333  25.296732  25.296732  \n",
       "19727   22.166667  13.366667   1.796395   1.796395  \n",
       "19728   22.000000  13.400000  18.248201  18.248201  \n",
       "19729   22.833333  13.366667  16.966162  16.966162  \n",
       "19730   23.666667  13.333333  43.096812  43.096812  \n",
       "19731   24.500000  13.300000  49.282940  49.282940  \n",
       "19732   25.333333  13.266667  29.199117  29.199117  \n",
       "19733   26.166667  13.233333   6.322784   6.322784  \n",
       "19734   27.000000  13.200000  34.118851  34.118851  \n",
       "\n",
       "[19735 rows x 29 columns]"
      ]
     },
     "execution_count": 56,
     "metadata": {},
     "output_type": "execute_result"
    }
   ],
   "source": [
    "df"
   ]
  },
  {
   "cell_type": "code",
   "execution_count": 57,
   "metadata": {},
   "outputs": [
    {
     "data": {
      "text/html": [
       "<div>\n",
       "<style>\n",
       "    .dataframe thead tr:only-child th {\n",
       "        text-align: right;\n",
       "    }\n",
       "\n",
       "    .dataframe thead th {\n",
       "        text-align: left;\n",
       "    }\n",
       "\n",
       "    .dataframe tbody tr th {\n",
       "        vertical-align: top;\n",
       "    }\n",
       "</style>\n",
       "<table border=\"1\" class=\"dataframe\">\n",
       "  <thead>\n",
       "    <tr style=\"text-align: right;\">\n",
       "      <th></th>\n",
       "      <th>date</th>\n",
       "      <th>Appliances</th>\n",
       "      <th>lights</th>\n",
       "      <th>T1</th>\n",
       "      <th>RH_1</th>\n",
       "      <th>T2</th>\n",
       "      <th>RH_2</th>\n",
       "      <th>T3</th>\n",
       "      <th>RH_3</th>\n",
       "      <th>T4</th>\n",
       "      <th>...</th>\n",
       "      <th>T9</th>\n",
       "      <th>RH_9</th>\n",
       "      <th>T_out</th>\n",
       "      <th>Press_mm_hg</th>\n",
       "      <th>RH_out</th>\n",
       "      <th>Windspeed</th>\n",
       "      <th>Visibility</th>\n",
       "      <th>Tdewpoint</th>\n",
       "      <th>rv1</th>\n",
       "      <th>rv2</th>\n",
       "    </tr>\n",
       "  </thead>\n",
       "  <tbody>\n",
       "    <tr>\n",
       "      <th>0</th>\n",
       "      <td>2016-01-11 17:00:00</td>\n",
       "      <td>60</td>\n",
       "      <td>30</td>\n",
       "      <td>19.89</td>\n",
       "      <td>47.596667</td>\n",
       "      <td>19.2</td>\n",
       "      <td>44.790000</td>\n",
       "      <td>19.79</td>\n",
       "      <td>44.730000</td>\n",
       "      <td>19.000000</td>\n",
       "      <td>...</td>\n",
       "      <td>17.033333</td>\n",
       "      <td>45.53</td>\n",
       "      <td>6.600000</td>\n",
       "      <td>733.5</td>\n",
       "      <td>92.0</td>\n",
       "      <td>7.000000</td>\n",
       "      <td>63.000000</td>\n",
       "      <td>5.3</td>\n",
       "      <td>13.275433</td>\n",
       "      <td>13.275433</td>\n",
       "    </tr>\n",
       "    <tr>\n",
       "      <th>1</th>\n",
       "      <td>2016-01-11 17:10:00</td>\n",
       "      <td>60</td>\n",
       "      <td>30</td>\n",
       "      <td>19.89</td>\n",
       "      <td>46.693333</td>\n",
       "      <td>19.2</td>\n",
       "      <td>44.722500</td>\n",
       "      <td>19.79</td>\n",
       "      <td>44.790000</td>\n",
       "      <td>19.000000</td>\n",
       "      <td>...</td>\n",
       "      <td>17.066667</td>\n",
       "      <td>45.56</td>\n",
       "      <td>6.483333</td>\n",
       "      <td>733.6</td>\n",
       "      <td>92.0</td>\n",
       "      <td>6.666667</td>\n",
       "      <td>59.166667</td>\n",
       "      <td>5.2</td>\n",
       "      <td>18.606195</td>\n",
       "      <td>18.606195</td>\n",
       "    </tr>\n",
       "    <tr>\n",
       "      <th>2</th>\n",
       "      <td>2016-01-11 17:20:00</td>\n",
       "      <td>50</td>\n",
       "      <td>30</td>\n",
       "      <td>19.89</td>\n",
       "      <td>46.300000</td>\n",
       "      <td>19.2</td>\n",
       "      <td>44.626667</td>\n",
       "      <td>19.79</td>\n",
       "      <td>44.933333</td>\n",
       "      <td>18.926667</td>\n",
       "      <td>...</td>\n",
       "      <td>17.000000</td>\n",
       "      <td>45.50</td>\n",
       "      <td>6.366667</td>\n",
       "      <td>733.7</td>\n",
       "      <td>92.0</td>\n",
       "      <td>6.333333</td>\n",
       "      <td>55.333333</td>\n",
       "      <td>5.1</td>\n",
       "      <td>28.642668</td>\n",
       "      <td>28.642668</td>\n",
       "    </tr>\n",
       "    <tr>\n",
       "      <th>3</th>\n",
       "      <td>2016-01-11 17:30:00</td>\n",
       "      <td>50</td>\n",
       "      <td>40</td>\n",
       "      <td>19.89</td>\n",
       "      <td>46.066667</td>\n",
       "      <td>19.2</td>\n",
       "      <td>44.590000</td>\n",
       "      <td>19.79</td>\n",
       "      <td>45.000000</td>\n",
       "      <td>18.890000</td>\n",
       "      <td>...</td>\n",
       "      <td>17.000000</td>\n",
       "      <td>45.40</td>\n",
       "      <td>6.250000</td>\n",
       "      <td>733.8</td>\n",
       "      <td>92.0</td>\n",
       "      <td>6.000000</td>\n",
       "      <td>51.500000</td>\n",
       "      <td>5.0</td>\n",
       "      <td>45.410389</td>\n",
       "      <td>45.410389</td>\n",
       "    </tr>\n",
       "    <tr>\n",
       "      <th>4</th>\n",
       "      <td>2016-01-11 17:40:00</td>\n",
       "      <td>60</td>\n",
       "      <td>40</td>\n",
       "      <td>19.89</td>\n",
       "      <td>46.333333</td>\n",
       "      <td>19.2</td>\n",
       "      <td>44.530000</td>\n",
       "      <td>19.79</td>\n",
       "      <td>45.000000</td>\n",
       "      <td>18.890000</td>\n",
       "      <td>...</td>\n",
       "      <td>17.000000</td>\n",
       "      <td>45.40</td>\n",
       "      <td>6.133333</td>\n",
       "      <td>733.9</td>\n",
       "      <td>92.0</td>\n",
       "      <td>5.666667</td>\n",
       "      <td>47.666667</td>\n",
       "      <td>4.9</td>\n",
       "      <td>10.084097</td>\n",
       "      <td>10.084097</td>\n",
       "    </tr>\n",
       "  </tbody>\n",
       "</table>\n",
       "<p>5 rows × 29 columns</p>\n",
       "</div>"
      ],
      "text/plain": [
       "                  date  Appliances  lights     T1       RH_1    T2       RH_2  \\\n",
       "0  2016-01-11 17:00:00          60      30  19.89  47.596667  19.2  44.790000   \n",
       "1  2016-01-11 17:10:00          60      30  19.89  46.693333  19.2  44.722500   \n",
       "2  2016-01-11 17:20:00          50      30  19.89  46.300000  19.2  44.626667   \n",
       "3  2016-01-11 17:30:00          50      40  19.89  46.066667  19.2  44.590000   \n",
       "4  2016-01-11 17:40:00          60      40  19.89  46.333333  19.2  44.530000   \n",
       "\n",
       "      T3       RH_3         T4    ...             T9   RH_9     T_out  \\\n",
       "0  19.79  44.730000  19.000000    ...      17.033333  45.53  6.600000   \n",
       "1  19.79  44.790000  19.000000    ...      17.066667  45.56  6.483333   \n",
       "2  19.79  44.933333  18.926667    ...      17.000000  45.50  6.366667   \n",
       "3  19.79  45.000000  18.890000    ...      17.000000  45.40  6.250000   \n",
       "4  19.79  45.000000  18.890000    ...      17.000000  45.40  6.133333   \n",
       "\n",
       "   Press_mm_hg  RH_out  Windspeed  Visibility  Tdewpoint        rv1        rv2  \n",
       "0        733.5    92.0   7.000000   63.000000        5.3  13.275433  13.275433  \n",
       "1        733.6    92.0   6.666667   59.166667        5.2  18.606195  18.606195  \n",
       "2        733.7    92.0   6.333333   55.333333        5.1  28.642668  28.642668  \n",
       "3        733.8    92.0   6.000000   51.500000        5.0  45.410389  45.410389  \n",
       "4        733.9    92.0   5.666667   47.666667        4.9  10.084097  10.084097  \n",
       "\n",
       "[5 rows x 29 columns]"
      ]
     },
     "execution_count": 57,
     "metadata": {},
     "output_type": "execute_result"
    }
   ],
   "source": [
    "df.head()"
   ]
  },
  {
   "cell_type": "code",
   "execution_count": 58,
   "metadata": {},
   "outputs": [
    {
     "data": {
      "text/plain": [
       "pandas.core.frame.DataFrame"
      ]
     },
     "execution_count": 58,
     "metadata": {},
     "output_type": "execute_result"
    }
   ],
   "source": [
    "type(df)"
   ]
  },
  {
   "cell_type": "code",
   "execution_count": 59,
   "metadata": {},
   "outputs": [
    {
     "data": {
      "text/plain": [
       "(19735, 29)"
      ]
     },
     "execution_count": 59,
     "metadata": {},
     "output_type": "execute_result"
    }
   ],
   "source": [
    "df.shape"
   ]
  },
  {
   "cell_type": "code",
   "execution_count": 60,
   "metadata": {},
   "outputs": [
    {
     "data": {
      "text/plain": [
       "<bound method DataFrame.info of                       date  Appliances  lights         T1       RH_1  \\\n",
       "0      2016-01-11 17:00:00          60      30  19.890000  47.596667   \n",
       "1      2016-01-11 17:10:00          60      30  19.890000  46.693333   \n",
       "2      2016-01-11 17:20:00          50      30  19.890000  46.300000   \n",
       "3      2016-01-11 17:30:00          50      40  19.890000  46.066667   \n",
       "4      2016-01-11 17:40:00          60      40  19.890000  46.333333   \n",
       "5      2016-01-11 17:50:00          50      40  19.890000  46.026667   \n",
       "6      2016-01-11 18:00:00          60      50  19.890000  45.766667   \n",
       "7      2016-01-11 18:10:00          60      50  19.856667  45.560000   \n",
       "8      2016-01-11 18:20:00          60      40  19.790000  45.597500   \n",
       "9      2016-01-11 18:30:00          70      40  19.856667  46.090000   \n",
       "10     2016-01-11 18:40:00         230      70  19.926667  45.863333   \n",
       "11     2016-01-11 18:50:00         580      60  20.066667  46.396667   \n",
       "12     2016-01-11 19:00:00         430      50  20.133333  48.000000   \n",
       "13     2016-01-11 19:10:00         250      40  20.260000  52.726667   \n",
       "14     2016-01-11 19:20:00         100      10  20.426667  55.893333   \n",
       "15     2016-01-11 19:30:00         100      10  20.566667  53.893333   \n",
       "16     2016-01-11 19:40:00          90      10  20.730000  52.660000   \n",
       "17     2016-01-11 19:50:00          70      30  20.856667  53.660000   \n",
       "18     2016-01-11 20:00:00          80      30  20.890000  51.193333   \n",
       "19     2016-01-11 20:10:00         140      40  20.890000  49.800000   \n",
       "20     2016-01-11 20:20:00         120      20  20.890000  48.433333   \n",
       "21     2016-01-11 20:30:00         190      40  20.963333  47.633333   \n",
       "22     2016-01-11 20:40:00         110      40  21.033333  47.063333   \n",
       "23     2016-01-11 20:50:00         110      40  21.100000  46.596667   \n",
       "24     2016-01-11 21:00:00         110      30  21.133333  46.060000   \n",
       "25     2016-01-11 21:10:00         110      20  21.200000  45.800000   \n",
       "26     2016-01-11 21:20:00         100      30  21.290000  45.900000   \n",
       "27     2016-01-11 21:30:00         100      20  21.356667  45.826667   \n",
       "28     2016-01-11 21:40:00         100      20  21.390000  45.690000   \n",
       "29     2016-01-11 21:50:00         100      20  21.500000  45.333333   \n",
       "...                    ...         ...     ...        ...        ...   \n",
       "19705  2016-05-27 13:10:00         280       0  25.033333  48.363333   \n",
       "19706  2016-05-27 13:20:00         240       0  25.166667  48.156667   \n",
       "19707  2016-05-27 13:30:00         250       0  25.323333  47.930000   \n",
       "19708  2016-05-27 13:40:00         220       0  25.390000  47.656667   \n",
       "19709  2016-05-27 13:50:00         230       0  25.500000  47.133333   \n",
       "19710  2016-05-27 14:00:00         190      10  25.500000  47.060000   \n",
       "19711  2016-05-27 14:10:00         160       0  25.600000  46.990000   \n",
       "19712  2016-05-27 14:20:00          80       0  25.600000  46.730000   \n",
       "19713  2016-05-27 14:30:00          60       0  25.566667  46.633333   \n",
       "19714  2016-05-27 14:40:00          60       0  25.500000  46.360000   \n",
       "19715  2016-05-27 14:50:00          60       0  25.500000  46.060000   \n",
       "19716  2016-05-27 15:00:00          60       0  25.500000  45.933333   \n",
       "19717  2016-05-27 15:10:00          70       0  25.500000  45.760000   \n",
       "19718  2016-05-27 15:20:00          80       0  25.500000  45.626667   \n",
       "19719  2016-05-27 15:30:00          80       0  25.500000  45.590000   \n",
       "19720  2016-05-27 15:40:00          70       0  25.500000  45.522500   \n",
       "19721  2016-05-27 15:50:00         100       0  25.500000  45.633333   \n",
       "19722  2016-05-27 16:00:00         100       0  25.500000  45.730000   \n",
       "19723  2016-05-27 16:10:00          90       0  25.500000  45.790000   \n",
       "19724  2016-05-27 16:20:00         100       0  25.500000  45.933333   \n",
       "19725  2016-05-27 16:30:00         220       0  25.426667  46.060000   \n",
       "19726  2016-05-27 16:40:00         180       0  25.500000  46.530000   \n",
       "19727  2016-05-27 16:50:00         120       0  25.500000  47.456667   \n",
       "19728  2016-05-27 17:00:00         110       0  25.600000  47.193333   \n",
       "19729  2016-05-27 17:10:00          90       0  25.533333  46.860000   \n",
       "19730  2016-05-27 17:20:00         100       0  25.566667  46.560000   \n",
       "19731  2016-05-27 17:30:00          90       0  25.500000  46.500000   \n",
       "19732  2016-05-27 17:40:00         270      10  25.500000  46.596667   \n",
       "19733  2016-05-27 17:50:00         420      10  25.500000  46.990000   \n",
       "19734  2016-05-27 18:00:00         430      10  25.500000  46.600000   \n",
       "\n",
       "              T2       RH_2         T3       RH_3         T4    ...      \\\n",
       "0      19.200000  44.790000  19.790000  44.730000  19.000000    ...       \n",
       "1      19.200000  44.722500  19.790000  44.790000  19.000000    ...       \n",
       "2      19.200000  44.626667  19.790000  44.933333  18.926667    ...       \n",
       "3      19.200000  44.590000  19.790000  45.000000  18.890000    ...       \n",
       "4      19.200000  44.530000  19.790000  45.000000  18.890000    ...       \n",
       "5      19.200000  44.500000  19.790000  44.933333  18.890000    ...       \n",
       "6      19.200000  44.500000  19.790000  44.900000  18.890000    ...       \n",
       "7      19.200000  44.500000  19.730000  44.900000  18.890000    ...       \n",
       "8      19.200000  44.433333  19.730000  44.790000  18.890000    ...       \n",
       "9      19.230000  44.400000  19.790000  44.863333  18.890000    ...       \n",
       "10     19.356667  44.400000  19.790000  44.900000  18.890000    ...       \n",
       "11     19.426667  44.400000  19.790000  44.826667  19.000000    ...       \n",
       "12     19.566667  44.400000  19.890000  44.900000  19.000000    ...       \n",
       "13     19.730000  45.100000  19.890000  45.493333  19.000000    ...       \n",
       "14     19.856667  45.833333  20.033333  47.526667  19.000000    ...       \n",
       "15     20.033333  46.756667  20.100000  48.466667  19.000000    ...       \n",
       "16     20.166667  47.223333  20.200000  48.530000  18.926667    ...       \n",
       "17     20.200000  47.056667  20.200000  48.447500  18.890000    ...       \n",
       "18     20.200000  46.330000  20.200000  48.193333  18.963333    ...       \n",
       "19     20.200000  46.026667  20.166667  47.633333  19.033333    ...       \n",
       "20     20.200000  45.722500  20.166667  47.300000  19.175000    ...       \n",
       "21     20.260000  45.530000  20.200000  47.026667  19.260000    ...       \n",
       "22     20.290000  45.223333  20.260000  46.826667  19.323333    ...       \n",
       "23     20.356667  44.963333  20.290000  46.633333  19.390000    ...       \n",
       "24     20.426667  44.760000  20.290000  46.433333  19.390000    ...       \n",
       "25     20.500000  44.760000  20.390000  46.223333  19.390000    ...       \n",
       "26     20.533333  45.090000  20.390000  46.090000  19.390000    ...       \n",
       "27     20.666667  45.163333  20.390000  46.090000  19.390000    ...       \n",
       "28     20.700000  45.060000  20.390000  46.090000  19.426667    ...       \n",
       "29     20.700000  44.933333  20.390000  46.060000  19.566667    ...       \n",
       "...          ...        ...        ...        ...        ...    ...       \n",
       "19705  26.528571  40.595714  28.496667  41.900000  24.500000    ...       \n",
       "19706  26.600000  40.940000  28.290000  41.966667  24.500000    ...       \n",
       "19707  26.600000  41.012857  28.200000  42.090000  24.533333    ...       \n",
       "19708  26.600000  41.036000  28.200000  42.030000  24.600000    ...       \n",
       "19709  26.600000  41.000000  28.200000  41.796667  24.600000    ...       \n",
       "19710  26.540000  41.000000  28.200000  41.530000  24.600000    ...       \n",
       "19711  26.512500  41.203750  28.200000  41.590000  24.633333    ...       \n",
       "19712  26.437143  41.384286  28.426667  41.430000  24.700000    ...       \n",
       "19713  26.370000  41.378000  28.566667  41.156667  24.700000    ...       \n",
       "19714  26.318571  41.264286  28.566667  40.663333  24.700000    ...       \n",
       "19715  26.350000  41.000000  28.426667  40.590000  24.666667    ...       \n",
       "19716  26.277143  41.000000  28.356667  40.560000  24.666667    ...       \n",
       "19717  26.200000  41.000000  28.290000  40.433333  24.700000    ...       \n",
       "19718  26.171429  41.000000  28.260000  40.260000  24.700000    ...       \n",
       "19719  26.100000  41.000000  28.200000  40.126667  24.700000    ...       \n",
       "19720  26.100000  41.051429  28.200000  40.200000  24.700000    ...       \n",
       "19721  26.080000  41.196000  28.133333  40.260000  24.700000    ...       \n",
       "19722  26.000000  41.428571  28.100000  40.433333  24.700000    ...       \n",
       "19723  26.000000  41.590000  28.100000  40.560000  24.700000    ...       \n",
       "19724  26.000000  41.652857  28.000000  40.700000  24.700000    ...       \n",
       "19725  26.000000  41.700000  28.000000  40.760000  24.700000    ...       \n",
       "19726  26.000000  41.725714  27.856667  40.500000  24.700000    ...       \n",
       "19727  26.000000  42.320000  27.663333  40.693333  24.700000    ...       \n",
       "19728  25.968571  42.528571  27.390000  41.030000  24.700000    ...       \n",
       "19729  25.978000  42.534000  27.323333  41.090000  24.700000    ...       \n",
       "19730  25.890000  42.025714  27.200000  41.163333  24.700000    ...       \n",
       "19731  25.754000  42.080000  27.133333  41.223333  24.700000    ...       \n",
       "19732  25.628571  42.768571  27.050000  41.690000  24.700000    ...       \n",
       "19733  25.414000  43.036000  26.890000  41.290000  24.700000    ...       \n",
       "19734  25.264286  42.971429  26.823333  41.156667  24.700000    ...       \n",
       "\n",
       "              T9       RH_9      T_out  Press_mm_hg     RH_out  Windspeed  \\\n",
       "0      17.033333  45.530000   6.600000   733.500000  92.000000   7.000000   \n",
       "1      17.066667  45.560000   6.483333   733.600000  92.000000   6.666667   \n",
       "2      17.000000  45.500000   6.366667   733.700000  92.000000   6.333333   \n",
       "3      17.000000  45.400000   6.250000   733.800000  92.000000   6.000000   \n",
       "4      17.000000  45.400000   6.133333   733.900000  92.000000   5.666667   \n",
       "5      17.000000  45.290000   6.016667   734.000000  92.000000   5.333333   \n",
       "6      17.000000  45.290000   5.900000   734.100000  92.000000   5.000000   \n",
       "7      17.000000  45.290000   5.916667   734.166667  91.833333   5.166667   \n",
       "8      17.000000  45.290000   5.933333   734.233333  91.666667   5.333333   \n",
       "9      17.000000  45.290000   5.950000   734.300000  91.500000   5.500000   \n",
       "10     17.000000  45.290000   5.966667   734.366667  91.333333   5.666667   \n",
       "11     16.890000  45.290000   5.983333   734.433333  91.166667   5.833333   \n",
       "12     16.963333  45.290000   6.000000   734.500000  91.000000   6.000000   \n",
       "13     16.890000  45.326667   6.000000   734.616667  90.500000   6.000000   \n",
       "14     16.890000  45.345000   6.000000   734.733333  90.000000   6.000000   \n",
       "15     16.890000  45.326667   6.000000   734.850000  89.500000   6.000000   \n",
       "16     16.890000  45.290000   6.000000   734.966667  89.000000   6.000000   \n",
       "17     16.890000  45.290000   6.000000   735.083333  88.500000   6.000000   \n",
       "18     16.890000  45.200000   6.000000   735.200000  88.000000   6.000000   \n",
       "19     16.890000  45.200000   6.000000   735.233333  87.833333   6.000000   \n",
       "20     16.890000  45.126667   6.000000   735.266667  87.666667   6.000000   \n",
       "21     16.890000  45.126667   6.000000   735.300000  87.500000   6.000000   \n",
       "22     16.890000  45.060000   6.000000   735.333333  87.333333   6.000000   \n",
       "23     16.890000  45.000000   6.000000   735.366667  87.166667   6.000000   \n",
       "24     16.890000  44.966667   6.000000   735.400000  87.000000   6.000000   \n",
       "25     16.890000  44.900000   5.933333   735.466667  87.166667   6.000000   \n",
       "26     16.890000  44.790000   5.866667   735.533333  87.333333   6.000000   \n",
       "27     16.890000  44.790000   5.800000   735.600000  87.500000   6.000000   \n",
       "28     16.890000  44.700000   5.733333   735.666667  87.666667   6.000000   \n",
       "29     16.890000  44.700000   5.666667   735.733333  87.833333   6.000000   \n",
       "...          ...        ...        ...          ...        ...        ...   \n",
       "19705  23.100000  46.500000  21.250000   756.050000  59.833333   1.166667   \n",
       "19706  23.100000  46.500000  21.400000   756.000000  59.666667   1.333333   \n",
       "19707  23.100000  46.522500  21.550000   755.950000  59.500000   1.500000   \n",
       "19708  23.100000  46.530000  21.700000   755.900000  59.333333   1.666667   \n",
       "19709  23.100000  46.530000  21.850000   755.850000  59.166667   1.833333   \n",
       "19710  23.100000  46.530000  22.000000   755.800000  59.000000   2.000000   \n",
       "19711  23.100000  46.530000  21.966667   755.800000  59.000000   2.000000   \n",
       "19712  23.100000  46.590000  21.933333   755.800000  59.000000   2.000000   \n",
       "19713  23.100000  46.626667  21.900000   755.800000  59.000000   2.000000   \n",
       "19714  23.100000  46.700000  21.866667   755.800000  59.000000   2.000000   \n",
       "19715  23.100000  46.590000  21.833333   755.800000  59.000000   2.000000   \n",
       "19716  23.100000  46.590000  21.800000   755.800000  59.000000   2.000000   \n",
       "19717  23.133333  46.590000  21.966667   755.750000  58.333333   2.000000   \n",
       "19718  23.133333  46.590000  22.133333   755.700000  57.666667   2.000000   \n",
       "19719  23.166667  46.590000  22.300000   755.650000  57.000000   2.000000   \n",
       "19720  23.100000  46.590000  22.466667   755.600000  56.333333   2.000000   \n",
       "19721  23.200000  46.590000  22.633333   755.550000  55.666667   2.000000   \n",
       "19722  23.200000  46.590000  22.800000   755.500000  55.000000   2.000000   \n",
       "19723  23.160000  46.590000  22.833333   755.450000  55.000000   2.166667   \n",
       "19724  23.200000  46.621429  22.866667   755.400000  55.000000   2.333333   \n",
       "19725  23.200000  46.700000  22.900000   755.350000  55.000000   2.500000   \n",
       "19726  23.200000  46.652857  22.933333   755.300000  55.000000   2.666667   \n",
       "19727  23.200000  46.718000  22.966667   755.250000  55.000000   2.833333   \n",
       "19728  23.200000  46.751429  23.000000   755.200000  55.000000   3.000000   \n",
       "19729  23.200000  46.745000  22.866667   755.200000  55.333333   3.166667   \n",
       "19730  23.200000  46.790000  22.733333   755.200000  55.666667   3.333333   \n",
       "19731  23.200000  46.790000  22.600000   755.200000  56.000000   3.500000   \n",
       "19732  23.200000  46.790000  22.466667   755.200000  56.333333   3.666667   \n",
       "19733  23.200000  46.817500  22.333333   755.200000  56.666667   3.833333   \n",
       "19734  23.200000  46.845000  22.200000   755.200000  57.000000   4.000000   \n",
       "\n",
       "       Visibility  Tdewpoint        rv1        rv2  \n",
       "0       63.000000   5.300000  13.275433  13.275433  \n",
       "1       59.166667   5.200000  18.606195  18.606195  \n",
       "2       55.333333   5.100000  28.642668  28.642668  \n",
       "3       51.500000   5.000000  45.410389  45.410389  \n",
       "4       47.666667   4.900000  10.084097  10.084097  \n",
       "5       43.833333   4.800000  44.919484  44.919484  \n",
       "6       40.000000   4.700000  47.233763  47.233763  \n",
       "7       40.000000   4.683333  33.039890  33.039890  \n",
       "8       40.000000   4.666667  31.455702  31.455702  \n",
       "9       40.000000   4.650000   3.089314   3.089314  \n",
       "10      40.000000   4.633333  10.298729  10.298729  \n",
       "11      40.000000   4.616667   8.827838   8.827838  \n",
       "12      40.000000   4.600000  34.351142  34.351142  \n",
       "13      40.000000   4.516667  19.205186  19.205186  \n",
       "14      40.000000   4.433333  38.492071  38.492071  \n",
       "15      40.000000   4.350000  24.884962  24.884962  \n",
       "16      40.000000   4.266667  35.880925  35.880925  \n",
       "17      40.000000   4.183333  49.595305  49.595305  \n",
       "18      40.000000   4.100000  19.001759  19.001759  \n",
       "19      40.000000   4.066667  38.872261  38.872261  \n",
       "20      40.000000   4.033333  46.735262  46.735262  \n",
       "21      40.000000   4.000000  10.607126  10.607126  \n",
       "22      40.000000   3.966667  32.583688  32.583688  \n",
       "23      40.000000   3.933333   6.277755   6.277755  \n",
       "24      40.000000   3.900000  13.361033  13.361033  \n",
       "25      40.000000   3.866667  19.305705  19.305705  \n",
       "26      40.000000   3.833333   0.669517   0.669517  \n",
       "27      40.000000   3.800000  19.119398  19.119398  \n",
       "28      40.000000   3.766667  43.484542  43.484542  \n",
       "29      40.000000   3.733333  17.017450  17.017450  \n",
       "...           ...        ...        ...        ...  \n",
       "19705   23.666667  13.100000  32.420348  32.420348  \n",
       "19706   23.333333  13.200000  49.189027  49.189027  \n",
       "19707   23.000000  13.300000  15.081162  15.081162  \n",
       "19708   22.666667  13.400000  45.226866  45.226866  \n",
       "19709   22.333333  13.500000   5.773431   5.773431  \n",
       "19710   22.000000  13.600000  41.515044  41.515044  \n",
       "19711   21.833333  13.550000  19.540642  19.540642  \n",
       "19712   21.666667  13.500000  16.977597  16.977597  \n",
       "19713   21.500000  13.450000   8.991420   8.991420  \n",
       "19714   21.333333  13.400000  40.409885  40.409885  \n",
       "19715   21.166667  13.350000  37.889086  37.889086  \n",
       "19716   21.000000  13.300000  17.123315  17.123315  \n",
       "19717   21.333333  13.283333  24.058432  24.058432  \n",
       "19718   21.666667  13.266667   9.538671   9.538671  \n",
       "19719   22.000000  13.250000  30.020685  30.020685  \n",
       "19720   22.333333  13.233333  23.851737  23.851737  \n",
       "19721   22.666667  13.216667  47.981309  47.981309  \n",
       "19722   23.000000  13.200000  18.215602  18.215602  \n",
       "19723   22.833333  13.233333  38.751594  38.751594  \n",
       "19724   22.666667  13.266667  32.306224  32.306224  \n",
       "19725   22.500000  13.300000  23.009520  23.009520  \n",
       "19726   22.333333  13.333333  25.296732  25.296732  \n",
       "19727   22.166667  13.366667   1.796395   1.796395  \n",
       "19728   22.000000  13.400000  18.248201  18.248201  \n",
       "19729   22.833333  13.366667  16.966162  16.966162  \n",
       "19730   23.666667  13.333333  43.096812  43.096812  \n",
       "19731   24.500000  13.300000  49.282940  49.282940  \n",
       "19732   25.333333  13.266667  29.199117  29.199117  \n",
       "19733   26.166667  13.233333   6.322784   6.322784  \n",
       "19734   27.000000  13.200000  34.118851  34.118851  \n",
       "\n",
       "[19735 rows x 29 columns]>"
      ]
     },
     "execution_count": 60,
     "metadata": {},
     "output_type": "execute_result"
    }
   ],
   "source": [
    "df.info"
   ]
  },
  {
   "cell_type": "code",
   "execution_count": 61,
   "metadata": {},
   "outputs": [
    {
     "name": "stdout",
     "output_type": "stream",
     "text": [
      "<class 'pandas.core.frame.DataFrame'>\n",
      "RangeIndex: 19735 entries, 0 to 19734\n",
      "Data columns (total 29 columns):\n",
      "date           19735 non-null object\n",
      "Appliances     19735 non-null int64\n",
      "lights         19735 non-null int64\n",
      "T1             19735 non-null float64\n",
      "RH_1           19735 non-null float64\n",
      "T2             19735 non-null float64\n",
      "RH_2           19735 non-null float64\n",
      "T3             19735 non-null float64\n",
      "RH_3           19735 non-null float64\n",
      "T4             19735 non-null float64\n",
      "RH_4           19735 non-null float64\n",
      "T5             19735 non-null float64\n",
      "RH_5           19735 non-null float64\n",
      "T6             19735 non-null float64\n",
      "RH_6           19735 non-null float64\n",
      "T7             19735 non-null float64\n",
      "RH_7           19735 non-null float64\n",
      "T8             19735 non-null float64\n",
      "RH_8           19735 non-null float64\n",
      "T9             19735 non-null float64\n",
      "RH_9           19735 non-null float64\n",
      "T_out          19735 non-null float64\n",
      "Press_mm_hg    19735 non-null float64\n",
      "RH_out         19735 non-null float64\n",
      "Windspeed      19735 non-null float64\n",
      "Visibility     19735 non-null float64\n",
      "Tdewpoint      19735 non-null float64\n",
      "rv1            19735 non-null float64\n",
      "rv2            19735 non-null float64\n",
      "dtypes: float64(26), int64(2), object(1)\n",
      "memory usage: 4.4+ MB\n"
     ]
    }
   ],
   "source": [
    "df.info()"
   ]
  },
  {
   "cell_type": "code",
   "execution_count": 62,
   "metadata": {
    "collapsed": true
   },
   "outputs": [],
   "source": [
    "# to drop date column\n",
    "del df['date']"
   ]
  },
  {
   "cell_type": "code",
   "execution_count": 63,
   "metadata": {},
   "outputs": [
    {
     "data": {
      "text/html": [
       "<div>\n",
       "<style>\n",
       "    .dataframe thead tr:only-child th {\n",
       "        text-align: right;\n",
       "    }\n",
       "\n",
       "    .dataframe thead th {\n",
       "        text-align: left;\n",
       "    }\n",
       "\n",
       "    .dataframe tbody tr th {\n",
       "        vertical-align: top;\n",
       "    }\n",
       "</style>\n",
       "<table border=\"1\" class=\"dataframe\">\n",
       "  <thead>\n",
       "    <tr style=\"text-align: right;\">\n",
       "      <th></th>\n",
       "      <th>Appliances</th>\n",
       "      <th>lights</th>\n",
       "      <th>T1</th>\n",
       "      <th>RH_1</th>\n",
       "      <th>T2</th>\n",
       "      <th>RH_2</th>\n",
       "      <th>T3</th>\n",
       "      <th>RH_3</th>\n",
       "      <th>T4</th>\n",
       "      <th>RH_4</th>\n",
       "      <th>...</th>\n",
       "      <th>T9</th>\n",
       "      <th>RH_9</th>\n",
       "      <th>T_out</th>\n",
       "      <th>Press_mm_hg</th>\n",
       "      <th>RH_out</th>\n",
       "      <th>Windspeed</th>\n",
       "      <th>Visibility</th>\n",
       "      <th>Tdewpoint</th>\n",
       "      <th>rv1</th>\n",
       "      <th>rv2</th>\n",
       "    </tr>\n",
       "  </thead>\n",
       "  <tbody>\n",
       "    <tr>\n",
       "      <th>0</th>\n",
       "      <td>60</td>\n",
       "      <td>30</td>\n",
       "      <td>19.89</td>\n",
       "      <td>47.596667</td>\n",
       "      <td>19.2</td>\n",
       "      <td>44.790000</td>\n",
       "      <td>19.79</td>\n",
       "      <td>44.730000</td>\n",
       "      <td>19.000000</td>\n",
       "      <td>45.566667</td>\n",
       "      <td>...</td>\n",
       "      <td>17.033333</td>\n",
       "      <td>45.53</td>\n",
       "      <td>6.600000</td>\n",
       "      <td>733.5</td>\n",
       "      <td>92.0</td>\n",
       "      <td>7.000000</td>\n",
       "      <td>63.000000</td>\n",
       "      <td>5.3</td>\n",
       "      <td>13.275433</td>\n",
       "      <td>13.275433</td>\n",
       "    </tr>\n",
       "    <tr>\n",
       "      <th>1</th>\n",
       "      <td>60</td>\n",
       "      <td>30</td>\n",
       "      <td>19.89</td>\n",
       "      <td>46.693333</td>\n",
       "      <td>19.2</td>\n",
       "      <td>44.722500</td>\n",
       "      <td>19.79</td>\n",
       "      <td>44.790000</td>\n",
       "      <td>19.000000</td>\n",
       "      <td>45.992500</td>\n",
       "      <td>...</td>\n",
       "      <td>17.066667</td>\n",
       "      <td>45.56</td>\n",
       "      <td>6.483333</td>\n",
       "      <td>733.6</td>\n",
       "      <td>92.0</td>\n",
       "      <td>6.666667</td>\n",
       "      <td>59.166667</td>\n",
       "      <td>5.2</td>\n",
       "      <td>18.606195</td>\n",
       "      <td>18.606195</td>\n",
       "    </tr>\n",
       "    <tr>\n",
       "      <th>2</th>\n",
       "      <td>50</td>\n",
       "      <td>30</td>\n",
       "      <td>19.89</td>\n",
       "      <td>46.300000</td>\n",
       "      <td>19.2</td>\n",
       "      <td>44.626667</td>\n",
       "      <td>19.79</td>\n",
       "      <td>44.933333</td>\n",
       "      <td>18.926667</td>\n",
       "      <td>45.890000</td>\n",
       "      <td>...</td>\n",
       "      <td>17.000000</td>\n",
       "      <td>45.50</td>\n",
       "      <td>6.366667</td>\n",
       "      <td>733.7</td>\n",
       "      <td>92.0</td>\n",
       "      <td>6.333333</td>\n",
       "      <td>55.333333</td>\n",
       "      <td>5.1</td>\n",
       "      <td>28.642668</td>\n",
       "      <td>28.642668</td>\n",
       "    </tr>\n",
       "    <tr>\n",
       "      <th>3</th>\n",
       "      <td>50</td>\n",
       "      <td>40</td>\n",
       "      <td>19.89</td>\n",
       "      <td>46.066667</td>\n",
       "      <td>19.2</td>\n",
       "      <td>44.590000</td>\n",
       "      <td>19.79</td>\n",
       "      <td>45.000000</td>\n",
       "      <td>18.890000</td>\n",
       "      <td>45.723333</td>\n",
       "      <td>...</td>\n",
       "      <td>17.000000</td>\n",
       "      <td>45.40</td>\n",
       "      <td>6.250000</td>\n",
       "      <td>733.8</td>\n",
       "      <td>92.0</td>\n",
       "      <td>6.000000</td>\n",
       "      <td>51.500000</td>\n",
       "      <td>5.0</td>\n",
       "      <td>45.410389</td>\n",
       "      <td>45.410389</td>\n",
       "    </tr>\n",
       "    <tr>\n",
       "      <th>4</th>\n",
       "      <td>60</td>\n",
       "      <td>40</td>\n",
       "      <td>19.89</td>\n",
       "      <td>46.333333</td>\n",
       "      <td>19.2</td>\n",
       "      <td>44.530000</td>\n",
       "      <td>19.79</td>\n",
       "      <td>45.000000</td>\n",
       "      <td>18.890000</td>\n",
       "      <td>45.530000</td>\n",
       "      <td>...</td>\n",
       "      <td>17.000000</td>\n",
       "      <td>45.40</td>\n",
       "      <td>6.133333</td>\n",
       "      <td>733.9</td>\n",
       "      <td>92.0</td>\n",
       "      <td>5.666667</td>\n",
       "      <td>47.666667</td>\n",
       "      <td>4.9</td>\n",
       "      <td>10.084097</td>\n",
       "      <td>10.084097</td>\n",
       "    </tr>\n",
       "  </tbody>\n",
       "</table>\n",
       "<p>5 rows × 28 columns</p>\n",
       "</div>"
      ],
      "text/plain": [
       "   Appliances  lights     T1       RH_1    T2       RH_2     T3       RH_3  \\\n",
       "0          60      30  19.89  47.596667  19.2  44.790000  19.79  44.730000   \n",
       "1          60      30  19.89  46.693333  19.2  44.722500  19.79  44.790000   \n",
       "2          50      30  19.89  46.300000  19.2  44.626667  19.79  44.933333   \n",
       "3          50      40  19.89  46.066667  19.2  44.590000  19.79  45.000000   \n",
       "4          60      40  19.89  46.333333  19.2  44.530000  19.79  45.000000   \n",
       "\n",
       "          T4       RH_4    ...             T9   RH_9     T_out  Press_mm_hg  \\\n",
       "0  19.000000  45.566667    ...      17.033333  45.53  6.600000        733.5   \n",
       "1  19.000000  45.992500    ...      17.066667  45.56  6.483333        733.6   \n",
       "2  18.926667  45.890000    ...      17.000000  45.50  6.366667        733.7   \n",
       "3  18.890000  45.723333    ...      17.000000  45.40  6.250000        733.8   \n",
       "4  18.890000  45.530000    ...      17.000000  45.40  6.133333        733.9   \n",
       "\n",
       "   RH_out  Windspeed  Visibility  Tdewpoint        rv1        rv2  \n",
       "0    92.0   7.000000   63.000000        5.3  13.275433  13.275433  \n",
       "1    92.0   6.666667   59.166667        5.2  18.606195  18.606195  \n",
       "2    92.0   6.333333   55.333333        5.1  28.642668  28.642668  \n",
       "3    92.0   6.000000   51.500000        5.0  45.410389  45.410389  \n",
       "4    92.0   5.666667   47.666667        4.9  10.084097  10.084097  \n",
       "\n",
       "[5 rows x 28 columns]"
      ]
     },
     "execution_count": 63,
     "metadata": {},
     "output_type": "execute_result"
    }
   ],
   "source": [
    "df.head()"
   ]
  },
  {
   "cell_type": "code",
   "execution_count": 66,
   "metadata": {
    "collapsed": true
   },
   "outputs": [],
   "source": [
    "del df['rv2']"
   ]
  },
  {
   "cell_type": "code",
   "execution_count": 67,
   "metadata": {},
   "outputs": [
    {
     "name": "stdout",
     "output_type": "stream",
     "text": [
      "<class 'pandas.core.frame.DataFrame'>\n",
      "RangeIndex: 19735 entries, 0 to 19734\n",
      "Data columns (total 27 columns):\n",
      "Appliances     19735 non-null int64\n",
      "lights         19735 non-null int64\n",
      "T1             19735 non-null float64\n",
      "RH_1           19735 non-null float64\n",
      "T2             19735 non-null float64\n",
      "RH_2           19735 non-null float64\n",
      "T3             19735 non-null float64\n",
      "RH_3           19735 non-null float64\n",
      "T4             19735 non-null float64\n",
      "RH_4           19735 non-null float64\n",
      "T5             19735 non-null float64\n",
      "RH_5           19735 non-null float64\n",
      "T6             19735 non-null float64\n",
      "RH_6           19735 non-null float64\n",
      "T7             19735 non-null float64\n",
      "RH_7           19735 non-null float64\n",
      "T8             19735 non-null float64\n",
      "RH_8           19735 non-null float64\n",
      "T9             19735 non-null float64\n",
      "RH_9           19735 non-null float64\n",
      "T_out          19735 non-null float64\n",
      "Press_mm_hg    19735 non-null float64\n",
      "RH_out         19735 non-null float64\n",
      "Windspeed      19735 non-null float64\n",
      "Visibility     19735 non-null float64\n",
      "Tdewpoint      19735 non-null float64\n",
      "rv1            19735 non-null float64\n",
      "dtypes: float64(25), int64(2)\n",
      "memory usage: 4.1 MB\n"
     ]
    }
   ],
   "source": [
    "df.info()"
   ]
  },
  {
   "cell_type": "code",
   "execution_count": 68,
   "metadata": {
    "collapsed": true
   },
   "outputs": [],
   "source": [
    "del df['rv1']"
   ]
  },
  {
   "cell_type": "code",
   "execution_count": 69,
   "metadata": {},
   "outputs": [
    {
     "name": "stdout",
     "output_type": "stream",
     "text": [
      "<class 'pandas.core.frame.DataFrame'>\n",
      "RangeIndex: 19735 entries, 0 to 19734\n",
      "Data columns (total 26 columns):\n",
      "Appliances     19735 non-null int64\n",
      "lights         19735 non-null int64\n",
      "T1             19735 non-null float64\n",
      "RH_1           19735 non-null float64\n",
      "T2             19735 non-null float64\n",
      "RH_2           19735 non-null float64\n",
      "T3             19735 non-null float64\n",
      "RH_3           19735 non-null float64\n",
      "T4             19735 non-null float64\n",
      "RH_4           19735 non-null float64\n",
      "T5             19735 non-null float64\n",
      "RH_5           19735 non-null float64\n",
      "T6             19735 non-null float64\n",
      "RH_6           19735 non-null float64\n",
      "T7             19735 non-null float64\n",
      "RH_7           19735 non-null float64\n",
      "T8             19735 non-null float64\n",
      "RH_8           19735 non-null float64\n",
      "T9             19735 non-null float64\n",
      "RH_9           19735 non-null float64\n",
      "T_out          19735 non-null float64\n",
      "Press_mm_hg    19735 non-null float64\n",
      "RH_out         19735 non-null float64\n",
      "Windspeed      19735 non-null float64\n",
      "Visibility     19735 non-null float64\n",
      "Tdewpoint      19735 non-null float64\n",
      "dtypes: float64(24), int64(2)\n",
      "memory usage: 3.9 MB\n"
     ]
    }
   ],
   "source": [
    "df.info()"
   ]
  },
  {
   "cell_type": "code",
   "execution_count": 70,
   "metadata": {},
   "outputs": [
    {
     "data": {
      "text/plain": [
       "Appliances      60.000000\n",
       "lights          30.000000\n",
       "T1              19.890000\n",
       "RH_1            47.596667\n",
       "T2              19.200000\n",
       "RH_2            44.790000\n",
       "T3              19.790000\n",
       "RH_3            44.730000\n",
       "T4              19.000000\n",
       "RH_4            45.566667\n",
       "T5              17.166667\n",
       "RH_5            55.200000\n",
       "T6               7.026667\n",
       "RH_6            84.256667\n",
       "T7              17.200000\n",
       "RH_7            41.626667\n",
       "T8              18.200000\n",
       "RH_8            48.900000\n",
       "T9              17.033333\n",
       "RH_9            45.530000\n",
       "T_out            6.600000\n",
       "Press_mm_hg    733.500000\n",
       "RH_out          92.000000\n",
       "Windspeed        7.000000\n",
       "Visibility      63.000000\n",
       "Tdewpoint        5.300000\n",
       "Name: 0, dtype: float64"
      ]
     },
     "execution_count": 70,
     "metadata": {},
     "output_type": "execute_result"
    }
   ],
   "source": [
    "df.loc[0]"
   ]
  },
  {
   "cell_type": "code",
   "execution_count": 71,
   "metadata": {},
   "outputs": [
    {
     "data": {
      "text/html": [
       "<div>\n",
       "<style>\n",
       "    .dataframe thead tr:only-child th {\n",
       "        text-align: right;\n",
       "    }\n",
       "\n",
       "    .dataframe thead th {\n",
       "        text-align: left;\n",
       "    }\n",
       "\n",
       "    .dataframe tbody tr th {\n",
       "        vertical-align: top;\n",
       "    }\n",
       "</style>\n",
       "<table border=\"1\" class=\"dataframe\">\n",
       "  <thead>\n",
       "    <tr style=\"text-align: right;\">\n",
       "      <th></th>\n",
       "      <th>Appliances</th>\n",
       "      <th>lights</th>\n",
       "      <th>T1</th>\n",
       "      <th>RH_1</th>\n",
       "      <th>T2</th>\n",
       "      <th>RH_2</th>\n",
       "      <th>T3</th>\n",
       "      <th>RH_3</th>\n",
       "      <th>T4</th>\n",
       "      <th>RH_4</th>\n",
       "      <th>...</th>\n",
       "      <th>T8</th>\n",
       "      <th>RH_8</th>\n",
       "      <th>T9</th>\n",
       "      <th>RH_9</th>\n",
       "      <th>T_out</th>\n",
       "      <th>Press_mm_hg</th>\n",
       "      <th>RH_out</th>\n",
       "      <th>Windspeed</th>\n",
       "      <th>Visibility</th>\n",
       "      <th>Tdewpoint</th>\n",
       "    </tr>\n",
       "  </thead>\n",
       "  <tbody>\n",
       "    <tr>\n",
       "      <th>0</th>\n",
       "      <td>60</td>\n",
       "      <td>30</td>\n",
       "      <td>19.89</td>\n",
       "      <td>47.596667</td>\n",
       "      <td>19.2</td>\n",
       "      <td>44.790000</td>\n",
       "      <td>19.79</td>\n",
       "      <td>44.730000</td>\n",
       "      <td>19.000000</td>\n",
       "      <td>45.566667</td>\n",
       "      <td>...</td>\n",
       "      <td>18.2</td>\n",
       "      <td>48.900000</td>\n",
       "      <td>17.033333</td>\n",
       "      <td>45.53</td>\n",
       "      <td>6.600000</td>\n",
       "      <td>733.5</td>\n",
       "      <td>92.0</td>\n",
       "      <td>7.000000</td>\n",
       "      <td>63.000000</td>\n",
       "      <td>5.3</td>\n",
       "    </tr>\n",
       "    <tr>\n",
       "      <th>1</th>\n",
       "      <td>60</td>\n",
       "      <td>30</td>\n",
       "      <td>19.89</td>\n",
       "      <td>46.693333</td>\n",
       "      <td>19.2</td>\n",
       "      <td>44.722500</td>\n",
       "      <td>19.79</td>\n",
       "      <td>44.790000</td>\n",
       "      <td>19.000000</td>\n",
       "      <td>45.992500</td>\n",
       "      <td>...</td>\n",
       "      <td>18.2</td>\n",
       "      <td>48.863333</td>\n",
       "      <td>17.066667</td>\n",
       "      <td>45.56</td>\n",
       "      <td>6.483333</td>\n",
       "      <td>733.6</td>\n",
       "      <td>92.0</td>\n",
       "      <td>6.666667</td>\n",
       "      <td>59.166667</td>\n",
       "      <td>5.2</td>\n",
       "    </tr>\n",
       "    <tr>\n",
       "      <th>2</th>\n",
       "      <td>50</td>\n",
       "      <td>30</td>\n",
       "      <td>19.89</td>\n",
       "      <td>46.300000</td>\n",
       "      <td>19.2</td>\n",
       "      <td>44.626667</td>\n",
       "      <td>19.79</td>\n",
       "      <td>44.933333</td>\n",
       "      <td>18.926667</td>\n",
       "      <td>45.890000</td>\n",
       "      <td>...</td>\n",
       "      <td>18.2</td>\n",
       "      <td>48.730000</td>\n",
       "      <td>17.000000</td>\n",
       "      <td>45.50</td>\n",
       "      <td>6.366667</td>\n",
       "      <td>733.7</td>\n",
       "      <td>92.0</td>\n",
       "      <td>6.333333</td>\n",
       "      <td>55.333333</td>\n",
       "      <td>5.1</td>\n",
       "    </tr>\n",
       "    <tr>\n",
       "      <th>3</th>\n",
       "      <td>50</td>\n",
       "      <td>40</td>\n",
       "      <td>19.89</td>\n",
       "      <td>46.066667</td>\n",
       "      <td>19.2</td>\n",
       "      <td>44.590000</td>\n",
       "      <td>19.79</td>\n",
       "      <td>45.000000</td>\n",
       "      <td>18.890000</td>\n",
       "      <td>45.723333</td>\n",
       "      <td>...</td>\n",
       "      <td>18.1</td>\n",
       "      <td>48.590000</td>\n",
       "      <td>17.000000</td>\n",
       "      <td>45.40</td>\n",
       "      <td>6.250000</td>\n",
       "      <td>733.8</td>\n",
       "      <td>92.0</td>\n",
       "      <td>6.000000</td>\n",
       "      <td>51.500000</td>\n",
       "      <td>5.0</td>\n",
       "    </tr>\n",
       "    <tr>\n",
       "      <th>4</th>\n",
       "      <td>60</td>\n",
       "      <td>40</td>\n",
       "      <td>19.89</td>\n",
       "      <td>46.333333</td>\n",
       "      <td>19.2</td>\n",
       "      <td>44.530000</td>\n",
       "      <td>19.79</td>\n",
       "      <td>45.000000</td>\n",
       "      <td>18.890000</td>\n",
       "      <td>45.530000</td>\n",
       "      <td>...</td>\n",
       "      <td>18.1</td>\n",
       "      <td>48.590000</td>\n",
       "      <td>17.000000</td>\n",
       "      <td>45.40</td>\n",
       "      <td>6.133333</td>\n",
       "      <td>733.9</td>\n",
       "      <td>92.0</td>\n",
       "      <td>5.666667</td>\n",
       "      <td>47.666667</td>\n",
       "      <td>4.9</td>\n",
       "    </tr>\n",
       "  </tbody>\n",
       "</table>\n",
       "<p>5 rows × 26 columns</p>\n",
       "</div>"
      ],
      "text/plain": [
       "   Appliances  lights     T1       RH_1    T2       RH_2     T3       RH_3  \\\n",
       "0          60      30  19.89  47.596667  19.2  44.790000  19.79  44.730000   \n",
       "1          60      30  19.89  46.693333  19.2  44.722500  19.79  44.790000   \n",
       "2          50      30  19.89  46.300000  19.2  44.626667  19.79  44.933333   \n",
       "3          50      40  19.89  46.066667  19.2  44.590000  19.79  45.000000   \n",
       "4          60      40  19.89  46.333333  19.2  44.530000  19.79  45.000000   \n",
       "\n",
       "          T4       RH_4    ...        T8       RH_8         T9   RH_9  \\\n",
       "0  19.000000  45.566667    ...      18.2  48.900000  17.033333  45.53   \n",
       "1  19.000000  45.992500    ...      18.2  48.863333  17.066667  45.56   \n",
       "2  18.926667  45.890000    ...      18.2  48.730000  17.000000  45.50   \n",
       "3  18.890000  45.723333    ...      18.1  48.590000  17.000000  45.40   \n",
       "4  18.890000  45.530000    ...      18.1  48.590000  17.000000  45.40   \n",
       "\n",
       "      T_out  Press_mm_hg  RH_out  Windspeed  Visibility  Tdewpoint  \n",
       "0  6.600000        733.5    92.0   7.000000   63.000000        5.3  \n",
       "1  6.483333        733.6    92.0   6.666667   59.166667        5.2  \n",
       "2  6.366667        733.7    92.0   6.333333   55.333333        5.1  \n",
       "3  6.250000        733.8    92.0   6.000000   51.500000        5.0  \n",
       "4  6.133333        733.9    92.0   5.666667   47.666667        4.9  \n",
       "\n",
       "[5 rows x 26 columns]"
      ]
     },
     "execution_count": 71,
     "metadata": {},
     "output_type": "execute_result"
    }
   ],
   "source": [
    "df.head()"
   ]
  },
  {
   "cell_type": "code",
   "execution_count": 72,
   "metadata": {},
   "outputs": [
    {
     "data": {
      "text/plain": [
       "Appliances      60.000000\n",
       "lights          30.000000\n",
       "T1              19.890000\n",
       "RH_1            47.596667\n",
       "T2              19.200000\n",
       "RH_2            44.790000\n",
       "T3              19.790000\n",
       "RH_3            44.730000\n",
       "T4              19.000000\n",
       "RH_4            45.566667\n",
       "T5              17.166667\n",
       "RH_5            55.200000\n",
       "T6               7.026667\n",
       "RH_6            84.256667\n",
       "T7              17.200000\n",
       "RH_7            41.626667\n",
       "T8              18.200000\n",
       "RH_8            48.900000\n",
       "T9              17.033333\n",
       "RH_9            45.530000\n",
       "T_out            6.600000\n",
       "Press_mm_hg    733.500000\n",
       "RH_out          92.000000\n",
       "Windspeed        7.000000\n",
       "Visibility      63.000000\n",
       "Tdewpoint        5.300000\n",
       "Name: 0, dtype: float64"
      ]
     },
     "execution_count": 72,
     "metadata": {},
     "output_type": "execute_result"
    }
   ],
   "source": [
    "df.iloc[0]"
   ]
  },
  {
   "cell_type": "code",
   "execution_count": 75,
   "metadata": {},
   "outputs": [
    {
     "data": {
      "text/plain": [
       "['Appliances',\n",
       " 'lights',\n",
       " 'T1',\n",
       " 'RH_1',\n",
       " 'T2',\n",
       " 'RH_2',\n",
       " 'T3',\n",
       " 'RH_3',\n",
       " 'T4',\n",
       " 'RH_4',\n",
       " 'T5',\n",
       " 'RH_5',\n",
       " 'T6',\n",
       " 'RH_6',\n",
       " 'T7',\n",
       " 'RH_7',\n",
       " 'T8',\n",
       " 'RH_8',\n",
       " 'T9',\n",
       " 'RH_9',\n",
       " 'T_out',\n",
       " 'Press_mm_hg',\n",
       " 'RH_out',\n",
       " 'Windspeed',\n",
       " 'Visibility',\n",
       " 'Tdewpoint']"
      ]
     },
     "execution_count": 75,
     "metadata": {},
     "output_type": "execute_result"
    }
   ],
   "source": [
    "list(df)"
   ]
  },
  {
   "cell_type": "code",
   "execution_count": 76,
   "metadata": {},
   "outputs": [
    {
     "data": {
      "text/plain": [
       "(19735, 26)"
      ]
     },
     "execution_count": 76,
     "metadata": {},
     "output_type": "execute_result"
    }
   ],
   "source": [
    "df.shape"
   ]
  },
  {
   "cell_type": "code",
   "execution_count": 77,
   "metadata": {},
   "outputs": [
    {
     "data": {
      "text/plain": [
       "26"
      ]
     },
     "execution_count": 77,
     "metadata": {},
     "output_type": "execute_result"
    }
   ],
   "source": [
    "len(list(df))"
   ]
  },
  {
   "cell_type": "code",
   "execution_count": 78,
   "metadata": {},
   "outputs": [
    {
     "ename": "TypeError",
     "evalue": "unhashable type: 'slice'",
     "output_type": "error",
     "traceback": [
      "\u001b[1;31m---------------------------------------------------------------------------\u001b[0m",
      "\u001b[1;31mTypeError\u001b[0m                                 Traceback (most recent call last)",
      "\u001b[1;32m<ipython-input-78-ce13e5374ae5>\u001b[0m in \u001b[0;36m<module>\u001b[1;34m()\u001b[0m\n\u001b[1;32m----> 1\u001b[1;33m \u001b[0mdf\u001b[0m\u001b[1;33m[\u001b[0m\u001b[1;33m:\u001b[0m\u001b[1;36m2\u001b[0m\u001b[1;33m,\u001b[0m\u001b[1;33m:\u001b[0m\u001b[1;33m]\u001b[0m\u001b[1;33m\u001b[0m\u001b[0m\n\u001b[0m",
      "\u001b[1;32mC:\\Users\\Anurag Kumar\\Anaconda3\\lib\\site-packages\\pandas\\core\\frame.py\u001b[0m in \u001b[0;36m__getitem__\u001b[1;34m(self, key)\u001b[0m\n\u001b[0;32m   2060\u001b[0m             \u001b[1;32mreturn\u001b[0m \u001b[0mself\u001b[0m\u001b[1;33m.\u001b[0m\u001b[0m_getitem_multilevel\u001b[0m\u001b[1;33m(\u001b[0m\u001b[0mkey\u001b[0m\u001b[1;33m)\u001b[0m\u001b[1;33m\u001b[0m\u001b[0m\n\u001b[0;32m   2061\u001b[0m         \u001b[1;32melse\u001b[0m\u001b[1;33m:\u001b[0m\u001b[1;33m\u001b[0m\u001b[0m\n\u001b[1;32m-> 2062\u001b[1;33m             \u001b[1;32mreturn\u001b[0m \u001b[0mself\u001b[0m\u001b[1;33m.\u001b[0m\u001b[0m_getitem_column\u001b[0m\u001b[1;33m(\u001b[0m\u001b[0mkey\u001b[0m\u001b[1;33m)\u001b[0m\u001b[1;33m\u001b[0m\u001b[0m\n\u001b[0m\u001b[0;32m   2063\u001b[0m \u001b[1;33m\u001b[0m\u001b[0m\n\u001b[0;32m   2064\u001b[0m     \u001b[1;32mdef\u001b[0m \u001b[0m_getitem_column\u001b[0m\u001b[1;33m(\u001b[0m\u001b[0mself\u001b[0m\u001b[1;33m,\u001b[0m \u001b[0mkey\u001b[0m\u001b[1;33m)\u001b[0m\u001b[1;33m:\u001b[0m\u001b[1;33m\u001b[0m\u001b[0m\n",
      "\u001b[1;32mC:\\Users\\Anurag Kumar\\Anaconda3\\lib\\site-packages\\pandas\\core\\frame.py\u001b[0m in \u001b[0;36m_getitem_column\u001b[1;34m(self, key)\u001b[0m\n\u001b[0;32m   2067\u001b[0m         \u001b[1;31m# get column\u001b[0m\u001b[1;33m\u001b[0m\u001b[1;33m\u001b[0m\u001b[0m\n\u001b[0;32m   2068\u001b[0m         \u001b[1;32mif\u001b[0m \u001b[0mself\u001b[0m\u001b[1;33m.\u001b[0m\u001b[0mcolumns\u001b[0m\u001b[1;33m.\u001b[0m\u001b[0mis_unique\u001b[0m\u001b[1;33m:\u001b[0m\u001b[1;33m\u001b[0m\u001b[0m\n\u001b[1;32m-> 2069\u001b[1;33m             \u001b[1;32mreturn\u001b[0m \u001b[0mself\u001b[0m\u001b[1;33m.\u001b[0m\u001b[0m_get_item_cache\u001b[0m\u001b[1;33m(\u001b[0m\u001b[0mkey\u001b[0m\u001b[1;33m)\u001b[0m\u001b[1;33m\u001b[0m\u001b[0m\n\u001b[0m\u001b[0;32m   2070\u001b[0m \u001b[1;33m\u001b[0m\u001b[0m\n\u001b[0;32m   2071\u001b[0m         \u001b[1;31m# duplicate columns & possible reduce dimensionality\u001b[0m\u001b[1;33m\u001b[0m\u001b[1;33m\u001b[0m\u001b[0m\n",
      "\u001b[1;32mC:\\Users\\Anurag Kumar\\Anaconda3\\lib\\site-packages\\pandas\\core\\generic.py\u001b[0m in \u001b[0;36m_get_item_cache\u001b[1;34m(self, item)\u001b[0m\n\u001b[0;32m   1530\u001b[0m         \u001b[1;34m\"\"\"Return the cached item, item represents a label indexer.\"\"\"\u001b[0m\u001b[1;33m\u001b[0m\u001b[0m\n\u001b[0;32m   1531\u001b[0m         \u001b[0mcache\u001b[0m \u001b[1;33m=\u001b[0m \u001b[0mself\u001b[0m\u001b[1;33m.\u001b[0m\u001b[0m_item_cache\u001b[0m\u001b[1;33m\u001b[0m\u001b[0m\n\u001b[1;32m-> 1532\u001b[1;33m         \u001b[0mres\u001b[0m \u001b[1;33m=\u001b[0m \u001b[0mcache\u001b[0m\u001b[1;33m.\u001b[0m\u001b[0mget\u001b[0m\u001b[1;33m(\u001b[0m\u001b[0mitem\u001b[0m\u001b[1;33m)\u001b[0m\u001b[1;33m\u001b[0m\u001b[0m\n\u001b[0m\u001b[0;32m   1533\u001b[0m         \u001b[1;32mif\u001b[0m \u001b[0mres\u001b[0m \u001b[1;32mis\u001b[0m \u001b[1;32mNone\u001b[0m\u001b[1;33m:\u001b[0m\u001b[1;33m\u001b[0m\u001b[0m\n\u001b[0;32m   1534\u001b[0m             \u001b[0mvalues\u001b[0m \u001b[1;33m=\u001b[0m \u001b[0mself\u001b[0m\u001b[1;33m.\u001b[0m\u001b[0m_data\u001b[0m\u001b[1;33m.\u001b[0m\u001b[0mget\u001b[0m\u001b[1;33m(\u001b[0m\u001b[0mitem\u001b[0m\u001b[1;33m)\u001b[0m\u001b[1;33m\u001b[0m\u001b[0m\n",
      "\u001b[1;31mTypeError\u001b[0m: unhashable type: 'slice'"
     ]
    }
   ],
   "source": [
    "df[:2,:]"
   ]
  },
  {
   "cell_type": "code",
   "execution_count": 79,
   "metadata": {
    "collapsed": true
   },
   "outputs": [],
   "source": [
    "data = df.copy()"
   ]
  },
  {
   "cell_type": "code",
   "execution_count": 80,
   "metadata": {},
   "outputs": [
    {
     "name": "stdout",
     "output_type": "stream",
     "text": [
      "<class 'pandas.core.frame.DataFrame'>\n",
      "RangeIndex: 19735 entries, 0 to 19734\n",
      "Data columns (total 26 columns):\n",
      "Appliances     19735 non-null int64\n",
      "lights         19735 non-null int64\n",
      "T1             19735 non-null float64\n",
      "RH_1           19735 non-null float64\n",
      "T2             19735 non-null float64\n",
      "RH_2           19735 non-null float64\n",
      "T3             19735 non-null float64\n",
      "RH_3           19735 non-null float64\n",
      "T4             19735 non-null float64\n",
      "RH_4           19735 non-null float64\n",
      "T5             19735 non-null float64\n",
      "RH_5           19735 non-null float64\n",
      "T6             19735 non-null float64\n",
      "RH_6           19735 non-null float64\n",
      "T7             19735 non-null float64\n",
      "RH_7           19735 non-null float64\n",
      "T8             19735 non-null float64\n",
      "RH_8           19735 non-null float64\n",
      "T9             19735 non-null float64\n",
      "RH_9           19735 non-null float64\n",
      "T_out          19735 non-null float64\n",
      "Press_mm_hg    19735 non-null float64\n",
      "RH_out         19735 non-null float64\n",
      "Windspeed      19735 non-null float64\n",
      "Visibility     19735 non-null float64\n",
      "Tdewpoint      19735 non-null float64\n",
      "dtypes: float64(24), int64(2)\n",
      "memory usage: 3.9 MB\n"
     ]
    }
   ],
   "source": [
    "data.info()"
   ]
  },
  {
   "cell_type": "code",
   "execution_count": 86,
   "metadata": {},
   "outputs": [
    {
     "data": {
      "text/html": [
       "<div>\n",
       "<style>\n",
       "    .dataframe thead tr:only-child th {\n",
       "        text-align: right;\n",
       "    }\n",
       "\n",
       "    .dataframe thead th {\n",
       "        text-align: left;\n",
       "    }\n",
       "\n",
       "    .dataframe tbody tr th {\n",
       "        vertical-align: top;\n",
       "    }\n",
       "</style>\n",
       "<table border=\"1\" class=\"dataframe\">\n",
       "  <thead>\n",
       "    <tr style=\"text-align: right;\">\n",
       "      <th></th>\n",
       "      <th>Appliances</th>\n",
       "      <th>lights</th>\n",
       "      <th>T1</th>\n",
       "      <th>RH_1</th>\n",
       "      <th>T2</th>\n",
       "      <th>RH_2</th>\n",
       "      <th>T3</th>\n",
       "      <th>RH_3</th>\n",
       "      <th>T4</th>\n",
       "      <th>RH_4</th>\n",
       "      <th>...</th>\n",
       "      <th>T8</th>\n",
       "      <th>RH_8</th>\n",
       "      <th>T9</th>\n",
       "      <th>RH_9</th>\n",
       "      <th>T_out</th>\n",
       "      <th>Press_mm_hg</th>\n",
       "      <th>RH_out</th>\n",
       "      <th>Windspeed</th>\n",
       "      <th>Visibility</th>\n",
       "      <th>Tdewpoint</th>\n",
       "    </tr>\n",
       "  </thead>\n",
       "  <tbody>\n",
       "    <tr>\n",
       "      <th>0</th>\n",
       "      <td>60</td>\n",
       "      <td>30</td>\n",
       "      <td>19.89</td>\n",
       "      <td>47.596667</td>\n",
       "      <td>19.2</td>\n",
       "      <td>44.790000</td>\n",
       "      <td>19.79</td>\n",
       "      <td>44.730000</td>\n",
       "      <td>19.000000</td>\n",
       "      <td>45.566667</td>\n",
       "      <td>...</td>\n",
       "      <td>18.2</td>\n",
       "      <td>48.900000</td>\n",
       "      <td>17.033333</td>\n",
       "      <td>45.53</td>\n",
       "      <td>6.600000</td>\n",
       "      <td>733.5</td>\n",
       "      <td>92.0</td>\n",
       "      <td>7.000000</td>\n",
       "      <td>63.000000</td>\n",
       "      <td>5.3</td>\n",
       "    </tr>\n",
       "    <tr>\n",
       "      <th>1</th>\n",
       "      <td>60</td>\n",
       "      <td>30</td>\n",
       "      <td>19.89</td>\n",
       "      <td>46.693333</td>\n",
       "      <td>19.2</td>\n",
       "      <td>44.722500</td>\n",
       "      <td>19.79</td>\n",
       "      <td>44.790000</td>\n",
       "      <td>19.000000</td>\n",
       "      <td>45.992500</td>\n",
       "      <td>...</td>\n",
       "      <td>18.2</td>\n",
       "      <td>48.863333</td>\n",
       "      <td>17.066667</td>\n",
       "      <td>45.56</td>\n",
       "      <td>6.483333</td>\n",
       "      <td>733.6</td>\n",
       "      <td>92.0</td>\n",
       "      <td>6.666667</td>\n",
       "      <td>59.166667</td>\n",
       "      <td>5.2</td>\n",
       "    </tr>\n",
       "    <tr>\n",
       "      <th>2</th>\n",
       "      <td>50</td>\n",
       "      <td>30</td>\n",
       "      <td>19.89</td>\n",
       "      <td>46.300000</td>\n",
       "      <td>19.2</td>\n",
       "      <td>44.626667</td>\n",
       "      <td>19.79</td>\n",
       "      <td>44.933333</td>\n",
       "      <td>18.926667</td>\n",
       "      <td>45.890000</td>\n",
       "      <td>...</td>\n",
       "      <td>18.2</td>\n",
       "      <td>48.730000</td>\n",
       "      <td>17.000000</td>\n",
       "      <td>45.50</td>\n",
       "      <td>6.366667</td>\n",
       "      <td>733.7</td>\n",
       "      <td>92.0</td>\n",
       "      <td>6.333333</td>\n",
       "      <td>55.333333</td>\n",
       "      <td>5.1</td>\n",
       "    </tr>\n",
       "    <tr>\n",
       "      <th>3</th>\n",
       "      <td>50</td>\n",
       "      <td>40</td>\n",
       "      <td>19.89</td>\n",
       "      <td>46.066667</td>\n",
       "      <td>19.2</td>\n",
       "      <td>44.590000</td>\n",
       "      <td>19.79</td>\n",
       "      <td>45.000000</td>\n",
       "      <td>18.890000</td>\n",
       "      <td>45.723333</td>\n",
       "      <td>...</td>\n",
       "      <td>18.1</td>\n",
       "      <td>48.590000</td>\n",
       "      <td>17.000000</td>\n",
       "      <td>45.40</td>\n",
       "      <td>6.250000</td>\n",
       "      <td>733.8</td>\n",
       "      <td>92.0</td>\n",
       "      <td>6.000000</td>\n",
       "      <td>51.500000</td>\n",
       "      <td>5.0</td>\n",
       "    </tr>\n",
       "    <tr>\n",
       "      <th>4</th>\n",
       "      <td>60</td>\n",
       "      <td>40</td>\n",
       "      <td>19.89</td>\n",
       "      <td>46.333333</td>\n",
       "      <td>19.2</td>\n",
       "      <td>44.530000</td>\n",
       "      <td>19.79</td>\n",
       "      <td>45.000000</td>\n",
       "      <td>18.890000</td>\n",
       "      <td>45.530000</td>\n",
       "      <td>...</td>\n",
       "      <td>18.1</td>\n",
       "      <td>48.590000</td>\n",
       "      <td>17.000000</td>\n",
       "      <td>45.40</td>\n",
       "      <td>6.133333</td>\n",
       "      <td>733.9</td>\n",
       "      <td>92.0</td>\n",
       "      <td>5.666667</td>\n",
       "      <td>47.666667</td>\n",
       "      <td>4.9</td>\n",
       "    </tr>\n",
       "  </tbody>\n",
       "</table>\n",
       "<p>5 rows × 26 columns</p>\n",
       "</div>"
      ],
      "text/plain": [
       "   Appliances  lights     T1       RH_1    T2       RH_2     T3       RH_3  \\\n",
       "0          60      30  19.89  47.596667  19.2  44.790000  19.79  44.730000   \n",
       "1          60      30  19.89  46.693333  19.2  44.722500  19.79  44.790000   \n",
       "2          50      30  19.89  46.300000  19.2  44.626667  19.79  44.933333   \n",
       "3          50      40  19.89  46.066667  19.2  44.590000  19.79  45.000000   \n",
       "4          60      40  19.89  46.333333  19.2  44.530000  19.79  45.000000   \n",
       "\n",
       "          T4       RH_4    ...        T8       RH_8         T9   RH_9  \\\n",
       "0  19.000000  45.566667    ...      18.2  48.900000  17.033333  45.53   \n",
       "1  19.000000  45.992500    ...      18.2  48.863333  17.066667  45.56   \n",
       "2  18.926667  45.890000    ...      18.2  48.730000  17.000000  45.50   \n",
       "3  18.890000  45.723333    ...      18.1  48.590000  17.000000  45.40   \n",
       "4  18.890000  45.530000    ...      18.1  48.590000  17.000000  45.40   \n",
       "\n",
       "      T_out  Press_mm_hg  RH_out  Windspeed  Visibility  Tdewpoint  \n",
       "0  6.600000        733.5    92.0   7.000000   63.000000        5.3  \n",
       "1  6.483333        733.6    92.0   6.666667   59.166667        5.2  \n",
       "2  6.366667        733.7    92.0   6.333333   55.333333        5.1  \n",
       "3  6.250000        733.8    92.0   6.000000   51.500000        5.0  \n",
       "4  6.133333        733.9    92.0   5.666667   47.666667        4.9  \n",
       "\n",
       "[5 rows x 26 columns]"
      ]
     },
     "execution_count": 86,
     "metadata": {},
     "output_type": "execute_result"
    }
   ],
   "source": [
    "data[:5]"
   ]
  },
  {
   "cell_type": "code",
   "execution_count": 90,
   "metadata": {},
   "outputs": [
    {
     "data": {
      "text/html": [
       "<div>\n",
       "<style>\n",
       "    .dataframe thead tr:only-child th {\n",
       "        text-align: right;\n",
       "    }\n",
       "\n",
       "    .dataframe thead th {\n",
       "        text-align: left;\n",
       "    }\n",
       "\n",
       "    .dataframe tbody tr th {\n",
       "        vertical-align: top;\n",
       "    }\n",
       "</style>\n",
       "<table border=\"1\" class=\"dataframe\">\n",
       "  <thead>\n",
       "    <tr style=\"text-align: right;\">\n",
       "      <th></th>\n",
       "      <th>Appliances</th>\n",
       "      <th>lights</th>\n",
       "    </tr>\n",
       "  </thead>\n",
       "  <tbody>\n",
       "    <tr>\n",
       "      <th>0</th>\n",
       "      <td>60</td>\n",
       "      <td>30</td>\n",
       "    </tr>\n",
       "    <tr>\n",
       "      <th>1</th>\n",
       "      <td>60</td>\n",
       "      <td>30</td>\n",
       "    </tr>\n",
       "    <tr>\n",
       "      <th>2</th>\n",
       "      <td>50</td>\n",
       "      <td>30</td>\n",
       "    </tr>\n",
       "    <tr>\n",
       "      <th>3</th>\n",
       "      <td>50</td>\n",
       "      <td>40</td>\n",
       "    </tr>\n",
       "    <tr>\n",
       "      <th>4</th>\n",
       "      <td>60</td>\n",
       "      <td>40</td>\n",
       "    </tr>\n",
       "  </tbody>\n",
       "</table>\n",
       "</div>"
      ],
      "text/plain": [
       "   Appliances  lights\n",
       "0          60      30\n",
       "1          60      30\n",
       "2          50      30\n",
       "3          50      40\n",
       "4          60      40"
      ]
     },
     "execution_count": 90,
     "metadata": {},
     "output_type": "execute_result"
    }
   ],
   "source": [
    "data.iloc[:5,:2]"
   ]
  },
  {
   "cell_type": "code",
   "execution_count": 91,
   "metadata": {
    "collapsed": true
   },
   "outputs": [],
   "source": [
    "Tenergy = data.iloc[:,:2]"
   ]
  },
  {
   "cell_type": "code",
   "execution_count": 119,
   "metadata": {
    "collapsed": true
   },
   "outputs": [],
   "source": [
    "Xenergy = data.iloc[:,2:]"
   ]
  },
  {
   "cell_type": "code",
   "execution_count": 93,
   "metadata": {},
   "outputs": [
    {
     "data": {
      "text/plain": [
       "((19735, 24), (19735, 2))"
      ]
     },
     "execution_count": 93,
     "metadata": {},
     "output_type": "execute_result"
    }
   ],
   "source": [
    "Xenergy.shape, Tenergy.shape"
   ]
  },
  {
   "cell_type": "code",
   "execution_count": 107,
   "metadata": {},
   "outputs": [
    {
     "data": {
      "text/html": [
       "<div>\n",
       "<style>\n",
       "    .dataframe thead tr:only-child th {\n",
       "        text-align: right;\n",
       "    }\n",
       "\n",
       "    .dataframe thead th {\n",
       "        text-align: left;\n",
       "    }\n",
       "\n",
       "    .dataframe tbody tr th {\n",
       "        vertical-align: top;\n",
       "    }\n",
       "</style>\n",
       "<table border=\"1\" class=\"dataframe\">\n",
       "  <thead>\n",
       "    <tr style=\"text-align: right;\">\n",
       "      <th></th>\n",
       "      <th>T1</th>\n",
       "      <th>RH_1</th>\n",
       "      <th>T2</th>\n",
       "      <th>RH_2</th>\n",
       "      <th>T3</th>\n",
       "      <th>RH_3</th>\n",
       "      <th>T4</th>\n",
       "      <th>RH_4</th>\n",
       "      <th>T5</th>\n",
       "      <th>RH_5</th>\n",
       "      <th>...</th>\n",
       "      <th>T8</th>\n",
       "      <th>RH_8</th>\n",
       "      <th>T9</th>\n",
       "      <th>RH_9</th>\n",
       "      <th>T_out</th>\n",
       "      <th>Press_mm_hg</th>\n",
       "      <th>RH_out</th>\n",
       "      <th>Windspeed</th>\n",
       "      <th>Visibility</th>\n",
       "      <th>Tdewpoint</th>\n",
       "    </tr>\n",
       "  </thead>\n",
       "  <tbody>\n",
       "    <tr>\n",
       "      <th>0</th>\n",
       "      <td>19.89</td>\n",
       "      <td>47.596667</td>\n",
       "      <td>19.2</td>\n",
       "      <td>44.790000</td>\n",
       "      <td>19.79</td>\n",
       "      <td>44.730000</td>\n",
       "      <td>19.000000</td>\n",
       "      <td>45.566667</td>\n",
       "      <td>17.166667</td>\n",
       "      <td>55.20</td>\n",
       "      <td>...</td>\n",
       "      <td>18.2</td>\n",
       "      <td>48.900000</td>\n",
       "      <td>17.033333</td>\n",
       "      <td>45.53</td>\n",
       "      <td>6.600000</td>\n",
       "      <td>733.5</td>\n",
       "      <td>92.0</td>\n",
       "      <td>7.000000</td>\n",
       "      <td>63.000000</td>\n",
       "      <td>5.3</td>\n",
       "    </tr>\n",
       "    <tr>\n",
       "      <th>1</th>\n",
       "      <td>19.89</td>\n",
       "      <td>46.693333</td>\n",
       "      <td>19.2</td>\n",
       "      <td>44.722500</td>\n",
       "      <td>19.79</td>\n",
       "      <td>44.790000</td>\n",
       "      <td>19.000000</td>\n",
       "      <td>45.992500</td>\n",
       "      <td>17.166667</td>\n",
       "      <td>55.20</td>\n",
       "      <td>...</td>\n",
       "      <td>18.2</td>\n",
       "      <td>48.863333</td>\n",
       "      <td>17.066667</td>\n",
       "      <td>45.56</td>\n",
       "      <td>6.483333</td>\n",
       "      <td>733.6</td>\n",
       "      <td>92.0</td>\n",
       "      <td>6.666667</td>\n",
       "      <td>59.166667</td>\n",
       "      <td>5.2</td>\n",
       "    </tr>\n",
       "    <tr>\n",
       "      <th>2</th>\n",
       "      <td>19.89</td>\n",
       "      <td>46.300000</td>\n",
       "      <td>19.2</td>\n",
       "      <td>44.626667</td>\n",
       "      <td>19.79</td>\n",
       "      <td>44.933333</td>\n",
       "      <td>18.926667</td>\n",
       "      <td>45.890000</td>\n",
       "      <td>17.166667</td>\n",
       "      <td>55.09</td>\n",
       "      <td>...</td>\n",
       "      <td>18.2</td>\n",
       "      <td>48.730000</td>\n",
       "      <td>17.000000</td>\n",
       "      <td>45.50</td>\n",
       "      <td>6.366667</td>\n",
       "      <td>733.7</td>\n",
       "      <td>92.0</td>\n",
       "      <td>6.333333</td>\n",
       "      <td>55.333333</td>\n",
       "      <td>5.1</td>\n",
       "    </tr>\n",
       "    <tr>\n",
       "      <th>3</th>\n",
       "      <td>19.89</td>\n",
       "      <td>46.066667</td>\n",
       "      <td>19.2</td>\n",
       "      <td>44.590000</td>\n",
       "      <td>19.79</td>\n",
       "      <td>45.000000</td>\n",
       "      <td>18.890000</td>\n",
       "      <td>45.723333</td>\n",
       "      <td>17.166667</td>\n",
       "      <td>55.09</td>\n",
       "      <td>...</td>\n",
       "      <td>18.1</td>\n",
       "      <td>48.590000</td>\n",
       "      <td>17.000000</td>\n",
       "      <td>45.40</td>\n",
       "      <td>6.250000</td>\n",
       "      <td>733.8</td>\n",
       "      <td>92.0</td>\n",
       "      <td>6.000000</td>\n",
       "      <td>51.500000</td>\n",
       "      <td>5.0</td>\n",
       "    </tr>\n",
       "    <tr>\n",
       "      <th>4</th>\n",
       "      <td>19.89</td>\n",
       "      <td>46.333333</td>\n",
       "      <td>19.2</td>\n",
       "      <td>44.530000</td>\n",
       "      <td>19.79</td>\n",
       "      <td>45.000000</td>\n",
       "      <td>18.890000</td>\n",
       "      <td>45.530000</td>\n",
       "      <td>17.200000</td>\n",
       "      <td>55.09</td>\n",
       "      <td>...</td>\n",
       "      <td>18.1</td>\n",
       "      <td>48.590000</td>\n",
       "      <td>17.000000</td>\n",
       "      <td>45.40</td>\n",
       "      <td>6.133333</td>\n",
       "      <td>733.9</td>\n",
       "      <td>92.0</td>\n",
       "      <td>5.666667</td>\n",
       "      <td>47.666667</td>\n",
       "      <td>4.9</td>\n",
       "    </tr>\n",
       "  </tbody>\n",
       "</table>\n",
       "<p>5 rows × 24 columns</p>\n",
       "</div>"
      ],
      "text/plain": [
       "      T1       RH_1    T2       RH_2     T3       RH_3         T4       RH_4  \\\n",
       "0  19.89  47.596667  19.2  44.790000  19.79  44.730000  19.000000  45.566667   \n",
       "1  19.89  46.693333  19.2  44.722500  19.79  44.790000  19.000000  45.992500   \n",
       "2  19.89  46.300000  19.2  44.626667  19.79  44.933333  18.926667  45.890000   \n",
       "3  19.89  46.066667  19.2  44.590000  19.79  45.000000  18.890000  45.723333   \n",
       "4  19.89  46.333333  19.2  44.530000  19.79  45.000000  18.890000  45.530000   \n",
       "\n",
       "          T5   RH_5    ...        T8       RH_8         T9   RH_9     T_out  \\\n",
       "0  17.166667  55.20    ...      18.2  48.900000  17.033333  45.53  6.600000   \n",
       "1  17.166667  55.20    ...      18.2  48.863333  17.066667  45.56  6.483333   \n",
       "2  17.166667  55.09    ...      18.2  48.730000  17.000000  45.50  6.366667   \n",
       "3  17.166667  55.09    ...      18.1  48.590000  17.000000  45.40  6.250000   \n",
       "4  17.200000  55.09    ...      18.1  48.590000  17.000000  45.40  6.133333   \n",
       "\n",
       "   Press_mm_hg  RH_out  Windspeed  Visibility  Tdewpoint  \n",
       "0        733.5    92.0   7.000000   63.000000        5.3  \n",
       "1        733.6    92.0   6.666667   59.166667        5.2  \n",
       "2        733.7    92.0   6.333333   55.333333        5.1  \n",
       "3        733.8    92.0   6.000000   51.500000        5.0  \n",
       "4        733.9    92.0   5.666667   47.666667        4.9  \n",
       "\n",
       "[5 rows x 24 columns]"
      ]
     },
     "execution_count": 107,
     "metadata": {},
     "output_type": "execute_result"
    }
   ],
   "source": [
    "Xenergy.head()"
   ]
  },
  {
   "cell_type": "code",
   "execution_count": 109,
   "metadata": {
    "collapsed": true
   },
   "outputs": [],
   "source": [
    "temp = Xenergy.reset_index().values"
   ]
  },
  {
   "cell_type": "code",
   "execution_count": 125,
   "metadata": {
    "collapsed": true
   },
   "outputs": [],
   "source": [
    "temp2 = Tenergy.reset_index().values"
   ]
  },
  {
   "cell_type": "code",
   "execution_count": 110,
   "metadata": {},
   "outputs": [
    {
     "data": {
      "text/plain": [
       "(19735, 25)"
      ]
     },
     "execution_count": 110,
     "metadata": {},
     "output_type": "execute_result"
    }
   ],
   "source": [
    "temp.shape"
   ]
  },
  {
   "cell_type": "code",
   "execution_count": 126,
   "metadata": {},
   "outputs": [
    {
     "data": {
      "text/plain": [
       "(19735, 3)"
      ]
     },
     "execution_count": 126,
     "metadata": {},
     "output_type": "execute_result"
    }
   ],
   "source": [
    "temp2.shape"
   ]
  },
  {
   "cell_type": "code",
   "execution_count": 111,
   "metadata": {},
   "outputs": [
    {
     "data": {
      "text/plain": [
       "array([   0.        ,   19.89      ,   47.59666667,   19.2       ,\n",
       "         44.79      ,   19.79      ,   44.73      ,   19.        ,\n",
       "         45.56666667,   17.16666667,   55.2       ,    7.02666667,\n",
       "         84.25666667,   17.2       ,   41.62666667,   18.2       ,\n",
       "         48.9       ,   17.03333333,   45.53      ,    6.6       ,\n",
       "        733.5       ,   92.        ,    7.        ,   63.        ,    5.3       ])"
      ]
     },
     "execution_count": 111,
     "metadata": {},
     "output_type": "execute_result"
    }
   ],
   "source": [
    "temp[0]"
   ]
  },
  {
   "cell_type": "code",
   "execution_count": 127,
   "metadata": {},
   "outputs": [
    {
     "data": {
      "text/plain": [
       "array([ 0, 60, 30], dtype=int64)"
      ]
     },
     "execution_count": 127,
     "metadata": {},
     "output_type": "execute_result"
    }
   ],
   "source": [
    "temp2[0]"
   ]
  },
  {
   "cell_type": "code",
   "execution_count": 112,
   "metadata": {
    "collapsed": true
   },
   "outputs": [],
   "source": [
    "temp = temp[:,1:]"
   ]
  },
  {
   "cell_type": "code",
   "execution_count": 128,
   "metadata": {
    "collapsed": true
   },
   "outputs": [],
   "source": [
    "temp2 = temp2[:,1:]"
   ]
  },
  {
   "cell_type": "code",
   "execution_count": 113,
   "metadata": {},
   "outputs": [
    {
     "data": {
      "text/plain": [
       "(19735, 24)"
      ]
     },
     "execution_count": 113,
     "metadata": {},
     "output_type": "execute_result"
    }
   ],
   "source": [
    "temp.shape"
   ]
  },
  {
   "cell_type": "code",
   "execution_count": 129,
   "metadata": {},
   "outputs": [
    {
     "data": {
      "text/plain": [
       "(19735, 2)"
      ]
     },
     "execution_count": 129,
     "metadata": {},
     "output_type": "execute_result"
    }
   ],
   "source": [
    "temp2.shape"
   ]
  },
  {
   "cell_type": "code",
   "execution_count": 115,
   "metadata": {},
   "outputs": [
    {
     "data": {
      "text/plain": [
       "T1             True\n",
       "RH_1           True\n",
       "T2             True\n",
       "RH_2           True\n",
       "T3             True\n",
       "RH_3           True\n",
       "T4             True\n",
       "RH_4           True\n",
       "T5             True\n",
       "RH_5           True\n",
       "T6             True\n",
       "RH_6           True\n",
       "T7             True\n",
       "RH_7           True\n",
       "T8             True\n",
       "RH_8           True\n",
       "T9             True\n",
       "RH_9           True\n",
       "T_out          True\n",
       "Press_mm_hg    True\n",
       "RH_out         True\n",
       "Windspeed      True\n",
       "Visibility     True\n",
       "Tdewpoint      True\n",
       "Name: 0, dtype: bool"
      ]
     },
     "execution_count": 115,
     "metadata": {},
     "output_type": "execute_result"
    }
   ],
   "source": [
    "temp[0]==Xenergy.iloc[0]"
   ]
  },
  {
   "cell_type": "code",
   "execution_count": 122,
   "metadata": {
    "collapsed": true
   },
   "outputs": [],
   "source": [
    "Xenergy = temp"
   ]
  },
  {
   "cell_type": "code",
   "execution_count": 130,
   "metadata": {
    "collapsed": true
   },
   "outputs": [],
   "source": [
    "Tenergy = temp2"
   ]
  },
  {
   "cell_type": "code",
   "execution_count": 123,
   "metadata": {},
   "outputs": [
    {
     "data": {
      "text/plain": [
       "(19735, 24)"
      ]
     },
     "execution_count": 123,
     "metadata": {},
     "output_type": "execute_result"
    }
   ],
   "source": [
    "Xenergy.shape"
   ]
  },
  {
   "cell_type": "code",
   "execution_count": 124,
   "metadata": {},
   "outputs": [
    {
     "data": {
      "text/plain": [
       "numpy.ndarray"
      ]
     },
     "execution_count": 124,
     "metadata": {},
     "output_type": "execute_result"
    }
   ],
   "source": [
    "type(Xenergy)"
   ]
  },
  {
   "cell_type": "code",
   "execution_count": 120,
   "metadata": {
    "collapsed": true
   },
   "outputs": [],
   "source": [
    "Xnames = list(Xenergy)"
   ]
  },
  {
   "cell_type": "code",
   "execution_count": 121,
   "metadata": {},
   "outputs": [
    {
     "data": {
      "text/plain": [
       "['T1',\n",
       " 'RH_1',\n",
       " 'T2',\n",
       " 'RH_2',\n",
       " 'T3',\n",
       " 'RH_3',\n",
       " 'T4',\n",
       " 'RH_4',\n",
       " 'T5',\n",
       " 'RH_5',\n",
       " 'T6',\n",
       " 'RH_6',\n",
       " 'T7',\n",
       " 'RH_7',\n",
       " 'T8',\n",
       " 'RH_8',\n",
       " 'T9',\n",
       " 'RH_9',\n",
       " 'T_out',\n",
       " 'Press_mm_hg',\n",
       " 'RH_out',\n",
       " 'Windspeed',\n",
       " 'Visibility',\n",
       " 'Tdewpoint']"
      ]
     },
     "execution_count": 121,
     "metadata": {},
     "output_type": "execute_result"
    }
   ],
   "source": [
    "Xnames"
   ]
  },
  {
   "cell_type": "code",
   "execution_count": 98,
   "metadata": {
    "collapsed": true
   },
   "outputs": [],
   "source": [
    "Tnames = list(Tenergy)"
   ]
  },
  {
   "cell_type": "code",
   "execution_count": 99,
   "metadata": {},
   "outputs": [
    {
     "data": {
      "text/plain": [
       "['Appliances', 'lights']"
      ]
     },
     "execution_count": 99,
     "metadata": {},
     "output_type": "execute_result"
    }
   ],
   "source": [
    "Tnames"
   ]
  },
  {
   "cell_type": "code",
   "execution_count": 102,
   "metadata": {},
   "outputs": [
    {
     "data": {
      "text/plain": [
       "pandas.core.frame.DataFrame"
      ]
     },
     "execution_count": 102,
     "metadata": {},
     "output_type": "execute_result"
    }
   ],
   "source": [
    "type(Xenergy)"
   ]
  },
  {
   "cell_type": "code",
   "execution_count": 106,
   "metadata": {},
   "outputs": [
    {
     "data": {
      "text/plain": [
       "array([[   0.        ,   60.        ,   30.        ,   19.89      ,\n",
       "          47.59666667,   19.2       ,   44.79      ,   19.79      ,\n",
       "          44.73      ,   19.        ,   45.56666667,   17.16666667,\n",
       "          55.2       ,    7.02666667,   84.25666667,   17.2       ,\n",
       "          41.62666667,   18.2       ,   48.9       ,   17.03333333,\n",
       "          45.53      ,    6.6       ,  733.5       ,   92.        ,\n",
       "           7.        ,   63.        ,    5.3       ],\n",
       "       [   1.        ,   60.        ,   30.        ,   19.89      ,\n",
       "          46.69333333,   19.2       ,   44.7225    ,   19.79      ,\n",
       "          44.79      ,   19.        ,   45.9925    ,   17.16666667,\n",
       "          55.2       ,    6.83333333,   84.06333333,   17.2       ,\n",
       "          41.56      ,   18.2       ,   48.86333333,   17.06666667,\n",
       "          45.56      ,    6.48333333,  733.6       ,   92.        ,\n",
       "           6.66666667,   59.16666667,    5.2       ],\n",
       "       [   2.        ,   50.        ,   30.        ,   19.89      ,\n",
       "          46.3       ,   19.2       ,   44.62666667,   19.79      ,\n",
       "          44.93333333,   18.92666667,   45.89      ,   17.16666667,\n",
       "          55.09      ,    6.56      ,   83.15666667,   17.2       ,\n",
       "          41.43333333,   18.2       ,   48.73      ,   17.        ,\n",
       "          45.5       ,    6.36666667,  733.7       ,   92.        ,\n",
       "           6.33333333,   55.33333333,    5.1       ],\n",
       "       [   3.        ,   50.        ,   40.        ,   19.89      ,\n",
       "          46.06666667,   19.2       ,   44.59      ,   19.79      ,\n",
       "          45.        ,   18.89      ,   45.72333333,   17.16666667,\n",
       "          55.09      ,    6.43333333,   83.42333333,   17.13333333,\n",
       "          41.29      ,   18.1       ,   48.59      ,   17.        ,\n",
       "          45.4       ,    6.25      ,  733.8       ,   92.        ,\n",
       "           6.        ,   51.5       ,    5.        ],\n",
       "       [   4.        ,   60.        ,   40.        ,   19.89      ,\n",
       "          46.33333333,   19.2       ,   44.53      ,   19.79      ,\n",
       "          45.        ,   18.89      ,   45.53      ,   17.2       ,\n",
       "          55.09      ,    6.36666667,   84.89333333,   17.2       ,\n",
       "          41.23      ,   18.1       ,   48.59      ,   17.        ,\n",
       "          45.4       ,    6.13333333,  733.9       ,   92.        ,\n",
       "           5.66666667,   47.66666667,    4.9       ]])"
      ]
     },
     "execution_count": 106,
     "metadata": {},
     "output_type": "execute_result"
    }
   ],
   "source": [
    "df.reset_index().values[:5]"
   ]
  },
  {
   "cell_type": "code",
   "execution_count": 104,
   "metadata": {},
   "outputs": [
    {
     "data": {
      "text/html": [
       "<div>\n",
       "<style>\n",
       "    .dataframe thead tr:only-child th {\n",
       "        text-align: right;\n",
       "    }\n",
       "\n",
       "    .dataframe thead th {\n",
       "        text-align: left;\n",
       "    }\n",
       "\n",
       "    .dataframe tbody tr th {\n",
       "        vertical-align: top;\n",
       "    }\n",
       "</style>\n",
       "<table border=\"1\" class=\"dataframe\">\n",
       "  <thead>\n",
       "    <tr style=\"text-align: right;\">\n",
       "      <th></th>\n",
       "      <th>Appliances</th>\n",
       "      <th>lights</th>\n",
       "      <th>T1</th>\n",
       "      <th>RH_1</th>\n",
       "      <th>T2</th>\n",
       "      <th>RH_2</th>\n",
       "      <th>T3</th>\n",
       "      <th>RH_3</th>\n",
       "      <th>T4</th>\n",
       "      <th>RH_4</th>\n",
       "      <th>...</th>\n",
       "      <th>T8</th>\n",
       "      <th>RH_8</th>\n",
       "      <th>T9</th>\n",
       "      <th>RH_9</th>\n",
       "      <th>T_out</th>\n",
       "      <th>Press_mm_hg</th>\n",
       "      <th>RH_out</th>\n",
       "      <th>Windspeed</th>\n",
       "      <th>Visibility</th>\n",
       "      <th>Tdewpoint</th>\n",
       "    </tr>\n",
       "  </thead>\n",
       "  <tbody>\n",
       "    <tr>\n",
       "      <th>0</th>\n",
       "      <td>60</td>\n",
       "      <td>30</td>\n",
       "      <td>19.89</td>\n",
       "      <td>47.596667</td>\n",
       "      <td>19.2</td>\n",
       "      <td>44.790000</td>\n",
       "      <td>19.79</td>\n",
       "      <td>44.730000</td>\n",
       "      <td>19.000000</td>\n",
       "      <td>45.566667</td>\n",
       "      <td>...</td>\n",
       "      <td>18.2</td>\n",
       "      <td>48.900000</td>\n",
       "      <td>17.033333</td>\n",
       "      <td>45.53</td>\n",
       "      <td>6.600000</td>\n",
       "      <td>733.5</td>\n",
       "      <td>92.0</td>\n",
       "      <td>7.000000</td>\n",
       "      <td>63.000000</td>\n",
       "      <td>5.3</td>\n",
       "    </tr>\n",
       "    <tr>\n",
       "      <th>1</th>\n",
       "      <td>60</td>\n",
       "      <td>30</td>\n",
       "      <td>19.89</td>\n",
       "      <td>46.693333</td>\n",
       "      <td>19.2</td>\n",
       "      <td>44.722500</td>\n",
       "      <td>19.79</td>\n",
       "      <td>44.790000</td>\n",
       "      <td>19.000000</td>\n",
       "      <td>45.992500</td>\n",
       "      <td>...</td>\n",
       "      <td>18.2</td>\n",
       "      <td>48.863333</td>\n",
       "      <td>17.066667</td>\n",
       "      <td>45.56</td>\n",
       "      <td>6.483333</td>\n",
       "      <td>733.6</td>\n",
       "      <td>92.0</td>\n",
       "      <td>6.666667</td>\n",
       "      <td>59.166667</td>\n",
       "      <td>5.2</td>\n",
       "    </tr>\n",
       "    <tr>\n",
       "      <th>2</th>\n",
       "      <td>50</td>\n",
       "      <td>30</td>\n",
       "      <td>19.89</td>\n",
       "      <td>46.300000</td>\n",
       "      <td>19.2</td>\n",
       "      <td>44.626667</td>\n",
       "      <td>19.79</td>\n",
       "      <td>44.933333</td>\n",
       "      <td>18.926667</td>\n",
       "      <td>45.890000</td>\n",
       "      <td>...</td>\n",
       "      <td>18.2</td>\n",
       "      <td>48.730000</td>\n",
       "      <td>17.000000</td>\n",
       "      <td>45.50</td>\n",
       "      <td>6.366667</td>\n",
       "      <td>733.7</td>\n",
       "      <td>92.0</td>\n",
       "      <td>6.333333</td>\n",
       "      <td>55.333333</td>\n",
       "      <td>5.1</td>\n",
       "    </tr>\n",
       "    <tr>\n",
       "      <th>3</th>\n",
       "      <td>50</td>\n",
       "      <td>40</td>\n",
       "      <td>19.89</td>\n",
       "      <td>46.066667</td>\n",
       "      <td>19.2</td>\n",
       "      <td>44.590000</td>\n",
       "      <td>19.79</td>\n",
       "      <td>45.000000</td>\n",
       "      <td>18.890000</td>\n",
       "      <td>45.723333</td>\n",
       "      <td>...</td>\n",
       "      <td>18.1</td>\n",
       "      <td>48.590000</td>\n",
       "      <td>17.000000</td>\n",
       "      <td>45.40</td>\n",
       "      <td>6.250000</td>\n",
       "      <td>733.8</td>\n",
       "      <td>92.0</td>\n",
       "      <td>6.000000</td>\n",
       "      <td>51.500000</td>\n",
       "      <td>5.0</td>\n",
       "    </tr>\n",
       "    <tr>\n",
       "      <th>4</th>\n",
       "      <td>60</td>\n",
       "      <td>40</td>\n",
       "      <td>19.89</td>\n",
       "      <td>46.333333</td>\n",
       "      <td>19.2</td>\n",
       "      <td>44.530000</td>\n",
       "      <td>19.79</td>\n",
       "      <td>45.000000</td>\n",
       "      <td>18.890000</td>\n",
       "      <td>45.530000</td>\n",
       "      <td>...</td>\n",
       "      <td>18.1</td>\n",
       "      <td>48.590000</td>\n",
       "      <td>17.000000</td>\n",
       "      <td>45.40</td>\n",
       "      <td>6.133333</td>\n",
       "      <td>733.9</td>\n",
       "      <td>92.0</td>\n",
       "      <td>5.666667</td>\n",
       "      <td>47.666667</td>\n",
       "      <td>4.9</td>\n",
       "    </tr>\n",
       "  </tbody>\n",
       "</table>\n",
       "<p>5 rows × 26 columns</p>\n",
       "</div>"
      ],
      "text/plain": [
       "   Appliances  lights     T1       RH_1    T2       RH_2     T3       RH_3  \\\n",
       "0          60      30  19.89  47.596667  19.2  44.790000  19.79  44.730000   \n",
       "1          60      30  19.89  46.693333  19.2  44.722500  19.79  44.790000   \n",
       "2          50      30  19.89  46.300000  19.2  44.626667  19.79  44.933333   \n",
       "3          50      40  19.89  46.066667  19.2  44.590000  19.79  45.000000   \n",
       "4          60      40  19.89  46.333333  19.2  44.530000  19.79  45.000000   \n",
       "\n",
       "          T4       RH_4    ...        T8       RH_8         T9   RH_9  \\\n",
       "0  19.000000  45.566667    ...      18.2  48.900000  17.033333  45.53   \n",
       "1  19.000000  45.992500    ...      18.2  48.863333  17.066667  45.56   \n",
       "2  18.926667  45.890000    ...      18.2  48.730000  17.000000  45.50   \n",
       "3  18.890000  45.723333    ...      18.1  48.590000  17.000000  45.40   \n",
       "4  18.890000  45.530000    ...      18.1  48.590000  17.000000  45.40   \n",
       "\n",
       "      T_out  Press_mm_hg  RH_out  Windspeed  Visibility  Tdewpoint  \n",
       "0  6.600000        733.5    92.0   7.000000   63.000000        5.3  \n",
       "1  6.483333        733.6    92.0   6.666667   59.166667        5.2  \n",
       "2  6.366667        733.7    92.0   6.333333   55.333333        5.1  \n",
       "3  6.250000        733.8    92.0   6.000000   51.500000        5.0  \n",
       "4  6.133333        733.9    92.0   5.666667   47.666667        4.9  \n",
       "\n",
       "[5 rows x 26 columns]"
      ]
     },
     "execution_count": 104,
     "metadata": {},
     "output_type": "execute_result"
    }
   ],
   "source": [
    "df.head()"
   ]
  },
  {
   "cell_type": "code",
   "execution_count": 313,
   "metadata": {
    "collapsed": true
   },
   "outputs": [],
   "source": [
    "data_results_ = trainNNs(Xenergy, Tenergy, 0.8, [0, 5, [5, 5], [10, 10]], 10, 100)"
   ]
  },
  {
   "cell_type": "code",
   "execution_count": 314,
   "metadata": {
    "scrolled": true
   },
   "outputs": [
    {
     "data": {
      "text/plain": [
       "[[0,\n",
       "  [66.206095850291888,\n",
       "   67.671365871098985,\n",
       "   67.685440927913461,\n",
       "   66.092201424925449,\n",
       "   66.928249605901044,\n",
       "   66.695627695144694,\n",
       "   67.333047516575405,\n",
       "   66.106672847948673,\n",
       "   67.148098745860352,\n",
       "   67.289559971537514],\n",
       "  [70.904663060439233,\n",
       "   65.148290244468114,\n",
       "   65.071033966652365,\n",
       "   71.363485488786168,\n",
       "   68.124593546331326,\n",
       "   69.056521051899225,\n",
       "   66.528784119297995,\n",
       "   71.287604388118467,\n",
       "   67.2364237121663,\n",
       "   66.676084142854037],\n",
       "  1.0090656280517578],\n",
       " [5,\n",
       "  [65.260026682170391,\n",
       "   65.799237732972031,\n",
       "   65.962004088046143,\n",
       "   65.746233971735634,\n",
       "   66.025710490096003,\n",
       "   64.267796701391305,\n",
       "   65.861192918476235,\n",
       "   65.267801199877113,\n",
       "   65.884773634067457,\n",
       "   64.472939919413136],\n",
       "  [66.88834127782998,\n",
       "   65.469116823429587,\n",
       "   66.131019077760953,\n",
       "   64.751807628452184,\n",
       "   64.850283168031424,\n",
       "   70.809772188472678,\n",
       "   66.373956023456955,\n",
       "   67.02203965740074,\n",
       "   62.252048247582167,\n",
       "   68.465381944252712],\n",
       "  21.493334531784058],\n",
       " [[5, 5],\n",
       "  [64.277532961501606,\n",
       "   64.61435408956487,\n",
       "   64.830802673034441,\n",
       "   64.545851526656179,\n",
       "   64.906908884208718,\n",
       "   65.535823760883432,\n",
       "   64.618827849307664,\n",
       "   64.621039213471462,\n",
       "   65.05937521473777,\n",
       "   65.191684759382525],\n",
       "  [67.917765927828029,\n",
       "   66.629203086036526,\n",
       "   65.865479827146416,\n",
       "   62.794754549957268,\n",
       "   65.653150021863311,\n",
       "   62.804740383961317,\n",
       "   65.286900601302563,\n",
       "   69.77130618272875,\n",
       "   62.077449798270116,\n",
       "   62.20716140131848],\n",
       "  25.663251638412476],\n",
       " [[10, 10],\n",
       "  [63.292175287484618,\n",
       "   63.643706843046509,\n",
       "   63.33326263604112,\n",
       "   63.010802365700222,\n",
       "   63.016981894687667,\n",
       "   63.881387710514545,\n",
       "   62.752839283777014,\n",
       "   62.744645397684522,\n",
       "   62.896662928591333,\n",
       "   64.190943498608206],\n",
       "  [64.451481255257832,\n",
       "   64.206456452161262,\n",
       "   63.229645367106244,\n",
       "   63.212696332411795,\n",
       "   61.736209322265822,\n",
       "   66.669884356662919,\n",
       "   63.348273292054778,\n",
       "   64.733709596726996,\n",
       "   67.327055523622406,\n",
       "   62.285057833469232],\n",
       "  48.67664694786072]]"
      ]
     },
     "execution_count": 314,
     "metadata": {},
     "output_type": "execute_result"
    }
   ],
   "source": [
    "data_results_"
   ]
  },
  {
   "cell_type": "code",
   "execution_count": 131,
   "metadata": {
    "collapsed": true
   },
   "outputs": [],
   "source": [
    "data_results = trainNNs(Xenergy, Tenergy, 0.8, [0, 5, [5, 5], [10, 10]], 10, 100)"
   ]
  },
  {
   "cell_type": "code",
   "execution_count": 132,
   "metadata": {},
   "outputs": [
    {
     "data": {
      "text/plain": [
       "[[0,\n",
       "  [66.442622071141272,\n",
       "   67.574228763317564,\n",
       "   66.933040934664774,\n",
       "   67.443926210098454,\n",
       "   66.170395675662306,\n",
       "   66.729689199700076,\n",
       "   66.597973444340042,\n",
       "   67.121732540665619,\n",
       "   67.315639026542456,\n",
       "   66.699246561322809],\n",
       "  [70.032043219999494,\n",
       "   65.519562780326993,\n",
       "   68.122492102660743,\n",
       "   66.072732575307242,\n",
       "   71.03164513652419,\n",
       "   68.893557853820127,\n",
       "   69.420207083893132,\n",
       "   67.393063885139611,\n",
       "   66.590541939966073,\n",
       "   69.015106852220555],\n",
       "  0.8612608909606934],\n",
       " [5,\n",
       "  [64.453943376410493,\n",
       "   66.021433526215247,\n",
       "   66.191144801597289,\n",
       "   66.19255754312357,\n",
       "   65.630073594293833,\n",
       "   65.60555925764848,\n",
       "   65.618942181010667,\n",
       "   66.3348326212014,\n",
       "   64.773711905479928,\n",
       "   66.11907673077755],\n",
       "  [67.544516380131128,\n",
       "   61.414987951941242,\n",
       "   64.162491698628301,\n",
       "   66.529671555372502,\n",
       "   64.338071326933999,\n",
       "   66.853859570913087,\n",
       "   65.271866517170949,\n",
       "   63.52555030678586,\n",
       "   69.356867921705984,\n",
       "   61.252481511220672],\n",
       "  17.960460901260376],\n",
       " [[5, 5],\n",
       "  [64.11023685040972,\n",
       "   64.886753435128043,\n",
       "   65.222824127432929,\n",
       "   64.997450536389948,\n",
       "   64.934036602509323,\n",
       "   65.37029971282,\n",
       "   64.67229238243732,\n",
       "   65.597739716316738,\n",
       "   64.309379813394415,\n",
       "   63.965514547279071],\n",
       "  [65.949076801008303,\n",
       "   68.525752103994151,\n",
       "   65.157072380396258,\n",
       "   67.729674285234069,\n",
       "   63.847291942496511,\n",
       "   63.737069879478007,\n",
       "   67.822974691693418,\n",
       "   64.926859404798577,\n",
       "   65.987426683184339,\n",
       "   69.166059598513513],\n",
       "  23.098458528518677],\n",
       " [[10, 10],\n",
       "  [63.308483590983926,\n",
       "   64.233440738057396,\n",
       "   62.388249383695701,\n",
       "   63.83182344922195,\n",
       "   63.95255082507672,\n",
       "   63.045488907803971,\n",
       "   62.452292216074881,\n",
       "   61.992940999561718,\n",
       "   63.88383434896722,\n",
       "   62.746819265432904],\n",
       "  [64.110888232467033,\n",
       "   61.282629431713737,\n",
       "   62.383750188435705,\n",
       "   63.094996073012148,\n",
       "   64.485887392172089,\n",
       "   67.378588994702454,\n",
       "   64.718196178562636,\n",
       "   65.467727771195328,\n",
       "   63.014407856816874,\n",
       "   67.69402829623246],\n",
       "  42.27706503868103]]"
      ]
     },
     "execution_count": 132,
     "metadata": {},
     "output_type": "execute_result"
    }
   ],
   "source": [
    "data_results"
   ]
  },
  {
   "cell_type": "code",
   "execution_count": 133,
   "metadata": {},
   "outputs": [
    {
     "data": {
      "text/plain": [
       "[[0, 66.902849442745534, 68.209095342985819, 0.8612608909606934],\n",
       " [5, 65.694127553775843, 65.02503647408038, 17.960460901260376],\n",
       " [[5, 5], 64.806652772411752, 66.284925777079721, 23.098458528518677],\n",
       " [[10, 10], 63.183592372487638, 64.363110041531044, 42.27706503868103]]"
      ]
     },
     "execution_count": 133,
     "metadata": {},
     "output_type": "execute_result"
    }
   ],
   "source": [
    "summarize(data_results)"
   ]
  },
  {
   "cell_type": "code",
   "execution_count": 320,
   "metadata": {},
   "outputs": [
    {
     "data": {
      "text/plain": [
       "[[10, 10], 63.183592372487638, 64.363110041531044, 42.27706503868103]"
      ]
     },
     "execution_count": 320,
     "metadata": {},
     "output_type": "execute_result"
    }
   ],
   "source": [
    "bestNetwork(summarize(data_results))"
   ]
  },
  {
   "cell_type": "code",
   "execution_count": 135,
   "metadata": {
    "collapsed": true
   },
   "outputs": [],
   "source": [
    "results_10plus = trainNNs(Xenergy, Tenergy, 0.8, [1, 3, 7, 10, [2, 2], [3,5], [5,3], [20,20], [5,10,20], [10,5,10], [20,10,5], [20,10,2,10,20]], 10, 100)"
   ]
  },
  {
   "cell_type": "code",
   "execution_count": 136,
   "metadata": {},
   "outputs": [
    {
     "data": {
      "text/plain": [
       "[[1, 70.497140005231557, 70.189751803225974, 12.987542152404785],\n",
       " [3, 65.719090312501592, 66.893015404991488, 15.49822211265564],\n",
       " [7, 64.857124487579966, 65.727061487981274, 24.45818066596985],\n",
       " [10, 64.522255151968039, 64.710976457059729, 33.60901689529419],\n",
       " [[2, 2], 66.507452600797976, 65.94490706728385, 18.157819986343384],\n",
       " [[3, 5], 65.60484005396026, 65.921741638717535, 24.01234221458435],\n",
       " [[5, 3], 64.878365020219221, 65.765491752177439, 25.80904769897461],\n",
       " [[20, 20], 61.598871851449452, 62.814906384309914, 85.50760340690613],\n",
       " [[5, 10, 20], 64.430467080570423, 66.828510688276779, 68.23765325546265],\n",
       " [[10, 5, 10], 63.057635207551684, 65.409708181989942, 53.10485363006592],\n",
       " [[20, 10, 5], 60.81937155627346, 64.289227185112495, 73.8414454460144],\n",
       " [[20, 10, 2, 10, 20],\n",
       "  64.119713477365082,\n",
       "  63.742905923307944,\n",
       "  108.93348336219788]]"
      ]
     },
     "execution_count": 136,
     "metadata": {},
     "output_type": "execute_result"
    }
   ],
   "source": [
    "summarize(results_10plus)"
   ]
  },
  {
   "cell_type": "code",
   "execution_count": 321,
   "metadata": {},
   "outputs": [
    {
     "data": {
      "text/plain": [
       "[[20, 20], 61.598871851449452, 62.814906384309914, 85.50760340690613]"
      ]
     },
     "execution_count": 321,
     "metadata": {},
     "output_type": "execute_result"
    }
   ],
   "source": [
    "bestNetwork(summarize(results_10plus))"
   ]
  },
  {
   "cell_type": "markdown",
   "metadata": {},
   "source": [
    "## Now training with [20, 20]"
   ]
  },
  {
   "cell_type": "code",
   "execution_count": 322,
   "metadata": {
    "collapsed": true
   },
   "outputs": [],
   "source": [
    "result_bestNN = trainNNs(Xenergy, Tenergy, 0.8, [[20,20]], 10, 100)"
   ]
  },
  {
   "cell_type": "code",
   "execution_count": 323,
   "metadata": {},
   "outputs": [
    {
     "data": {
      "text/plain": [
       "[[[20, 20],\n",
       "  [62.677679816912054,\n",
       "   60.868703082435538,\n",
       "   60.779047001258171,\n",
       "   60.916150026345484,\n",
       "   61.203792105144018,\n",
       "   61.286281889606734,\n",
       "   61.163852344563949,\n",
       "   61.629631579461638,\n",
       "   62.948733567221318,\n",
       "   61.610085640985005],\n",
       "  [63.558926591244017,\n",
       "   61.190351559384844,\n",
       "   66.030243970721543,\n",
       "   65.040972068006255,\n",
       "   60.022076205515674,\n",
       "   59.68383780122538,\n",
       "   62.015310358056368,\n",
       "   65.154179435894832,\n",
       "   61.461613124686117,\n",
       "   65.015758208803945],\n",
       "  81.77493810653687]]"
      ]
     },
     "execution_count": 323,
     "metadata": {},
     "output_type": "execute_result"
    }
   ],
   "source": [
    "result_bestNN"
   ]
  },
  {
   "cell_type": "code",
   "execution_count": 324,
   "metadata": {},
   "outputs": [
    {
     "data": {
      "text/plain": [
       "[[[20, 20], 61.508395705393397, 62.917326932353902, 81.77493810653687]]"
      ]
     },
     "execution_count": 324,
     "metadata": {},
     "output_type": "execute_result"
    }
   ],
   "source": [
    "summarize(result_bestNN)"
   ]
  },
  {
   "cell_type": "code",
   "execution_count": 325,
   "metadata": {
    "collapsed": true
   },
   "outputs": [],
   "source": [
    "    import mlutils as ml\n",
    "    import neuralnetworks as nn\n",
    "    import time\n",
    "    \n",
    "    train_err = []\n",
    "    test_err = []\n",
    "    startTime = time.time()\n",
    "    Xtrain, Ttrain, Xtest, Ttest = ml.partition(Xenergy, Tenergy, (0.8, 0.2))\n",
    "    nnet = nn.NeuralNetwork(Xenergy.shape[1], [20,20], Tenergy.shape[1])\n",
    "    nnet.train(Xtrain, Ttrain, 100)\n",
    "    Ytrain = nnet.use(Xtrain)\n",
    "    Ytest = nnet.use(Xtest)\n",
    "    train_rmse = np.sqrt(np.mean((Ytrain-Ttrain)**2))\n",
    "    test_rmse = np.sqrt(np.mean((Ytest-Ttest)**2))\n",
    "    train_err.append(train_rmse)\n",
    "    test_err.append(test_rmse)\n",
    "    endTime = time.time()"
   ]
  },
  {
   "cell_type": "code",
   "execution_count": 326,
   "metadata": {},
   "outputs": [
    {
     "data": {
      "text/plain": [
       "array([ 0.70710678,  0.69923556,  0.69923556,  0.69923556,  0.69923556,\n",
       "        0.69923556,  0.69923556,  0.69923556,  0.69923556,  0.69893752,\n",
       "        0.68420006,  0.68002358,  0.67156574,  0.66493836,  0.66339167,\n",
       "        0.65892388,  0.6558789 ,  0.65314899,  0.65070327,  0.64884003,\n",
       "        0.64679974,  0.6433505 ,  0.64100996,  0.63845679,  0.63667823,\n",
       "        0.63436888,  0.63313671,  0.63201198,  0.63097863,  0.63038449,\n",
       "        0.62944463,  0.62858469,  0.62792995,  0.62726199,  0.62626864,\n",
       "        0.62574014,  0.62473141,  0.62342847,  0.62296831,  0.62188121,\n",
       "        0.62075096,  0.61995376,  0.61931567,  0.61786756,  0.6172941 ,\n",
       "        0.61626743,  0.61581736,  0.6148171 ,  0.61289062,  0.61185141,\n",
       "        0.61088901,  0.60990421,  0.60922354,  0.60825798,  0.60750441,\n",
       "        0.606874  ,  0.6060789 ,  0.60537032,  0.60471225,  0.60378483,\n",
       "        0.60288783,  0.60195211,  0.60125552,  0.6005179 ,  0.59946235,\n",
       "        0.59881378,  0.59832969,  0.59724142,  0.59636525,  0.59559096,\n",
       "        0.59418124,  0.59361211,  0.59313696,  0.59204648,  0.59131377,\n",
       "        0.59055213,  0.58977838,  0.58928062,  0.58859537,  0.58776564,\n",
       "        0.5871721 ,  0.58646665,  0.58574615,  0.58495714,  0.58432092,\n",
       "        0.5836024 ,  0.58258273,  0.58214789,  0.58157659,  0.58064726,\n",
       "        0.57992334,  0.57954526,  0.57889763,  0.57844295,  0.57752379,\n",
       "        0.57695567,  0.5765927 ,  0.57566705,  0.57498719,  0.57447138,\n",
       "        0.57346852])"
      ]
     },
     "execution_count": 326,
     "metadata": {},
     "output_type": "execute_result"
    }
   ],
   "source": [
    "nnet.errorTrace"
   ]
  },
  {
   "cell_type": "code",
   "execution_count": 327,
   "metadata": {
    "collapsed": true
   },
   "outputs": [],
   "source": [
    "    train_err = []\n",
    "    test_err = []\n",
    "    startTime = time.time()\n",
    "    #Xtrain, Ttrain, Xtest, Ttest = ml.partition(Xenergy, Tenergy, (0.8, 0.2))\n",
    "    nnet1 = nn.NeuralNetwork(Xenergy.shape[1], [20,20], Tenergy.shape[1])\n",
    "    nnet1.train(Xtrain, Ttrain, 1000)\n",
    "    Ytrain1 = nnet1.use(Xtrain)\n",
    "    Ytest1 = nnet1.use(Xtest)\n",
    "    train_rmse1 = np.sqrt(np.mean((Ytrain1-Ttrain)**2))\n",
    "    test_rmse1 = np.sqrt(np.mean((Ytest1-Ttest)**2))\n",
    "    train_err.append(train_rmse)\n",
    "    test_err.append(test_rmse)\n",
    "    endTime = time.time()"
   ]
  },
  {
   "cell_type": "code",
   "execution_count": 328,
   "metadata": {},
   "outputs": [
    {
     "data": {
      "text/plain": [
       "array([ 0.70710678,  0.69657508,  0.69547788, ...,  0.46941287,\n",
       "        0.46940752,  0.46939824])"
      ]
     },
     "execution_count": 328,
     "metadata": {},
     "output_type": "execute_result"
    }
   ],
   "source": [
    "nnet1.errorTrace"
   ]
  },
  {
   "cell_type": "code",
   "execution_count": 329,
   "metadata": {},
   "outputs": [
    {
     "data": {
      "text/plain": [
       "(49.727272729651425, 60.366791369632139)"
      ]
     },
     "execution_count": 329,
     "metadata": {},
     "output_type": "execute_result"
    }
   ],
   "source": [
    "train_rmse1,test_rmse1"
   ]
  },
  {
   "cell_type": "code",
   "execution_count": 331,
   "metadata": {
    "collapsed": true
   },
   "outputs": [],
   "source": [
    "    startTime = time.time()\n",
    "    #Xtrain, Ttrain, Xtest, Ttest = ml.partition(Xenergy, Tenergy, (0.8, 0.2))\n",
    "    nnet2 = nn.NeuralNetwork(Xenergy.shape[1], [20,20], Tenergy.shape[1])\n",
    "    nnet2.train(Xtrain, Ttrain, 10000)\n",
    "    Ytrain2 = nnet2.use(Xtrain)\n",
    "    Ytest2 = nnet2.use(Xtest)\n",
    "    train_rmse2 = np.sqrt(np.mean((Ytrain2-Ttrain)**2))\n",
    "    test_rmse2 = np.sqrt(np.mean((Ytest2-Ttest)**2))\n",
    "    endTime = time.time()"
   ]
  },
  {
   "cell_type": "code",
   "execution_count": 332,
   "metadata": {},
   "outputs": [
    {
     "data": {
      "text/plain": [
       "array([ 0.70710678,  0.6977573 ,  0.6977573 , ...,  0.45424683,\n",
       "        0.45424648,  0.45424635])"
      ]
     },
     "execution_count": 332,
     "metadata": {},
     "output_type": "execute_result"
    }
   ],
   "source": [
    "nnet2.errorTrace"
   ]
  },
  {
   "cell_type": "code",
   "execution_count": 333,
   "metadata": {},
   "outputs": [
    {
     "data": {
      "text/plain": [
       "[<matplotlib.lines.Line2D at 0x2af3992d668>]"
      ]
     },
     "execution_count": 333,
     "metadata": {},
     "output_type": "execute_result"
    },
    {
     "data": {
      "image/png": "[encoded data removed]",
      "text/plain": [
       "<matplotlib.figure.Figure at 0x2af351e0f60>"
      ]
     },
     "metadata": {},
     "output_type": "display_data"
    }
   ],
   "source": [
    "plt.plot(nnet2.errorTrace)"
   ]
  },
  {
   "cell_type": "code",
   "execution_count": 334,
   "metadata": {},
   "outputs": [
    {
     "data": {
      "text/plain": [
       "[<matplotlib.lines.Line2D at 0x2af3997f0b8>]"
      ]
     },
     "execution_count": 334,
     "metadata": {},
     "output_type": "execute_result"
    },
    {
     "data": {
      "image/png": "[encoded data removed]",
      "text/plain": [
       "<matplotlib.figure.Figure at 0x2af34ebde10>"
      ]
     },
     "metadata": {},
     "output_type": "display_data"
    }
   ],
   "source": [
    "plt.plot(nnet1.errorTrace)"
   ]
  },
  {
   "cell_type": "code",
   "execution_count": 142,
   "metadata": {},
   "outputs": [
    {
     "data": {
      "text/plain": [
       "array([[ 60,   0],\n",
       "       [ 60,   0],\n",
       "       [ 50,   0],\n",
       "       ..., \n",
       "       [ 80,   0],\n",
       "       [270,   0],\n",
       "       [ 20,   0]], dtype=int64)"
      ]
     },
     "execution_count": 142,
     "metadata": {},
     "output_type": "execute_result"
    }
   ],
   "source": [
    "Ttest"
   ]
  },
  {
   "cell_type": "code",
   "execution_count": 143,
   "metadata": {},
   "outputs": [
    {
     "data": {
      "text/plain": [
       "(3947, 2)"
      ]
     },
     "execution_count": 143,
     "metadata": {},
     "output_type": "execute_result"
    }
   ],
   "source": [
    "Ttest.shape"
   ]
  },
  {
   "cell_type": "code",
   "execution_count": 144,
   "metadata": {},
   "outputs": [
    {
     "data": {
      "text/plain": [
       "(19735, 2)"
      ]
     },
     "execution_count": 144,
     "metadata": {},
     "output_type": "execute_result"
    }
   ],
   "source": [
    "Tenergy.shape"
   ]
  },
  {
   "cell_type": "code",
   "execution_count": 146,
   "metadata": {},
   "outputs": [
    {
     "data": {
      "text/plain": [
       "array([[  53.64016936,    1.49664544],\n",
       "       [  72.45245525,    1.23314271],\n",
       "       [  67.52628688,    4.77338215],\n",
       "       ..., \n",
       "       [ 203.05467934,    3.1594389 ],\n",
       "       [  49.13973199,    1.42451022],\n",
       "       [  51.13967415,    5.54682775]])"
      ]
     },
     "execution_count": 146,
     "metadata": {},
     "output_type": "execute_result"
    }
   ],
   "source": [
    "Ytest"
   ]
  },
  {
   "cell_type": "code",
   "execution_count": 147,
   "metadata": {
    "collapsed": true
   },
   "outputs": [],
   "source": [
    "import matplotlib.pyplot as plt\n",
    "%matplotlib inline"
   ]
  },
  {
   "cell_type": "code",
   "execution_count": 154,
   "metadata": {},
   "outputs": [
    {
     "data": {
      "text/plain": [
       "(3947, 2)"
      ]
     },
     "execution_count": 154,
     "metadata": {},
     "output_type": "execute_result"
    }
   ],
   "source": [
    "Ttest.shape"
   ]
  },
  {
   "cell_type": "code",
   "execution_count": 155,
   "metadata": {
    "scrolled": true
   },
   "outputs": [
    {
     "data": {
      "text/plain": [
       "(3947, 2)"
      ]
     },
     "execution_count": 155,
     "metadata": {},
     "output_type": "execute_result"
    }
   ],
   "source": [
    "Ytest.shape"
   ]
  },
  {
   "cell_type": "code",
   "execution_count": 158,
   "metadata": {},
   "outputs": [
    {
     "data": {
      "text/plain": [
       "(3947, 24)"
      ]
     },
     "execution_count": 158,
     "metadata": {},
     "output_type": "execute_result"
    }
   ],
   "source": [
    "Xtest.shape"
   ]
  },
  {
   "cell_type": "code",
   "execution_count": 168,
   "metadata": {},
   "outputs": [
    {
     "data": {
      "text/plain": [
       "(3947, 1)"
      ]
     },
     "execution_count": 168,
     "metadata": {},
     "output_type": "execute_result"
    }
   ],
   "source": [
    "Ttest[:,:1].shape"
   ]
  },
  {
   "cell_type": "code",
   "execution_count": 164,
   "metadata": {},
   "outputs": [
    {
     "data": {
      "text/plain": [
       "numpy.ndarray"
      ]
     },
     "execution_count": 164,
     "metadata": {},
     "output_type": "execute_result"
    }
   ],
   "source": [
    "type(Ttest)"
   ]
  },
  {
   "cell_type": "code",
   "execution_count": 391,
   "metadata": {},
   "outputs": [
    {
     "data": {
      "text/plain": [
       "[<matplotlib.lines.Line2D at 0x2af417f6278>,\n",
       " <matplotlib.lines.Line2D at 0x2af417f63c8>]"
      ]
     },
     "execution_count": 391,
     "metadata": {},
     "output_type": "execute_result"
    },
    {
     "data": {
      "image/png": "[encoded data removed]",
      "text/plain": [
       "<matplotlib.figure.Figure at 0x2af40545e48>"
      ]
     },
     "metadata": {},
     "output_type": "display_data"
    }
   ],
   "source": [
    "plt.plot(Ttrain[:,:1],'o', Ytrain[:,:1], 'x')"
   ]
  },
  {
   "cell_type": "markdown",
   "metadata": {},
   "source": [
    "The above graph describes the actual output for training data for Appliances in blue vs the predicted outputs in orange"
   ]
  },
  {
   "cell_type": "code",
   "execution_count": 374,
   "metadata": {
    "scrolled": true
   },
   "outputs": [
    {
     "data": {
      "text/plain": [
       "[<matplotlib.lines.Line2D at 0x2af2bceedd8>,\n",
       " <matplotlib.lines.Line2D at 0x2af2bceef28>]"
      ]
     },
     "execution_count": 374,
     "metadata": {},
     "output_type": "execute_result"
    },
    {
     "data": {
      "image/png": "[encoded data removed]",
      "text/plain": [
       "<matplotlib.figure.Figure at 0x2af2bc20588>"
      ]
     },
     "metadata": {},
     "output_type": "display_data"
    }
   ],
   "source": [
    "plt.plot(Ttest[:,:1],'o', Ytest[:,:1], 'x')"
   ]
  },
  {
   "cell_type": "markdown",
   "metadata": {},
   "source": [
    "The above graph describes the actual output for testing data for Appliances in blue vs the predicted outputs in orange"
   ]
  },
  {
   "cell_type": "code",
   "execution_count": 389,
   "metadata": {},
   "outputs": [
    {
     "data": {
      "text/plain": [
       "[<matplotlib.lines.Line2D at 0x2af40669198>,\n",
       " <matplotlib.lines.Line2D at 0x2af4061e5f8>]"
      ]
     },
     "execution_count": 389,
     "metadata": {},
     "output_type": "execute_result"
    },
    {
     "data": {
      "image/png": "[encoded data removed]",
      "text/plain": [
       "<matplotlib.figure.Figure at 0x2af405e9e48>"
      ]
     },
     "metadata": {},
     "output_type": "display_data"
    }
   ],
   "source": [
    "p = np.arange(1000)\n",
    "plt.subplot(2,1,1)\n",
    "plt.plot( Ttest[:,:1],Ytest[:,:1], 'o', p )\n",
    "plt.subplot(2,1,2)\n",
    "plt.plot( Ttrain[:,:1],Ytrain[:,:1], 'ro', p )"
   ]
  },
  {
   "cell_type": "markdown",
   "metadata": {},
   "source": [
    "The first graph in blue represents actual data vs predicted for testing set and the second graph in red represents the actual vs predicted for training data and y = x line is drawn just for refence to compare how much the data varies"
   ]
  },
  {
   "cell_type": "code",
   "execution_count": 390,
   "metadata": {
    "scrolled": false
   },
   "outputs": [
    {
     "data": {
      "text/plain": [
       "[<matplotlib.lines.Line2D at 0x2af40787160>,\n",
       " <matplotlib.lines.Line2D at 0x2af407872b0>]"
      ]
     },
     "execution_count": 390,
     "metadata": {},
     "output_type": "execute_result"
    },
    {
     "data": {
      "image/png": "[encoded data removed]",
      "text/plain": [
       "<matplotlib.figure.Figure at 0x2af3ed18940>"
      ]
     },
     "metadata": {},
     "output_type": "display_data"
    }
   ],
   "source": [
    "plt.plot( Ttrain[:,1:],'o', Ytrain[:,1:], 'x' )"
   ]
  },
  {
   "cell_type": "markdown",
   "metadata": {},
   "source": [
    "The above graph describes the actual output for training data for Lights in blue vs the predicted outputs in orange"
   ]
  },
  {
   "cell_type": "code",
   "execution_count": 375,
   "metadata": {},
   "outputs": [
    {
     "data": {
      "text/plain": [
       "[<matplotlib.lines.Line2D at 0x2af3a738a20>,\n",
       " <matplotlib.lines.Line2D at 0x2af3a738b70>]"
      ]
     },
     "execution_count": 375,
     "metadata": {},
     "output_type": "execute_result"
    },
    {
     "data": {
      "image/png": "[encoded data removed]",
      "text/plain": [
       "<matplotlib.figure.Figure at 0x2af3a6c1208>"
      ]
     },
     "metadata": {},
     "output_type": "display_data"
    }
   ],
   "source": [
    "plt.plot( Ttest[:,1:],'o', Ytest[:,1:], 'x' )"
   ]
  },
  {
   "cell_type": "markdown",
   "metadata": {},
   "source": [
    "The above graph describes the actual output for testing data for Lights in blue vs the predicted outputs in orange"
   ]
  },
  {
   "cell_type": "markdown",
   "metadata": {},
   "source": [
    "# Classification problem"
   ]
  },
  {
   "cell_type": "markdown",
   "metadata": {},
   "source": [
    "### Data for Classification Experiment\n",
    "\n",
    "The [Anuran Calls (MFCCs)](http://archive.ics.uci.edu/ml/datasets/Anuran+Calls+%28MFCCs%29) data was downloaded from the UCI Machine Learning Repository.  You can do this by visiting the Data Folder for this data set, or just do this:\n",
    "\n",
    "     !wget 'http://archive.ics.uci.edu/ml/machine-learning-databases/00406/Anuran Calls (MFCCs).zip'\n",
    "     !unzip Anuran*zip\n",
    "     \n",
    "Read the data from the file `Frogs_MFCCs.csv` into python.  Each line of the file is a sample of audio features plus three columns that label the sample by family, genus, and species. We will try to predict the species.  The names of species was given as text and I have converted it to the target class, as an integer. The `numpy` function `unique` was used to identify the different classes."
   ]
  },
  {
   "cell_type": "code",
   "execution_count": 250,
   "metadata": {
    "collapsed": true
   },
   "outputs": [],
   "source": [
    "data_anuran = pd.read_csv('Frogs_MFCCs.csv')"
   ]
  },
  {
   "cell_type": "code",
   "execution_count": 251,
   "metadata": {},
   "outputs": [
    {
     "data": {
      "text/html": [
       "<div>\n",
       "<style>\n",
       "    .dataframe thead tr:only-child th {\n",
       "        text-align: right;\n",
       "    }\n",
       "\n",
       "    .dataframe thead th {\n",
       "        text-align: left;\n",
       "    }\n",
       "\n",
       "    .dataframe tbody tr th {\n",
       "        vertical-align: top;\n",
       "    }\n",
       "</style>\n",
       "<table border=\"1\" class=\"dataframe\">\n",
       "  <thead>\n",
       "    <tr style=\"text-align: right;\">\n",
       "      <th></th>\n",
       "      <th>MFCCs_ 1</th>\n",
       "      <th>MFCCs_ 2</th>\n",
       "      <th>MFCCs_ 3</th>\n",
       "      <th>MFCCs_ 4</th>\n",
       "      <th>MFCCs_ 5</th>\n",
       "      <th>MFCCs_ 6</th>\n",
       "      <th>MFCCs_ 7</th>\n",
       "      <th>MFCCs_ 8</th>\n",
       "      <th>MFCCs_ 9</th>\n",
       "      <th>MFCCs_10</th>\n",
       "      <th>...</th>\n",
       "      <th>MFCCs_17</th>\n",
       "      <th>MFCCs_18</th>\n",
       "      <th>MFCCs_19</th>\n",
       "      <th>MFCCs_20</th>\n",
       "      <th>MFCCs_21</th>\n",
       "      <th>MFCCs_22</th>\n",
       "      <th>Family</th>\n",
       "      <th>Genus</th>\n",
       "      <th>Species</th>\n",
       "      <th>RecordID</th>\n",
       "    </tr>\n",
       "  </thead>\n",
       "  <tbody>\n",
       "    <tr>\n",
       "      <th>0</th>\n",
       "      <td>1.0</td>\n",
       "      <td>0.152936</td>\n",
       "      <td>-0.105586</td>\n",
       "      <td>0.200722</td>\n",
       "      <td>0.317201</td>\n",
       "      <td>0.260764</td>\n",
       "      <td>0.100945</td>\n",
       "      <td>-0.150063</td>\n",
       "      <td>-0.171128</td>\n",
       "      <td>0.124676</td>\n",
       "      <td>...</td>\n",
       "      <td>-0.108351</td>\n",
       "      <td>-0.077623</td>\n",
       "      <td>-0.009568</td>\n",
       "      <td>0.057684</td>\n",
       "      <td>0.118680</td>\n",
       "      <td>0.014038</td>\n",
       "      <td>Leptodactylidae</td>\n",
       "      <td>Adenomera</td>\n",
       "      <td>AdenomeraAndre</td>\n",
       "      <td>1</td>\n",
       "    </tr>\n",
       "    <tr>\n",
       "      <th>1</th>\n",
       "      <td>1.0</td>\n",
       "      <td>0.171534</td>\n",
       "      <td>-0.098975</td>\n",
       "      <td>0.268425</td>\n",
       "      <td>0.338672</td>\n",
       "      <td>0.268353</td>\n",
       "      <td>0.060835</td>\n",
       "      <td>-0.222475</td>\n",
       "      <td>-0.207693</td>\n",
       "      <td>0.170883</td>\n",
       "      <td>...</td>\n",
       "      <td>-0.090974</td>\n",
       "      <td>-0.056510</td>\n",
       "      <td>-0.035303</td>\n",
       "      <td>0.020140</td>\n",
       "      <td>0.082263</td>\n",
       "      <td>0.029056</td>\n",
       "      <td>Leptodactylidae</td>\n",
       "      <td>Adenomera</td>\n",
       "      <td>AdenomeraAndre</td>\n",
       "      <td>1</td>\n",
       "    </tr>\n",
       "    <tr>\n",
       "      <th>2</th>\n",
       "      <td>1.0</td>\n",
       "      <td>0.152317</td>\n",
       "      <td>-0.082973</td>\n",
       "      <td>0.287128</td>\n",
       "      <td>0.276014</td>\n",
       "      <td>0.189867</td>\n",
       "      <td>0.008714</td>\n",
       "      <td>-0.242234</td>\n",
       "      <td>-0.219153</td>\n",
       "      <td>0.232538</td>\n",
       "      <td>...</td>\n",
       "      <td>-0.050691</td>\n",
       "      <td>-0.023590</td>\n",
       "      <td>-0.066722</td>\n",
       "      <td>-0.025083</td>\n",
       "      <td>0.099108</td>\n",
       "      <td>0.077162</td>\n",
       "      <td>Leptodactylidae</td>\n",
       "      <td>Adenomera</td>\n",
       "      <td>AdenomeraAndre</td>\n",
       "      <td>1</td>\n",
       "    </tr>\n",
       "    <tr>\n",
       "      <th>3</th>\n",
       "      <td>1.0</td>\n",
       "      <td>0.224392</td>\n",
       "      <td>0.118985</td>\n",
       "      <td>0.329432</td>\n",
       "      <td>0.372088</td>\n",
       "      <td>0.361005</td>\n",
       "      <td>0.015501</td>\n",
       "      <td>-0.194347</td>\n",
       "      <td>-0.098181</td>\n",
       "      <td>0.270375</td>\n",
       "      <td>...</td>\n",
       "      <td>-0.136009</td>\n",
       "      <td>-0.177037</td>\n",
       "      <td>-0.130498</td>\n",
       "      <td>-0.054766</td>\n",
       "      <td>-0.018691</td>\n",
       "      <td>0.023954</td>\n",
       "      <td>Leptodactylidae</td>\n",
       "      <td>Adenomera</td>\n",
       "      <td>AdenomeraAndre</td>\n",
       "      <td>1</td>\n",
       "    </tr>\n",
       "    <tr>\n",
       "      <th>4</th>\n",
       "      <td>1.0</td>\n",
       "      <td>0.087817</td>\n",
       "      <td>-0.068345</td>\n",
       "      <td>0.306967</td>\n",
       "      <td>0.330923</td>\n",
       "      <td>0.249144</td>\n",
       "      <td>0.006884</td>\n",
       "      <td>-0.265423</td>\n",
       "      <td>-0.172700</td>\n",
       "      <td>0.266434</td>\n",
       "      <td>...</td>\n",
       "      <td>-0.048885</td>\n",
       "      <td>-0.053074</td>\n",
       "      <td>-0.088550</td>\n",
       "      <td>-0.031346</td>\n",
       "      <td>0.108610</td>\n",
       "      <td>0.079244</td>\n",
       "      <td>Leptodactylidae</td>\n",
       "      <td>Adenomera</td>\n",
       "      <td>AdenomeraAndre</td>\n",
       "      <td>1</td>\n",
       "    </tr>\n",
       "  </tbody>\n",
       "</table>\n",
       "<p>5 rows × 26 columns</p>\n",
       "</div>"
      ],
      "text/plain": [
       "   MFCCs_ 1  MFCCs_ 2  MFCCs_ 3  MFCCs_ 4  MFCCs_ 5  MFCCs_ 6  MFCCs_ 7  \\\n",
       "0       1.0  0.152936 -0.105586  0.200722  0.317201  0.260764  0.100945   \n",
       "1       1.0  0.171534 -0.098975  0.268425  0.338672  0.268353  0.060835   \n",
       "2       1.0  0.152317 -0.082973  0.287128  0.276014  0.189867  0.008714   \n",
       "3       1.0  0.224392  0.118985  0.329432  0.372088  0.361005  0.015501   \n",
       "4       1.0  0.087817 -0.068345  0.306967  0.330923  0.249144  0.006884   \n",
       "\n",
       "   MFCCs_ 8  MFCCs_ 9  MFCCs_10    ...     MFCCs_17  MFCCs_18  MFCCs_19  \\\n",
       "0 -0.150063 -0.171128  0.124676    ...    -0.108351 -0.077623 -0.009568   \n",
       "1 -0.222475 -0.207693  0.170883    ...    -0.090974 -0.056510 -0.035303   \n",
       "2 -0.242234 -0.219153  0.232538    ...    -0.050691 -0.023590 -0.066722   \n",
       "3 -0.194347 -0.098181  0.270375    ...    -0.136009 -0.177037 -0.130498   \n",
       "4 -0.265423 -0.172700  0.266434    ...    -0.048885 -0.053074 -0.088550   \n",
       "\n",
       "   MFCCs_20  MFCCs_21  MFCCs_22           Family      Genus         Species  \\\n",
       "0  0.057684  0.118680  0.014038  Leptodactylidae  Adenomera  AdenomeraAndre   \n",
       "1  0.020140  0.082263  0.029056  Leptodactylidae  Adenomera  AdenomeraAndre   \n",
       "2 -0.025083  0.099108  0.077162  Leptodactylidae  Adenomera  AdenomeraAndre   \n",
       "3 -0.054766 -0.018691  0.023954  Leptodactylidae  Adenomera  AdenomeraAndre   \n",
       "4 -0.031346  0.108610  0.079244  Leptodactylidae  Adenomera  AdenomeraAndre   \n",
       "\n",
       "   RecordID  \n",
       "0         1  \n",
       "1         1  \n",
       "2         1  \n",
       "3         1  \n",
       "4         1  \n",
       "\n",
       "[5 rows x 26 columns]"
      ]
     },
     "execution_count": 251,
     "metadata": {},
     "output_type": "execute_result"
    }
   ],
   "source": [
    "data_anuran.head()"
   ]
  },
  {
   "cell_type": "code",
   "execution_count": 196,
   "metadata": {},
   "outputs": [
    {
     "data": {
      "text/plain": [
       "(7195, 26)"
      ]
     },
     "execution_count": 196,
     "metadata": {},
     "output_type": "execute_result"
    }
   ],
   "source": [
    "data_anuran.shape"
   ]
  },
  {
   "cell_type": "code",
   "execution_count": 198,
   "metadata": {
    "collapsed": true
   },
   "outputs": [],
   "source": [
    "Xanuran = data_anuran.iloc[:,:22]"
   ]
  },
  {
   "cell_type": "code",
   "execution_count": 199,
   "metadata": {},
   "outputs": [
    {
     "data": {
      "text/plain": [
       "(7195, 22)"
      ]
     },
     "execution_count": 199,
     "metadata": {},
     "output_type": "execute_result"
    }
   ],
   "source": [
    "Xanuran.shape"
   ]
  },
  {
   "cell_type": "code",
   "execution_count": 200,
   "metadata": {},
   "outputs": [
    {
     "data": {
      "text/html": [
       "<div>\n",
       "<style>\n",
       "    .dataframe thead tr:only-child th {\n",
       "        text-align: right;\n",
       "    }\n",
       "\n",
       "    .dataframe thead th {\n",
       "        text-align: left;\n",
       "    }\n",
       "\n",
       "    .dataframe tbody tr th {\n",
       "        vertical-align: top;\n",
       "    }\n",
       "</style>\n",
       "<table border=\"1\" class=\"dataframe\">\n",
       "  <thead>\n",
       "    <tr style=\"text-align: right;\">\n",
       "      <th></th>\n",
       "      <th>MFCCs_ 1</th>\n",
       "      <th>MFCCs_ 2</th>\n",
       "      <th>MFCCs_ 3</th>\n",
       "      <th>MFCCs_ 4</th>\n",
       "      <th>MFCCs_ 5</th>\n",
       "      <th>MFCCs_ 6</th>\n",
       "      <th>MFCCs_ 7</th>\n",
       "      <th>MFCCs_ 8</th>\n",
       "      <th>MFCCs_ 9</th>\n",
       "      <th>MFCCs_10</th>\n",
       "      <th>...</th>\n",
       "      <th>MFCCs_13</th>\n",
       "      <th>MFCCs_14</th>\n",
       "      <th>MFCCs_15</th>\n",
       "      <th>MFCCs_16</th>\n",
       "      <th>MFCCs_17</th>\n",
       "      <th>MFCCs_18</th>\n",
       "      <th>MFCCs_19</th>\n",
       "      <th>MFCCs_20</th>\n",
       "      <th>MFCCs_21</th>\n",
       "      <th>MFCCs_22</th>\n",
       "    </tr>\n",
       "  </thead>\n",
       "  <tbody>\n",
       "    <tr>\n",
       "      <th>0</th>\n",
       "      <td>1.0</td>\n",
       "      <td>0.152936</td>\n",
       "      <td>-0.105586</td>\n",
       "      <td>0.200722</td>\n",
       "      <td>0.317201</td>\n",
       "      <td>0.260764</td>\n",
       "      <td>0.100945</td>\n",
       "      <td>-0.150063</td>\n",
       "      <td>-0.171128</td>\n",
       "      <td>0.124676</td>\n",
       "      <td>...</td>\n",
       "      <td>-0.156436</td>\n",
       "      <td>0.082245</td>\n",
       "      <td>0.135752</td>\n",
       "      <td>-0.024017</td>\n",
       "      <td>-0.108351</td>\n",
       "      <td>-0.077623</td>\n",
       "      <td>-0.009568</td>\n",
       "      <td>0.057684</td>\n",
       "      <td>0.118680</td>\n",
       "      <td>0.014038</td>\n",
       "    </tr>\n",
       "    <tr>\n",
       "      <th>1</th>\n",
       "      <td>1.0</td>\n",
       "      <td>0.171534</td>\n",
       "      <td>-0.098975</td>\n",
       "      <td>0.268425</td>\n",
       "      <td>0.338672</td>\n",
       "      <td>0.268353</td>\n",
       "      <td>0.060835</td>\n",
       "      <td>-0.222475</td>\n",
       "      <td>-0.207693</td>\n",
       "      <td>0.170883</td>\n",
       "      <td>...</td>\n",
       "      <td>-0.254341</td>\n",
       "      <td>0.022786</td>\n",
       "      <td>0.163320</td>\n",
       "      <td>0.012022</td>\n",
       "      <td>-0.090974</td>\n",
       "      <td>-0.056510</td>\n",
       "      <td>-0.035303</td>\n",
       "      <td>0.020140</td>\n",
       "      <td>0.082263</td>\n",
       "      <td>0.029056</td>\n",
       "    </tr>\n",
       "    <tr>\n",
       "      <th>2</th>\n",
       "      <td>1.0</td>\n",
       "      <td>0.152317</td>\n",
       "      <td>-0.082973</td>\n",
       "      <td>0.287128</td>\n",
       "      <td>0.276014</td>\n",
       "      <td>0.189867</td>\n",
       "      <td>0.008714</td>\n",
       "      <td>-0.242234</td>\n",
       "      <td>-0.219153</td>\n",
       "      <td>0.232538</td>\n",
       "      <td>...</td>\n",
       "      <td>-0.237384</td>\n",
       "      <td>0.050791</td>\n",
       "      <td>0.207338</td>\n",
       "      <td>0.083536</td>\n",
       "      <td>-0.050691</td>\n",
       "      <td>-0.023590</td>\n",
       "      <td>-0.066722</td>\n",
       "      <td>-0.025083</td>\n",
       "      <td>0.099108</td>\n",
       "      <td>0.077162</td>\n",
       "    </tr>\n",
       "    <tr>\n",
       "      <th>3</th>\n",
       "      <td>1.0</td>\n",
       "      <td>0.224392</td>\n",
       "      <td>0.118985</td>\n",
       "      <td>0.329432</td>\n",
       "      <td>0.372088</td>\n",
       "      <td>0.361005</td>\n",
       "      <td>0.015501</td>\n",
       "      <td>-0.194347</td>\n",
       "      <td>-0.098181</td>\n",
       "      <td>0.270375</td>\n",
       "      <td>...</td>\n",
       "      <td>-0.317084</td>\n",
       "      <td>-0.011567</td>\n",
       "      <td>0.100413</td>\n",
       "      <td>-0.050224</td>\n",
       "      <td>-0.136009</td>\n",
       "      <td>-0.177037</td>\n",
       "      <td>-0.130498</td>\n",
       "      <td>-0.054766</td>\n",
       "      <td>-0.018691</td>\n",
       "      <td>0.023954</td>\n",
       "    </tr>\n",
       "    <tr>\n",
       "      <th>4</th>\n",
       "      <td>1.0</td>\n",
       "      <td>0.087817</td>\n",
       "      <td>-0.068345</td>\n",
       "      <td>0.306967</td>\n",
       "      <td>0.330923</td>\n",
       "      <td>0.249144</td>\n",
       "      <td>0.006884</td>\n",
       "      <td>-0.265423</td>\n",
       "      <td>-0.172700</td>\n",
       "      <td>0.266434</td>\n",
       "      <td>...</td>\n",
       "      <td>-0.298524</td>\n",
       "      <td>0.037439</td>\n",
       "      <td>0.219153</td>\n",
       "      <td>0.062837</td>\n",
       "      <td>-0.048885</td>\n",
       "      <td>-0.053074</td>\n",
       "      <td>-0.088550</td>\n",
       "      <td>-0.031346</td>\n",
       "      <td>0.108610</td>\n",
       "      <td>0.079244</td>\n",
       "    </tr>\n",
       "  </tbody>\n",
       "</table>\n",
       "<p>5 rows × 22 columns</p>\n",
       "</div>"
      ],
      "text/plain": [
       "   MFCCs_ 1  MFCCs_ 2  MFCCs_ 3  MFCCs_ 4  MFCCs_ 5  MFCCs_ 6  MFCCs_ 7  \\\n",
       "0       1.0  0.152936 -0.105586  0.200722  0.317201  0.260764  0.100945   \n",
       "1       1.0  0.171534 -0.098975  0.268425  0.338672  0.268353  0.060835   \n",
       "2       1.0  0.152317 -0.082973  0.287128  0.276014  0.189867  0.008714   \n",
       "3       1.0  0.224392  0.118985  0.329432  0.372088  0.361005  0.015501   \n",
       "4       1.0  0.087817 -0.068345  0.306967  0.330923  0.249144  0.006884   \n",
       "\n",
       "   MFCCs_ 8  MFCCs_ 9  MFCCs_10    ...     MFCCs_13  MFCCs_14  MFCCs_15  \\\n",
       "0 -0.150063 -0.171128  0.124676    ...    -0.156436  0.082245  0.135752   \n",
       "1 -0.222475 -0.207693  0.170883    ...    -0.254341  0.022786  0.163320   \n",
       "2 -0.242234 -0.219153  0.232538    ...    -0.237384  0.050791  0.207338   \n",
       "3 -0.194347 -0.098181  0.270375    ...    -0.317084 -0.011567  0.100413   \n",
       "4 -0.265423 -0.172700  0.266434    ...    -0.298524  0.037439  0.219153   \n",
       "\n",
       "   MFCCs_16  MFCCs_17  MFCCs_18  MFCCs_19  MFCCs_20  MFCCs_21  MFCCs_22  \n",
       "0 -0.024017 -0.108351 -0.077623 -0.009568  0.057684  0.118680  0.014038  \n",
       "1  0.012022 -0.090974 -0.056510 -0.035303  0.020140  0.082263  0.029056  \n",
       "2  0.083536 -0.050691 -0.023590 -0.066722 -0.025083  0.099108  0.077162  \n",
       "3 -0.050224 -0.136009 -0.177037 -0.130498 -0.054766 -0.018691  0.023954  \n",
       "4  0.062837 -0.048885 -0.053074 -0.088550 -0.031346  0.108610  0.079244  \n",
       "\n",
       "[5 rows x 22 columns]"
      ]
     },
     "execution_count": 200,
     "metadata": {},
     "output_type": "execute_result"
    }
   ],
   "source": [
    "Xanuran.head()"
   ]
  },
  {
   "cell_type": "code",
   "execution_count": 252,
   "metadata": {
    "collapsed": true
   },
   "outputs": [],
   "source": [
    "Tanuran = data_anuran['Species']"
   ]
  },
  {
   "cell_type": "code",
   "execution_count": 253,
   "metadata": {},
   "outputs": [
    {
     "data": {
      "text/plain": [
       "0    AdenomeraAndre\n",
       "1    AdenomeraAndre\n",
       "2    AdenomeraAndre\n",
       "3    AdenomeraAndre\n",
       "4    AdenomeraAndre\n",
       "Name: Species, dtype: object"
      ]
     },
     "execution_count": 253,
     "metadata": {},
     "output_type": "execute_result"
    }
   ],
   "source": [
    "Tanuran.head()"
   ]
  },
  {
   "cell_type": "code",
   "execution_count": 206,
   "metadata": {
    "collapsed": true
   },
   "outputs": [],
   "source": [
    "className = np.unique(Tanuran)"
   ]
  },
  {
   "cell_type": "code",
   "execution_count": 209,
   "metadata": {},
   "outputs": [
    {
     "data": {
      "text/plain": [
       "['AdenomeraAndre',\n",
       " 'AdenomeraHylaedactylus',\n",
       " 'Ameeregatrivittata',\n",
       " 'HylaMinuta',\n",
       " 'HypsiboasCinerascens',\n",
       " 'HypsiboasCordobae',\n",
       " 'LeptodactylusFuscus',\n",
       " 'OsteocephalusOophagus',\n",
       " 'Rhinellagranulosa',\n",
       " 'ScinaxRuber']"
      ]
     },
     "execution_count": 209,
     "metadata": {},
     "output_type": "execute_result"
    }
   ],
   "source": [
    "list(className)"
   ]
  },
  {
   "cell_type": "code",
   "execution_count": 208,
   "metadata": {},
   "outputs": [
    {
     "data": {
      "text/plain": [
       "numpy.ndarray"
      ]
     },
     "execution_count": 208,
     "metadata": {},
     "output_type": "execute_result"
    }
   ],
   "source": [
    "type(className)"
   ]
  },
  {
   "cell_type": "code",
   "execution_count": 205,
   "metadata": {},
   "outputs": [
    {
     "data": {
      "text/plain": [
       "pandas.core.series.Series"
      ]
     },
     "execution_count": 205,
     "metadata": {},
     "output_type": "execute_result"
    }
   ],
   "source": [
    "type(Tanuran)"
   ]
  },
  {
   "cell_type": "code",
   "execution_count": 210,
   "metadata": {},
   "outputs": [
    {
     "data": {
      "text/plain": [
       "array(['AdenomeraAndre', 'AdenomeraHylaedactylus', 'Ameeregatrivittata',\n",
       "       'HylaMinuta', 'HypsiboasCinerascens', 'HypsiboasCordobae',\n",
       "       'LeptodactylusFuscus', 'OsteocephalusOophagus', 'Rhinellagranulosa',\n",
       "       'ScinaxRuber'], dtype=object)"
      ]
     },
     "execution_count": 210,
     "metadata": {},
     "output_type": "execute_result"
    }
   ],
   "source": [
    "className"
   ]
  },
  {
   "cell_type": "code",
   "execution_count": 211,
   "metadata": {
    "collapsed": true
   },
   "outputs": [],
   "source": [
    "l={}\n",
    "for i in range(len(className)):\n",
    "    l[className[i]] = i"
   ]
  },
  {
   "cell_type": "markdown",
   "metadata": {},
   "source": [
    "$l$ is a dictionary which has names of species as key and class label as value in form an integer as shown below:"
   ]
  },
  {
   "cell_type": "code",
   "execution_count": 212,
   "metadata": {},
   "outputs": [
    {
     "data": {
      "text/plain": [
       "{'AdenomeraAndre': 0,\n",
       " 'AdenomeraHylaedactylus': 1,\n",
       " 'Ameeregatrivittata': 2,\n",
       " 'HylaMinuta': 3,\n",
       " 'HypsiboasCinerascens': 4,\n",
       " 'HypsiboasCordobae': 5,\n",
       " 'LeptodactylusFuscus': 6,\n",
       " 'OsteocephalusOophagus': 7,\n",
       " 'Rhinellagranulosa': 8,\n",
       " 'ScinaxRuber': 9}"
      ]
     },
     "execution_count": 212,
     "metadata": {},
     "output_type": "execute_result"
    }
   ],
   "source": [
    "l"
   ]
  },
  {
   "cell_type": "code",
   "execution_count": 216,
   "metadata": {},
   "outputs": [
    {
     "data": {
      "text/plain": [
       "0"
      ]
     },
     "execution_count": 216,
     "metadata": {},
     "output_type": "execute_result"
    }
   ],
   "source": [
    "l[Tanuran[0]]"
   ]
  },
  {
   "cell_type": "code",
   "execution_count": 254,
   "metadata": {
    "collapsed": true
   },
   "outputs": [],
   "source": [
    "temp = Tanuran.copy()"
   ]
  },
  {
   "cell_type": "code",
   "execution_count": 228,
   "metadata": {},
   "outputs": [
    {
     "data": {
      "text/plain": [
       "pandas.core.series.Series"
      ]
     },
     "execution_count": 228,
     "metadata": {},
     "output_type": "execute_result"
    }
   ],
   "source": [
    "type(temp)"
   ]
  },
  {
   "cell_type": "code",
   "execution_count": 229,
   "metadata": {},
   "outputs": [
    {
     "data": {
      "text/plain": [
       "(7195,)"
      ]
     },
     "execution_count": 229,
     "metadata": {},
     "output_type": "execute_result"
    }
   ],
   "source": [
    "temp.shape"
   ]
  },
  {
   "cell_type": "code",
   "execution_count": 231,
   "metadata": {},
   "outputs": [
    {
     "data": {
      "text/plain": [
       "7195"
      ]
     },
     "execution_count": 231,
     "metadata": {},
     "output_type": "execute_result"
    }
   ],
   "source": [
    "len(list(temp))"
   ]
  },
  {
   "cell_type": "code",
   "execution_count": 255,
   "metadata": {},
   "outputs": [
    {
     "data": {
      "text/plain": [
       "0    AdenomeraAndre\n",
       "1    AdenomeraAndre\n",
       "2    AdenomeraAndre\n",
       "3    AdenomeraAndre\n",
       "4    AdenomeraAndre\n",
       "5    AdenomeraAndre\n",
       "6    AdenomeraAndre\n",
       "7    AdenomeraAndre\n",
       "8    AdenomeraAndre\n",
       "9    AdenomeraAndre\n",
       "Name: Species, dtype: object"
      ]
     },
     "execution_count": 255,
     "metadata": {},
     "output_type": "execute_result"
    }
   ],
   "source": [
    "temp[:10]"
   ]
  },
  {
   "cell_type": "code",
   "execution_count": 256,
   "metadata": {},
   "outputs": [
    {
     "data": {
      "text/plain": [
       "'AdenomeraAndre'"
      ]
     },
     "execution_count": 256,
     "metadata": {},
     "output_type": "execute_result"
    }
   ],
   "source": [
    "temp[0]"
   ]
  },
  {
   "cell_type": "code",
   "execution_count": 234,
   "metadata": {},
   "outputs": [
    {
     "data": {
      "text/plain": [
       "(7195,)"
      ]
     },
     "execution_count": 234,
     "metadata": {},
     "output_type": "execute_result"
    }
   ],
   "source": [
    "temp.shape"
   ]
  },
  {
   "cell_type": "code",
   "execution_count": 237,
   "metadata": {},
   "outputs": [
    {
     "data": {
      "text/plain": [
       "0"
      ]
     },
     "execution_count": 237,
     "metadata": {},
     "output_type": "execute_result"
    }
   ],
   "source": [
    "temp[5]"
   ]
  },
  {
   "cell_type": "markdown",
   "metadata": {},
   "source": [
    "The for loop below replaces the name of the species with its respective integer value according to the values in $l$ "
   ]
  },
  {
   "cell_type": "code",
   "execution_count": 257,
   "metadata": {
    "collapsed": true
   },
   "outputs": [],
   "source": [
    "for i in range(len(Tanuran)):\n",
    "    temp.loc[i] = l[Tanuran.loc[i]]"
   ]
  },
  {
   "cell_type": "code",
   "execution_count": 258,
   "metadata": {
    "scrolled": true
   },
   "outputs": [
    {
     "data": {
      "text/plain": [
       "0    AdenomeraAndre\n",
       "1    AdenomeraAndre\n",
       "2    AdenomeraAndre\n",
       "3    AdenomeraAndre\n",
       "4    AdenomeraAndre\n",
       "Name: Species, dtype: object"
      ]
     },
     "execution_count": 258,
     "metadata": {},
     "output_type": "execute_result"
    }
   ],
   "source": [
    "Tanuran.head()"
   ]
  },
  {
   "cell_type": "code",
   "execution_count": 259,
   "metadata": {},
   "outputs": [
    {
     "data": {
      "text/plain": [
       "'AdenomeraAndre'"
      ]
     },
     "execution_count": 259,
     "metadata": {},
     "output_type": "execute_result"
    }
   ],
   "source": [
    "Tanuran[55]"
   ]
  },
  {
   "cell_type": "code",
   "execution_count": 260,
   "metadata": {},
   "outputs": [
    {
     "data": {
      "text/plain": [
       "0    0\n",
       "1    0\n",
       "2    0\n",
       "3    0\n",
       "4    0\n",
       "Name: Species, dtype: object"
      ]
     },
     "execution_count": 260,
     "metadata": {},
     "output_type": "execute_result"
    }
   ],
   "source": [
    "temp.head()"
   ]
  },
  {
   "cell_type": "code",
   "execution_count": 265,
   "metadata": {},
   "outputs": [
    {
     "data": {
      "text/plain": [
       "1550    1\n",
       "1551    1\n",
       "1552    1\n",
       "1553    1\n",
       "1554    1\n",
       "1555    1\n",
       "1556    1\n",
       "1557    1\n",
       "1558    1\n",
       "1559    1\n",
       "Name: Species, dtype: object"
      ]
     },
     "execution_count": 265,
     "metadata": {},
     "output_type": "execute_result"
    }
   ],
   "source": [
    "temp[1550:1560]"
   ]
  },
  {
   "cell_type": "code",
   "execution_count": 266,
   "metadata": {},
   "outputs": [
    {
     "data": {
      "text/plain": [
       "1550    AdenomeraHylaedactylus\n",
       "1551    AdenomeraHylaedactylus\n",
       "1552    AdenomeraHylaedactylus\n",
       "1553    AdenomeraHylaedactylus\n",
       "1554    AdenomeraHylaedactylus\n",
       "1555    AdenomeraHylaedactylus\n",
       "1556    AdenomeraHylaedactylus\n",
       "1557    AdenomeraHylaedactylus\n",
       "1558    AdenomeraHylaedactylus\n",
       "1559    AdenomeraHylaedactylus\n",
       "Name: Species, dtype: object"
      ]
     },
     "execution_count": 266,
     "metadata": {},
     "output_type": "execute_result"
    }
   ],
   "source": [
    "Tanuran[1550:1560]"
   ]
  },
  {
   "cell_type": "code",
   "execution_count": 267,
   "metadata": {},
   "outputs": [
    {
     "data": {
      "text/plain": [
       "array([0, 1, 2, 3, 4, 5, 6, 7, 8, 9], dtype=object)"
      ]
     },
     "execution_count": 267,
     "metadata": {},
     "output_type": "execute_result"
    }
   ],
   "source": [
    "np.unique(temp)"
   ]
  },
  {
   "cell_type": "code",
   "execution_count": 268,
   "metadata": {
    "collapsed": true
   },
   "outputs": [],
   "source": [
    "Tanuran = temp"
   ]
  },
  {
   "cell_type": "code",
   "execution_count": 269,
   "metadata": {},
   "outputs": [
    {
     "data": {
      "text/plain": [
       "(7195,)"
      ]
     },
     "execution_count": 269,
     "metadata": {},
     "output_type": "execute_result"
    }
   ],
   "source": [
    "Tanuran.shape"
   ]
  },
  {
   "cell_type": "code",
   "execution_count": 274,
   "metadata": {
    "collapsed": true
   },
   "outputs": [],
   "source": [
    "Tanuran=Tanuran.values.reshape(7195,1)"
   ]
  },
  {
   "cell_type": "code",
   "execution_count": 275,
   "metadata": {},
   "outputs": [
    {
     "data": {
      "text/plain": [
       "(7195, 1)"
      ]
     },
     "execution_count": 275,
     "metadata": {},
     "output_type": "execute_result"
    }
   ],
   "source": [
    "Tanuran.shape"
   ]
  },
  {
   "cell_type": "code",
   "execution_count": 276,
   "metadata": {},
   "outputs": [
    {
     "data": {
      "text/plain": [
       "(7195, 22)"
      ]
     },
     "execution_count": 276,
     "metadata": {},
     "output_type": "execute_result"
    }
   ],
   "source": [
    "Xanuran.shape"
   ]
  },
  {
   "cell_type": "code",
   "execution_count": 277,
   "metadata": {},
   "outputs": [
    {
     "name": "stdout",
     "output_type": "stream",
     "text": [
      "672 samples in class 0\n",
      "3478 samples in class 1\n",
      "542 samples in class 2\n",
      "310 samples in class 3\n",
      "472 samples in class 4\n",
      "1121 samples in class 5\n",
      "270 samples in class 6\n",
      "114 samples in class 7\n",
      "68 samples in class 8\n",
      "148 samples in class 9\n"
     ]
    }
   ],
   "source": [
    "for i in range(10):\n",
    "    print('{} samples in class {}'.format(np.sum(Tanuran==i), i))"
   ]
  },
  {
   "cell_type": "code",
   "execution_count": 279,
   "metadata": {},
   "outputs": [
    {
     "data": {
      "text/html": [
       "<div>\n",
       "<style>\n",
       "    .dataframe thead tr:only-child th {\n",
       "        text-align: right;\n",
       "    }\n",
       "\n",
       "    .dataframe thead th {\n",
       "        text-align: left;\n",
       "    }\n",
       "\n",
       "    .dataframe tbody tr th {\n",
       "        vertical-align: top;\n",
       "    }\n",
       "</style>\n",
       "<table border=\"1\" class=\"dataframe\">\n",
       "  <thead>\n",
       "    <tr style=\"text-align: right;\">\n",
       "      <th></th>\n",
       "      <th>MFCCs_ 1</th>\n",
       "      <th>MFCCs_ 2</th>\n",
       "      <th>MFCCs_ 3</th>\n",
       "      <th>MFCCs_ 4</th>\n",
       "      <th>MFCCs_ 5</th>\n",
       "      <th>MFCCs_ 6</th>\n",
       "      <th>MFCCs_ 7</th>\n",
       "      <th>MFCCs_ 8</th>\n",
       "      <th>MFCCs_ 9</th>\n",
       "      <th>MFCCs_10</th>\n",
       "      <th>...</th>\n",
       "      <th>MFCCs_13</th>\n",
       "      <th>MFCCs_14</th>\n",
       "      <th>MFCCs_15</th>\n",
       "      <th>MFCCs_16</th>\n",
       "      <th>MFCCs_17</th>\n",
       "      <th>MFCCs_18</th>\n",
       "      <th>MFCCs_19</th>\n",
       "      <th>MFCCs_20</th>\n",
       "      <th>MFCCs_21</th>\n",
       "      <th>MFCCs_22</th>\n",
       "    </tr>\n",
       "  </thead>\n",
       "  <tbody>\n",
       "    <tr>\n",
       "      <th>0</th>\n",
       "      <td>1.0</td>\n",
       "      <td>0.152936</td>\n",
       "      <td>-0.105586</td>\n",
       "      <td>0.200722</td>\n",
       "      <td>0.317201</td>\n",
       "      <td>0.260764</td>\n",
       "      <td>0.100945</td>\n",
       "      <td>-0.150063</td>\n",
       "      <td>-0.171128</td>\n",
       "      <td>0.124676</td>\n",
       "      <td>...</td>\n",
       "      <td>-0.156436</td>\n",
       "      <td>0.082245</td>\n",
       "      <td>0.135752</td>\n",
       "      <td>-0.024017</td>\n",
       "      <td>-0.108351</td>\n",
       "      <td>-0.077623</td>\n",
       "      <td>-0.009568</td>\n",
       "      <td>0.057684</td>\n",
       "      <td>0.118680</td>\n",
       "      <td>0.014038</td>\n",
       "    </tr>\n",
       "    <tr>\n",
       "      <th>1</th>\n",
       "      <td>1.0</td>\n",
       "      <td>0.171534</td>\n",
       "      <td>-0.098975</td>\n",
       "      <td>0.268425</td>\n",
       "      <td>0.338672</td>\n",
       "      <td>0.268353</td>\n",
       "      <td>0.060835</td>\n",
       "      <td>-0.222475</td>\n",
       "      <td>-0.207693</td>\n",
       "      <td>0.170883</td>\n",
       "      <td>...</td>\n",
       "      <td>-0.254341</td>\n",
       "      <td>0.022786</td>\n",
       "      <td>0.163320</td>\n",
       "      <td>0.012022</td>\n",
       "      <td>-0.090974</td>\n",
       "      <td>-0.056510</td>\n",
       "      <td>-0.035303</td>\n",
       "      <td>0.020140</td>\n",
       "      <td>0.082263</td>\n",
       "      <td>0.029056</td>\n",
       "    </tr>\n",
       "    <tr>\n",
       "      <th>2</th>\n",
       "      <td>1.0</td>\n",
       "      <td>0.152317</td>\n",
       "      <td>-0.082973</td>\n",
       "      <td>0.287128</td>\n",
       "      <td>0.276014</td>\n",
       "      <td>0.189867</td>\n",
       "      <td>0.008714</td>\n",
       "      <td>-0.242234</td>\n",
       "      <td>-0.219153</td>\n",
       "      <td>0.232538</td>\n",
       "      <td>...</td>\n",
       "      <td>-0.237384</td>\n",
       "      <td>0.050791</td>\n",
       "      <td>0.207338</td>\n",
       "      <td>0.083536</td>\n",
       "      <td>-0.050691</td>\n",
       "      <td>-0.023590</td>\n",
       "      <td>-0.066722</td>\n",
       "      <td>-0.025083</td>\n",
       "      <td>0.099108</td>\n",
       "      <td>0.077162</td>\n",
       "    </tr>\n",
       "    <tr>\n",
       "      <th>3</th>\n",
       "      <td>1.0</td>\n",
       "      <td>0.224392</td>\n",
       "      <td>0.118985</td>\n",
       "      <td>0.329432</td>\n",
       "      <td>0.372088</td>\n",
       "      <td>0.361005</td>\n",
       "      <td>0.015501</td>\n",
       "      <td>-0.194347</td>\n",
       "      <td>-0.098181</td>\n",
       "      <td>0.270375</td>\n",
       "      <td>...</td>\n",
       "      <td>-0.317084</td>\n",
       "      <td>-0.011567</td>\n",
       "      <td>0.100413</td>\n",
       "      <td>-0.050224</td>\n",
       "      <td>-0.136009</td>\n",
       "      <td>-0.177037</td>\n",
       "      <td>-0.130498</td>\n",
       "      <td>-0.054766</td>\n",
       "      <td>-0.018691</td>\n",
       "      <td>0.023954</td>\n",
       "    </tr>\n",
       "    <tr>\n",
       "      <th>4</th>\n",
       "      <td>1.0</td>\n",
       "      <td>0.087817</td>\n",
       "      <td>-0.068345</td>\n",
       "      <td>0.306967</td>\n",
       "      <td>0.330923</td>\n",
       "      <td>0.249144</td>\n",
       "      <td>0.006884</td>\n",
       "      <td>-0.265423</td>\n",
       "      <td>-0.172700</td>\n",
       "      <td>0.266434</td>\n",
       "      <td>...</td>\n",
       "      <td>-0.298524</td>\n",
       "      <td>0.037439</td>\n",
       "      <td>0.219153</td>\n",
       "      <td>0.062837</td>\n",
       "      <td>-0.048885</td>\n",
       "      <td>-0.053074</td>\n",
       "      <td>-0.088550</td>\n",
       "      <td>-0.031346</td>\n",
       "      <td>0.108610</td>\n",
       "      <td>0.079244</td>\n",
       "    </tr>\n",
       "  </tbody>\n",
       "</table>\n",
       "<p>5 rows × 22 columns</p>\n",
       "</div>"
      ],
      "text/plain": [
       "   MFCCs_ 1  MFCCs_ 2  MFCCs_ 3  MFCCs_ 4  MFCCs_ 5  MFCCs_ 6  MFCCs_ 7  \\\n",
       "0       1.0  0.152936 -0.105586  0.200722  0.317201  0.260764  0.100945   \n",
       "1       1.0  0.171534 -0.098975  0.268425  0.338672  0.268353  0.060835   \n",
       "2       1.0  0.152317 -0.082973  0.287128  0.276014  0.189867  0.008714   \n",
       "3       1.0  0.224392  0.118985  0.329432  0.372088  0.361005  0.015501   \n",
       "4       1.0  0.087817 -0.068345  0.306967  0.330923  0.249144  0.006884   \n",
       "\n",
       "   MFCCs_ 8  MFCCs_ 9  MFCCs_10    ...     MFCCs_13  MFCCs_14  MFCCs_15  \\\n",
       "0 -0.150063 -0.171128  0.124676    ...    -0.156436  0.082245  0.135752   \n",
       "1 -0.222475 -0.207693  0.170883    ...    -0.254341  0.022786  0.163320   \n",
       "2 -0.242234 -0.219153  0.232538    ...    -0.237384  0.050791  0.207338   \n",
       "3 -0.194347 -0.098181  0.270375    ...    -0.317084 -0.011567  0.100413   \n",
       "4 -0.265423 -0.172700  0.266434    ...    -0.298524  0.037439  0.219153   \n",
       "\n",
       "   MFCCs_16  MFCCs_17  MFCCs_18  MFCCs_19  MFCCs_20  MFCCs_21  MFCCs_22  \n",
       "0 -0.024017 -0.108351 -0.077623 -0.009568  0.057684  0.118680  0.014038  \n",
       "1  0.012022 -0.090974 -0.056510 -0.035303  0.020140  0.082263  0.029056  \n",
       "2  0.083536 -0.050691 -0.023590 -0.066722 -0.025083  0.099108  0.077162  \n",
       "3 -0.050224 -0.136009 -0.177037 -0.130498 -0.054766 -0.018691  0.023954  \n",
       "4  0.062837 -0.048885 -0.053074 -0.088550 -0.031346  0.108610  0.079244  \n",
       "\n",
       "[5 rows x 22 columns]"
      ]
     },
     "execution_count": 279,
     "metadata": {},
     "output_type": "execute_result"
    }
   ],
   "source": [
    "Xanuran.head()"
   ]
  },
  {
   "cell_type": "code",
   "execution_count": 284,
   "metadata": {
    "collapsed": true
   },
   "outputs": [],
   "source": [
    "Xanuran = Xanuran.reset_index().values[:,1:] # reseting the index values to convert pandas dataframe object to numpy ndarray object"
   ]
  },
  {
   "cell_type": "code",
   "execution_count": 287,
   "metadata": {
    "collapsed": true
   },
   "outputs": [],
   "source": [
    "XtrainC, TtrainC, XtestC, TtestC = ml.partition(Xanuran, Tanuran, (.8,.2), classification=True)\n",
    "nnetC = nn.NeuralNetworkClassifier(Xanuran.shape[1], [2,2,2], len(np.unique(Tanuran)))\n",
    "nnetC.train(XtrainC, TtrainC, 100)\n",
    "Ctrain = nnetC.use(XtrainC)\n",
    "Ctest = nnetC.use(XtestC)              "
   ]
  },
  {
   "cell_type": "code",
   "execution_count": 288,
   "metadata": {},
   "outputs": [
    {
     "data": {
      "text/plain": [
       "array([ 0.23025851,  0.21517066,  0.20228806,  0.11713964,  0.1128702 ,\n",
       "        0.10871449,  0.10559141,  0.10559141,  0.1040455 ,  0.10295496,\n",
       "        0.10201122,  0.10169859,  0.10122354,  0.09955389,  0.0972681 ,\n",
       "        0.09540708,  0.09540708,  0.09540708,  0.09441966,  0.0926139 ,\n",
       "        0.08911434,  0.08724284,  0.08714504,  0.08571822,  0.08346134,\n",
       "        0.08266752,  0.08171489,  0.08087004,  0.08074933,  0.07976333,\n",
       "        0.07934158,  0.07876962,  0.07859125,  0.07851579,  0.07833454,\n",
       "        0.0781896 ,  0.07747253,  0.07735037,  0.07695181,  0.07654312,\n",
       "        0.07573038,  0.07566778,  0.0754253 ,  0.07530492,  0.07514773,\n",
       "        0.07510376,  0.07499228,  0.07483399,  0.07441205,  0.07420861,\n",
       "        0.0734431 ,  0.07323656,  0.07304048,  0.07286531,  0.07247766,\n",
       "        0.07214667,  0.07158455,  0.07120631,  0.07097787,  0.07095904,\n",
       "        0.07078317,  0.07068901,  0.07064447,  0.07046512,  0.07034302,\n",
       "        0.07019986,  0.07009889,  0.06994068,  0.06982501,  0.06975693,\n",
       "        0.06971158,  0.06966939,  0.06957643,  0.06930216,  0.06923644,\n",
       "        0.06923644,  0.06923644,  0.06923644,  0.06923644,  0.06923644,\n",
       "        0.06923644,  0.06923644,  0.06923644,  0.06923644,  0.06923644,\n",
       "        0.06923644,  0.06923644,  0.06923644,  0.06923644,  0.06923644,\n",
       "        0.06923644,  0.06923644,  0.06923644,  0.06923644,  0.06923644,\n",
       "        0.06923644,  0.0692093 ,  0.06902473,  0.0689337 ,  0.06889908,\n",
       "        0.06882809])"
      ]
     },
     "execution_count": 288,
     "metadata": {},
     "output_type": "execute_result"
    }
   ],
   "source": [
    "nnetC.errorTrace"
   ]
  },
  {
   "cell_type": "code",
   "execution_count": 315,
   "metadata": {
    "collapsed": true
   },
   "outputs": [],
   "source": [
    "resultsC = trainNNs(Xanuran, Tanuran, 0.8, [0, 5, [5, 5]], 5, 100, classify=True)"
   ]
  },
  {
   "cell_type": "code",
   "execution_count": 316,
   "metadata": {},
   "outputs": [
    {
     "data": {
      "text/plain": [
       "[[0, 0.032731063238359968, 0.039054899235580268, 1.6213123798370361],\n",
       " [5, 0.034468380820013897, 0.047394023627519113, 3.6466991901397705],\n",
       " [[5, 5], 0.052779708130646273, 0.064072272411396805, 4.788736343383789]]"
      ]
     },
     "execution_count": 316,
     "metadata": {},
     "output_type": "execute_result"
    }
   ],
   "source": [
    "summarize(resultsC)"
   ]
  },
  {
   "cell_type": "code",
   "execution_count": 341,
   "metadata": {},
   "outputs": [
    {
     "data": {
      "text/plain": [
       "[0, 0.032731063238359968, 0.039054899235580268, 1.6213123798370361]"
      ]
     },
     "execution_count": 341,
     "metadata": {},
     "output_type": "execute_result"
    }
   ],
   "source": [
    "bestNetwork(summarize(resultsC))"
   ]
  },
  {
   "cell_type": "code",
   "execution_count": null,
   "metadata": {
    "collapsed": true
   },
   "outputs": [],
   "source": []
  },
  {
   "cell_type": "code",
   "execution_count": null,
   "metadata": {
    "collapsed": true
   },
   "outputs": [],
   "source": []
  },
  {
   "cell_type": "code",
   "execution_count": 343,
   "metadata": {
    "collapsed": true
   },
   "outputs": [],
   "source": [
    "results_10plusC = trainNNs(Xanuran, Tanuran, 0.8, [1, 3, 7, 10, [2, 2], [3,5], [5,3], [20,20], [5,10,20], [10,5,10], [20,10,5], [20,10,2,10,20]], 10, 100, classify=True)"
   ]
  },
  {
   "cell_type": "code",
   "execution_count": 344,
   "metadata": {},
   "outputs": [
    {
     "data": {
      "text/plain": [
       "[[1, 0.30701876302988185, 0.30826963168867272, 4.53558611869812],\n",
       " [3, 0.087022237665045174, 0.094440583738707423, 5.92826771736145],\n",
       " [7, 0.016539263377345379, 0.030159833217512162, 7.7766969203948975],\n",
       " [10, 0.0050208478109798468, 0.024669909659485754, 8.993921756744385],\n",
       " [[2, 2], 0.22861362056984014, 0.23446838082001392, 6.0987207889556885],\n",
       " [[3, 5], 0.097654621264767191, 0.10521195274496178, 8.129131555557251],\n",
       " [[5, 3], 0.11224808895066016, 0.12015288394718555, 7.964183330535889],\n",
       " [[20, 20], 0.0, 0.015913829047949964, 21.3287456035614],\n",
       " [[5, 10, 20], 0.035006949270326618, 0.043919388464211263, 17.96830916404724],\n",
       " [[10, 5, 10], 0.016591382904794998, 0.033495482974287706, 15.095180034637451],\n",
       " [[20, 10, 5], 0.052466990965948576, 0.064002779708130647, 18.394540548324585],\n",
       " [[20, 10, 2, 10, 20],\n",
       "  0.11914523974982627,\n",
       "  0.12585128561501041,\n",
       "  24.115656852722168]]"
      ]
     },
     "execution_count": 344,
     "metadata": {},
     "output_type": "execute_result"
    }
   ],
   "source": [
    "summarize(results_10plusC)"
   ]
  },
  {
   "cell_type": "code",
   "execution_count": 345,
   "metadata": {},
   "outputs": [
    {
     "data": {
      "text/plain": [
       "[[20, 20], 0.0, 0.015913829047949964, 21.3287456035614]"
      ]
     },
     "execution_count": 345,
     "metadata": {},
     "output_type": "execute_result"
    }
   ],
   "source": [
    "bestNetwork(summarize(results_10plusC))"
   ]
  },
  {
   "cell_type": "markdown",
   "metadata": {},
   "source": [
    "# Working with best network [20,20]"
   ]
  },
  {
   "cell_type": "code",
   "execution_count": 346,
   "metadata": {
    "collapsed": true
   },
   "outputs": [],
   "source": [
    "XtrainC, TtrainC, XtestC, TtestC = ml.partition(Xanuran, Tanuran, (.8,.2), classification=True)\n",
    "nnetC = nn.NeuralNetworkClassifier(Xanuran.shape[1], [20,20], len(np.unique(Tanuran)))\n",
    "nnetC.train(XtrainC, TtrainC, 100)\n",
    "Ctrain = nnetC.use(XtrainC)\n",
    "Ctest = nnetC.use(XtestC)              "
   ]
  },
  {
   "cell_type": "code",
   "execution_count": 347,
   "metadata": {},
   "outputs": [
    {
     "data": {
      "text/plain": [
       "array([  2.30e-01,   1.90e-01,   1.90e-01,   1.73e-01,   9.98e-02,\n",
       "         7.75e-02,   5.87e-02,   4.83e-02,   4.11e-02,   3.12e-02,\n",
       "         2.68e-02,   2.42e-02,   2.15e-02,   1.86e-02,   1.71e-02,\n",
       "         1.46e-02,   1.30e-02,   1.15e-02,   1.01e-02,   9.34e-03,\n",
       "         8.48e-03,   7.95e-03,   7.35e-03,   6.78e-03,   6.15e-03,\n",
       "         5.63e-03,   5.20e-03,   4.81e-03,   4.49e-03,   4.17e-03,\n",
       "         3.97e-03,   3.72e-03,   3.47e-03,   3.29e-03,   2.87e-03,\n",
       "         2.66e-03,   2.47e-03,   2.36e-03,   2.21e-03,   2.00e-03,\n",
       "         1.87e-03,   1.75e-03,   1.56e-03,   1.45e-03,   1.36e-03,\n",
       "         1.25e-03,   1.17e-03,   1.08e-03,   1.02e-03,   9.25e-04,\n",
       "         8.47e-04,   8.22e-04,   7.76e-04,   7.32e-04,   7.17e-04,\n",
       "         6.77e-04,   6.36e-04,   6.01e-04,   5.78e-04,   5.52e-04,\n",
       "         5.38e-04,   5.20e-04,   5.01e-04,   4.84e-04,   4.68e-04,\n",
       "         4.20e-04,   3.87e-04,   3.64e-04,   3.15e-04,   2.98e-04,\n",
       "         2.70e-04,   2.45e-04,   2.27e-04,   2.15e-04,   1.96e-04,\n",
       "         1.79e-04,   1.70e-04,   1.58e-04,   1.51e-04,   1.49e-04,\n",
       "         1.45e-04,   1.41e-04,   1.38e-04,   1.34e-04,   1.28e-04,\n",
       "         1.25e-04,   1.14e-04,   1.09e-04,   1.00e-04,   9.32e-05,\n",
       "         8.88e-05,   8.55e-05,   8.20e-05,   7.79e-05,   7.52e-05,\n",
       "         7.19e-05,   7.06e-05,   6.91e-05,   6.85e-05,   6.73e-05,\n",
       "         6.64e-05])"
      ]
     },
     "execution_count": 347,
     "metadata": {},
     "output_type": "execute_result"
    }
   ],
   "source": [
    "nnetC.errorTrace"
   ]
  },
  {
   "cell_type": "code",
   "execution_count": 348,
   "metadata": {},
   "outputs": [
    {
     "data": {
      "text/plain": [
       "[<matplotlib.lines.Line2D at 0x2af3bb4d128>]"
      ]
     },
     "execution_count": 348,
     "metadata": {},
     "output_type": "execute_result"
    },
    {
     "data": {
      "image/png": "[encoded data removed]",
      "text/plain": [
       "<matplotlib.figure.Figure at 0x2af3aae0dd8>"
      ]
     },
     "metadata": {},
     "output_type": "display_data"
    }
   ],
   "source": [
    "plt.plot(nnetC.errorTrace)"
   ]
  },
  {
   "cell_type": "markdown",
   "metadata": {},
   "source": [
    "As we can see in the graph above that the error is almost contant, so increasing the number of iterations will not improve our results here."
   ]
  },
  {
   "cell_type": "code",
   "execution_count": 360,
   "metadata": {},
   "outputs": [
    {
     "data": {
      "text/plain": [
       "[<matplotlib.lines.Line2D at 0x2af3d39eac8>,\n",
       " <matplotlib.lines.Line2D at 0x2af3d39ec18>]"
      ]
     },
     "execution_count": 360,
     "metadata": {},
     "output_type": "execute_result"
    },
    {
     "data": {
      "image/png": "[encoded data removed]",
      "text/plain": [
       "<matplotlib.figure.Figure at 0x2af3d33d438>"
      ]
     },
     "metadata": {},
     "output_type": "display_data"
    }
   ],
   "source": [
    "plt.plot(Ctest,'o', TtestC, 'o')"
   ]
  },
  {
   "cell_type": "markdown",
   "metadata": {},
   "source": [
    "The above graph describes the actual output for testing data for each class in orange vs the predicted outputs in blue"
   ]
  },
  {
   "cell_type": "code",
   "execution_count": 362,
   "metadata": {},
   "outputs": [
    {
     "data": {
      "text/plain": [
       "[<matplotlib.lines.Line2D at 0x2af3e8c3b70>,\n",
       " <matplotlib.lines.Line2D at 0x2af3e8c3cc0>]"
      ]
     },
     "execution_count": 362,
     "metadata": {},
     "output_type": "execute_result"
    },
    {
     "data": {
      "image/png": "[encoded data removed]",
      "text/plain": [
       "<matplotlib.figure.Figure at 0x2af3d467128>"
      ]
     },
     "metadata": {},
     "output_type": "display_data"
    }
   ],
   "source": [
    "plt.plot(Ctrain,'o', TtrainC, 'o')"
   ]
  },
  {
   "cell_type": "markdown",
   "metadata": {
    "collapsed": true
   },
   "source": [
    "The above graph describes the actual output for training data for each class in orange vs the predicted outputs in blue\n",
    "As all the training data is correctly classified, therefore orange dots overlaps the blue dots."
   ]
  },
  {
   "cell_type": "code",
   "execution_count": null,
   "metadata": {
    "collapsed": true
   },
   "outputs": [],
   "source": []
  },
  {
   "cell_type": "code",
   "execution_count": null,
   "metadata": {
    "collapsed": true
   },
   "outputs": [],
   "source": []
  },
  {
   "cell_type": "code",
   "execution_count": null,
   "metadata": {
    "collapsed": true
   },
   "outputs": [],
   "source": []
  },
  {
   "cell_type": "markdown",
   "metadata": {},
   "source": [
    "## Examples\n"
   ]
  },
  {
   "cell_type": "code",
   "execution_count": 2,
   "metadata": {
    "collapsed": true
   },
   "outputs": [],
   "source": [
    "X = np.arange(10).reshape((-1,1))\n",
    "T = X + 1 + np.random.uniform(-1, 1, ((10,1)))"
   ]
  },
  {
   "cell_type": "code",
   "execution_count": 3,
   "metadata": {
    "collapsed": true
   },
   "outputs": [],
   "source": [
    "import matplotlib.pyplot as plt\n",
    "%matplotlib inline"
   ]
  },
  {
   "cell_type": "code",
   "execution_count": 4,
   "metadata": {},
   "outputs": [
    {
     "data": {
      "image/png": "[encoded data removed]",
      "text/plain": [
       "<matplotlib.figure.Figure at 0x7fbcb867dc18>"
      ]
     },
     "metadata": {},
     "output_type": "display_data"
    }
   ],
   "source": [
    "plt.plot(X, T, 'o-');"
   ]
  },
  {
   "cell_type": "code",
   "execution_count": 5,
   "metadata": {},
   "outputs": [
    {
     "data": {
      "text/plain": [
       "array([ 0.70710678,  0.54681773,  0.54681773,  0.54681773,  0.54681773,\n",
       "        0.38878294,  0.23861448,  0.14107224,  0.13685632,  0.13159174,\n",
       "        0.12200331,  0.12004284,  0.11729345,  0.11722774,  0.11720678,\n",
       "        0.11715971,  0.11713422,  0.11703589,  0.11692493,  0.11690747,\n",
       "        0.11685124,  0.11684394,  0.1167597 ,  0.11671666,  0.1167157 ,\n",
       "        0.11670925,  0.11670432,  0.11659393,  0.11658978,  0.11655222,\n",
       "        0.11654604,  0.11653364,  0.11652125,  0.11651232,  0.11643041,\n",
       "        0.11641181,  0.11635009,  0.11632274,  0.11627028,  0.11621216,\n",
       "        0.11609135,  0.11608242,  0.11591254,  0.11590528,  0.11589885,\n",
       "        0.1155136 ,  0.11544335,  0.11542021,  0.11504797,  0.11502111,\n",
       "        0.11493809,  0.11459886,  0.11442942,  0.11441328,  0.11395023,\n",
       "        0.11363951,  0.11361813,  0.11359296,  0.11358183,  0.11356514,\n",
       "        0.11355584,  0.1135009 ,  0.1135009 ,  0.11228009,  0.11227799,\n",
       "        0.10874364,  0.10793793,  0.10702195,  0.10697315,  0.10658269,\n",
       "        0.10536308,  0.10532959,  0.10513704,  0.10497198,  0.10494621,\n",
       "        0.10493533,  0.10477608,  0.10374252,  0.10367192,  0.10282525,\n",
       "        0.10280727,  0.10169015,  0.09974563,  0.09973919,  0.09950659,\n",
       "        0.09732691,  0.09703122,  0.09685796,  0.09681047,  0.0967661 ,\n",
       "        0.09650062,  0.09488166,  0.09482091,  0.0946448 ,  0.09454681,\n",
       "        0.09446687,  0.09443324,  0.09442199,  0.09372298,  0.0937172 ,\n",
       "        0.09353856])"
      ]
     },
     "execution_count": 5,
     "metadata": {},
     "output_type": "execute_result"
    }
   ],
   "source": [
    "nnet = nn.NeuralNetwork(X.shape[1], 2, T.shape[1])\n",
    "nnet.train(X, T, 100)\n",
    "nnet.getErrorTrace()"
   ]
  },
  {
   "cell_type": "code",
   "execution_count": 6,
   "metadata": {},
   "outputs": [
    {
     "data": {
      "text/plain": [
       "array([ 0.70710678,  0.56525757,  0.56525757,  0.39524885,  0.19323583,\n",
       "        0.12264838,  0.12072399,  0.11987694,  0.1172533 ,  0.11723656,\n",
       "        0.11716307,  0.11708904,  0.11703804,  0.11697377,  0.11691969,\n",
       "        0.11685657,  0.11673941,  0.11668885,  0.11656968,  0.11636348,\n",
       "        0.11635844,  0.11633   ,  0.1163008 ,  0.11611862,  0.11606465,\n",
       "        0.11605607,  0.11599594,  0.11598938,  0.11597518,  0.11590839,\n",
       "        0.11589739,  0.11572317,  0.11428645,  0.11425532,  0.11375641,\n",
       "        0.11368443,  0.1136587 ,  0.1136587 ,  0.1136587 ,  0.1136587 ,\n",
       "        0.1136587 ,  0.1136587 ,  0.1136587 ,  0.1136587 ,  0.1136587 ,\n",
       "        0.1136587 ,  0.1136587 ,  0.1136587 ,  0.1136587 ,  0.1136587 ,\n",
       "        0.11155752,  0.1112829 ,  0.1112829 ,  0.10990509,  0.10951796,\n",
       "        0.10843883,  0.10831139,  0.10791009,  0.10791009,  0.10791009,\n",
       "        0.10791009,  0.10304535,  0.10156609,  0.10047532,  0.09814701,\n",
       "        0.09682653,  0.09641985,  0.09607158,  0.09455093,  0.09446632,\n",
       "        0.09434225,  0.09292129,  0.09282257,  0.09243719,  0.09233883,\n",
       "        0.09209735,  0.0919265 ,  0.09187081,  0.09159748,  0.09154718,\n",
       "        0.09125659,  0.09110269,  0.09088345,  0.08993966,  0.08928417,\n",
       "        0.08515813,  0.08445589,  0.07928768,  0.0775603 ,  0.07641726,\n",
       "        0.07270108,  0.07094626,  0.07087508,  0.07085297,  0.06975749,\n",
       "        0.06965933,  0.0690712 ,  0.06902558,  0.06880287,  0.06864477,\n",
       "        0.06830879])"
      ]
     },
     "execution_count": 6,
     "metadata": {},
     "output_type": "execute_result"
    }
   ],
   "source": [
    "nnet = nn.NeuralNetwork(X.shape[1], [5, 5, 5], T.shape[1])\n",
    "nnet.train(X, T, 100)\n",
    "nnet.getErrorTrace()"
   ]
  },
  {
   "cell_type": "code",
   "execution_count": 7,
   "metadata": {},
   "outputs": [
    {
     "data": {
      "text/plain": [
       "[[2,\n",
       "  [0.43375072167655998,\n",
       "   0.37624645454787348,\n",
       "   0.30471575510780974,\n",
       "   0.31353315718640956,\n",
       "   0.23015326005400058],\n",
       "  [0.70096159980969919,\n",
       "   0.89706030712911278,\n",
       "   1.0374131198044245,\n",
       "   0.96671156424543547,\n",
       "   1.39943574790067],\n",
       "  0.08166050910949707],\n",
       " [10,\n",
       "  [0.35408368779449945,\n",
       "   0.33801207987223547,\n",
       "   0.25266683312968857,\n",
       "   0.325628393726967,\n",
       "   0.19084427269786955],\n",
       "  [0.49902098857283622,\n",
       "   0.84917621636944196,\n",
       "   0.63893256672827548,\n",
       "   0.71399064614587793,\n",
       "   0.9036995116823987],\n",
       "  0.08032679557800293],\n",
       " [[10, 10],\n",
       "  [0.082126040883002654,\n",
       "   0.26045151591443155,\n",
       "   0.20349190311078305,\n",
       "   0.21492554849445852,\n",
       "   0.36150969473346434],\n",
       "  [0.82658843015789518,\n",
       "   0.54265655087207132,\n",
       "   0.51718475493734695,\n",
       "   0.56797423779542033,\n",
       "   0.73623492281109437],\n",
       "  0.11718463897705078]]"
      ]
     },
     "execution_count": 7,
     "metadata": {},
     "output_type": "execute_result"
    }
   ],
   "source": [
    "results = trainNNs(X, T, 0.8, [2, 10, [10, 10]], 5, 100, classify=False)\n",
    "results"
   ]
  },
  {
   "cell_type": "code",
   "execution_count": 31,
   "metadata": {
    "collapsed": true
   },
   "outputs": [],
   "source": [
    "results = trainNNs(X, T, 0.8, [0, 1, 2, 10, [10, 10], [5, 5, 5, 5], [2]*5], 50, 400, classify=False)"
   ]
  },
  {
   "cell_type": "code",
   "execution_count": 32,
   "metadata": {},
   "outputs": [
    {
     "data": {
      "text/plain": [
       "[[0, 0.53143143920050495, 0.5755313396359012, 0.02525186538696289],\n",
       " [1, 0.41796988528870666, 0.8019628348277037, 0.48237133026123047],\n",
       " [2, 0.319301650214185, 0.79158629335178698, 3.0588934421539307],\n",
       " [10, 0.014479537325943773, 1.3689404089207877, 2.4029524326324463],\n",
       " [[10, 10], 0.0059205648354279314, 1.263934252184689, 3.949293613433838],\n",
       " [[5, 5, 5, 5], 0.10473467510155832, 1.193733162683511, 6.051068544387817],\n",
       " [[2, 2, 2, 2, 2],\n",
       "  0.27347638907453148,\n",
       "  0.93362462573994121,\n",
       "  6.222663402557373]]"
      ]
     },
     "execution_count": 32,
     "metadata": {},
     "output_type": "execute_result"
    }
   ],
   "source": [
    "summarize(results)"
   ]
  },
  {
   "cell_type": "code",
   "execution_count": 33,
   "metadata": {},
   "outputs": [
    {
     "name": "stdout",
     "output_type": "stream",
     "text": [
      "[0, 0.53143143920050495, 0.5755313396359012, 0.02525186538696289]\n",
      "Hidden Layers 0 Average RMSE Training 0.53 Testing 0.58 Took 0.03 seconds\n"
     ]
    }
   ],
   "source": [
    "best = bestNetwork(summarize(results))\n",
    "print(best)\n",
    "print('Hidden Layers {} Average RMSE Training {:.2f} Testing {:.2f} Took {:.2f} seconds'.format(*best))"
   ]
  },
  {
   "cell_type": "markdown",
   "metadata": {},
   "source": [
    "Hummm...neural nets with no hidden layers did best on this simple data set.  Why?  Remember what \"best\" means."
   ]
  },
  {
   "cell_type": "markdown",
   "metadata": {},
   "source": [
    "## Data for Regression Experiment\n",
    "\n",
    "From the UCI Machine Learning Repository, download the [Appliances energy prediction](http://archive.ics.uci.edu/ml/datasets/Appliances+energy+prediction) data.  You can do this by visiting the Data Folder for this data set, or just do this:\n",
    "\n",
    "     !wget http://archive.ics.uci.edu/ml/machine-learning-databases/00374/energydata_complete.csv\n",
    "\n"
   ]
  },
  {
   "cell_type": "markdown",
   "metadata": {},
   "source": [
    "Read this data into python.  One suggestion is to use the `loadtxt` function in the `numpy` package.  You may ignore the first column of each row which contains a data and time.  Also ignore the last two columns of random variables.  We will not use that in our modeling of this data.  You will also have to deal with the double quotes that surround every value in every field.  Read the first line of this file to get the names of the features.\n",
    "\n",
    "Once you have read this in correctly, you should see values like this:"
   ]
  },
  {
   "cell_type": "code",
   "execution_count": 11,
   "metadata": {
    "scrolled": true
   },
   "outputs": [
    {
     "data": {
      "text/plain": [
       "['Appliances',\n",
       " 'lights',\n",
       " 'T1',\n",
       " 'RH_1',\n",
       " 'T2',\n",
       " 'RH_2',\n",
       " 'T3',\n",
       " 'RH_3',\n",
       " 'T4',\n",
       " 'RH_4',\n",
       " 'T5',\n",
       " 'RH_5',\n",
       " 'T6',\n",
       " 'RH_6',\n",
       " 'T7',\n",
       " 'RH_7',\n",
       " 'T8',\n",
       " 'RH_8',\n",
       " 'T9',\n",
       " 'RH_9',\n",
       " 'T_out',\n",
       " 'Press_mm_hg',\n",
       " 'RH_out',\n",
       " 'Windspeed',\n",
       " 'Visibility',\n",
       " 'Tdewpoint']"
      ]
     },
     "execution_count": 11,
     "metadata": {},
     "output_type": "execute_result"
    }
   ],
   "source": [
    "names"
   ]
  },
  {
   "cell_type": "code",
   "execution_count": 12,
   "metadata": {},
   "outputs": [
    {
     "data": {
      "text/plain": [
       "(19735, 26)"
      ]
     },
     "execution_count": 12,
     "metadata": {},
     "output_type": "execute_result"
    }
   ],
   "source": [
    "data.shape"
   ]
  },
  {
   "cell_type": "code",
   "execution_count": 13,
   "metadata": {
    "scrolled": true
   },
   "outputs": [
    {
     "data": {
      "text/plain": [
       "array([[  60.        ,   30.        ,   19.89      ,   47.59666667,\n",
       "          19.2       ,   44.79      ,   19.79      ,   44.73      ,\n",
       "          19.        ,   45.56666667,   17.16666667,   55.2       ,\n",
       "           7.02666667,   84.25666667,   17.2       ,   41.62666667,\n",
       "          18.2       ,   48.9       ,   17.03333333,   45.53      ,\n",
       "           6.6       ,  733.5       ,   92.        ,    7.        ,\n",
       "          63.        ,    5.3       ],\n",
       "       [  60.        ,   30.        ,   19.89      ,   46.69333333,\n",
       "          19.2       ,   44.7225    ,   19.79      ,   44.79      ,\n",
       "          19.        ,   45.9925    ,   17.16666667,   55.2       ,\n",
       "           6.83333333,   84.06333333,   17.2       ,   41.56      ,\n",
       "          18.2       ,   48.86333333,   17.06666667,   45.56      ,\n",
       "           6.48333333,  733.6       ,   92.        ,    6.66666667,\n",
       "          59.16666667,    5.2       ]])"
      ]
     },
     "execution_count": 13,
     "metadata": {},
     "output_type": "execute_result"
    }
   ],
   "source": [
    "data[:2,:]"
   ]
  },
  {
   "cell_type": "markdown",
   "metadata": {},
   "source": [
    "Use the first two columns, labelled `Appliances` and `lights` as the target variables, and the remaining 24 columns as the input features.  So"
   ]
  },
  {
   "cell_type": "code",
   "execution_count": 14,
   "metadata": {},
   "outputs": [
    {
     "data": {
      "text/plain": [
       "((19735, 24), (19735, 2))"
      ]
     },
     "execution_count": 14,
     "metadata": {},
     "output_type": "execute_result"
    }
   ],
   "source": [
    "Xenergy.shape, Tenergy.shape"
   ]
  },
  {
   "cell_type": "code",
   "execution_count": 15,
   "metadata": {},
   "outputs": [
    {
     "data": {
      "text/plain": [
       "['T1',\n",
       " 'RH_1',\n",
       " 'T2',\n",
       " 'RH_2',\n",
       " 'T3',\n",
       " 'RH_3',\n",
       " 'T4',\n",
       " 'RH_4',\n",
       " 'T5',\n",
       " 'RH_5',\n",
       " 'T6',\n",
       " 'RH_6',\n",
       " 'T7',\n",
       " 'RH_7',\n",
       " 'T8',\n",
       " 'RH_8',\n",
       " 'T9',\n",
       " 'RH_9',\n",
       " 'T_out',\n",
       " 'Press_mm_hg',\n",
       " 'RH_out',\n",
       " 'Windspeed',\n",
       " 'Visibility',\n",
       " 'Tdewpoint']"
      ]
     },
     "execution_count": 15,
     "metadata": {},
     "output_type": "execute_result"
    }
   ],
   "source": [
    "Xnames"
   ]
  },
  {
   "cell_type": "code",
   "execution_count": 16,
   "metadata": {},
   "outputs": [
    {
     "data": {
      "text/plain": [
       "['Appliances', 'lights']"
      ]
     },
     "execution_count": 16,
     "metadata": {},
     "output_type": "execute_result"
    }
   ],
   "source": [
    "Tnames"
   ]
  },
  {
   "cell_type": "markdown",
   "metadata": {},
   "source": [
    "Train several neural networks on all of this data for 100 iterations.  Plot the error trace (nnet.getErrorTrace()) to help you decide now many iterations might be needed.  100 may not be enough.  If for your larger networks the error is still decreasing after 100 iterations you should train all nets for more than 100 iterations.\n",
    "\n",
    "Now use your `trainNNs`, `summarize`, and `bestNetwork` functions on this data to investigate various network sizes."
   ]
  },
  {
   "cell_type": "code",
   "execution_count": 18,
   "metadata": {
    "collapsed": true
   },
   "outputs": [],
   "source": [
    "results = trainNNs(Xenergy, Tenergy, 0.8, [0, 5, [5, 5], [10, 10]], 10, 100)"
   ]
  },
  {
   "cell_type": "code",
   "execution_count": 19,
   "metadata": {},
   "outputs": [
    {
     "data": {
      "text/plain": [
       "[[0, 67.046960179422285, 67.644136371408763, 0.998682975769043],\n",
       " [5, 65.301632625880842, 66.328853488839485, 13.130361795425415],\n",
       " [[5, 5], 64.277382425810785, 66.416365860755761, 19.365249395370483],\n",
       " [[10, 10], 62.741905999268582, 64.979550044221469, 33.62221097946167]]"
      ]
     },
     "execution_count": 19,
     "metadata": {},
     "output_type": "execute_result"
    }
   ],
   "source": [
    "summarize(results)"
   ]
  },
  {
   "cell_type": "code",
   "execution_count": 20,
   "metadata": {},
   "outputs": [
    {
     "data": {
      "text/plain": [
       "[[10, 10], 62.741905999268582, 64.979550044221469, 33.62221097946167]"
      ]
     },
     "execution_count": 20,
     "metadata": {},
     "output_type": "execute_result"
    }
   ],
   "source": [
    "bestNetwork(summarize(results))"
   ]
  },
  {
   "cell_type": "markdown",
   "metadata": {},
   "source": [
    "Test at least 10 different hidden layer structures.  Larger numbers of layers and units may do the best on training data, but not on testing data. Why?\n",
    "\n",
    "Now train another network with your best hidden layer structure on 0.8 of the data and use the trained network on the testing data (the remaining 0.2 of the date).  As before use `ml.partition` to produce the training and testing sets.\n",
    "\n",
    "For the testing data, plot the predicted and actual `Appliances` energy use, and the predicted and actual `lights` energy use, in two separate plots.  Discuss what you see."
   ]
  },
  {
   "cell_type": "markdown",
   "metadata": {},
   "source": [
    "## Data for Classification Experiment\n",
    "\n",
    "From the UCI Machine Learning Repository, download the [Anuran Calls (MFCCs)](http://archive.ics.uci.edu/ml/datasets/Anuran+Calls+%28MFCCs%29) data.  You can do this by visiting the Data Folder for this data set, or just do this:\n",
    "\n",
    "     !wget 'http://archive.ics.uci.edu/ml/machine-learning-databases/00406/Anuran Calls (MFCCs).zip'\n",
    "     !unzip Anuran*zip\n",
    "     \n",
    "Read the data in the file `Frogs_MFCCs.csv` into python.  This will be a little tricky. Each line of the file is a sample of audio features plus three columns that label the sample by family, genus, and species. We will try to predict the species.  The tricky part is that the species is given as text.  We need to convert this to a target class, as an integer. The `numpy` function `unique` will come in handy here."
   ]
  },
  {
   "cell_type": "code",
   "execution_count": 21,
   "metadata": {},
   "outputs": [
    {
     "data": {
      "text/plain": [
       "((7195, 21), (7195, 1))"
      ]
     },
     "execution_count": 21,
     "metadata": {},
     "output_type": "execute_result"
    }
   ],
   "source": [
    "Xanuran.shape, Tanuran.shape"
   ]
  },
  {
   "cell_type": "code",
   "execution_count": 22,
   "metadata": {},
   "outputs": [
    {
     "data": {
      "text/plain": [
       "array([[ 0.1529363 , -0.1055859 ,  0.20072191,  0.31720106,  0.26076385,\n",
       "         0.10094464, -0.1500626 , -0.17112763,  0.12467644,  0.18865415,\n",
       "        -0.07562172, -0.15643593,  0.08224512,  0.13575204, -0.02401665,\n",
       "        -0.10835111, -0.07762252, -0.0095678 ,  0.05768398,  0.11868014,\n",
       "         0.01403845],\n",
       "       [ 0.17153426, -0.09897474,  0.26842522,  0.33867186,  0.2683531 ,\n",
       "         0.06083509, -0.22247464, -0.20769267,  0.17088287,  0.27095828,\n",
       "        -0.09500394, -0.25434147,  0.02278623,  0.1633201 ,  0.01202228,\n",
       "        -0.09097401, -0.05650952, -0.03530336,  0.02013996,  0.08226299,\n",
       "         0.02905574]])"
      ]
     },
     "execution_count": 22,
     "metadata": {},
     "output_type": "execute_result"
    }
   ],
   "source": [
    "Xanuran[:2,:]"
   ]
  },
  {
   "cell_type": "code",
   "execution_count": 23,
   "metadata": {},
   "outputs": [
    {
     "data": {
      "text/plain": [
       "array([[0],\n",
       "       [0]])"
      ]
     },
     "execution_count": 23,
     "metadata": {},
     "output_type": "execute_result"
    }
   ],
   "source": [
    "Tanuran[:2]"
   ]
  },
  {
   "cell_type": "code",
   "execution_count": 24,
   "metadata": {},
   "outputs": [
    {
     "name": "stdout",
     "output_type": "stream",
     "text": [
      "672 samples in class 0\n",
      "3478 samples in class 1\n",
      "542 samples in class 2\n",
      "310 samples in class 3\n",
      "472 samples in class 4\n",
      "1121 samples in class 5\n",
      "270 samples in class 6\n",
      "114 samples in class 7\n",
      "68 samples in class 8\n",
      "148 samples in class 9\n"
     ]
    }
   ],
   "source": [
    "for i in range(10):\n",
    "    print('{} samples in class {}'.format(np.sum(Tanuran==i), i))"
   ]
  },
  {
   "cell_type": "code",
   "execution_count": 25,
   "metadata": {
    "collapsed": true
   },
   "outputs": [],
   "source": [
    "results = trainNNs(Xanuran, Tanuran, 0.8, [0, 5, [5, 5]], 5, 100, classify=True)"
   ]
  },
  {
   "cell_type": "code",
   "execution_count": 26,
   "metadata": {},
   "outputs": [
    {
     "data": {
      "text/plain": [
       "[[0, 0.028179291174426684, 0.034885337039610845, 2.706338405609131],\n",
       " [5, 0.035267546907574707, 0.041000694927032663, 5.346082448959351],\n",
       " [[5, 5], 0.046699096594857534, 0.057956914523974987, 6.503756046295166]]"
      ]
     },
     "execution_count": 26,
     "metadata": {},
     "output_type": "execute_result"
    }
   ],
   "source": [
    "summarize(results)"
   ]
  },
  {
   "cell_type": "code",
   "execution_count": 27,
   "metadata": {},
   "outputs": [
    {
     "data": {
      "text/plain": [
       "[0, 0.028179291174426684, 0.034885337039610845, 2.706338405609131]"
      ]
     },
     "execution_count": 27,
     "metadata": {},
     "output_type": "execute_result"
    }
   ],
   "source": [
    "bestNetwork(summarize(results))"
   ]
  }
 ],
 "metadata": {
  "anaconda-cloud": {},
  "kernelspec": {
   "display_name": "Python 3",
   "language": "python",
   "name": "python3"
  },
  "language_info": {
   "codemirror_mode": {
    "name": "ipython",
    "version": 3
   },
   "file_extension": ".py",
   "mimetype": "text/x-python",
   "name": "python",
   "nbconvert_exporter": "python",
   "pygments_lexer": "ipython3",
   "version": "3.6.1"
  },
  "toc": {
   "nav_menu": {},
   "number_sections": true,
   "sideBar": true,
   "skip_h1_title": false,
   "toc_cell": false,
   "toc_position": {},
   "toc_section_display": "block",
   "toc_window_display": false
  }
 },
 "nbformat": 4,
 "nbformat_minor": 1
}
